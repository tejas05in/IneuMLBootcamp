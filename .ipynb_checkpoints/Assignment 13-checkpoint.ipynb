{
 "cells": [
  {
   "cell_type": "markdown",
   "id": "3b859297",
   "metadata": {},
   "source": [
    "1. What advantages do Excel spreadsheets have over CSV spreadsheets?"
   ]
  },
  {
   "cell_type": "markdown",
   "id": "42fdcb5a",
   "metadata": {},
   "source": [
    "Ans 1 :\n",
    "1. Excel is a binary file that holds information about all the worksheets in a workbook\n",
    "2. An Excel not only stores data but can also do operations on the data\n",
    "3. In data-warehouse, Excel is preferable for detailed standardized schema specification\n",
    "4. Reading large files user is much easier in Excel for the end user. Also, you can have additional functions like selecting individual cells for import, convert dates and time automatically, reading formulas and their results, filters, sorting, etc.\n",
    "5. Apart from text, data can also be stored in form of charts and graphs\n",
    "6. Excel can connect to external data sources to fetch data. You can use custom add-in in Excel to increase its functionality. Excel allows for Review of Data with detailed tracking and commenting feature."
   ]
  },
  {
   "cell_type": "markdown",
   "id": "5176647b",
   "metadata": {},
   "source": [
    "2. What do you pass to csv.reader() and csv.writer() to create reader and writer objects?\n"
   ]
  },
  {
   "cell_type": "markdown",
   "id": "fc092c7b",
   "metadata": {},
   "source": [
    "Ans 2: open('example.csv' , 'r') for csv.reader() and open('example.csv','w') for csv.writer()"
   ]
  },
  {
   "cell_type": "markdown",
   "id": "ca0989ce",
   "metadata": {},
   "source": [
    "3. What modes do File objects for reader and writer objects need to be opened in?\n"
   ]
  },
  {
   "cell_type": "markdown",
   "id": "93d9de80",
   "metadata": {},
   "source": [
    "Ans 3 : mode means the operation for which the file has to be opened like 'r' for reading, 'w' for writing, '+'\n",
    "for both reading and writing, 'a' for appending at the end of an existing file. The default is the read mode. In addition, we can specify whether the file will be handled as binary 'b' or text mode"
   ]
  },
  {
   "cell_type": "markdown",
   "id": "a8b70103",
   "metadata": {},
   "source": [
    "4. What method takes a list argument and writes it to a CSV file?"
   ]
  },
  {
   "cell_type": "markdown",
   "id": "653c29d1",
   "metadata": {},
   "source": [
    "Ans 4 : A CSV file is a bounded text format which uses a comma to separate values. The most common method to write data from a list to CSV file is the writerow() method of writer and DictWriter class."
   ]
  },
  {
   "cell_type": "markdown",
   "id": "68a928a4",
   "metadata": {},
   "source": [
    "5. What do the keyword arguments delimiter and line terminator do?\n"
   ]
  },
  {
   "cell_type": "markdown",
   "id": "19a33fd2",
   "metadata": {},
   "source": [
    "Ans 5 : The delimiter is the character that appears between cells on a row. By default, the delimiter for a CSV file is a comma. The line terminator is the character that comes at the end of a row. By default, the line terminator is a newline"
   ]
  },
  {
   "cell_type": "markdown",
   "id": "7b796216",
   "metadata": {},
   "source": [
    "6. What function takes a string of JSON data and returns a Python data structure?\n"
   ]
  },
  {
   "cell_type": "markdown",
   "id": "b9eb0b17",
   "metadata": {},
   "source": [
    "Ans 6 :  json.loads()"
   ]
  },
  {
   "cell_type": "markdown",
   "id": "5c124296",
   "metadata": {},
   "source": [
    "7. What function takes a Python data structure and returns a string of JSON data?"
   ]
  },
  {
   "cell_type": "markdown",
   "id": "344606fe",
   "metadata": {},
   "source": [
    "Ans 7 : json.dumps()"
   ]
  }
 ],
 "metadata": {
  "kernelspec": {
   "display_name": "Python 3 (ipykernel)",
   "language": "python",
   "name": "python3"
  },
  "language_info": {
   "codemirror_mode": {
    "name": "ipython",
    "version": 3
   },
   "file_extension": ".py",
   "mimetype": "text/x-python",
   "name": "python",
   "nbconvert_exporter": "python",
   "pygments_lexer": "ipython3",
   "version": "3.9.16"
  }
 },
 "nbformat": 4,
 "nbformat_minor": 5
}
