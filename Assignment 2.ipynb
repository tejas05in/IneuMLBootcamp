{
 "cells": [
  {
   "cell_type": "markdown",
   "metadata": {},
   "source": [
    "1. What are the two values of the Boolean data type? How do you write them?\n",
    "\n",
    "Ans 1: The two boolean values are True and False. It can be written as True or False without quotes\n"
   ]
  },
  {
   "cell_type": "markdown",
   "metadata": {},
   "source": [
    "2. What are the three different types of Boolean operators?\n",
    "\n",
    "Ans 2: There are 3 logical operators in Boolean . AND , OR and NOT"
   ]
  },
  {
   "cell_type": "markdown",
   "metadata": {},
   "source": [
    "3. Make a list of each Boolean operator's truth tables (i.e. every possible combination of Boolean values for the operator and what it evaluate )\n",
    "\n",
    "Ans 3:\n",
    "\n",
    "       -------------------------------------------------------------------------------------\n",
    "       |operator                   | what it means                                         |\n",
    "       -------------------------------------------------------------------------------------\n",
    "       |== Equal to                | (True if both values are equal)                       |\n",
    "       |!=Not equal to             | (True if both values are not equal)                   |\n",
    "       |< Less than                | (True if LHS values are less)                         |\n",
    "       |> Greater than             | (True if RHS values are less)                         |\n",
    "       |<= Less than or equal to   | (True if LHS values are lesser or equal to RHS)       |\n",
    "       |>= Greater than or equal to| (True if RHS values are lesser or equal to LHS)       |\n",
    "       |        AND                | true if both are true                                 |\n",
    "       |        OR                 | true if at least one is true                          |\n",
    "       |        NOT                | true only if false                                    |\n",
    "       -------------------------------------------------------------------------------------"
   ]
  },
  {
   "cell_type": "code",
   "execution_count": 2,
   "metadata": {},
   "outputs": [],
   "source": [
    "a = True"
   ]
  },
  {
   "cell_type": "code",
   "execution_count": 3,
   "metadata": {},
   "outputs": [
    {
     "ename": "AttributeError",
     "evalue": "'bool' object has no attribute 'identity'",
     "output_type": "error",
     "traceback": [
      "\u001b[1;31m---------------------------------------------------------------------------\u001b[0m",
      "\u001b[1;31mAttributeError\u001b[0m                            Traceback (most recent call last)",
      "\u001b[1;32md:\\Ineuron -ML bootcamp\\IneuMLBootcamp-Python-Basics-\\Assignment 2.ipynb Cell 4\u001b[0m in \u001b[0;36m<cell line: 1>\u001b[1;34m()\u001b[0m\n\u001b[1;32m----> <a href='vscode-notebook-cell:/d%3A/Ineuron%20-ML%20bootcamp/IneuMLBootcamp-Python-Basics-/Assignment%202.ipynb#W4sZmlsZQ%3D%3D?line=0'>1</a>\u001b[0m a\u001b[39m.\u001b[39;49midentity\n",
      "\u001b[1;31mAttributeError\u001b[0m: 'bool' object has no attribute 'identity'"
     ]
    }
   ],
   "source": [
    "a.identity"
   ]
  },
  {
   "cell_type": "code",
   "execution_count": null,
   "metadata": {},
   "outputs": [],
   "source": []
  }
 ],
 "metadata": {
  "kernelspec": {
   "display_name": "Python 3.9.13 ('base')",
   "language": "python",
   "name": "python3"
  },
  "language_info": {
   "codemirror_mode": {
    "name": "ipython",
    "version": 3
   },
   "file_extension": ".py",
   "mimetype": "text/x-python",
   "name": "python",
   "nbconvert_exporter": "python",
   "pygments_lexer": "ipython3",
   "version": "3.9.13"
  },
  "orig_nbformat": 4,
  "vscode": {
   "interpreter": {
    "hash": "a993f5f796d0195f371cbefcd77badc46baf45145840c5b0e93ea38fbe8bee64"
   }
  }
 },
 "nbformat": 4,
 "nbformat_minor": 2
}
