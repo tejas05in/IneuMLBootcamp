{
 "cells": [
  {
   "attachments": {},
   "cell_type": "markdown",
   "metadata": {},
   "source": [
    "### Ans1. [] is an empty list"
   ]
  },
  {
   "cell_type": "code",
   "execution_count": 3,
   "metadata": {},
   "outputs": [
    {
     "name": "stdout",
     "output_type": "stream",
     "text": [
      "[2, 4, 'hello', 8, 10]\n"
     ]
    }
   ],
   "source": [
    "#ans2\n",
    "spam = [2,4,6,8,10]\n",
    "spam[2] = 'hello'\n",
    "print(spam)"
   ]
  },
  {
   "cell_type": "code",
   "execution_count": 5,
   "metadata": {},
   "outputs": [],
   "source": [
    "spam = ['a','b','c','d']"
   ]
  },
  {
   "attachments": {},
   "cell_type": "markdown",
   "metadata": {},
   "source": [
    "an3:'d'\n",
    "\n"
   ]
  },
  {
   "attachments": {},
   "cell_type": "markdown",
   "metadata": {},
   "source": [
    "ans4:'d'\n",
    "\n"
   ]
  },
  {
   "attachments": {},
   "cell_type": "markdown",
   "metadata": {},
   "source": [
    "ans5: ['a', 'b']"
   ]
  },
  {
   "attachments": {},
   "cell_type": "markdown",
   "metadata": {},
   "source": [
    "ans6: 1"
   ]
  },
  {
   "cell_type": "code",
   "execution_count": 17,
   "metadata": {},
   "outputs": [],
   "source": [
    "bacon = [3.14, 'cat', 11, 'cat', True]\n"
   ]
  },
  {
   "cell_type": "code",
   "execution_count": 18,
   "metadata": {},
   "outputs": [
    {
     "data": {
      "text/plain": [
       "[3.14, 'cat', 11, 'cat', True, 99]"
      ]
     },
     "execution_count": 18,
     "metadata": {},
     "output_type": "execute_result"
    }
   ],
   "source": [
    "#ans 7\n",
    "bacon.append(99)\n",
    "bacon"
   ]
  },
  {
   "cell_type": "code",
   "execution_count": 19,
   "metadata": {},
   "outputs": [
    {
     "data": {
      "text/plain": [
       "[3.14, 11, 'cat', True, 99]"
      ]
     },
     "execution_count": 19,
     "metadata": {},
     "output_type": "execute_result"
    }
   ],
   "source": [
    "#ans 8\n",
    "bacon.remove('cat')\n",
    "bacon"
   ]
  },
  {
   "cell_type": "code",
   "execution_count": 39,
   "metadata": {},
   "outputs": [
    {
     "data": {
      "text/plain": [
       "[1, 2, 3, 4, 5, 6]"
      ]
     },
     "execution_count": 39,
     "metadata": {},
     "output_type": "execute_result"
    }
   ],
   "source": [
    "#ans 9: list concatenation adds the elements of 2 lists together\n",
    "a = [1,2,3]\n",
    "b= [4,5,6]\n",
    "a+b"
   ]
  },
  {
   "cell_type": "code",
   "execution_count": 23,
   "metadata": {},
   "outputs": [
    {
     "data": {
      "text/plain": [
       "[1, 2, 3, 1, 2, 3, 1, 2, 3]"
      ]
     },
     "execution_count": 23,
     "metadata": {},
     "output_type": "execute_result"
    }
   ],
   "source": [
    "#ans 9: list replication replicates the elements of the list by the given factor\n",
    "a*3"
   ]
  },
  {
   "cell_type": "code",
   "execution_count": 40,
   "metadata": {},
   "outputs": [
    {
     "name": "stdout",
     "output_type": "stream",
     "text": [
      "[1, 2, 3, 5]\n",
      "[1, 10, 2, 3, 5]\n"
     ]
    }
   ],
   "source": [
    "#ans 10: list.append adds the element at the end of the list whereas list.insert inserts an object at the specified index position\n",
    "a.append(5)# inserts 5 at the very end of a\n",
    "print(a)\n",
    "a.insert(1,10) # inserts the object 10 at the index position 1 in a\n",
    "print(a)"
   ]
  },
  {
   "cell_type": "code",
   "execution_count": 43,
   "metadata": {},
   "outputs": [
    {
     "name": "stdout",
     "output_type": "stream",
     "text": [
      "[1, 2, 3, 4]\n",
      "[1, 3, 4]\n"
     ]
    }
   ],
   "source": [
    "#ans 11: pop and remove\n",
    "a=[1,2,3,4,5]\n",
    "a.pop() # pop removes the last element of the list\n",
    "print(a)\n",
    "a.remove(2) # removes the first occurance of a value\n",
    "print(a)\n"
   ]
  },
  {
   "cell_type": "code",
   "execution_count": 46,
   "metadata": {},
   "outputs": [
    {
     "name": "stdout",
     "output_type": "stream",
     "text": [
      "rohan\n",
      "5\n",
      "['r', 'o', 'h', 'a', 'n']\n",
      "5\n"
     ]
    }
   ],
   "source": [
    "#ANS 12: a string is a sequence of characters whereas a list is a sequence of items or objects. Both are in essence a sequence\n",
    "a = 'rohan'\n",
    "print(a)\n",
    "print(len(a))\n",
    "l = [i for i in a]\n",
    "print(l)\n",
    "print(len(l))"
   ]
  },
  {
   "attachments": {},
   "cell_type": "markdown",
   "metadata": {},
   "source": [
    "ans 13: lists are enclosed with [] whereas tuples are enclosed with (). Lists are mutable.Tuples are immutable i.e the contents of a tuple cannot be changed once created"
   ]
  },
  {
   "cell_type": "code",
   "execution_count": 49,
   "metadata": {},
   "outputs": [
    {
     "name": "stdout",
     "output_type": "stream",
     "text": [
      "<class 'tuple'>\n",
      "(42,)\n"
     ]
    }
   ],
   "source": [
    "#ans14\n",
    "a =(42,)\n",
    "print(type(a)) \n",
    "print(a)"
   ]
  },
  {
   "cell_type": "code",
   "execution_count": 51,
   "metadata": {},
   "outputs": [
    {
     "name": "stdout",
     "output_type": "stream",
     "text": [
      "<class 'list'>\n",
      "<class 'tuple'>\n",
      "(1, 2, 3, 4, 5)\n",
      "[6, 7, 8, 9]\n"
     ]
    }
   ],
   "source": [
    "#ans15\n",
    "a = [1,2,3,4,5]\n",
    "b=(6,7,8,9,)\n",
    "print(type(a))\n",
    "print(type(b))\n",
    "print(tuple(a))\n",
    "print(list(b))"
   ]
  },
  {
   "attachments": {},
   "cell_type": "markdown",
   "metadata": {},
   "source": [
    "ans16: variables contain the reference to the list values rather than the list values themselves except for string and integer values where the variables will simply contain the string or the integer value"
   ]
  },
  {
   "attachments": {},
   "cell_type": "markdown",
   "metadata": {},
   "source": [
    "ans 17:  The difference between shallow and deep copying is only relevant for compound objects (objects that contain other objects, like lists or class instances):\n",
    "A shallow copy constructs a new compound object and then (to the extent possible) inserts references into it to the objects found in the original.\n",
    "A deep copy constructs a new compound object and then, recursively, inserts copies into it of the objects found in the original."
   ]
  },
  {
   "cell_type": "code",
   "execution_count": 62,
   "metadata": {},
   "outputs": [
    {
     "name": "stdout",
     "output_type": "stream",
     "text": [
      "original before shallow copy [1, 2, [3, 4], 5]\n",
      "shallow copied list [1, 2, [7, 4], 5]\n",
      "Original after shallow copy [1, 2, [7, 4], 5]\n",
      "original before deep copy [1, 2, [3, 4], 5]\n",
      "deep copied list [1, 2, [7, 4], 5]\n",
      "Original after deep copy [1, 2, [3, 4], 5]\n"
     ]
    }
   ],
   "source": [
    "import copy\n",
    "l1=[1,2,[3,4],5]\n",
    "print('original before shallow copy',l1)\n",
    "\n",
    "l2=copy.copy(l1) # shallow copy\n",
    "l2[2][0] = 7\n",
    "print('shallow copied list',l2)\n",
    "print('Original after shallow copy',l1)\n",
    "\n",
    "l1=[1,2,[3,4],5]\n",
    "print('original before deep copy',l1)\n",
    "\n",
    "l3=copy.deepcopy(l1)\n",
    "l3[2][0] =7\n",
    "print('deep copied list',l3)\n",
    "print('Original after deep copy',l1)\n"
   ]
  }
 ],
 "metadata": {
  "kernelspec": {
   "display_name": "base",
   "language": "python",
   "name": "python3"
  },
  "language_info": {
   "codemirror_mode": {
    "name": "ipython",
    "version": 3
   },
   "file_extension": ".py",
   "mimetype": "text/x-python",
   "name": "python",
   "nbconvert_exporter": "python",
   "pygments_lexer": "ipython3",
   "version": "3.9.15 (main, Nov 24 2022, 14:39:17) [MSC v.1916 64 bit (AMD64)]"
  },
  "orig_nbformat": 4,
  "vscode": {
   "interpreter": {
    "hash": "a993f5f796d0195f371cbefcd77badc46baf45145840c5b0e93ea38fbe8bee64"
   }
  }
 },
 "nbformat": 4,
 "nbformat_minor": 2
}
