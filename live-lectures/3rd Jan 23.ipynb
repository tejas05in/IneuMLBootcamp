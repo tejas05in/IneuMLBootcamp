{
 "cells": [
  {
   "cell_type": "code",
   "execution_count": 1,
   "id": "ff3a45e8-e49c-4d39-a071-a191c6730087",
   "metadata": {},
   "outputs": [],
   "source": [
    "import pandas as pd\n",
    "import numpy as np"
   ]
  },
  {
   "cell_type": "code",
   "execution_count": 6,
   "id": "b62e2ec9-3d1b-4435-9f05-c631f1fd2fde",
   "metadata": {},
   "outputs": [
    {
     "name": "stdin",
     "output_type": "stream",
     "text": [
      "enter a string tewjS\n"
     ]
    },
    {
     "name": "stdout",
     "output_type": "stream",
     "text": [
      "t\n",
      "w\n",
      "j\n",
      "S\n"
     ]
    }
   ],
   "source": [
    "n = input('enter a string')\n",
    "a = 0\n",
    "while a < len(n):\n",
    "    if n[a] != 'a' and  n[a] != 'e' and  n[a] != 'i' and  n[a] != 'o' and  n[a] != 'u' :\n",
    "        print(n[a])\n",
    "    a+=1"
   ]
  },
  {
   "cell_type": "code",
   "execution_count": 8,
   "id": "7e77b753-b12a-44a9-8f36-5ef505cf074f",
   "metadata": {},
   "outputs": [
    {
     "name": "stdin",
     "output_type": "stream",
     "text": [
      "enter a number 3\n",
      "enter a number 4\n",
      "enter a number 5\n",
      "enter a number 66\n",
      "enter a number 0\n"
     ]
    },
    {
     "name": "stdout",
     "output_type": "stream",
     "text": [
      "sum is  78\n"
     ]
    }
   ],
   "source": [
    "sum = 0\n",
    "while True:\n",
    "    n = int(input('enter a number'))\n",
    "    if n == 0:\n",
    "        print('sum is ',sum)\n",
    "        break\n",
    "    sum+=n\n",
    "                  "
   ]
  },
  {
   "cell_type": "code",
   "execution_count": 9,
   "id": "e38d412b-6de1-46c2-8340-6fb68a97ad84",
   "metadata": {},
   "outputs": [
    {
     "name": "stdin",
     "output_type": "stream",
     "text": [
      "enter a number 4\n",
      "enter a number 5\n",
      "enter a number 6\n",
      "enter a number -1\n",
      "enter a number 4\n",
      "enter a number 0\n"
     ]
    },
    {
     "name": "stdout",
     "output_type": "stream",
     "text": [
      "sum is  19\n"
     ]
    }
   ],
   "source": [
    "sum = 0\n",
    "while True:\n",
    "    n = int(input('enter a number'))\n",
    "    if n == 0:\n",
    "        print('sum is ',sum)\n",
    "        break\n",
    "    elif n>0:\n",
    "        sum+=n"
   ]
  },
  {
   "cell_type": "code",
   "execution_count": 13,
   "id": "6aac9dde-62d8-4e22-af7f-ff83835736f4",
   "metadata": {},
   "outputs": [
    {
     "name": "stdin",
     "output_type": "stream",
     "text": [
      "enter a string mdesalsa\n"
     ]
    },
    {
     "name": "stdout",
     "output_type": "stream",
     "text": [
      "m\n",
      "d\n",
      "s\n",
      "l\n",
      "s\n"
     ]
    }
   ],
   "source": [
    "n = input('enter a string')\n",
    "vowels = ['a','e','i','o','u']\n",
    "for i in n:\n",
    "    if i not in vowels:\n",
    "        print(i)"
   ]
  },
  {
   "cell_type": "code",
   "execution_count": 15,
   "id": "a12a8616-9bd5-46fd-9b9b-73d9f615beec",
   "metadata": {},
   "outputs": [
    {
     "name": "stdin",
     "output_type": "stream",
     "text": [
      "enter a number 4\n"
     ]
    },
    {
     "name": "stdout",
     "output_type": "stream",
     "text": [
      "10\n"
     ]
    }
   ],
   "source": [
    "n = int(input(\"enter a number\"))\n",
    "sum = 0\n",
    "for i in range(1,n+1):\n",
    "    sum+=i\n",
    "print(sum)\n",
    "    "
   ]
  },
  {
   "cell_type": "code",
   "execution_count": 19,
   "id": "19bf1525-96fc-41bc-9d40-8b8bb458580b",
   "metadata": {},
   "outputs": [
    {
     "name": "stdin",
     "output_type": "stream",
     "text": [
      "enter a number 4\n"
     ]
    },
    {
     "name": "stdout",
     "output_type": "stream",
     "text": [
      "sum is  10\n"
     ]
    }
   ],
   "source": [
    "n = int(input(\"enter a number\"))\n",
    "print(\"sum is \",int((n*(n+1))/2))"
   ]
  },
  {
   "cell_type": "code",
   "execution_count": 20,
   "id": "2a2759ac-e454-4fe2-8dab-0c8ea3f460b4",
   "metadata": {},
   "outputs": [],
   "source": [
    "x = 3+4j"
   ]
  },
  {
   "cell_type": "code",
   "execution_count": 23,
   "id": "213e3d54-5c57-49d9-82df-a21af04df983",
   "metadata": {},
   "outputs": [
    {
     "name": "stdout",
     "output_type": "stream",
     "text": [
      "<class 'complex'>\n"
     ]
    }
   ],
   "source": [
    "print(type(x))"
   ]
  },
  {
   "cell_type": "code",
   "execution_count": 39,
   "id": "98a478f1-7bc1-476f-973c-048c9862ce14",
   "metadata": {},
   "outputs": [],
   "source": [
    "x = [2,3,'tejas',True,None]"
   ]
  },
  {
   "cell_type": "code",
   "execution_count": 40,
   "id": "6522a995-52dd-4ebf-9a60-a92013a82689",
   "metadata": {},
   "outputs": [
    {
     "data": {
      "text/plain": [
       "list"
      ]
     },
     "execution_count": 40,
     "metadata": {},
     "output_type": "execute_result"
    }
   ],
   "source": [
    "type(x)"
   ]
  },
  {
   "cell_type": "code",
   "execution_count": 41,
   "id": "7f376abf-f84c-42d7-b806-bd48d02cacdb",
   "metadata": {},
   "outputs": [],
   "source": [
    "x[2] = 4"
   ]
  },
  {
   "cell_type": "code",
   "execution_count": 42,
   "id": "b57cd8ca-8b95-4a87-a413-f7c2c9cc746d",
   "metadata": {},
   "outputs": [
    {
     "data": {
      "text/plain": [
       "[2, 3, 4, True, None]"
      ]
     },
     "execution_count": 42,
     "metadata": {},
     "output_type": "execute_result"
    }
   ],
   "source": [
    "x"
   ]
  },
  {
   "cell_type": "code",
   "execution_count": 43,
   "id": "012a2502-5842-4e5d-993b-1b77bb8d50fd",
   "metadata": {},
   "outputs": [],
   "source": [
    "x = (2,3,'tejas',True,None)"
   ]
  },
  {
   "cell_type": "code",
   "execution_count": 45,
   "id": "e111882d-0bc0-4867-8bf6-fe7c5bf64111",
   "metadata": {},
   "outputs": [
    {
     "data": {
      "text/plain": [
       "tuple"
      ]
     },
     "execution_count": 45,
     "metadata": {},
     "output_type": "execute_result"
    }
   ],
   "source": [
    "type(x)"
   ]
  },
  {
   "cell_type": "code",
   "execution_count": 46,
   "id": "25fc37cb-6b6a-49f7-832c-53aa769872de",
   "metadata": {},
   "outputs": [
    {
     "data": {
      "text/plain": [
       "'tejas'"
      ]
     },
     "execution_count": 46,
     "metadata": {},
     "output_type": "execute_result"
    }
   ],
   "source": [
    "x[2]"
   ]
  },
  {
   "cell_type": "code",
   "execution_count": 44,
   "id": "bdf6a122-ae7d-4aed-a206-66dbe5581ab5",
   "metadata": {},
   "outputs": [
    {
     "ename": "TypeError",
     "evalue": "'tuple' object does not support item assignment",
     "output_type": "error",
     "traceback": [
      "\u001b[0;31m---------------------------------------------------------------------------\u001b[0m",
      "\u001b[0;31mTypeError\u001b[0m                                 Traceback (most recent call last)",
      "Cell \u001b[0;32mIn [44], line 1\u001b[0m\n\u001b[0;32m----> 1\u001b[0m \u001b[43mx\u001b[49m\u001b[43m[\u001b[49m\u001b[38;5;241;43m2\u001b[39;49m\u001b[43m]\u001b[49m \u001b[38;5;241m=\u001b[39m \u001b[38;5;241m4\u001b[39m\n",
      "\u001b[0;31mTypeError\u001b[0m: 'tuple' object does not support item assignment"
     ]
    }
   ],
   "source": [
    "x[2] = 4"
   ]
  },
  {
   "cell_type": "code",
   "execution_count": 58,
   "id": "0e0e7795-e684-4b18-8d64-e91a51fd5cd7",
   "metadata": {},
   "outputs": [],
   "source": [
    "capitals = {'Nepal':'katmandu', 'karnataka':'Bengaluru',2:'two'}"
   ]
  },
  {
   "cell_type": "code",
   "execution_count": 48,
   "id": "98b88e1c-be07-48b8-ac44-344fc5a09601",
   "metadata": {},
   "outputs": [
    {
     "data": {
      "text/plain": [
       "dict"
      ]
     },
     "execution_count": 48,
     "metadata": {},
     "output_type": "execute_result"
    }
   ],
   "source": [
    "type(capitals)"
   ]
  },
  {
   "cell_type": "code",
   "execution_count": 70,
   "id": "ebdcef3e-561a-40e7-9cc1-97b5fc5de347",
   "metadata": {},
   "outputs": [],
   "source": [
    "x = {1,1,2,2,4,4}"
   ]
  },
  {
   "cell_type": "code",
   "execution_count": 71,
   "id": "4664c3a4-2f21-4955-9524-31967dd9536f",
   "metadata": {},
   "outputs": [
    {
     "data": {
      "text/plain": [
       "set"
      ]
     },
     "execution_count": 71,
     "metadata": {},
     "output_type": "execute_result"
    }
   ],
   "source": [
    "type(x)"
   ]
  },
  {
   "cell_type": "code",
   "execution_count": 61,
   "id": "792029b0-e32e-4227-8fe6-f9b6fecaf04e",
   "metadata": {},
   "outputs": [],
   "source": [
    "capitals['karnataka'] = 'india'"
   ]
  },
  {
   "cell_type": "code",
   "execution_count": 62,
   "id": "93824c1d-3dc6-42a5-96ba-5f2ad597ed08",
   "metadata": {},
   "outputs": [
    {
     "data": {
      "text/plain": [
       "'india'"
      ]
     },
     "execution_count": 62,
     "metadata": {},
     "output_type": "execute_result"
    }
   ],
   "source": [
    "capitals['karnataka']"
   ]
  },
  {
   "cell_type": "code",
   "execution_count": 63,
   "id": "1c01ccae-5ab1-4596-8d6e-4aef5d805e0b",
   "metadata": {},
   "outputs": [
    {
     "ename": "TypeError",
     "evalue": "'set' object is not subscriptable",
     "output_type": "error",
     "traceback": [
      "\u001b[0;31m---------------------------------------------------------------------------\u001b[0m",
      "\u001b[0;31mTypeError\u001b[0m                                 Traceback (most recent call last)",
      "Cell \u001b[0;32mIn [63], line 1\u001b[0m\n\u001b[0;32m----> 1\u001b[0m \u001b[43mx\u001b[49m\u001b[43m[\u001b[49m\u001b[38;5;241;43m0\u001b[39;49m\u001b[43m]\u001b[49m\n",
      "\u001b[0;31mTypeError\u001b[0m: 'set' object is not subscriptable"
     ]
    }
   ],
   "source": [
    "x[0]"
   ]
  },
  {
   "cell_type": "code",
   "execution_count": 72,
   "id": "ae963ce6-e0b1-4f47-852a-547a5667edc2",
   "metadata": {},
   "outputs": [
    {
     "name": "stdout",
     "output_type": "stream",
     "text": [
      "1\n",
      "2\n",
      "4\n"
     ]
    }
   ],
   "source": [
    "for i in x:\n",
    "    print(i)"
   ]
  },
  {
   "cell_type": "code",
   "execution_count": 73,
   "id": "035046ab-f99b-4af9-9a8b-75b38cf8b95e",
   "metadata": {},
   "outputs": [],
   "source": [
    "x = [1,2,3,4,5]"
   ]
  },
  {
   "cell_type": "code",
   "execution_count": 80,
   "id": "c095a9ef-0f17-49d4-b2e9-002659509128",
   "metadata": {},
   "outputs": [],
   "source": [
    "a = ['tejas',[1,2,3]]"
   ]
  },
  {
   "cell_type": "code",
   "execution_count": 81,
   "id": "86536ed2-9a26-4731-8176-a5e8032818a5",
   "metadata": {},
   "outputs": [],
   "source": [
    "x.extend(a)"
   ]
  },
  {
   "cell_type": "code",
   "execution_count": 82,
   "id": "152e1871-7088-44fb-89ea-ecd8de98aff5",
   "metadata": {},
   "outputs": [
    {
     "data": {
      "text/plain": [
       "[1, 2, 3, 4, 5, 4, 5, 6, 7, 'tejas', 'tejas', [1, 2, 3]]"
      ]
     },
     "execution_count": 82,
     "metadata": {},
     "output_type": "execute_result"
    }
   ],
   "source": [
    "x"
   ]
  },
  {
   "cell_type": "code",
   "execution_count": 83,
   "id": "ae4ae4fa-ce60-471e-b522-614acd6ff346",
   "metadata": {},
   "outputs": [],
   "source": [
    "x.append(a)"
   ]
  },
  {
   "cell_type": "code",
   "execution_count": 84,
   "id": "cdd6fdec-5e1e-4b77-a524-7e4e2d514979",
   "metadata": {},
   "outputs": [
    {
     "data": {
      "text/plain": [
       "[1, 2, 3, 4, 5, 4, 5, 6, 7, 'tejas', 'tejas', [1, 2, 3], ['tejas', [1, 2, 3]]]"
      ]
     },
     "execution_count": 84,
     "metadata": {},
     "output_type": "execute_result"
    }
   ],
   "source": [
    "x"
   ]
  },
  {
   "cell_type": "code",
   "execution_count": 85,
   "id": "d4cca56e-5d29-4f22-a39b-82f29ea3dee9",
   "metadata": {},
   "outputs": [],
   "source": [
    "#email: imran@ineuron.ai"
   ]
  },
  {
   "cell_type": "code",
   "execution_count": null,
   "id": "995bfa9b-8ffd-461a-a0fc-c1db21f1b9e3",
   "metadata": {},
   "outputs": [],
   "source": []
  }
 ],
 "metadata": {
  "kernelspec": {
   "display_name": "Python 3 (ipykernel)",
   "language": "python",
   "name": "python3"
  },
  "language_info": {
   "codemirror_mode": {
    "name": "ipython",
    "version": 3
   },
   "file_extension": ".py",
   "mimetype": "text/x-python",
   "name": "python",
   "nbconvert_exporter": "python",
   "pygments_lexer": "ipython3",
   "version": "3.10.6"
  }
 },
 "nbformat": 4,
 "nbformat_minor": 5
}
