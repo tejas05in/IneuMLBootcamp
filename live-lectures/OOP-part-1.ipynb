{
 "cells": [
  {
   "cell_type": "markdown",
   "id": "11930401-0236-4b3a-8b84-567447f26552",
   "metadata": {},
   "source": [
    "# Object Oriented Programming part 1"
   ]
  },
  {
   "cell_type": "markdown",
   "id": "6ac4d87b-30f2-43b0-9c80-f9b89debd4d7",
   "metadata": {},
   "source": [
    "Functional Programming approach is also called Procedure Oriented Programming"
   ]
  },
  {
   "cell_type": "markdown",
   "id": "d87225e2-8938-4c20-83be-3455949a9ee9",
   "metadata": {},
   "source": [
    "Then there is Object Oriented Programming"
   ]
  },
  {
   "cell_type": "code",
   "execution_count": 10,
   "id": "732d10af-f86e-4d25-8021-dfc009399547",
   "metadata": {},
   "outputs": [],
   "source": [
    "class human:\n",
    "    def __init__(self,name,age):\n",
    "        self.name = name\n",
    "        self.age = age"
   ]
  },
  {
   "cell_type": "code",
   "execution_count": 12,
   "id": "aec962b0-162a-4728-ba9b-60d3596dcd64",
   "metadata": {},
   "outputs": [],
   "source": [
    "t = human('tejas',39)"
   ]
  },
  {
   "cell_type": "code",
   "execution_count": 13,
   "id": "ebb29a1f-c531-4f9c-933b-cd0388e4c378",
   "metadata": {},
   "outputs": [
    {
     "data": {
      "text/plain": [
       "39"
      ]
     },
     "execution_count": 13,
     "metadata": {},
     "output_type": "execute_result"
    }
   ],
   "source": [
    "t.age"
   ]
  },
  {
   "cell_type": "code",
   "execution_count": 14,
   "id": "301bdf1e-9f25-49c0-838b-840ce7b4ea7f",
   "metadata": {},
   "outputs": [
    {
     "data": {
      "text/plain": [
       "'tejas'"
      ]
     },
     "execution_count": 14,
     "metadata": {},
     "output_type": "execute_result"
    }
   ],
   "source": [
    "t.name"
   ]
  },
  {
   "cell_type": "code",
   "execution_count": 16,
   "id": "cf55d725-0efb-4e6d-a554-4b91cec4bc32",
   "metadata": {},
   "outputs": [],
   "source": [
    "class myobject:\n",
    "    x =5"
   ]
  },
  {
   "cell_type": "code",
   "execution_count": 17,
   "id": "6829c794-34af-4f6e-b355-41a91c0d1cd5",
   "metadata": {},
   "outputs": [],
   "source": [
    "p = myobject()"
   ]
  },
  {
   "cell_type": "code",
   "execution_count": 18,
   "id": "3ff23163-f77f-42fe-ac79-65b76a62e70f",
   "metadata": {},
   "outputs": [
    {
     "data": {
      "text/plain": [
       "5"
      ]
     },
     "execution_count": 18,
     "metadata": {},
     "output_type": "execute_result"
    }
   ],
   "source": [
    "p.x"
   ]
  },
  {
   "cell_type": "markdown",
   "id": "b03a5129-b65a-4c29-87e5-9f85ff0c725d",
   "metadata": {},
   "source": [
    "1.How to define class and object in python\n",
    "2.Variables in class\n",
    "- instance variable (object specific)\n",
    "- local variable\n",
    "- class variable\n",
    "3. Methods in class\n",
    "- constructor(special method)\n",
    "- instance method (object specific)\n",
    "- class method\n",
    "- static method\n",
    "4. Encapsulation\n",
    "5. Inheritence\n",
    "6. Abstraction\n",
    "7. Polymorphism\n"
   ]
  },
  {
   "cell_type": "code",
   "execution_count": 46,
   "id": "b8f0c33f-8498-45a9-9954-65dc78c74640",
   "metadata": {},
   "outputs": [],
   "source": [
    "class emp:\n",
    "    def __init__(self):\n",
    "        print(\"object created!!\")\n",
    "    def test(tejas):\n",
    "        print('python is fun')\n",
    "    def demo(self):\n",
    "        print(\"python rocks\")\n"
   ]
  },
  {
   "cell_type": "code",
   "execution_count": 47,
   "id": "203b582e-3803-4b12-ac9d-9945c09e223d",
   "metadata": {},
   "outputs": [
    {
     "name": "stdout",
     "output_type": "stream",
     "text": [
      "object created!!\n"
     ]
    }
   ],
   "source": [
    "# object creation\n",
    "tejas = emp()"
   ]
  },
  {
   "cell_type": "markdown",
   "id": "ae41c72b-d62b-4c1d-990a-8298ab7009a0",
   "metadata": {},
   "source": [
    "# constructors are those methods which will be called immediately (automatically) whnever we create an object"
   ]
  },
  {
   "cell_type": "code",
   "execution_count": 48,
   "id": "81d69509-2102-4b40-a682-af36e7e2d246",
   "metadata": {},
   "outputs": [
    {
     "name": "stdout",
     "output_type": "stream",
     "text": [
      "object created!!\n"
     ]
    }
   ],
   "source": [
    "# object creation\n",
    "amit=emp()"
   ]
  },
  {
   "cell_type": "code",
   "execution_count": 49,
   "id": "1c9942a3-6034-44fc-b266-1e0acf7846bc",
   "metadata": {},
   "outputs": [
    {
     "name": "stdout",
     "output_type": "stream",
     "text": [
      "object created!!\n"
     ]
    }
   ],
   "source": [
    "# object creation\n",
    "krish = emp()"
   ]
  },
  {
   "cell_type": "markdown",
   "id": "ab8621fe-5686-4af9-b4a2-350a9b0bbf85",
   "metadata": {},
   "source": [
    "# init is a special method in python or constructor which will be called automatically whenver we create an object"
   ]
  },
  {
   "cell_type": "markdown",
   "id": "5f664349-4f94-4060-a88d-b42dfd2a112d",
   "metadata": {},
   "source": [
    "# self is a key word (instance method) which has the address of the object"
   ]
  },
  {
   "cell_type": "code",
   "execution_count": 50,
   "id": "1d2ead85-d332-4f2a-ade3-f4f65ab1947d",
   "metadata": {},
   "outputs": [
    {
     "name": "stdout",
     "output_type": "stream",
     "text": [
      "object created!!\n"
     ]
    }
   ],
   "source": [
    "sudh = emp()"
   ]
  },
  {
   "cell_type": "code",
   "execution_count": 51,
   "id": "bc120229-7789-40a9-b2dc-fa4bfdf84d75",
   "metadata": {},
   "outputs": [
    {
     "name": "stdout",
     "output_type": "stream",
     "text": [
      "python is fun\n"
     ]
    }
   ],
   "source": [
    "sudh.test()"
   ]
  },
  {
   "cell_type": "code",
   "execution_count": 43,
   "id": "b91c69d8-15a9-4d05-97f5-13950acf654c",
   "metadata": {},
   "outputs": [
    {
     "name": "stdout",
     "output_type": "stream",
     "text": [
      "python rocks\n"
     ]
    }
   ],
   "source": [
    "sudh.demo()"
   ]
  },
  {
   "cell_type": "code",
   "execution_count": 52,
   "id": "37e1da96-bfdf-4f2b-9601-0ef270c0face",
   "metadata": {},
   "outputs": [
    {
     "name": "stdout",
     "output_type": "stream",
     "text": [
      "object created!!\n"
     ]
    }
   ],
   "source": [
    "sunny = emp()"
   ]
  },
  {
   "cell_type": "code",
   "execution_count": 53,
   "id": "4decb167-748c-4aa8-ac3d-70c9ba4b3de7",
   "metadata": {},
   "outputs": [
    {
     "name": "stdout",
     "output_type": "stream",
     "text": [
      "python is fun\n"
     ]
    }
   ],
   "source": [
    "sunny.test()"
   ]
  },
  {
   "cell_type": "code",
   "execution_count": 54,
   "id": "48ea4a77-8b6b-4e60-82bf-bef169a4d032",
   "metadata": {},
   "outputs": [
    {
     "name": "stdout",
     "output_type": "stream",
     "text": [
      "python rocks\n"
     ]
    }
   ],
   "source": [
    "sunny.demo()"
   ]
  },
  {
   "cell_type": "code",
   "execution_count": 56,
   "id": "f41be30a-3273-4334-ab5d-c4f1f0c25776",
   "metadata": {},
   "outputs": [],
   "source": [
    "class emp():\n",
    "    def __init__(self):\n",
    "        print('object created')\n",
    "    def test():\n",
    "        print('tested')\n",
    "    def demo(self):\n",
    "        print('checking')"
   ]
  },
  {
   "cell_type": "code",
   "execution_count": 58,
   "id": "3b3636be-c5a4-40ef-b2fb-89abd61040f4",
   "metadata": {},
   "outputs": [
    {
     "name": "stdout",
     "output_type": "stream",
     "text": [
      "object created\n"
     ]
    }
   ],
   "source": [
    "tejas = emp()"
   ]
  },
  {
   "cell_type": "code",
   "execution_count": 136,
   "id": "f51b6a71-3640-4937-b4d9-b7b9b0dbf42c",
   "metadata": {},
   "outputs": [],
   "source": [
    "class emp:\n",
    "    def __init__(self,a,b,c):\n",
    "        self.age =a\n",
    "        self.name = b\n",
    "        self.salary = c\n",
    "    def show(self):\n",
    "        print(self.age,self.name,self.salary)\n",
    "        "
   ]
  },
  {
   "cell_type": "code",
   "execution_count": 137,
   "id": "8da410cc-264d-455f-a669-d80165afc5f4",
   "metadata": {},
   "outputs": [],
   "source": [
    "rahul = emp(37,'rahul',30000)"
   ]
  },
  {
   "cell_type": "code",
   "execution_count": 138,
   "id": "5e3438e6-f441-4c04-ba18-845b3db775e2",
   "metadata": {},
   "outputs": [
    {
     "data": {
      "text/plain": [
       "37"
      ]
     },
     "execution_count": 138,
     "metadata": {},
     "output_type": "execute_result"
    }
   ],
   "source": [
    "rahul.age"
   ]
  },
  {
   "cell_type": "code",
   "execution_count": 139,
   "id": "0c647ce5-2ff3-4d8d-bb35-517ec6cd31a7",
   "metadata": {},
   "outputs": [
    {
     "data": {
      "text/plain": [
       "'rahul'"
      ]
     },
     "execution_count": 139,
     "metadata": {},
     "output_type": "execute_result"
    }
   ],
   "source": [
    "rahul.name"
   ]
  },
  {
   "cell_type": "code",
   "execution_count": 140,
   "id": "088824f9-0b8b-4eb3-96eb-33fedb668691",
   "metadata": {},
   "outputs": [
    {
     "data": {
      "text/plain": [
       "30000"
      ]
     },
     "execution_count": 140,
     "metadata": {},
     "output_type": "execute_result"
    }
   ],
   "source": [
    "rahul.salary"
   ]
  },
  {
   "cell_type": "code",
   "execution_count": 141,
   "id": "b2eb8d09-a703-49f3-af7c-4575cd185c46",
   "metadata": {},
   "outputs": [],
   "source": [
    "sunny = emp(34,'sunny',20000)"
   ]
  },
  {
   "cell_type": "code",
   "execution_count": 142,
   "id": "e3a5e47a-82a4-43c3-b84c-82b78524698b",
   "metadata": {},
   "outputs": [
    {
     "data": {
      "text/plain": [
       "34"
      ]
     },
     "execution_count": 142,
     "metadata": {},
     "output_type": "execute_result"
    }
   ],
   "source": [
    "sunny.age"
   ]
  },
  {
   "cell_type": "code",
   "execution_count": 143,
   "id": "9704a4a5-2276-454d-94b4-c733b65b7897",
   "metadata": {},
   "outputs": [
    {
     "data": {
      "text/plain": [
       "'sunny'"
      ]
     },
     "execution_count": 143,
     "metadata": {},
     "output_type": "execute_result"
    }
   ],
   "source": [
    "sunny.name"
   ]
  },
  {
   "cell_type": "code",
   "execution_count": 144,
   "id": "c98e454c-4611-413b-8aae-d90c95a2e340",
   "metadata": {},
   "outputs": [
    {
     "data": {
      "text/plain": [
       "20000"
      ]
     },
     "execution_count": 144,
     "metadata": {},
     "output_type": "execute_result"
    }
   ],
   "source": [
    "sunny.salary"
   ]
  },
  {
   "cell_type": "code",
   "execution_count": 145,
   "id": "8dc09b5c-7b43-43cc-b0b9-cfa30b3f9c0b",
   "metadata": {},
   "outputs": [
    {
     "name": "stdout",
     "output_type": "stream",
     "text": [
      "34 sunny 20000\n"
     ]
    }
   ],
   "source": [
    "sunny.show()"
   ]
  },
  {
   "cell_type": "code",
   "execution_count": 146,
   "id": "cebeff86-2e10-42b8-a39d-334255483165",
   "metadata": {},
   "outputs": [
    {
     "name": "stdout",
     "output_type": "stream",
     "text": [
      "37 rahul 30000\n"
     ]
    }
   ],
   "source": [
    "rahul.show()"
   ]
  },
  {
   "cell_type": "code",
   "execution_count": 147,
   "id": "be036a70-fc63-41da-8a7b-b3f6bbed5d60",
   "metadata": {},
   "outputs": [],
   "source": [
    "rajat = emp(26,'rajat',30000)"
   ]
  },
  {
   "cell_type": "code",
   "execution_count": 148,
   "id": "e2a89d84-d898-48fe-b596-a3666d693a30",
   "metadata": {},
   "outputs": [
    {
     "name": "stdout",
     "output_type": "stream",
     "text": [
      "26 rajat 30000\n"
     ]
    }
   ],
   "source": [
    "rajat.show()"
   ]
  },
  {
   "cell_type": "code",
   "execution_count": 149,
   "id": "ae5d40b8-9fe0-493d-b876-8e0965f9a723",
   "metadata": {},
   "outputs": [],
   "source": [
    "obj3 = emp(27,'satish', 60000)"
   ]
  },
  {
   "cell_type": "code",
   "execution_count": 150,
   "id": "d88803b4-2a1c-459f-b7a1-89a486abea75",
   "metadata": {},
   "outputs": [
    {
     "name": "stdout",
     "output_type": "stream",
     "text": [
      "27 satish 60000\n"
     ]
    }
   ],
   "source": [
    "obj3.show()"
   ]
  },
  {
   "cell_type": "code",
   "execution_count": 173,
   "id": "697b2be3-8e2c-4a5f-8231-7da65c7c6dd2",
   "metadata": {},
   "outputs": [],
   "source": [
    "class car:\n",
    "    def __init__(self,a,b,c):\n",
    "        self.top_speed = a\n",
    "        self.fuel_capacity = b\n",
    "        self.disk_break = c\n",
    "    def show(self):\n",
    "        print(f\"top speed {self.top_speed},fuel capacity {self.fuel_capacity}, disk break {self.disk_break}\")\n",
    "    \n",
    "    def drive(self,x):\n",
    "        print(f\"it can drive {x}\")"
   ]
  },
  {
   "cell_type": "code",
   "execution_count": 174,
   "id": "2abd57f8-22f5-432a-8466-51c96377c0f1",
   "metadata": {},
   "outputs": [],
   "source": [
    "audi8 = car(350,15,'Yes')"
   ]
  },
  {
   "cell_type": "code",
   "execution_count": 175,
   "id": "b0abdeba-d589-42f0-96e2-593cafee3cbb",
   "metadata": {},
   "outputs": [
    {
     "name": "stdout",
     "output_type": "stream",
     "text": [
      "top speed 350,fuel capacity 15, disk break Yes\n"
     ]
    }
   ],
   "source": [
    "audi8.show()"
   ]
  },
  {
   "cell_type": "code",
   "execution_count": 176,
   "id": "120c4c34-c6ec-4c0e-97f6-f09de914264c",
   "metadata": {},
   "outputs": [
    {
     "name": "stdout",
     "output_type": "stream",
     "text": [
      "it can drive Very fast\n"
     ]
    }
   ],
   "source": [
    "audi8.drive(\"Very fast\")"
   ]
  },
  {
   "cell_type": "code",
   "execution_count": 167,
   "id": "56f8c78b-b807-4680-8793-83c463f9b42b",
   "metadata": {},
   "outputs": [],
   "source": [
    "maruthi800 = car(120,8,\"NO\")"
   ]
  },
  {
   "cell_type": "code",
   "execution_count": 168,
   "id": "f5ba0cf3-96b0-4cb9-93d9-defb4e5874d0",
   "metadata": {},
   "outputs": [
    {
     "name": "stdout",
     "output_type": "stream",
     "text": [
      "top speed 120,fuel capacity 8, disk break NO\n"
     ]
    }
   ],
   "source": [
    "maruthi800.show()"
   ]
  },
  {
   "cell_type": "code",
   "execution_count": null,
   "id": "5b417d08-a76c-4ea5-aa18-6bc8983a2091",
   "metadata": {},
   "outputs": [],
   "source": []
  }
 ],
 "metadata": {
  "kernelspec": {
   "display_name": "Python 3 (ipykernel)",
   "language": "python",
   "name": "python3"
  },
  "language_info": {
   "codemirror_mode": {
    "name": "ipython",
    "version": 3
   },
   "file_extension": ".py",
   "mimetype": "text/x-python",
   "name": "python",
   "nbconvert_exporter": "python",
   "pygments_lexer": "ipython3",
   "version": "3.10.6"
  }
 },
 "nbformat": 4,
 "nbformat_minor": 5
}
