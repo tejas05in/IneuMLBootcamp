{
 "cells": [
  {
   "cell_type": "code",
   "execution_count": 1,
   "id": "d3a96f65-2cb3-4d4a-a974-c62665faffe0",
   "metadata": {
    "pycharm": {
     "name": "#%%\n"
    }
   },
   "outputs": [],
   "source": [
    "import math\n",
    "class Circle:\n",
    "    pi = math.pi\n",
    "    def __init__(self,radius):\n",
    "        self.radius = radius\n",
    "        \n",
    "        \n",
    "    def cal_area(self):\n",
    "        self.area =  self.pi*((self.radius)**2)\n",
    "    \n",
    "    def cal_circumference(self):\n",
    "        self.cir = self.pi*self.radius*2\n",
    "        \n",
    "    def display(self):\n",
    "        print(f\"Area of the circle is {self.area}\")\n",
    "        print(f\"Circumference of the circle is {self.cir}\")\n"
   ]
  },
  {
   "cell_type": "code",
   "execution_count": 2,
   "id": "acb66bf3-c65e-42be-bb21-ea2103583e54",
   "metadata": {
    "pycharm": {
     "name": "#%%\n"
    }
   },
   "outputs": [],
   "source": [
    "p = Circle(5)"
   ]
  },
  {
   "cell_type": "code",
   "execution_count": 3,
   "id": "30feba93-0273-4bc9-b4f5-3e797bdfb2ff",
   "metadata": {
    "pycharm": {
     "name": "#%%\n"
    }
   },
   "outputs": [],
   "source": [
    "p.cal_area()"
   ]
  },
  {
   "cell_type": "code",
   "execution_count": 4,
   "id": "9fe754ad-5894-4b75-a6b5-ca9aec5490ab",
   "metadata": {
    "pycharm": {
     "name": "#%%\n"
    }
   },
   "outputs": [],
   "source": [
    "p.cal_circumference()"
   ]
  },
  {
   "cell_type": "code",
   "execution_count": 5,
   "id": "0883d35f-74d3-4273-a3fb-8a0362665257",
   "metadata": {
    "pycharm": {
     "name": "#%%\n"
    }
   },
   "outputs": [
    {
     "name": "stdout",
     "output_type": "stream",
     "text": [
      "Area of the circle is 78.53981633974483\n",
      "Circumference of the circle is 31.41592653589793\n"
     ]
    }
   ],
   "source": [
    "p.display()"
   ]
  },
  {
   "cell_type": "code",
   "execution_count": 6,
   "id": "52e66dc0-6711-41d0-9f04-dfc86e7de46e",
   "metadata": {
    "pycharm": {
     "name": "#%%\n"
    }
   },
   "outputs": [],
   "source": [
    "class CompStudent:\n",
    "    stream = 'cse' #Class variable\n",
    "    def __init__(self,name,roll):\n",
    "        self.name = name\n",
    "        self.roll = roll"
   ]
  },
  {
   "cell_type": "code",
   "execution_count": 7,
   "id": "7e76cb17-0aa8-4de9-800f-be99694ac8b7",
   "metadata": {
    "pycharm": {
     "name": "#%%\n"
    }
   },
   "outputs": [],
   "source": [
    "obj1 = CompStudent('Atul',1)"
   ]
  },
  {
   "cell_type": "code",
   "execution_count": 8,
   "id": "da9795fc-9681-49fc-836e-83e6a128dc03",
   "metadata": {
    "pycharm": {
     "name": "#%%\n"
    }
   },
   "outputs": [],
   "source": [
    "obj2 = CompStudent('Chetan',2)"
   ]
  },
  {
   "cell_type": "code",
   "execution_count": 9,
   "id": "77af32e5-3d4f-4bf2-a9b4-67b604a3d0eb",
   "metadata": {
    "pycharm": {
     "name": "#%%\n"
    }
   },
   "outputs": [
    {
     "data": {
      "text/plain": "'cse'"
     },
     "execution_count": 9,
     "metadata": {},
     "output_type": "execute_result"
    }
   ],
   "source": [
    "obj1.stream"
   ]
  },
  {
   "cell_type": "code",
   "execution_count": 10,
   "id": "c0e336b0-8432-464b-b9d7-12c3748432bf",
   "metadata": {
    "pycharm": {
     "name": "#%%\n"
    }
   },
   "outputs": [
    {
     "data": {
      "text/plain": "'Atul'"
     },
     "execution_count": 10,
     "metadata": {},
     "output_type": "execute_result"
    }
   ],
   "source": [
    "obj1.name"
   ]
  },
  {
   "cell_type": "code",
   "execution_count": 11,
   "id": "57c10b6c-f1dd-4f12-822f-47315c57a3dd",
   "metadata": {
    "pycharm": {
     "name": "#%%\n"
    }
   },
   "outputs": [
    {
     "data": {
      "text/plain": "'Chetan'"
     },
     "execution_count": 11,
     "metadata": {},
     "output_type": "execute_result"
    }
   ],
   "source": [
    "obj2.name"
   ]
  },
  {
   "cell_type": "code",
   "execution_count": 12,
   "id": "089753db-2772-4e7c-b054-88e4e2d849b2",
   "metadata": {
    "pycharm": {
     "name": "#%%\n"
    }
   },
   "outputs": [
    {
     "data": {
      "text/plain": "1"
     },
     "execution_count": 12,
     "metadata": {},
     "output_type": "execute_result"
    }
   ],
   "source": [
    "obj1.roll"
   ]
  },
  {
   "cell_type": "code",
   "execution_count": 13,
   "id": "75ea7735-53be-43c6-bfd9-fc703c05dfb5",
   "metadata": {
    "pycharm": {
     "name": "#%%\n"
    }
   },
   "outputs": [
    {
     "data": {
      "text/plain": "2"
     },
     "execution_count": 13,
     "metadata": {},
     "output_type": "execute_result"
    }
   ],
   "source": [
    "obj2.roll"
   ]
  },
  {
   "cell_type": "code",
   "execution_count": 14,
   "id": "80705511-c053-42b1-b1ef-4bcb67d6bd01",
   "metadata": {
    "pycharm": {
     "name": "#%%\n"
    }
   },
   "outputs": [
    {
     "data": {
      "text/plain": "'cse'"
     },
     "execution_count": 14,
     "metadata": {},
     "output_type": "execute_result"
    }
   ],
   "source": [
    "CompStudent.stream"
   ]
  },
  {
   "cell_type": "code",
   "execution_count": 14,
   "id": "aa7a0f7a-546e-4552-9d52-21e718341b87",
   "metadata": {
    "pycharm": {
     "name": "#%%\n"
    }
   },
   "outputs": [],
   "source": []
  },
  {
   "cell_type": "code",
   "execution_count": 14,
   "id": "19c8cb62-1940-4cdd-b5b1-207d1dea221f",
   "metadata": {
    "pycharm": {
     "name": "#%%\n"
    }
   },
   "outputs": [],
   "source": []
  },
  {
   "cell_type": "code",
   "execution_count": 15,
   "id": "ae439edb-0362-44ef-9a38-2bfe1825b3cd",
   "metadata": {
    "pycharm": {
     "name": "#%%\n"
    }
   },
   "outputs": [
    {
     "ename": "SyntaxError",
     "evalue": "invalid syntax (1386493303.py, line 1)",
     "output_type": "error",
     "traceback": [
      "\u001B[1;36m  File \u001B[1;32m\"C:\\Users\\tejas\\AppData\\Local\\Temp\\ipykernel_8576\\1386493303.py\"\u001B[1;36m, line \u001B[1;32m1\u001B[0m\n\u001B[1;33m    class method\u001B[0m\n\u001B[1;37m                ^\u001B[0m\n\u001B[1;31mSyntaxError\u001B[0m\u001B[1;31m:\u001B[0m invalid syntax\n"
     ]
    }
   ],
   "source": [
    "#class method\n",
    "#static method"
   ]
  },
  {
   "cell_type": "code",
   "execution_count": 17,
   "id": "71eb8f4d-e977-42c9-ae5f-41f24278bed0",
   "metadata": {
    "pycharm": {
     "name": "#%%\n"
    }
   },
   "outputs": [],
   "source": [
    "import math\n",
    "class Circle:\n",
    "    pi = math.pi\n",
    "    def __init__(self,radius):\n",
    "        self.radius = radius\n",
    "        \n",
    "        \n",
    "    def cal_area(self):\n",
    "        self.area =  self.pi*((self.radius)**2)\n",
    "    \n",
    "    def cal_circumference(self):\n",
    "        self.cir = self.pi*self.radius*2\n",
    "        \n",
    "    def display(self):\n",
    "        print(f\"Area of the circle is {self.area}\")\n",
    "        print(f\"Circumference of the circle is {self.cir}\")\n",
    "    \n",
    "    def show(self):\n",
    "        print(id(self))\n",
    "        print('Tejas')"
   ]
  },
  {
   "cell_type": "code",
   "execution_count": 18,
   "id": "ab9528a8-41c6-4670-9498-b1afe9b7a03f",
   "metadata": {
    "pycharm": {
     "name": "#%%\n"
    }
   },
   "outputs": [],
   "source": [
    "obj = Circle(10)"
   ]
  },
  {
   "cell_type": "code",
   "execution_count": 19,
   "id": "64ec3ac0-527e-4040-8008-2dde99d52401",
   "metadata": {
    "pycharm": {
     "name": "#%%\n"
    }
   },
   "outputs": [
    {
     "name": "stdout",
     "output_type": "stream",
     "text": [
      "2953543218992\n",
      "Tejas\n"
     ]
    }
   ],
   "source": [
    "obj.show()"
   ]
  },
  {
   "cell_type": "code",
   "execution_count": 20,
   "id": "dda85d00-446f-40c8-9a91-9d021ec77ffd",
   "metadata": {
    "pycharm": {
     "name": "#%%\n"
    }
   },
   "outputs": [
    {
     "name": "stdout",
     "output_type": "stream",
     "text": [
      "2953543218992\n"
     ]
    }
   ],
   "source": [
    "print(id(obj))"
   ]
  },
  {
   "cell_type": "code",
   "execution_count": 21,
   "id": "50f6eb2b-23c9-4f24-8ed2-46f84504b75f",
   "metadata": {
    "pycharm": {
     "name": "#%%\n"
    }
   },
   "outputs": [],
   "source": [
    "class Emp:\n",
    "    \n",
    "    def __init__(self,name,age,sal):\n",
    "        self.name = name\n",
    "        self.age = age\n",
    "        self.sal = sal\n",
    "    \n",
    "    def increase_sal(self):\n",
    "        a = float(input('Enter perecentage to raise'))\n",
    "        self.sal += + (self.sal*a/100)\n",
    "        print(f\"Salary after increment is {self.sal}\")\n",
    "        \n",
    "    def dispaly(self):\n",
    "        print(f'The name of the employee is {self.name}')\n",
    "        print(f'The age of the employee is {self.age}')\n",
    "        print(f'The salary of the employee is {self.sal}')\n",
    "        \n",
    "obj1 = Emp('Tejas',37,15000)\n",
    "obj2 = Emp('Sunny',35,30000)\n",
    "    "
   ]
  },
  {
   "cell_type": "code",
   "execution_count": 22,
   "id": "4461a240-7582-47ba-bc7a-595b31386898",
   "metadata": {
    "pycharm": {
     "name": "#%%\n"
    }
   },
   "outputs": [
    {
     "data": {
      "text/plain": "15000"
     },
     "execution_count": 22,
     "metadata": {},
     "output_type": "execute_result"
    }
   ],
   "source": [
    "obj1.sal"
   ]
  },
  {
   "cell_type": "code",
   "execution_count": 23,
   "id": "2642798e-20eb-488f-977b-2651ecbafb0f",
   "metadata": {
    "pycharm": {
     "name": "#%%\n"
    }
   },
   "outputs": [
    {
     "data": {
      "text/plain": "30000"
     },
     "execution_count": 23,
     "metadata": {},
     "output_type": "execute_result"
    }
   ],
   "source": [
    "obj2.sal"
   ]
  },
  {
   "cell_type": "code",
   "execution_count": 24,
   "id": "3581a3bb-73a7-424f-84f6-7cecd9f87b74",
   "metadata": {
    "pycharm": {
     "name": "#%%\n"
    }
   },
   "outputs": [
    {
     "name": "stdout",
     "output_type": "stream",
     "text": [
      "Salary after increment is 15450.0\n"
     ]
    }
   ],
   "source": [
    "obj1.increase_sal()"
   ]
  },
  {
   "cell_type": "code",
   "execution_count": 25,
   "id": "fc6c7d29-c87f-4332-afb0-caaf45ce5918",
   "metadata": {
    "pycharm": {
     "name": "#%%\n"
    }
   },
   "outputs": [
    {
     "name": "stdout",
     "output_type": "stream",
     "text": [
      "Salary after increment is 31500.0\n"
     ]
    }
   ],
   "source": [
    "obj2.increase_sal()"
   ]
  },
  {
   "cell_type": "code",
   "execution_count": 26,
   "id": "229a7b8b-ff3a-4a87-a6b9-ec2fd972eacd",
   "metadata": {
    "pycharm": {
     "name": "#%%\n"
    }
   },
   "outputs": [
    {
     "name": "stdout",
     "output_type": "stream",
     "text": [
      "The name of the employee is Tejas\n",
      "The age of the employee is 37\n",
      "The salary of the employee is 15450.0\n",
      "None\n",
      "The name of the employee is Sunny\n",
      "The age of the employee is 35\n",
      "The salary of the employee is 31500.0\n",
      "None\n"
     ]
    }
   ],
   "source": [
    "print(obj1.dispaly())\n",
    "print(obj2.dispaly())"
   ]
  },
  {
   "cell_type": "code",
   "execution_count": 27,
   "id": "0306f89b-617a-4151-aecb-0a6b48a28a5d",
   "metadata": {
    "pycharm": {
     "name": "#%%\n"
    }
   },
   "outputs": [],
   "source": [
    "class emp:\n",
    "    raise_amount_pct = 0\n",
    "    @classmethod\n",
    "    def set_raise_amt(cls):\n",
    "        cls.raise_amount_pct = float(input(\"write the percentage which you want to incrase\"))\n",
    "    \n",
    "    def __init__(self,name,age,sal):\n",
    "        self.name = name\n",
    "        self.age = age\n",
    "        self.sal = sal\n",
    "    def increase_sal(self):\n",
    "        self.sal+= (self.sal*emp.raise_amount_pct/100)\n",
    "        print(f\"Salaray after increment in {self.sal}\")\n",
    "    def display(self):\n",
    "        print(self.sal,self.name,self.age)"
   ]
  },
  {
   "cell_type": "code",
   "execution_count": 38,
   "id": "3da99b26-ce92-4d4d-9cdf-c0a123585172",
   "metadata": {
    "pycharm": {
     "name": "#%%\n"
    }
   },
   "outputs": [],
   "source": [
    "kush = emp('kush',25,10000)"
   ]
  },
  {
   "cell_type": "code",
   "execution_count": 39,
   "id": "5370aa36-940b-47dd-9f4a-5e853c6e0ecf",
   "metadata": {
    "pycharm": {
     "name": "#%%\n"
    }
   },
   "outputs": [
    {
     "name": "stdout",
     "output_type": "stream",
     "text": [
      "10000 kush 25\n"
     ]
    }
   ],
   "source": [
    "kush.display()"
   ]
  },
  {
   "cell_type": "code",
   "execution_count": 40,
   "id": "129437ac-e33f-456b-95a2-f4ad9134b0eb",
   "metadata": {
    "pycharm": {
     "name": "#%%\n"
    }
   },
   "outputs": [],
   "source": [
    "emp.set_raise_amt()"
   ]
  },
  {
   "cell_type": "code",
   "execution_count": 41,
   "id": "1365981d-0b8e-44ab-8e95-42bb01e11bca",
   "metadata": {
    "pycharm": {
     "name": "#%%\n"
    }
   },
   "outputs": [
    {
     "name": "stdout",
     "output_type": "stream",
     "text": [
      "Salaray after increment in 12500.0\n"
     ]
    }
   ],
   "source": [
    "kush.increase_sal()"
   ]
  },
  {
   "cell_type": "code",
   "execution_count": 42,
   "id": "49fdaa0d-e2a0-434b-a4c4-70cfa187ec4c",
   "metadata": {
    "pycharm": {
     "name": "#%%\n"
    }
   },
   "outputs": [
    {
     "name": "stdout",
     "output_type": "stream",
     "text": [
      "12500.0 kush 25\n"
     ]
    }
   ],
   "source": [
    "kush.display()"
   ]
  },
  {
   "cell_type": "code",
   "execution_count": 43,
   "id": "9315b2ee-38af-4c11-97ad-6b6a185f034f",
   "metadata": {
    "pycharm": {
     "name": "#%%\n"
    }
   },
   "outputs": [],
   "source": [
    "sunny = emp('sunny',27,10000)"
   ]
  },
  {
   "cell_type": "code",
   "execution_count": 45,
   "outputs": [],
   "source": [
    "emp.set_raise_amt()"
   ],
   "metadata": {
    "collapsed": false,
    "pycharm": {
     "name": "#%%\n"
    }
   }
  },
  {
   "cell_type": "code",
   "execution_count": 46,
   "outputs": [
    {
     "name": "stdout",
     "output_type": "stream",
     "text": [
      "Salaray after increment in 12500.0\n"
     ]
    }
   ],
   "source": [
    "sunny.increase_sal()"
   ],
   "metadata": {
    "collapsed": false,
    "pycharm": {
     "name": "#%%\n"
    }
   }
  },
  {
   "cell_type": "code",
   "execution_count": 47,
   "outputs": [
    {
     "name": "stdout",
     "output_type": "stream",
     "text": [
      "12500.0 sunny 27\n"
     ]
    }
   ],
   "source": [
    "sunny.display()"
   ],
   "metadata": {
    "collapsed": false,
    "pycharm": {
     "name": "#%%\n"
    }
   }
  },
  {
   "cell_type": "code",
   "execution_count": 52,
   "outputs": [],
   "source": [
    "class math_class:\n",
    "    @staticmethod\n",
    "    def add_nos(a,b):\n",
    "        c=a+b\n",
    "        return c\n",
    "    @staticmethod\n",
    "    def mul_nos(a,b):\n",
    "        c=a*b\n",
    "        return c"
   ],
   "metadata": {
    "collapsed": false,
    "pycharm": {
     "name": "#%%\n"
    }
   }
  },
  {
   "cell_type": "code",
   "execution_count": 53,
   "outputs": [
    {
     "data": {
      "text/plain": "6"
     },
     "execution_count": 53,
     "metadata": {},
     "output_type": "execute_result"
    }
   ],
   "source": [
    "math_class.add_nos(4,2)"
   ],
   "metadata": {
    "collapsed": false,
    "pycharm": {
     "name": "#%%\n"
    }
   }
  },
  {
   "cell_type": "code",
   "execution_count": 54,
   "outputs": [
    {
     "data": {
      "text/plain": "20"
     },
     "execution_count": 54,
     "metadata": {},
     "output_type": "execute_result"
    }
   ],
   "source": [
    "math_class.mul_nos(4,5)"
   ],
   "metadata": {
    "collapsed": false,
    "pycharm": {
     "name": "#%%\n"
    }
   }
  },
  {
   "cell_type": "code",
   "execution_count": 55,
   "outputs": [
    {
     "data": {
      "text/plain": "9"
     },
     "execution_count": 55,
     "metadata": {},
     "output_type": "execute_result"
    }
   ],
   "source": [
    "math_class.add_nos(4,5)"
   ],
   "metadata": {
    "collapsed": false,
    "pycharm": {
     "name": "#%%\n"
    }
   }
  },
  {
   "cell_type": "code",
   "execution_count": 58,
   "outputs": [
    {
     "ename": "TypeError",
     "evalue": "display() takes 0 positional arguments but 1 was given",
     "output_type": "error",
     "traceback": [
      "\u001B[1;31m---------------------------------------------------------------------------\u001B[0m",
      "\u001B[1;31mTypeError\u001B[0m                                 Traceback (most recent call last)",
      "\u001B[1;32m~\\AppData\\Local\\Temp\\ipykernel_8576\\2186138599.py\u001B[0m in \u001B[0;36m<module>\u001B[1;34m\u001B[0m\n\u001B[0;32m      3\u001B[0m         \u001B[0mprint\u001B[0m\u001B[1;33m(\u001B[0m\u001B[1;34m'Inside Display'\u001B[0m\u001B[1;33m)\u001B[0m\u001B[1;33m\u001B[0m\u001B[1;33m\u001B[0m\u001B[0m\n\u001B[0;32m      4\u001B[0m \u001B[0md\u001B[0m \u001B[1;33m=\u001B[0m \u001B[0mDemo\u001B[0m\u001B[1;33m(\u001B[0m\u001B[1;33m)\u001B[0m\u001B[1;33m\u001B[0m\u001B[1;33m\u001B[0m\u001B[0m\n\u001B[1;32m----> 5\u001B[1;33m \u001B[0md\u001B[0m\u001B[1;33m.\u001B[0m\u001B[0mdisplay\u001B[0m\u001B[1;33m(\u001B[0m\u001B[1;33m)\u001B[0m\u001B[1;33m\u001B[0m\u001B[1;33m\u001B[0m\u001B[0m\n\u001B[0m",
      "\u001B[1;31mTypeError\u001B[0m: display() takes 0 positional arguments but 1 was given"
     ]
    }
   ],
   "source": [
    "class Demo:\n",
    "    def display():\n",
    "        print('Inside Display')\n",
    "d = Demo()\n",
    "d.display()"
   ],
   "metadata": {
    "collapsed": false,
    "pycharm": {
     "name": "#%%\n"
    }
   }
  },
  {
   "cell_type": "code",
   "execution_count": 60,
   "outputs": [
    {
     "name": "stdout",
     "output_type": "stream",
     "text": [
      "Inside Display\n"
     ]
    }
   ],
   "source": [
    "class Demo:\n",
    "    def display(): # internally this method is being treated as static method\n",
    "        print('Inside Display')\n",
    "Demo.display()"
   ],
   "metadata": {
    "collapsed": false,
    "pycharm": {
     "name": "#%%\n"
    }
   }
  },
  {
   "cell_type": "code",
   "execution_count": 61,
   "outputs": [
    {
     "ename": "TypeError",
     "evalue": "display() missing 1 required positional argument: 'self'",
     "output_type": "error",
     "traceback": [
      "\u001B[1;31m---------------------------------------------------------------------------\u001B[0m",
      "\u001B[1;31mTypeError\u001B[0m                                 Traceback (most recent call last)",
      "\u001B[1;32m~\\AppData\\Local\\Temp\\ipykernel_8576\\837053898.py\u001B[0m in \u001B[0;36m<module>\u001B[1;34m\u001B[0m\n\u001B[0;32m      2\u001B[0m     \u001B[1;32mdef\u001B[0m \u001B[0mdisplay\u001B[0m\u001B[1;33m(\u001B[0m\u001B[0mself\u001B[0m\u001B[1;33m)\u001B[0m\u001B[1;33m:\u001B[0m\u001B[1;33m\u001B[0m\u001B[1;33m\u001B[0m\u001B[0m\n\u001B[0;32m      3\u001B[0m         \u001B[0mprint\u001B[0m\u001B[1;33m(\u001B[0m\u001B[1;34m'Inside Display'\u001B[0m\u001B[1;33m)\u001B[0m\u001B[1;33m\u001B[0m\u001B[1;33m\u001B[0m\u001B[0m\n\u001B[1;32m----> 4\u001B[1;33m \u001B[0mDemo\u001B[0m\u001B[1;33m.\u001B[0m\u001B[0mdisplay\u001B[0m\u001B[1;33m(\u001B[0m\u001B[1;33m)\u001B[0m\u001B[1;33m\u001B[0m\u001B[1;33m\u001B[0m\u001B[0m\n\u001B[0m",
      "\u001B[1;31mTypeError\u001B[0m: display() missing 1 required positional argument: 'self'"
     ]
    }
   ],
   "source": [
    "class Demo:\n",
    "    def display(self):\n",
    "        print('Inside Display')\n",
    "Demo.display()"
   ],
   "metadata": {
    "collapsed": false,
    "pycharm": {
     "name": "#%%\n"
    }
   }
  },
  {
   "cell_type": "code",
   "execution_count": 62,
   "outputs": [
    {
     "name": "stdout",
     "output_type": "stream",
     "text": [
      "Inside Display\n"
     ]
    }
   ],
   "source": [
    "class Demo:\n",
    "    def display(self):\n",
    "        print('Inside Display')\n",
    "d= Demo()\n",
    "d.display()"
   ],
   "metadata": {
    "collapsed": false,
    "pycharm": {
     "name": "#%%\n"
    }
   }
  },
  {
   "cell_type": "code",
   "execution_count": 63,
   "outputs": [
    {
     "name": "stdout",
     "output_type": "stream",
     "text": [
      "Inside Display\n"
     ]
    }
   ],
   "source": [
    "class Demo:\n",
    "    def display(self):\n",
    "        print('Inside Display')\n",
    "Demo.display('hello')"
   ],
   "metadata": {
    "collapsed": false,
    "pycharm": {
     "name": "#%%\n"
    }
   }
  },
  {
   "cell_type": "code",
   "execution_count": null,
   "outputs": [],
   "source": [],
   "metadata": {
    "collapsed": false,
    "pycharm": {
     "name": "#%%\n"
    }
   }
  }
 ],
 "metadata": {
  "kernelspec": {
   "display_name": "Python 3 (ipykernel)",
   "language": "python",
   "name": "python3"
  },
  "language_info": {
   "codemirror_mode": {
    "name": "ipython",
    "version": 3
   },
   "file_extension": ".py",
   "mimetype": "text/x-python",
   "name": "python",
   "nbconvert_exporter": "python",
   "pygments_lexer": "ipython3",
   "version": "3.10.6"
  }
 },
 "nbformat": 4,
 "nbformat_minor": 5
}