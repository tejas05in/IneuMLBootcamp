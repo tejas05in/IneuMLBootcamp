{
 "cells": [
  {
   "attachments": {},
   "cell_type": "markdown",
   "metadata": {},
   "source": [
    "# Encapsulation\n",
    "# Inheritance\n",
    "# Polymorphisim\n",
    "# Abstraction\n",
    "These are the 4 pillars of OOP"
   ]
  },
  {
   "attachments": {},
   "cell_type": "markdown",
   "metadata": {},
   "source": [
    "## Enacpsulation"
   ]
  },
  {
   "cell_type": "code",
   "execution_count": 27,
   "metadata": {},
   "outputs": [],
   "source": [
    "class emp:\n",
    "    def __init__(self):\n",
    "        pass\n",
    "    def display(self):\n",
    "        pass"
   ]
  },
  {
   "cell_type": "code",
   "execution_count": 28,
   "metadata": {},
   "outputs": [],
   "source": [
    "obj = emp()"
   ]
  },
  {
   "cell_type": "code",
   "execution_count": 44,
   "metadata": {},
   "outputs": [],
   "source": [
    "class emp:\n",
    "    def __init__(self):\n",
    "        self.__name = 'sunny'\n",
    "        self.__age = 26\n",
    "        self.__sal = 20000\n",
    "    def display(self):\n",
    "        print(self.__name,self.__age,self.__sal)"
   ]
  },
  {
   "cell_type": "code",
   "execution_count": 45,
   "metadata": {},
   "outputs": [],
   "source": [
    "obj1 = emp()"
   ]
  },
  {
   "cell_type": "code",
   "execution_count": 46,
   "metadata": {},
   "outputs": [
    {
     "ename": "AttributeError",
     "evalue": "'emp' object has no attribute '__name'",
     "output_type": "error",
     "traceback": [
      "\u001B[1;31m---------------------------------------------------------------------------\u001B[0m",
      "\u001B[1;31mAttributeError\u001B[0m                            Traceback (most recent call last)",
      "\u001B[1;32m~\\AppData\\Local\\Temp\\ipykernel_9432\\2136428802.py\u001B[0m in \u001B[0;36m<module>\u001B[1;34m\u001B[0m\n\u001B[1;32m----> 1\u001B[1;33m \u001B[0mobj1\u001B[0m\u001B[1;33m.\u001B[0m\u001B[0m__name\u001B[0m\u001B[1;33m\u001B[0m\u001B[1;33m\u001B[0m\u001B[0m\n\u001B[0m",
      "\u001B[1;31mAttributeError\u001B[0m: 'emp' object has no attribute '__name'"
     ]
    }
   ],
   "source": [
    "obj1.__name"
   ]
  },
  {
   "cell_type": "code",
   "execution_count": 42,
   "metadata": {},
   "outputs": [
    {
     "ename": "AttributeError",
     "evalue": "'emp' object has no attribute '__sal'",
     "output_type": "error",
     "traceback": [
      "\u001B[1;31m---------------------------------------------------------------------------\u001B[0m",
      "\u001B[1;31mAttributeError\u001B[0m                            Traceback (most recent call last)",
      "\u001B[1;32m~\\AppData\\Local\\Temp\\ipykernel_9432\\4043927179.py\u001B[0m in \u001B[0;36m<module>\u001B[1;34m\u001B[0m\n\u001B[1;32m----> 1\u001B[1;33m \u001B[0mobj1\u001B[0m\u001B[1;33m.\u001B[0m\u001B[0m__sal\u001B[0m\u001B[1;33m\u001B[0m\u001B[1;33m\u001B[0m\u001B[0m\n\u001B[0m",
      "\u001B[1;31mAttributeError\u001B[0m: 'emp' object has no attribute '__sal'"
     ]
    }
   ],
   "source": [
    "obj1.__sal"
   ]
  },
  {
   "cell_type": "code",
   "execution_count": 43,
   "metadata": {},
   "outputs": [
    {
     "ename": "AttributeError",
     "evalue": "'emp' object has no attribute '__age'",
     "output_type": "error",
     "traceback": [
      "\u001B[1;31m---------------------------------------------------------------------------\u001B[0m",
      "\u001B[1;31mAttributeError\u001B[0m                            Traceback (most recent call last)",
      "\u001B[1;32m~\\AppData\\Local\\Temp\\ipykernel_9432\\3165441061.py\u001B[0m in \u001B[0;36m<module>\u001B[1;34m\u001B[0m\n\u001B[1;32m----> 1\u001B[1;33m \u001B[0mobj1\u001B[0m\u001B[1;33m.\u001B[0m\u001B[0m__age\u001B[0m\u001B[1;33m\u001B[0m\u001B[1;33m\u001B[0m\u001B[0m\n\u001B[0m",
      "\u001B[1;31mAttributeError\u001B[0m: 'emp' object has no attribute '__age'"
     ]
    }
   ],
   "source": [
    "obj1.__age"
   ]
  },
  {
   "cell_type": "code",
   "execution_count": 47,
   "metadata": {},
   "outputs": [
    {
     "name": "stdout",
     "output_type": "stream",
     "text": [
      "sunny 26 20000\n"
     ]
    }
   ],
   "source": [
    "obj1.display()"
   ]
  },
  {
   "attachments": {},
   "cell_type": "markdown",
   "metadata": {},
   "source": [
    "- public <var name>\n",
    "- private __<var name>\n",
    "- protected _<var_name>\n",
    "- setattr()\n",
    "- getattr()"
   ]
  },
  {
   "cell_type": "code",
   "execution_count": 54,
   "metadata": {},
   "outputs": [],
   "source": [
    "class emp:\n",
    "    def __init__(self):\n",
    "        self.__name = 'sunny'\n",
    "        self.__age = 26\n",
    "        self.__sal = 20000\n",
    "    def __display(self):\n",
    "        print(self.__name,self.__age,self.__sal)\n",
    "    \n",
    "    def show(self):\n",
    "        self.__display()"
   ]
  },
  {
   "cell_type": "code",
   "execution_count": 55,
   "metadata": {},
   "outputs": [],
   "source": [
    "obj2 = emp()"
   ]
  },
  {
   "cell_type": "code",
   "execution_count": 56,
   "metadata": {},
   "outputs": [
    {
     "name": "stdout",
     "output_type": "stream",
     "text": [
      "sunny 26 20000\n"
     ]
    }
   ],
   "source": [
    "obj2.show()"
   ]
  },
  {
   "attachments": {},
   "cell_type": "markdown",
   "metadata": {},
   "source": [
    "# Inheritance"
   ]
  },
  {
   "attachments": {},
   "cell_type": "markdown",
   "metadata": {},
   "source": [
    "1. Simple inheritance\n",
    "2. Multilevel inheritance\n",
    "3. Multiple inheritance\n",
    "4. Hirarchial inheritance\n",
    "5. Hybrid inheritance\n",
    "\n",
    "objectclass\n",
    "overriding --> repr,str\n",
    "super()"
   ]
  },
  {
   "cell_type": "code",
   "execution_count": 57,
   "metadata": {},
   "outputs": [],
   "source": [
    "#simple\n",
    "class A:\n",
    "    pass\n",
    "\n",
    "class B(A):\n",
    "    pass"
   ]
  },
  {
   "cell_type": "code",
   "execution_count": 58,
   "metadata": {},
   "outputs": [],
   "source": [
    "#multilevel\n",
    "class A:\n",
    "    pass\n",
    "class B(A):\n",
    "    pass\n",
    "class C(B):\n",
    "    pass"
   ]
  },
  {
   "cell_type": "code",
   "execution_count": 59,
   "metadata": {},
   "outputs": [],
   "source": [
    "#multiple\n",
    "class A:\n",
    "    pass\n",
    "class B:\n",
    "    pass\n",
    "\n",
    "class C(A,B):\n",
    "    pass"
   ]
  },
  {
   "cell_type": "code",
   "execution_count": 60,
   "metadata": {},
   "outputs": [],
   "source": [
    "#hirarchial\n",
    "\n",
    "class A:\n",
    "    pass\n",
    "class B(A):\n",
    "    pass\n",
    "class C(A):\n",
    "    pass"
   ]
  },
  {
   "cell_type": "code",
   "execution_count": 61,
   "metadata": {},
   "outputs": [],
   "source": [
    "#hybrid inheritance(multiple+hirarchial)\n",
    "\n",
    "class A:\n",
    "    pass\n",
    "class B(A):\n",
    "    pass\n",
    "class C(A):\n",
    "    pass\n",
    "class D(B,C):\n",
    "    pass"
   ]
  },
  {
   "cell_type": "code",
   "execution_count": 62,
   "metadata": {},
   "outputs": [],
   "source": [
    "class A:\n",
    "    def __init__(self):\n",
    "        print(\"hi hi hi\")"
   ]
  },
  {
   "cell_type": "code",
   "execution_count": 63,
   "metadata": {},
   "outputs": [
    {
     "name": "stdout",
     "output_type": "stream",
     "text": [
      "hi hi hi\n"
     ]
    }
   ],
   "source": [
    "obj=A()"
   ]
  },
  {
   "cell_type": "code",
   "execution_count": 64,
   "metadata": {},
   "outputs": [],
   "source": [
    "obj2=object()"
   ]
  },
  {
   "cell_type": "code",
   "execution_count": 65,
   "metadata": {},
   "outputs": [
    {
     "data": {
      "text/plain": [
       "['__class__',\n",
       " '__delattr__',\n",
       " '__dir__',\n",
       " '__doc__',\n",
       " '__eq__',\n",
       " '__format__',\n",
       " '__ge__',\n",
       " '__getattribute__',\n",
       " '__gt__',\n",
       " '__hash__',\n",
       " '__init__',\n",
       " '__init_subclass__',\n",
       " '__le__',\n",
       " '__lt__',\n",
       " '__ne__',\n",
       " '__new__',\n",
       " '__reduce__',\n",
       " '__reduce_ex__',\n",
       " '__repr__',\n",
       " '__setattr__',\n",
       " '__sizeof__',\n",
       " '__str__',\n",
       " '__subclasshook__']"
      ]
     },
     "execution_count": 65,
     "metadata": {},
     "output_type": "execute_result"
    }
   ],
   "source": [
    "dir(obj2)"
   ]
  },
  {
   "cell_type": "code",
   "execution_count": 83,
   "metadata": {},
   "outputs": [],
   "source": [
    "#difference between repr and str\n",
    "class A:\n",
    "    def __init__(self):\n",
    "        print(\"hi hi hi\")\n",
    "    \n",
    "    def __repr__(self):\n",
    "        return \"i am here kindly look into me\"\n",
    "    "
   ]
  },
  {
   "cell_type": "code",
   "execution_count": 84,
   "metadata": {},
   "outputs": [
    {
     "name": "stdout",
     "output_type": "stream",
     "text": [
      "hi hi hi\n"
     ]
    }
   ],
   "source": [
    "myobj=A()"
   ]
  },
  {
   "cell_type": "code",
   "execution_count": 85,
   "metadata": {},
   "outputs": [
    {
     "name": "stdout",
     "output_type": "stream",
     "text": [
      "i am here kindly look into me\n"
     ]
    }
   ],
   "source": [
    "print(myobj)"
   ]
  },
  {
   "cell_type": "code",
   "execution_count": 86,
   "metadata": {},
   "outputs": [
    {
     "data": {
      "text/plain": [
       "i am here kindly look into me"
      ]
     },
     "execution_count": 86,
     "metadata": {},
     "output_type": "execute_result"
    }
   ],
   "source": [
    "myobj"
   ]
  },
  {
   "cell_type": "code",
   "execution_count": 87,
   "metadata": {},
   "outputs": [],
   "source": [
    "class A:\n",
    "    def __init__(self):\n",
    "        print(\"hi hi hi\")\n",
    "      \n",
    "    def __str__(self):\n",
    "        return \"i am here kindly look into me\""
   ]
  },
  {
   "cell_type": "code",
   "execution_count": 88,
   "metadata": {},
   "outputs": [
    {
     "name": "stdout",
     "output_type": "stream",
     "text": [
      "hi hi hi\n"
     ]
    }
   ],
   "source": [
    "myobjectsecond= A()"
   ]
  },
  {
   "cell_type": "code",
   "execution_count": 89,
   "metadata": {},
   "outputs": [
    {
     "name": "stdout",
     "output_type": "stream",
     "text": [
      "i am here kindly look into me\n"
     ]
    }
   ],
   "source": [
    "print(myobjectsecond)"
   ]
  },
  {
   "cell_type": "code",
   "execution_count": 90,
   "metadata": {},
   "outputs": [
    {
     "data": {
      "text/plain": [
       "<__main__.A at 0x2615501d4f0>"
      ]
     },
     "execution_count": 90,
     "metadata": {},
     "output_type": "execute_result"
    }
   ],
   "source": [
    "myobjectsecond"
   ]
  },
  {
   "cell_type": "code",
   "execution_count": 91,
   "metadata": {},
   "outputs": [],
   "source": [
    "# repr can return the msg without using print but str requires print"
   ]
  },
  {
   "cell_type": "code",
   "execution_count": 92,
   "metadata": {},
   "outputs": [],
   "source": [
    "#simple inheritance"
   ]
  },
  {
   "cell_type": "code",
   "execution_count": null,
   "metadata": {},
   "outputs": [],
   "source": [
    "#simple inheritance\n",
    "class Animal:\n",
    "    def __init__(self, name):\n",
    "        self.name = name\n",
    "        \n",
    "    def make_sound(self):\n",
    "        print(\"Some generic animal sound\")\n",
    "\n",
    "class Dog(Animal):\n",
    "    def make_sound(self):\n",
    "        print(\"Woof\")\n",
    "\n",
    "dog = Dog(\"Fido\")\n",
    "dog.make_sound() # Output: Woof"
   ]
  },
  {
   "cell_type": "code",
   "execution_count": 93,
   "metadata": {},
   "outputs": [
    {
     "name": "stdout",
     "output_type": "stream",
     "text": [
      "Engine started\n",
      "The body has a modern shape\n",
      "The car is moving\n"
     ]
    }
   ],
   "source": [
    "#multiple inheritance\n",
    "class Engine:\n",
    "    def start(self):\n",
    "        print(\"Engine started\")\n",
    "\n",
    "class Body:\n",
    "    def shape(self):\n",
    "        print(\"The body has a modern shape\")\n",
    "\n",
    "class Car(Engine, Body):\n",
    "    def move(self):\n",
    "        print(\"The car is moving\")\n",
    "\n",
    "car = Car()\n",
    "car.start() # Output: Engine started\n",
    "car.shape() # Output: The body has a modern shape\n",
    "car.move() # Output: The car is moving\n"
   ]
  },
  {
   "cell_type": "code",
   "execution_count": 101,
   "metadata": {},
   "outputs": [],
   "source": [
    "#simple imheritance\n",
    "# here is a code reusability\n",
    "# beacuse in this parent class there is few method which is not needed to be defined in child class\n",
    "class animal: #parent\n",
    "    def eat(self):\n",
    "        print(\"yes it eats\")\n",
    "\n",
    "    def sleep(self):\n",
    "        print('yes it sleeps')\n",
    "\n",
    "class bird(animal): #child\n",
    "\n",
    "    def set_type(self,type):\n",
    "        self.type = type\n",
    "\n",
    "    def fly(self):\n",
    "        print('yes it can fly')\n",
    "\n",
    "    def speak(self,sound):\n",
    "        print(f\"it speaks {sound} {sound}\")\n",
    "\n",
    "    def __repr__(self):\n",
    "        return \"this is a \" + self.type\n"
   ]
  },
  {
   "cell_type": "code",
   "execution_count": 102,
   "metadata": {},
   "outputs": [],
   "source": [
    "duck = bird()"
   ]
  },
  {
   "cell_type": "code",
   "execution_count": 103,
   "metadata": {},
   "outputs": [],
   "source": [
    "duck.set_type('duck')"
   ]
  },
  {
   "cell_type": "code",
   "execution_count": 104,
   "metadata": {},
   "outputs": [
    {
     "data": {
      "text/plain": [
       "this is a duck"
      ]
     },
     "execution_count": 104,
     "metadata": {},
     "output_type": "execute_result"
    }
   ],
   "source": [
    "duck"
   ]
  },
  {
   "cell_type": "code",
   "execution_count": 105,
   "metadata": {},
   "outputs": [
    {
     "name": "stdout",
     "output_type": "stream",
     "text": [
      "yes it eats\n"
     ]
    }
   ],
   "source": [
    "duck.eat()"
   ]
  },
  {
   "cell_type": "code",
   "execution_count": 106,
   "metadata": {},
   "outputs": [
    {
     "name": "stdout",
     "output_type": "stream",
     "text": [
      "yes it sleeps\n"
     ]
    }
   ],
   "source": [
    "duck.sleep()"
   ]
  },
  {
   "cell_type": "code",
   "execution_count": 107,
   "metadata": {},
   "outputs": [
    {
     "name": "stdout",
     "output_type": "stream",
     "text": [
      "yes it can fly\n"
     ]
    }
   ],
   "source": [
    "duck.fly()"
   ]
  },
  {
   "cell_type": "code",
   "execution_count": 108,
   "metadata": {},
   "outputs": [
    {
     "name": "stdout",
     "output_type": "stream",
     "text": [
      "it speaks quack quack\n"
     ]
    }
   ],
   "source": [
    "duck.speak('quack')"
   ]
  },
  {
   "cell_type": "code",
   "execution_count": 110,
   "metadata": {},
   "outputs": [],
   "source": [
    "crow = bird()"
   ]
  },
  {
   "cell_type": "code",
   "execution_count": 111,
   "metadata": {},
   "outputs": [],
   "source": [
    "crow.set_type('crow')"
   ]
  },
  {
   "cell_type": "code",
   "execution_count": 112,
   "metadata": {},
   "outputs": [
    {
     "name": "stdout",
     "output_type": "stream",
     "text": [
      "yes it eats\n"
     ]
    }
   ],
   "source": [
    "crow.eat()"
   ]
  },
  {
   "cell_type": "code",
   "execution_count": 113,
   "metadata": {},
   "outputs": [
    {
     "name": "stdout",
     "output_type": "stream",
     "text": [
      "yes it sleeps\n"
     ]
    }
   ],
   "source": [
    "crow.sleep()"
   ]
  },
  {
   "cell_type": "code",
   "execution_count": 114,
   "metadata": {},
   "outputs": [
    {
     "name": "stdout",
     "output_type": "stream",
     "text": [
      "yes it can fly\n"
     ]
    }
   ],
   "source": [
    "crow.fly()"
   ]
  },
  {
   "cell_type": "code",
   "execution_count": 115,
   "metadata": {},
   "outputs": [
    {
     "name": "stdout",
     "output_type": "stream",
     "text": [
      "it speaks Ka Ka Ka Ka\n"
     ]
    }
   ],
   "source": [
    "crow.speak('Ka Ka')"
   ]
  },
  {
   "cell_type": "code",
   "execution_count": 116,
   "metadata": {},
   "outputs": [
    {
     "data": {
      "text/plain": [
       "this is a crow"
      ]
     },
     "execution_count": 116,
     "metadata": {},
     "output_type": "execute_result"
    }
   ],
   "source": [
    "crow"
   ]
  },
  {
   "cell_type": "code",
   "execution_count": 130,
   "metadata": {},
   "outputs": [],
   "source": [
    "#multilevel inheritance\n",
    "#real scenario with code reuseablity\n",
    "#coding in java and c++ automatically parent class constructor is automatically called but not in python\n",
    "#super method or we can call with the help of class name\n",
    "class person:\n",
    "    def __init__(self,name,age):\n",
    "        self.name =name\n",
    "        self.age = age\n",
    "        print(\"person constructor called\")\n",
    "class emp(person):\n",
    "    def __init__(self,name,age,ids,sal):\n",
    "        person.__init__(self,name,age)\n",
    "        self.ids = ids\n",
    "        self.sal = sal\n",
    "        print(\"emp constructor called\")\n",
    "class manager(emp):\n",
    "    def __init__(self,name,age,ids,sal,bonus):\n",
    "        emp.__init__(self,name,age,ids,sal)\n",
    "        self.bonus = bonus\n",
    "        print(\"manager constructor called\")\n",
    "\n",
    "        "
   ]
  },
  {
   "cell_type": "code",
   "execution_count": 131,
   "metadata": {},
   "outputs": [
    {
     "name": "stdout",
     "output_type": "stream",
     "text": [
      "person constructor called\n",
      "emp constructor called\n",
      "manager constructor called\n"
     ]
    }
   ],
   "source": [
    "m = manager('tej',37,123,50000,10000)"
   ]
  },
  {
   "cell_type": "code",
   "execution_count": 132,
   "metadata": {},
   "outputs": [
    {
     "data": {
      "text/plain": [
       "37"
      ]
     },
     "execution_count": 132,
     "metadata": {},
     "output_type": "execute_result"
    }
   ],
   "source": [
    "m.age"
   ]
  },
  {
   "cell_type": "code",
   "execution_count": 133,
   "metadata": {},
   "outputs": [
    {
     "data": {
      "text/plain": [
       "'tej'"
      ]
     },
     "execution_count": 133,
     "metadata": {},
     "output_type": "execute_result"
    }
   ],
   "source": [
    "m.name"
   ]
  },
  {
   "cell_type": "code",
   "execution_count": 134,
   "metadata": {},
   "outputs": [
    {
     "data": {
      "text/plain": [
       "123"
      ]
     },
     "execution_count": 134,
     "metadata": {},
     "output_type": "execute_result"
    }
   ],
   "source": [
    "m.ids"
   ]
  },
  {
   "cell_type": "code",
   "execution_count": 135,
   "metadata": {},
   "outputs": [
    {
     "data": {
      "text/plain": [
       "50000"
      ]
     },
     "execution_count": 135,
     "metadata": {},
     "output_type": "execute_result"
    }
   ],
   "source": [
    "m.sal"
   ]
  },
  {
   "cell_type": "code",
   "execution_count": 136,
   "metadata": {},
   "outputs": [
    {
     "data": {
      "text/plain": [
       "10000"
      ]
     },
     "execution_count": 136,
     "metadata": {},
     "output_type": "execute_result"
    }
   ],
   "source": [
    "m.bonus"
   ]
  },
  {
   "cell_type": "code",
   "execution_count": 146,
   "metadata": {},
   "outputs": [],
   "source": [
    "#super()\n",
    "class person:\n",
    "    def __init__(self,name,age):\n",
    "        self.name =name\n",
    "        self.age = age\n",
    "        print(\"person constructor called\")\n",
    "class emp(person):\n",
    "    def __init__(self,name,age,ids,sal):\n",
    "        super().__init__(name,age)\n",
    "        self.ids = ids\n",
    "        self.sal = sal\n",
    "        print(\"emp constructor called\")\n",
    "class manager(emp):\n",
    "    def __init__(self,name,age,ids,sal,bonus):\n",
    "        super().__init__(name,age,ids,sal)\n",
    "        self.bonus = bonus\n",
    "        print(\"manager constructor called\")\n",
    "    def __repr__(self):\n",
    "        return f\"manage bonus will be : {self.bonus}.Manage age is {self.age}, manager name is {self.name}, manger id is {self.ids}, manager salary is {self.sal}\""
   ]
  },
  {
   "cell_type": "code",
   "execution_count": 147,
   "metadata": {},
   "outputs": [
    {
     "name": "stdout",
     "output_type": "stream",
     "text": [
      "person constructor called\n",
      "emp constructor called\n",
      "manager constructor called\n"
     ]
    }
   ],
   "source": [
    "m = manager('kal',35,456,60000,20000)"
   ]
  },
  {
   "cell_type": "code",
   "execution_count": 148,
   "metadata": {},
   "outputs": [
    {
     "name": "stdout",
     "output_type": "stream",
     "text": [
      "manage bonus will be : 20000.Manage age is 35, manager name is kal, manger id is 456, manager salary is 60000\n"
     ]
    }
   ],
   "source": [
    "print(m)"
   ]
  },
  {
   "cell_type": "code",
   "execution_count": 161,
   "metadata": {},
   "outputs": [],
   "source": [
    "#Method overloading\n",
    "#super overriding\n",
    "#how to call previous constructor\n",
    "#Use of repr\n",
    "class person:\n",
    "    def __init__(self,name,age):\n",
    "        self.name =name\n",
    "        self.age = age\n",
    "        print(\"person constructor called\")\n",
    "    def __repr__(self):\n",
    "        return f\"age {self.age}, name {self.name}\"\n",
    "class emp(person):\n",
    "    def __init__(self,name,age,ids,sal):\n",
    "        super().__init__(name,age)\n",
    "        self.ids = ids\n",
    "        self.sal = sal\n",
    "        print(\"emp constructor called\")\n",
    "    def __repr__(self):\n",
    "        string = super().__repr__()\n",
    "        return f\"{string}, id {self.ids}, salary {self.sal}\"\n",
    "class manager(emp):\n",
    "    def __init__(self,name,age,ids,sal,bonus):\n",
    "        super().__init__(name,age,ids,sal)\n",
    "        self.bonus = bonus\n",
    "        print(\"manager constructor called\")\n",
    "    def __repr__(self):\n",
    "        string = super().__repr__()\n",
    "        return f\"{string}, bonus {self.bonus}\""
   ]
  },
  {
   "cell_type": "code",
   "execution_count": 162,
   "metadata": {},
   "outputs": [
    {
     "name": "stdout",
     "output_type": "stream",
     "text": [
      "person constructor called\n",
      "emp constructor called\n",
      "manager constructor called\n"
     ]
    }
   ],
   "source": [
    "m = manager('ravi', 34, 1234, 50000,10000)"
   ]
  },
  {
   "cell_type": "code",
   "execution_count": 163,
   "metadata": {},
   "outputs": [
    {
     "name": "stdout",
     "output_type": "stream",
     "text": [
      "age 34, name ravi, id 1234, salary 50000, bonus 10000\n"
     ]
    }
   ],
   "source": [
    "print(m)"
   ]
  },
  {
   "cell_type": "code",
   "execution_count": 165,
   "metadata": {},
   "outputs": [
    {
     "data": {
      "text/plain": [
       "age 34, name ravi, id 1234, salary 50000, bonus 10000"
      ]
     },
     "execution_count": 165,
     "metadata": {},
     "output_type": "execute_result"
    }
   ],
   "source": [
    "m"
   ]
  },
  {
   "cell_type": "code",
   "execution_count": 164,
   "metadata": {},
   "outputs": [],
   "source": [
    "def p(*g):\n",
    "    print(g)"
   ]
  },
  {
   "cell_type": "code",
   "execution_count": 160,
   "metadata": {},
   "outputs": [
    {
     "name": "stdout",
     "output_type": "stream",
     "text": [
      "(1, 2, 3, 4, 5, 6, 'tejas')\n"
     ]
    }
   ],
   "source": [
    "p(1,2,3,4,5,6,\"tejas\")"
   ]
  },
  {
   "cell_type": "code",
   "execution_count": null,
   "metadata": {},
   "outputs": [],
   "source": []
  }
 ],
 "metadata": {
  "kernelspec": {
   "display_name": "base",
   "language": "python",
   "name": "python3"
  },
  "language_info": {
   "codemirror_mode": {
    "name": "ipython",
    "version": 3
   },
   "file_extension": ".py",
   "mimetype": "text/x-python",
   "name": "python",
   "nbconvert_exporter": "python",
   "pygments_lexer": "ipython3",
   "version": "3.9.16"
  },
  "orig_nbformat": 4,
  "vscode": {
   "interpreter": {
    "hash": "c370489388e782aa9b6373b0856d4a71cb56f2a887cc53048a8e75b66b592545"
   }
  }
 },
 "nbformat": 4,
 "nbformat_minor": 2
}
