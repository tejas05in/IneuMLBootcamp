{
 "cells": [
  {
   "cell_type": "markdown",
   "id": "7bf10001",
   "metadata": {},
   "source": [
    "- simple inheritance\n",
    "- mulitlevel inheritance\n",
    "- multiple inheritance\n",
    "- hirarchial inheritance\n",
    "- hybrid inheritance"
   ]
  },
  {
   "cell_type": "markdown",
   "id": "7888144a",
   "metadata": {},
   "source": [
    "### this is an example of hirarchial inheritance"
   ]
  },
  {
   "cell_type": "code",
   "execution_count": 1,
   "id": "ab6fc000",
   "metadata": {},
   "outputs": [],
   "source": [
    "class schoolmember:\n",
    "    def __init__(self,name,age):\n",
    "        self.name = name\n",
    "        self.age = age\n",
    "    def tell(self):\n",
    "        print(self.name,self.age,end=\" \")\n",
    "\n",
    "class student(schoolmember):\n",
    "    def __init__(self,name,age,rollno,per):\n",
    "        super().__init__(name,age)\n",
    "        self.rollno = rollno\n",
    "        self.per = per\n",
    "    def tell(self):\n",
    "        super().tell()\n",
    "        print(self.rollno,self.per)\n",
    "\n",
    "class teacher(schoolmember):\n",
    "    def __init__(self,name,age,sal):\n",
    "        super().__init__()\n",
    "        self.sal = sal"
   ]
  },
  {
   "cell_type": "code",
   "execution_count": 2,
   "id": "7bb06f4b",
   "metadata": {},
   "outputs": [],
   "source": [
    "pranab = student('pranab', 30, 12, 75)"
   ]
  },
  {
   "cell_type": "code",
   "execution_count": 3,
   "id": "0c138b9d",
   "metadata": {},
   "outputs": [
    {
     "data": {
      "text/plain": [
       "12"
      ]
     },
     "execution_count": 3,
     "metadata": {},
     "output_type": "execute_result"
    }
   ],
   "source": [
    "pranab.rollno"
   ]
  },
  {
   "cell_type": "code",
   "execution_count": 4,
   "id": "0763f80d",
   "metadata": {},
   "outputs": [
    {
     "name": "stdout",
     "output_type": "stream",
     "text": [
      "pranab 30 12 75\n"
     ]
    }
   ],
   "source": [
    "pranab.tell()"
   ]
  },
  {
   "cell_type": "markdown",
   "id": "cb8b9cd4",
   "metadata": {},
   "source": [
    "### this is an example of multiple inheritance"
   ]
  },
  {
   "cell_type": "markdown",
   "id": "b8129b81",
   "metadata": {},
   "source": [
    "#### This is mro(Method Resolution Order)"
   ]
  },
  {
   "cell_type": "code",
   "execution_count": 5,
   "id": "e4c8dd1e",
   "metadata": {},
   "outputs": [],
   "source": [
    "class A:\n",
    "    #def __init__(self):\n",
    "        #print('A has been called')\n",
    "    pass\n",
    "\n",
    "class B:\n",
    "    def __init__(self):\n",
    "        print('B has been called')\n",
    "\n",
    "class C(A,B):\n",
    "    #def __init__(self):\n",
    "        #print('C has been called')\n",
    "        pass"
   ]
  },
  {
   "cell_type": "code",
   "execution_count": 6,
   "id": "6c6278bb",
   "metadata": {},
   "outputs": [
    {
     "name": "stdout",
     "output_type": "stream",
     "text": [
      "B has been called\n"
     ]
    }
   ],
   "source": [
    "obj_first = C()"
   ]
  },
  {
   "cell_type": "code",
   "execution_count": 7,
   "id": "edfc128f",
   "metadata": {},
   "outputs": [
    {
     "name": "stdout",
     "output_type": "stream",
     "text": [
      "[<class '__main__.C'>, <class '__main__.A'>, <class '__main__.B'>, <class 'object'>]\n"
     ]
    }
   ],
   "source": [
    "#This is mro(Method Resolution Order)\n",
    "print(C.mro())"
   ]
  },
  {
   "cell_type": "markdown",
   "id": "c1d92fa6",
   "metadata": {},
   "source": [
    "When C (base class) is called then first A was called if it is not available then B is called "
   ]
  },
  {
   "cell_type": "code",
   "execution_count": 8,
   "id": "4fbd3020",
   "metadata": {},
   "outputs": [],
   "source": [
    "class A:\n",
    "    def __init__(self):\n",
    "        print('A has been called')\n",
    "    \n",
    "\n",
    "class B:\n",
    "    #def __init__(self):\n",
    "        #print('B has been called')\n",
    "    pass\n",
    "\n",
    "class C(B,A):\n",
    "    #def __init__(self):\n",
    "        #print('C has been called')\n",
    "    pass\n",
    "        "
   ]
  },
  {
   "cell_type": "code",
   "execution_count": 9,
   "id": "965749b9",
   "metadata": {},
   "outputs": [
    {
     "name": "stdout",
     "output_type": "stream",
     "text": [
      "A has been called\n"
     ]
    }
   ],
   "source": [
    "obj_second = C()"
   ]
  },
  {
   "cell_type": "code",
   "execution_count": 10,
   "id": "a59fda59",
   "metadata": {},
   "outputs": [
    {
     "name": "stdout",
     "output_type": "stream",
     "text": [
      "[<class '__main__.C'>, <class '__main__.B'>, <class '__main__.A'>, <class 'object'>]\n"
     ]
    }
   ],
   "source": [
    "print(C.mro())"
   ]
  },
  {
   "cell_type": "code",
   "execution_count": 11,
   "id": "787656da",
   "metadata": {},
   "outputs": [],
   "source": [
    "obj_third = object()"
   ]
  },
  {
   "cell_type": "code",
   "execution_count": 12,
   "id": "7d05e026",
   "metadata": {},
   "outputs": [
    {
     "data": {
      "text/plain": [
       "['__class__',\n",
       " '__delattr__',\n",
       " '__dir__',\n",
       " '__doc__',\n",
       " '__eq__',\n",
       " '__format__',\n",
       " '__ge__',\n",
       " '__getattribute__',\n",
       " '__gt__',\n",
       " '__hash__',\n",
       " '__init__',\n",
       " '__init_subclass__',\n",
       " '__le__',\n",
       " '__lt__',\n",
       " '__ne__',\n",
       " '__new__',\n",
       " '__reduce__',\n",
       " '__reduce_ex__',\n",
       " '__repr__',\n",
       " '__setattr__',\n",
       " '__sizeof__',\n",
       " '__str__',\n",
       " '__subclasshook__']"
      ]
     },
     "execution_count": 12,
     "metadata": {},
     "output_type": "execute_result"
    }
   ],
   "source": [
    "dir(obj_third)"
   ]
  },
  {
   "cell_type": "code",
   "execution_count": 13,
   "id": "31fa2aea",
   "metadata": {},
   "outputs": [],
   "source": [
    "class person:\n",
    "    def __init__(self,name,age):\n",
    "        print('person called')\n",
    "        self.name = name\n",
    "        self.age = age\n",
    "    def tell(self):\n",
    "        print(self.name,self.age,end=\" \")\n",
    "class student:\n",
    "    def __init__(self,name,age,rollno,per):\n",
    "        print('student called')\n",
    "        super().__init__(name,age)\n",
    "        self.rollno = rollno\n",
    "        self.per = per\n",
    "    def tell(self):\n",
    "        super().tell()\n",
    "        print(self.rollno,self.per)\n",
    "class sciencestudent(student,person):\n",
    "    def __init__(self,name,age,rollno,per,stream):\n",
    "        print('science student called')\n",
    "        super().__init__(name,age,rollno,per)\n",
    "        self.stream = stream\n",
    "    def tell(self):\n",
    "        print(self.name,self.age,self.rollno,self.per,self.stream)"
   ]
  },
  {
   "cell_type": "code",
   "execution_count": 14,
   "id": "602ce84f",
   "metadata": {},
   "outputs": [
    {
     "name": "stdout",
     "output_type": "stream",
     "text": [
      "science student called\n",
      "student called\n",
      "person called\n"
     ]
    }
   ],
   "source": [
    "sunny = sciencestudent('sunny',26,1,79.5,'science')"
   ]
  },
  {
   "cell_type": "code",
   "execution_count": 15,
   "id": "cb3a2603",
   "metadata": {},
   "outputs": [
    {
     "data": {
      "text/plain": [
       "79.5"
      ]
     },
     "execution_count": 15,
     "metadata": {},
     "output_type": "execute_result"
    }
   ],
   "source": [
    "sunny.per"
   ]
  },
  {
   "cell_type": "code",
   "execution_count": 16,
   "id": "b54769b4",
   "metadata": {},
   "outputs": [
    {
     "name": "stdout",
     "output_type": "stream",
     "text": [
      "sunny 26 1 79.5 science\n"
     ]
    }
   ],
   "source": [
    "sunny.tell()"
   ]
  },
  {
   "cell_type": "code",
   "execution_count": 17,
   "id": "3cc5fb82",
   "metadata": {},
   "outputs": [],
   "source": [
    "class A:\n",
    "    def __init__(self):\n",
    "        print('Constructor called')\n",
    "        \n",
    "class B(A):\n",
    "    def __init__(self):\n",
    "        print('B called')\n",
    "        super().__init__()\n",
    "        \n",
    "\n",
    "class C(B,A):\n",
    "    def __init__(self):\n",
    "        print('C called')\n",
    "        super().__init__()\n",
    "        \n"
   ]
  },
  {
   "cell_type": "code",
   "execution_count": 18,
   "id": "cbebeb68",
   "metadata": {},
   "outputs": [
    {
     "name": "stdout",
     "output_type": "stream",
     "text": [
      "[<class '__main__.C'>, <class '__main__.B'>, <class '__main__.A'>, <class 'object'>]\n"
     ]
    }
   ],
   "source": [
    "print(C.mro())"
   ]
  },
  {
   "cell_type": "code",
   "execution_count": 19,
   "id": "cbca0672",
   "metadata": {},
   "outputs": [
    {
     "name": "stdout",
     "output_type": "stream",
     "text": [
      "C called\n",
      "B called\n",
      "Constructor called\n"
     ]
    }
   ],
   "source": [
    "obj = C()"
   ]
  },
  {
   "cell_type": "code",
   "execution_count": 20,
   "id": "90fb3ade",
   "metadata": {},
   "outputs": [],
   "source": [
    "class person:\n",
    "    def __init__(self,name,age):\n",
    "        self.name = name\n",
    "        self.age = age\n",
    "    def tell(self):\n",
    "        print(self.name,self.age,end=\" \")\n",
    "class student:\n",
    "    def __init__(self,rollno,per):\n",
    "        self.rollno = rollno\n",
    "        self.per = per\n",
    "    def tell(self):\n",
    "        super().tell()\n",
    "        print(self.rollno,self.per)\n",
    "class sciencestudent(student,person):\n",
    "    def __init__(self,name,age,rollno,per,stream):\n",
    "        person.__init__(self,name,age)\n",
    "        student.__init__(self,rollno,per)\n",
    "        self.stream = stream\n",
    "    def tell(self):\n",
    "        print(self.name,self.age,self.rollno,self.per,self.stream)"
   ]
  },
  {
   "cell_type": "code",
   "execution_count": 21,
   "id": "3957158b",
   "metadata": {},
   "outputs": [],
   "source": [
    "rajat = sciencestudent('rajat',29,10,97,'math-bio')"
   ]
  },
  {
   "cell_type": "code",
   "execution_count": 22,
   "id": "809b5765",
   "metadata": {},
   "outputs": [
    {
     "name": "stdout",
     "output_type": "stream",
     "text": [
      "rajat 29 10 97 math-bio\n"
     ]
    }
   ],
   "source": [
    "rajat.tell()"
   ]
  },
  {
   "cell_type": "markdown",
   "id": "3773ea2a",
   "metadata": {},
   "source": [
    "### Hybrid Inheritance"
   ]
  },
  {
   "cell_type": "code",
   "execution_count": 23,
   "id": "7046331d",
   "metadata": {},
   "outputs": [],
   "source": [
    "class A:\n",
    "    def __init__(self):\n",
    "        print('A has been called')\n",
    "\n",
    "class B(A):\n",
    "    #def __init__(self):\n",
    "        #print('B has been called')\n",
    "    pass\n",
    "\n",
    "class C(A):\n",
    "    def __init__(self):\n",
    "        print('B has been called')\n",
    "\n",
    "class D(B,C):\n",
    "    #def __init__(self):\n",
    "        #print('D has been called')\n",
    "    pass"
   ]
  },
  {
   "cell_type": "code",
   "execution_count": 24,
   "id": "66097c99",
   "metadata": {},
   "outputs": [
    {
     "name": "stdout",
     "output_type": "stream",
     "text": [
      "[<class '__main__.D'>, <class '__main__.B'>, <class '__main__.C'>, <class '__main__.A'>, <class 'object'>]\n"
     ]
    }
   ],
   "source": [
    "print(D.mro())"
   ]
  },
  {
   "cell_type": "code",
   "execution_count": 25,
   "id": "36743e89",
   "metadata": {},
   "outputs": [
    {
     "name": "stdout",
     "output_type": "stream",
     "text": [
      "B has been called\n"
     ]
    }
   ],
   "source": [
    "myfirstobj = D()"
   ]
  },
  {
   "cell_type": "code",
   "execution_count": 26,
   "id": "f27bd693",
   "metadata": {},
   "outputs": [],
   "source": [
    "class A:\n",
    "    def __init__(self):\n",
    "        print('A has been called')\n",
    "\n",
    "class B(A):\n",
    "    def __init__(self):\n",
    "        print('B has been called')\n",
    "\n",
    "class C(A):\n",
    "    def __init__(self):\n",
    "        print('B has been called')\n",
    "\n",
    "class D(B,C):\n",
    "    def __init__(self):\n",
    "        print('D has been called')"
   ]
  },
  {
   "cell_type": "code",
   "execution_count": 27,
   "id": "23112522",
   "metadata": {},
   "outputs": [],
   "source": [
    "class A:\n",
    "    def m(self):\n",
    "        print('m of A called')\n",
    "class B(A):\n",
    "    def m(self):\n",
    "        print('m of B called')\n",
    "class C(A):\n",
    "    def m(self):\n",
    "        print('m of C called')\n",
    "class D(B,C):\n",
    "    def m(self):\n",
    "        print('m of D called')\n",
    "        B.m(self)\n",
    "        C.m(self)\n",
    "        A.m(self)"
   ]
  },
  {
   "cell_type": "code",
   "execution_count": 28,
   "id": "dd7abf83",
   "metadata": {},
   "outputs": [],
   "source": [
    "mysecondobj = D()"
   ]
  },
  {
   "cell_type": "code",
   "execution_count": 29,
   "id": "49a940d1",
   "metadata": {},
   "outputs": [
    {
     "name": "stdout",
     "output_type": "stream",
     "text": [
      "m of D called\n",
      "m of B called\n",
      "m of C called\n",
      "m of A called\n"
     ]
    }
   ],
   "source": [
    "mysecondobj.m()"
   ]
  },
  {
   "cell_type": "code",
   "execution_count": 30,
   "id": "07c83014",
   "metadata": {},
   "outputs": [],
   "source": [
    "class A:\n",
    "    def m(self):\n",
    "        print('m of A called')\n",
    "class B(A):\n",
    "    def m(self):\n",
    "        print('m of B called')\n",
    "        A.m(self)\n",
    "class C(A):\n",
    "    def m(self):\n",
    "        print('m of C called')\n",
    "        A.m(self)\n",
    "class D(B,C):\n",
    "    def m(self):\n",
    "        print('m of D called')\n",
    "        B.m(self)\n",
    "        C.m(self)"
   ]
  },
  {
   "cell_type": "code",
   "execution_count": 31,
   "id": "a8f3024b",
   "metadata": {},
   "outputs": [
    {
     "name": "stdout",
     "output_type": "stream",
     "text": [
      "[<class '__main__.D'>, <class '__main__.B'>, <class '__main__.C'>, <class '__main__.A'>, <class 'object'>]\n"
     ]
    }
   ],
   "source": [
    "print(D.mro())"
   ]
  },
  {
   "cell_type": "code",
   "execution_count": 32,
   "id": "7edb7740",
   "metadata": {},
   "outputs": [],
   "source": [
    "mythirdobj = D()"
   ]
  },
  {
   "cell_type": "code",
   "execution_count": 33,
   "id": "b351bcc3",
   "metadata": {},
   "outputs": [
    {
     "name": "stdout",
     "output_type": "stream",
     "text": [
      "m of D called\n",
      "m of B called\n",
      "m of A called\n",
      "m of C called\n",
      "m of A called\n"
     ]
    }
   ],
   "source": [
    "mythirdobj.m()"
   ]
  },
  {
   "cell_type": "code",
   "execution_count": 34,
   "id": "7a484e04",
   "metadata": {},
   "outputs": [],
   "source": [
    "class A:\n",
    "    def m(self):\n",
    "        print('m of A called')\n",
    "class B(A):\n",
    "    def m(self):\n",
    "        print('m of B called')\n",
    "        super().m()\n",
    "class C(A):\n",
    "    def m(self):\n",
    "        print('m of C called')\n",
    "        super().m()\n",
    "class D(B,C):\n",
    "    def m(self):\n",
    "        print('m of D called')\n",
    "        super().m()"
   ]
  },
  {
   "cell_type": "code",
   "execution_count": 35,
   "id": "af30e0e9",
   "metadata": {},
   "outputs": [],
   "source": [
    "myfourthobj = D()"
   ]
  },
  {
   "cell_type": "code",
   "execution_count": 36,
   "id": "05a4282a",
   "metadata": {},
   "outputs": [
    {
     "name": "stdout",
     "output_type": "stream",
     "text": [
      "m of D called\n",
      "m of B called\n",
      "m of C called\n",
      "m of A called\n"
     ]
    }
   ],
   "source": [
    "myfourthobj.m()"
   ]
  },
  {
   "cell_type": "markdown",
   "id": "31419bd6",
   "metadata": {},
   "source": [
    "### Polymorphism"
   ]
  },
  {
   "cell_type": "markdown",
   "id": "2b27d6e3",
   "metadata": {},
   "source": [
    "### method overriding\n",
    "\n",
    "repr --> A\n",
    "repr --> B\n",
    "repr --> C"
   ]
  },
  {
   "cell_type": "markdown",
   "id": "2606414e",
   "metadata": {},
   "source": [
    "+ operator arithmetic\n"
   ]
  },
  {
   "cell_type": "code",
   "execution_count": 38,
   "id": "d333094c",
   "metadata": {},
   "outputs": [
    {
     "data": {
      "text/plain": [
       "5"
      ]
     },
     "execution_count": 38,
     "metadata": {},
     "output_type": "execute_result"
    }
   ],
   "source": [
    "2+3"
   ]
  },
  {
   "cell_type": "code",
   "execution_count": 39,
   "id": "0f1cd64e",
   "metadata": {},
   "outputs": [
    {
     "data": {
      "text/plain": [
       "'tejasnaidu'"
      ]
     },
     "execution_count": 39,
     "metadata": {},
     "output_type": "execute_result"
    }
   ],
   "source": [
    "x = 'tejas'\n",
    "y = 'naidu'\n",
    "x+y"
   ]
  },
  {
   "cell_type": "markdown",
   "id": "fab6355c",
   "metadata": {},
   "source": [
    "#### single entity working in a different way is called polymorphisim Eg. +"
   ]
  },
  {
   "cell_type": "code",
   "execution_count": 40,
   "id": "4f301a05",
   "metadata": {},
   "outputs": [],
   "source": [
    "class point:\n",
    "    def __init__(self,x,y):\n",
    "        self.x = x\n",
    "        self.y = y"
   ]
  },
  {
   "cell_type": "code",
   "execution_count": 41,
   "id": "f85acf41",
   "metadata": {},
   "outputs": [],
   "source": [
    "p1 = point(2,4)"
   ]
  },
  {
   "cell_type": "code",
   "execution_count": 42,
   "id": "4139b563",
   "metadata": {},
   "outputs": [],
   "source": [
    "p2 = point(3,6)"
   ]
  },
  {
   "cell_type": "code",
   "execution_count": 43,
   "id": "ee3ed2b2",
   "metadata": {},
   "outputs": [
    {
     "ename": "TypeError",
     "evalue": "unsupported operand type(s) for +: 'point' and 'point'",
     "output_type": "error",
     "traceback": [
      "\u001B[1;31m---------------------------------------------------------------------------\u001B[0m",
      "\u001B[1;31mTypeError\u001B[0m                                 Traceback (most recent call last)",
      "\u001B[1;32m~\\AppData\\Local\\Temp\\ipykernel_8796\\3715270612.py\u001B[0m in \u001B[0;36m<module>\u001B[1;34m\u001B[0m\n\u001B[1;32m----> 1\u001B[1;33m \u001B[0mp1\u001B[0m \u001B[1;33m+\u001B[0m \u001B[0mp2\u001B[0m\u001B[1;33m\u001B[0m\u001B[1;33m\u001B[0m\u001B[0m\n\u001B[0m",
      "\u001B[1;31mTypeError\u001B[0m: unsupported operand type(s) for +: 'point' and 'point'"
     ]
    }
   ],
   "source": [
    "p1 + p2"
   ]
  },
  {
   "cell_type": "code",
   "execution_count": 65,
   "id": "7f3723b8",
   "metadata": {},
   "outputs": [],
   "source": [
    "class point:\n",
    "    def __init__(self,x,y):\n",
    "        self.x = x\n",
    "        self.y = y \n",
    "        \n",
    "    def __add__(self,other): #magic method\n",
    "        x = self.x + other.x\n",
    "        y = self.y + other.y\n",
    "        p = point(x,y)\n",
    "        return p\n",
    "        \n",
    "    def __repr__(self):\n",
    "        return f\"x = {self.x}, y = {self.y}\""
   ]
  },
  {
   "cell_type": "code",
   "execution_count": 66,
   "id": "94659818",
   "metadata": {},
   "outputs": [],
   "source": [
    "p1 = point(2,4)"
   ]
  },
  {
   "cell_type": "code",
   "execution_count": 67,
   "id": "8cc75b66",
   "metadata": {},
   "outputs": [
    {
     "name": "stdout",
     "output_type": "stream",
     "text": [
      "x = 2, y = 4\n"
     ]
    }
   ],
   "source": [
    "print(p1)"
   ]
  },
  {
   "cell_type": "code",
   "execution_count": 68,
   "id": "05ecf329",
   "metadata": {},
   "outputs": [],
   "source": [
    "p2 = point(4,8)"
   ]
  },
  {
   "cell_type": "code",
   "execution_count": 69,
   "id": "47d2895b",
   "metadata": {},
   "outputs": [
    {
     "data": {
      "text/plain": [
       "x = 4, y = 8"
      ]
     },
     "execution_count": 69,
     "metadata": {},
     "output_type": "execute_result"
    }
   ],
   "source": [
    "p2"
   ]
  },
  {
   "cell_type": "code",
   "execution_count": 70,
   "id": "5b22f80f",
   "metadata": {},
   "outputs": [
    {
     "data": {
      "text/plain": [
       "x = 6, y = 12"
      ]
     },
     "execution_count": 70,
     "metadata": {},
     "output_type": "execute_result"
    }
   ],
   "source": [
    "p1 + p2"
   ]
  },
  {
   "cell_type": "code",
   "execution_count": 71,
   "id": "14278eb4",
   "metadata": {},
   "outputs": [
    {
     "data": {
      "text/plain": [
       "['__add__',\n",
       " '__class__',\n",
       " '__delattr__',\n",
       " '__dict__',\n",
       " '__dir__',\n",
       " '__doc__',\n",
       " '__eq__',\n",
       " '__format__',\n",
       " '__ge__',\n",
       " '__getattribute__',\n",
       " '__gt__',\n",
       " '__hash__',\n",
       " '__init__',\n",
       " '__init_subclass__',\n",
       " '__le__',\n",
       " '__lt__',\n",
       " '__module__',\n",
       " '__ne__',\n",
       " '__new__',\n",
       " '__reduce__',\n",
       " '__reduce_ex__',\n",
       " '__repr__',\n",
       " '__setattr__',\n",
       " '__sizeof__',\n",
       " '__str__',\n",
       " '__subclasshook__',\n",
       " '__weakref__',\n",
       " 'x',\n",
       " 'y']"
      ]
     },
     "execution_count": 71,
     "metadata": {},
     "output_type": "execute_result"
    }
   ],
   "source": [
    "dir(p1)"
   ]
  },
  {
   "cell_type": "code",
   "execution_count": 72,
   "id": "f34b257b",
   "metadata": {},
   "outputs": [],
   "source": [
    "class point:\n",
    "    def __init__(self,x,y):\n",
    "        self.x = x\n",
    "        self.y = y \n",
    "        \n",
    "    def __sub__(self,other): #magic method\n",
    "        x = self.x - other.x\n",
    "        y = self.y - other.y\n",
    "        p = point(x,y)\n",
    "        return p\n",
    "        \n",
    "    def __repr__(self):\n",
    "        return f\"x = {self.x}, y = {self.y}\""
   ]
  },
  {
   "cell_type": "code",
   "execution_count": 73,
   "id": "11ebfaef",
   "metadata": {},
   "outputs": [],
   "source": [
    "p1 = point(10,20)\n",
    "p2 = point(5,10)"
   ]
  },
  {
   "cell_type": "code",
   "execution_count": 74,
   "id": "69c73c7d",
   "metadata": {},
   "outputs": [
    {
     "data": {
      "text/plain": [
       "x = 5, y = 10"
      ]
     },
     "execution_count": 74,
     "metadata": {},
     "output_type": "execute_result"
    }
   ],
   "source": [
    "p1-p2"
   ]
  },
  {
   "cell_type": "code",
   "execution_count": null,
   "id": "23c55968",
   "metadata": {},
   "outputs": [],
   "source": []
  }
 ],
 "metadata": {
  "kernelspec": {
   "display_name": "Python 3 (ipykernel)",
   "language": "python",
   "name": "python3"
  },
  "language_info": {
   "codemirror_mode": {
    "name": "ipython",
    "version": 3
   },
   "file_extension": ".py",
   "mimetype": "text/x-python",
   "name": "python",
   "nbconvert_exporter": "python",
   "pygments_lexer": "ipython3",
   "version": "3.9.16"
  }
 },
 "nbformat": 4,
 "nbformat_minor": 5
}
