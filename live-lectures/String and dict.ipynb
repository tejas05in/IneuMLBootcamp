{
 "cells": [
  {
   "cell_type": "code",
   "execution_count": 1,
   "id": "d0937b8f-a982-4211-afe3-b9fea435b4f5",
   "metadata": {},
   "outputs": [],
   "source": [
    "mystring = 'tejas'"
   ]
  },
  {
   "cell_type": "code",
   "execution_count": 2,
   "id": "cd1c9201-7538-4a24-877f-fc74f33f2afb",
   "metadata": {},
   "outputs": [
    {
     "name": "stdout",
     "output_type": "stream",
     "text": [
      "tejas\n"
     ]
    }
   ],
   "source": [
    "print(mystring)"
   ]
  },
  {
   "cell_type": "code",
   "execution_count": 3,
   "id": "5ace2f59-5ebe-4fb7-a804-ea7cbcd3f36a",
   "metadata": {},
   "outputs": [
    {
     "data": {
      "text/plain": [
       "'tejas'"
      ]
     },
     "execution_count": 3,
     "metadata": {},
     "output_type": "execute_result"
    }
   ],
   "source": [
    "mystring"
   ]
  },
  {
   "cell_type": "code",
   "execution_count": 4,
   "id": "cd1c6230-f7bc-4f37-bca6-97015581538b",
   "metadata": {},
   "outputs": [],
   "source": [
    "mystring1 = 'tejas'"
   ]
  },
  {
   "cell_type": "code",
   "execution_count": 5,
   "id": "a2bfe70d-ae1f-41a7-b2c6-7c14d83d7a7e",
   "metadata": {},
   "outputs": [
    {
     "data": {
      "text/plain": [
       "'tejas'"
      ]
     },
     "execution_count": 5,
     "metadata": {},
     "output_type": "execute_result"
    }
   ],
   "source": [
    "mystring1"
   ]
  },
  {
   "cell_type": "code",
   "execution_count": 6,
   "id": "07ad5497-22e3-4553-887b-5a7130411391",
   "metadata": {},
   "outputs": [],
   "source": [
    "mystring3 = '''i\n",
    "Love\n",
    "python\n",
    "'''"
   ]
  },
  {
   "cell_type": "code",
   "execution_count": 7,
   "id": "ca1188dc-e590-4386-9b5f-6fef644fafa2",
   "metadata": {},
   "outputs": [
    {
     "name": "stdout",
     "output_type": "stream",
     "text": [
      "i\n",
      "Love\n",
      "python\n",
      "\n"
     ]
    }
   ],
   "source": [
    "print(mystring3)"
   ]
  },
  {
   "cell_type": "code",
   "execution_count": 8,
   "id": "35434603-cb06-4f3e-90c3-5b42788a39bd",
   "metadata": {},
   "outputs": [
    {
     "data": {
      "text/plain": [
       "'i\\nLove\\npython\\n'"
      ]
     },
     "execution_count": 8,
     "metadata": {},
     "output_type": "execute_result"
    }
   ],
   "source": [
    "mystring3"
   ]
  },
  {
   "cell_type": "code",
   "execution_count": 9,
   "id": "25289998-6b14-4cae-8ba8-06026840e5e5",
   "metadata": {},
   "outputs": [],
   "source": [
    "mychar = 'A'"
   ]
  },
  {
   "cell_type": "code",
   "execution_count": 10,
   "id": "e1a781b6-0335-4540-abc7-9252357e90eb",
   "metadata": {},
   "outputs": [
    {
     "data": {
      "text/plain": [
       "str"
      ]
     },
     "execution_count": 10,
     "metadata": {},
     "output_type": "execute_result"
    }
   ],
   "source": [
    "type(mychar)"
   ]
  },
  {
   "cell_type": "code",
   "execution_count": 11,
   "id": "927d348b-618a-4601-bb2f-dfe0a96b4b40",
   "metadata": {},
   "outputs": [],
   "source": [
    "mystring4=\" \""
   ]
  },
  {
   "cell_type": "code",
   "execution_count": 12,
   "id": "4d6c97ed-1cba-44d9-965a-e43c5aa91d15",
   "metadata": {},
   "outputs": [
    {
     "name": "stdout",
     "output_type": "stream",
     "text": [
      " \n"
     ]
    }
   ],
   "source": [
    "print(mystring4)"
   ]
  },
  {
   "cell_type": "code",
   "execution_count": 13,
   "id": "f5e965f1-3e10-49ed-8aa6-f4ae8f082060",
   "metadata": {},
   "outputs": [],
   "source": [
    "mystring6='i love coding'"
   ]
  },
  {
   "cell_type": "code",
   "execution_count": 14,
   "id": "acc2a5f7-b9b4-4bab-a1a6-fc6f863d3090",
   "metadata": {},
   "outputs": [
    {
     "name": "stdout",
     "output_type": "stream",
     "text": [
      "v\n"
     ]
    }
   ],
   "source": [
    "print(mystring6[4])"
   ]
  },
  {
   "cell_type": "code",
   "execution_count": 15,
   "id": "60776461-63a9-4cf3-b265-4c20928c09f6",
   "metadata": {},
   "outputs": [
    {
     "data": {
      "text/plain": [
       "13"
      ]
     },
     "execution_count": 15,
     "metadata": {},
     "output_type": "execute_result"
    }
   ],
   "source": [
    "len(mystring6)"
   ]
  },
  {
   "cell_type": "code",
   "execution_count": 16,
   "id": "be006ae0-16fb-4f2a-8ceb-48ac25471640",
   "metadata": {},
   "outputs": [
    {
     "name": "stdout",
     "output_type": "stream",
     "text": [
      "v\n"
     ]
    }
   ],
   "source": [
    "print(mystring6[4])"
   ]
  },
  {
   "cell_type": "code",
   "execution_count": 17,
   "id": "71bf2d87-5b82-48c4-9d4e-3aca3435f8ca",
   "metadata": {},
   "outputs": [
    {
     "data": {
      "text/plain": [
       "'love'"
      ]
     },
     "execution_count": 17,
     "metadata": {},
     "output_type": "execute_result"
    }
   ],
   "source": [
    "mystring6[2:6]"
   ]
  },
  {
   "cell_type": "code",
   "execution_count": 18,
   "id": "7cd3b3af-99c2-4e78-b4c4-a20426dd3de0",
   "metadata": {},
   "outputs": [],
   "source": [
    "#take input from user and print it in reverse order\n",
    "#dont use slicing operator"
   ]
  },
  {
   "cell_type": "code",
   "execution_count": 19,
   "id": "9b7ff581-2522-4751-aaf0-b63c48d445bf",
   "metadata": {},
   "outputs": [
    {
     "name": "stdin",
     "output_type": "stream",
     "text": [
      "enter a string:  tejas\n"
     ]
    },
    {
     "name": "stdout",
     "output_type": "stream",
     "text": [
      "sajet"
     ]
    }
   ],
   "source": [
    "a = input(\"enter a string: \")\n",
    "for i in range(len(a)-1,-1,-1):\n",
    "    print(a[i],end=\"\")\n"
   ]
  },
  {
   "cell_type": "code",
   "execution_count": 20,
   "id": "eab8f77a-c5ad-47cb-bf97-cab6c2653909",
   "metadata": {},
   "outputs": [
    {
     "data": {
      "text/plain": [
       "[4, 3, 2, 1, 0]"
      ]
     },
     "execution_count": 20,
     "metadata": {},
     "output_type": "execute_result"
    }
   ],
   "source": [
    "list(range(len(a)-1,-1,-1))"
   ]
  },
  {
   "cell_type": "code",
   "execution_count": 21,
   "id": "a86d4d31-72a1-4b8b-a683-9dfd0d68bde2",
   "metadata": {},
   "outputs": [],
   "source": [
    "# + operator for concatenation"
   ]
  },
  {
   "cell_type": "code",
   "execution_count": 22,
   "id": "90d0c548-50af-4d03-8e08-8bd8709232bd",
   "metadata": {},
   "outputs": [
    {
     "data": {
      "text/plain": [
       "'tejas naidu'"
      ]
     },
     "execution_count": 22,
     "metadata": {},
     "output_type": "execute_result"
    }
   ],
   "source": [
    "\"tejas\"+\" \"+\"naidu\""
   ]
  },
  {
   "cell_type": "code",
   "execution_count": 23,
   "id": "fff679db-53f4-458e-97cf-f06d9d6090df",
   "metadata": {},
   "outputs": [
    {
     "data": {
      "text/plain": [
       "'byebyebye'"
      ]
     },
     "execution_count": 23,
     "metadata": {},
     "output_type": "execute_result"
    }
   ],
   "source": [
    "\"bye\"*3"
   ]
  },
  {
   "cell_type": "code",
   "execution_count": 24,
   "id": "e4b6844f-db5e-4248-99e3-8ae396dc1867",
   "metadata": {},
   "outputs": [
    {
     "data": {
      "text/plain": [
       "'banana'"
      ]
     },
     "execution_count": 24,
     "metadata": {},
     "output_type": "execute_result"
    }
   ],
   "source": [
    "\"ba\"+'na'*2"
   ]
  },
  {
   "cell_type": "code",
   "execution_count": 25,
   "id": "3f297898-e878-49c6-b004-b592798430a1",
   "metadata": {},
   "outputs": [],
   "source": [
    "mystring =\"i love my india\""
   ]
  },
  {
   "cell_type": "code",
   "execution_count": 26,
   "id": "eacc1947-bd02-42f1-82ff-3b38e18c010b",
   "metadata": {},
   "outputs": [
    {
     "data": {
      "text/plain": [
       "True"
      ]
     },
     "execution_count": 26,
     "metadata": {},
     "output_type": "execute_result"
    }
   ],
   "source": [
    "'love' in mystring"
   ]
  },
  {
   "cell_type": "code",
   "execution_count": 27,
   "id": "dc56ed99-8259-499f-930c-82a804beee02",
   "metadata": {},
   "outputs": [
    {
     "data": {
      "text/plain": [
       "True"
      ]
     },
     "execution_count": 27,
     "metadata": {},
     "output_type": "execute_result"
    }
   ],
   "source": [
    "\"india\" in mystring"
   ]
  },
  {
   "cell_type": "code",
   "execution_count": 28,
   "id": "bbc2b8e4-2e6d-401a-a538-537a8e16562e",
   "metadata": {},
   "outputs": [
    {
     "data": {
      "text/plain": [
       "False"
      ]
     },
     "execution_count": 28,
     "metadata": {},
     "output_type": "execute_result"
    }
   ],
   "source": [
    "\"you\" in mystring"
   ]
  },
  {
   "cell_type": "code",
   "execution_count": 29,
   "id": "4a77cbca-c1dc-4b6f-8974-e78250e13318",
   "metadata": {},
   "outputs": [
    {
     "data": {
      "text/plain": [
       "True"
      ]
     },
     "execution_count": 29,
     "metadata": {},
     "output_type": "execute_result"
    }
   ],
   "source": [
    "\" \" in mystring"
   ]
  },
  {
   "cell_type": "code",
   "execution_count": 30,
   "id": "116531a6-9fca-4e33-b761-9c5cacdbdc40",
   "metadata": {},
   "outputs": [
    {
     "data": {
      "text/plain": [
       "True"
      ]
     },
     "execution_count": 30,
     "metadata": {},
     "output_type": "execute_result"
    }
   ],
   "source": [
    "\"\" in mystring"
   ]
  },
  {
   "cell_type": "code",
   "execution_count": 31,
   "id": "5e5e7424-617a-4f9f-96ea-8ee5280f194c",
   "metadata": {},
   "outputs": [
    {
     "data": {
      "text/plain": [
       "True"
      ]
     },
     "execution_count": 31,
     "metadata": {},
     "output_type": "execute_result"
    }
   ],
   "source": [
    "'hindustan' not in mystring"
   ]
  },
  {
   "cell_type": "code",
   "execution_count": 32,
   "id": "505befab-37f7-4e62-ada3-38a6125fd1d0",
   "metadata": {},
   "outputs": [
    {
     "data": {
      "text/plain": [
       "False"
      ]
     },
     "execution_count": 32,
     "metadata": {},
     "output_type": "execute_result"
    }
   ],
   "source": [
    "\"tim\" =='tie'"
   ]
  },
  {
   "cell_type": "code",
   "execution_count": 33,
   "id": "ee64e3cb-fd05-4789-bda3-cd86184410d9",
   "metadata": {},
   "outputs": [
    {
     "data": {
      "text/plain": [
       "True"
      ]
     },
     "execution_count": 33,
     "metadata": {},
     "output_type": "execute_result"
    }
   ],
   "source": [
    "\"free\" != \"freedom\""
   ]
  },
  {
   "cell_type": "code",
   "execution_count": 34,
   "id": "746077af-2b5e-46d3-a128-41173e71ce73",
   "metadata": {},
   "outputs": [
    {
     "data": {
      "text/plain": [
       "True"
      ]
     },
     "execution_count": 34,
     "metadata": {},
     "output_type": "execute_result"
    }
   ],
   "source": [
    "\"arrow\" > \"aron\""
   ]
  },
  {
   "cell_type": "code",
   "execution_count": 35,
   "id": "bffb5300-36d5-4ba4-9d76-2b90fe0f0f7e",
   "metadata": {},
   "outputs": [
    {
     "data": {
      "text/plain": [
       "True"
      ]
     },
     "execution_count": 35,
     "metadata": {},
     "output_type": "execute_result"
    }
   ],
   "source": [
    "\"right\" >= \"left\""
   ]
  },
  {
   "cell_type": "code",
   "execution_count": 36,
   "id": "f6347b09-912e-4a0f-9b7f-ca3cd6e87d14",
   "metadata": {},
   "outputs": [
    {
     "data": {
      "text/plain": [
       "False"
      ]
     },
     "execution_count": 36,
     "metadata": {},
     "output_type": "execute_result"
    }
   ],
   "source": [
    "\"teeth\" < \"tee\""
   ]
  },
  {
   "cell_type": "code",
   "execution_count": 37,
   "id": "11b4affd-54ad-440a-b42c-f9912a627940",
   "metadata": {},
   "outputs": [
    {
     "data": {
      "text/plain": [
       "False"
      ]
     },
     "execution_count": 37,
     "metadata": {},
     "output_type": "execute_result"
    }
   ],
   "source": [
    "\"yellow\" <= \"fellow\""
   ]
  },
  {
   "cell_type": "code",
   "execution_count": 38,
   "id": "397d3492-1e6f-40a3-a9a8-53d164154119",
   "metadata": {},
   "outputs": [
    {
     "data": {
      "text/plain": [
       "True"
      ]
     },
     "execution_count": 38,
     "metadata": {},
     "output_type": "execute_result"
    }
   ],
   "source": [
    "\"abc\" > \" \""
   ]
  },
  {
   "cell_type": "markdown",
   "id": "5d7ff094-80e1-4969-8076-1e99a4b00224",
   "metadata": {},
   "source": [
    "is and is not"
   ]
  },
  {
   "cell_type": "code",
   "execution_count": 39,
   "id": "57a560b7-3932-4dba-85b7-4d7374d0230d",
   "metadata": {},
   "outputs": [],
   "source": [
    "a = \"tejas\"\n",
    "b = \"tejas\""
   ]
  },
  {
   "cell_type": "code",
   "execution_count": 40,
   "id": "baa51e9f-288b-4f77-b15f-553ae090dde0",
   "metadata": {},
   "outputs": [
    {
     "data": {
      "text/plain": [
       "True"
      ]
     },
     "execution_count": 40,
     "metadata": {},
     "output_type": "execute_result"
    }
   ],
   "source": [
    "a is b"
   ]
  },
  {
   "cell_type": "code",
   "execution_count": 41,
   "id": "56d45c59-9753-4860-af29-365b26cc16ee",
   "metadata": {},
   "outputs": [],
   "source": [
    "c = 'savitah'"
   ]
  },
  {
   "cell_type": "code",
   "execution_count": 42,
   "id": "de2cecb3-9d04-4864-8462-8c8e030be43e",
   "metadata": {},
   "outputs": [
    {
     "data": {
      "text/plain": [
       "False"
      ]
     },
     "execution_count": 42,
     "metadata": {},
     "output_type": "execute_result"
    }
   ],
   "source": [
    "a is c"
   ]
  },
  {
   "cell_type": "code",
   "execution_count": 43,
   "id": "d61d56b1-be7c-4801-a65a-d3d915dbb4bc",
   "metadata": {},
   "outputs": [
    {
     "data": {
      "text/plain": [
       "True"
      ]
     },
     "execution_count": 43,
     "metadata": {},
     "output_type": "execute_result"
    }
   ],
   "source": [
    "a is not c"
   ]
  },
  {
   "cell_type": "code",
   "execution_count": 44,
   "id": "06f04243-f5ea-4625-bb15-8d576a0718cc",
   "metadata": {},
   "outputs": [],
   "source": [
    "# functions in string"
   ]
  },
  {
   "cell_type": "code",
   "execution_count": 45,
   "id": "0af0a7bd-aace-4792-a07d-d4d4862bfd35",
   "metadata": {},
   "outputs": [],
   "source": [
    "# len()\n",
    "# max()\n",
    "# min()\n",
    "# del()\n",
    "#chr()\n",
    "#ord()"
   ]
  },
  {
   "cell_type": "code",
   "execution_count": 46,
   "id": "9ff82988-c949-4ed5-b9fd-8f5019fda8fa",
   "metadata": {},
   "outputs": [],
   "source": [
    "mystring = \"tejasnaidu\""
   ]
  },
  {
   "cell_type": "code",
   "execution_count": 47,
   "id": "ec6a70aa-2274-4c66-90ee-50ec84f0672a",
   "metadata": {},
   "outputs": [
    {
     "data": {
      "text/plain": [
       "10"
      ]
     },
     "execution_count": 47,
     "metadata": {},
     "output_type": "execute_result"
    }
   ],
   "source": [
    "len(mystring)"
   ]
  },
  {
   "cell_type": "code",
   "execution_count": 48,
   "id": "13f0ba14-8d79-4f68-8087-fc99b5f8487e",
   "metadata": {},
   "outputs": [
    {
     "data": {
      "text/plain": [
       "'u'"
      ]
     },
     "execution_count": 48,
     "metadata": {},
     "output_type": "execute_result"
    }
   ],
   "source": [
    "max(mystring)"
   ]
  },
  {
   "cell_type": "code",
   "execution_count": 49,
   "id": "901786d7-a92f-49b7-b68e-16f889352d91",
   "metadata": {},
   "outputs": [
    {
     "data": {
      "text/plain": [
       "'a'"
      ]
     },
     "execution_count": 49,
     "metadata": {},
     "output_type": "execute_result"
    }
   ],
   "source": [
    "min(mystring)"
   ]
  },
  {
   "cell_type": "code",
   "execution_count": 50,
   "id": "a18b73ca-137a-4039-bb92-631901c24c2b",
   "metadata": {},
   "outputs": [
    {
     "data": {
      "text/plain": [
       "43"
      ]
     },
     "execution_count": 50,
     "metadata": {},
     "output_type": "execute_result"
    }
   ],
   "source": [
    "ord(\"+\")"
   ]
  },
  {
   "cell_type": "code",
   "execution_count": 51,
   "id": "f517805b-859e-480c-8520-7ea439ef1f3c",
   "metadata": {},
   "outputs": [
    {
     "data": {
      "text/plain": [
       "48"
      ]
     },
     "execution_count": 51,
     "metadata": {},
     "output_type": "execute_result"
    }
   ],
   "source": [
    "ord(\"0\")"
   ]
  },
  {
   "cell_type": "code",
   "execution_count": 52,
   "id": "0995c7aa-b09a-40cf-83ba-132e2dfb9bc4",
   "metadata": {},
   "outputs": [
    {
     "data": {
      "text/plain": [
       "53"
      ]
     },
     "execution_count": 52,
     "metadata": {},
     "output_type": "execute_result"
    }
   ],
   "source": [
    "ord('5')"
   ]
  },
  {
   "cell_type": "code",
   "execution_count": 53,
   "id": "06550419-cd39-418f-b3ff-9caeeb69d879",
   "metadata": {},
   "outputs": [
    {
     "data": {
      "text/plain": [
       "'+'"
      ]
     },
     "execution_count": 53,
     "metadata": {},
     "output_type": "execute_result"
    }
   ],
   "source": [
    "chr(43)"
   ]
  },
  {
   "cell_type": "code",
   "execution_count": 54,
   "id": "29c75cdd-8945-4183-b1cc-be8cc42ce3bf",
   "metadata": {},
   "outputs": [
    {
     "data": {
      "text/plain": [
       "'5'"
      ]
     },
     "execution_count": 54,
     "metadata": {},
     "output_type": "execute_result"
    }
   ],
   "source": [
    "chr(53)"
   ]
  },
  {
   "cell_type": "code",
   "execution_count": 55,
   "id": "52112a60-675d-4377-9688-2fb5a97a38bc",
   "metadata": {},
   "outputs": [
    {
     "data": {
      "text/plain": [
       "'n'"
      ]
     },
     "execution_count": 55,
     "metadata": {},
     "output_type": "execute_result"
    }
   ],
   "source": [
    "chr(110)"
   ]
  },
  {
   "cell_type": "markdown",
   "id": "118d0539-0947-4503-ae31-a7eadd72bb68",
   "metadata": {},
   "source": [
    "# methods of string"
   ]
  },
  {
   "cell_type": "code",
   "execution_count": 57,
   "id": "d3c91a5a-13cd-48e0-9f9c-574994724bc6",
   "metadata": {},
   "outputs": [],
   "source": [
    "# capitalize: Returns the copy of the string with first char capital"
   ]
  },
  {
   "cell_type": "code",
   "execution_count": 58,
   "id": "eb567a57-a17b-487f-9083-178346bb2f46",
   "metadata": {},
   "outputs": [
    {
     "data": {
      "text/plain": [
       "'Guido van rossum'"
      ]
     },
     "execution_count": 58,
     "metadata": {},
     "output_type": "execute_result"
    }
   ],
   "source": [
    "name = \"guido van rossum\"\n",
    "newname = name.capitalize()\n",
    "newname"
   ]
  },
  {
   "cell_type": "code",
   "execution_count": 59,
   "id": "8acbc89a-205e-4fec-b85d-3c5dd5873876",
   "metadata": {},
   "outputs": [
    {
     "data": {
      "text/plain": [
       "'GUIDO VAN ROSSUM'"
      ]
     },
     "execution_count": 59,
     "metadata": {},
     "output_type": "execute_result"
    }
   ],
   "source": [
    "name.upper()"
   ]
  },
  {
   "cell_type": "code",
   "execution_count": 60,
   "id": "2fda9e8b-f114-45a1-8fcc-7bc8e93bb9f3",
   "metadata": {},
   "outputs": [
    {
     "data": {
      "text/plain": [
       "'guido van rossum'"
      ]
     },
     "execution_count": 60,
     "metadata": {},
     "output_type": "execute_result"
    }
   ],
   "source": [
    "name.lower()"
   ]
  },
  {
   "cell_type": "code",
   "execution_count": 61,
   "id": "f0b07793-0233-467c-93e3-13fb57dd8106",
   "metadata": {},
   "outputs": [],
   "source": [
    "name = 'tejas naidu'"
   ]
  },
  {
   "cell_type": "code",
   "execution_count": 62,
   "id": "e5ee2047-afc0-4e31-85fc-be0f505a2566",
   "metadata": {},
   "outputs": [
    {
     "data": {
      "text/plain": [
       "'tejas naidu'"
      ]
     },
     "execution_count": 62,
     "metadata": {},
     "output_type": "execute_result"
    }
   ],
   "source": [
    "name.lower()"
   ]
  },
  {
   "cell_type": "code",
   "execution_count": 63,
   "id": "409f0537-b356-4eec-af2a-3c37170ac3c1",
   "metadata": {},
   "outputs": [
    {
     "data": {
      "text/plain": [
       "'TEJAS NAIDU'"
      ]
     },
     "execution_count": 63,
     "metadata": {},
     "output_type": "execute_result"
    }
   ],
   "source": [
    "name.upper()"
   ]
  },
  {
   "cell_type": "code",
   "execution_count": 64,
   "id": "aca9b1b0-c19a-4565-bc3e-2a52e991995c",
   "metadata": {},
   "outputs": [],
   "source": [
    "name = 'Tejas Naidu'"
   ]
  },
  {
   "cell_type": "code",
   "execution_count": 65,
   "id": "4c5bf473-e06e-40da-977a-619eb2e59643",
   "metadata": {},
   "outputs": [
    {
     "data": {
      "text/plain": [
       "'tEJAS nAIDU'"
      ]
     },
     "execution_count": 65,
     "metadata": {},
     "output_type": "execute_result"
    }
   ],
   "source": [
    "name.swapcase()"
   ]
  },
  {
   "cell_type": "code",
   "execution_count": 66,
   "id": "a8086e11-cf37-4652-9b1a-12d609d32de8",
   "metadata": {},
   "outputs": [],
   "source": [
    "name = 'tEJAS nAIDU'"
   ]
  },
  {
   "cell_type": "code",
   "execution_count": 67,
   "id": "04cefded-2047-4e24-a06c-3b36910708eb",
   "metadata": {},
   "outputs": [
    {
     "data": {
      "text/plain": [
       "'Tejas Naidu'"
      ]
     },
     "execution_count": 67,
     "metadata": {},
     "output_type": "execute_result"
    }
   ],
   "source": [
    "name.swapcase()"
   ]
  },
  {
   "cell_type": "code",
   "execution_count": 70,
   "id": "8f1ac46a-30d5-4b98-9420-213644a54d83",
   "metadata": {},
   "outputs": [],
   "source": [
    "mystring = 'i love python'"
   ]
  },
  {
   "cell_type": "code",
   "execution_count": 72,
   "id": "c8809205-9c57-44dc-8811-477fb413d1cd",
   "metadata": {},
   "outputs": [
    {
     "data": {
      "text/plain": [
       "'I Love Python'"
      ]
     },
     "execution_count": 72,
     "metadata": {},
     "output_type": "execute_result"
    }
   ],
   "source": [
    "mystring.title()"
   ]
  },
  {
   "cell_type": "code",
   "execution_count": 73,
   "id": "642bbe72-aa15-4d25-b56a-2d6f85a5e621",
   "metadata": {},
   "outputs": [
    {
     "data": {
      "text/plain": [
       "True"
      ]
     },
     "execution_count": 73,
     "metadata": {},
     "output_type": "execute_result"
    }
   ],
   "source": [
    "mystring.islower()"
   ]
  },
  {
   "cell_type": "code",
   "execution_count": 74,
   "id": "ede508b1-7471-4914-b260-132a2944c965",
   "metadata": {},
   "outputs": [
    {
     "data": {
      "text/plain": [
       "False"
      ]
     },
     "execution_count": 74,
     "metadata": {},
     "output_type": "execute_result"
    }
   ],
   "source": [
    "mystring.isupper()"
   ]
  },
  {
   "cell_type": "code",
   "execution_count": 75,
   "id": "cb6b3e38-c3b1-482c-a4a6-95afb59ab66b",
   "metadata": {},
   "outputs": [],
   "source": [
    "test =\"this is good\""
   ]
  },
  {
   "cell_type": "code",
   "execution_count": 76,
   "id": "f22b6c2d-336d-477a-b161-6f086189d99b",
   "metadata": {},
   "outputs": [
    {
     "data": {
      "text/plain": [
       "True"
      ]
     },
     "execution_count": 76,
     "metadata": {},
     "output_type": "execute_result"
    }
   ],
   "source": [
    "test.islower()"
   ]
  },
  {
   "cell_type": "code",
   "execution_count": 77,
   "id": "ffed6bcc-65d3-488a-b5ed-0e22a1efb761",
   "metadata": {},
   "outputs": [
    {
     "data": {
      "text/plain": [
       "False"
      ]
     },
     "execution_count": 77,
     "metadata": {},
     "output_type": "execute_result"
    }
   ],
   "source": [
    "test.isupper()"
   ]
  },
  {
   "cell_type": "code",
   "execution_count": 81,
   "id": "a636b884-8c95-49a6-bf73-4bb75acb4061",
   "metadata": {},
   "outputs": [],
   "source": [
    "text='I LOVE PYTHON'"
   ]
  },
  {
   "cell_type": "code",
   "execution_count": 82,
   "id": "6751ae8b-6e45-4f21-aa4e-9c065489d631",
   "metadata": {},
   "outputs": [
    {
     "data": {
      "text/plain": [
       "True"
      ]
     },
     "execution_count": 82,
     "metadata": {},
     "output_type": "execute_result"
    }
   ],
   "source": [
    "text.isupper()"
   ]
  },
  {
   "cell_type": "code",
   "execution_count": 83,
   "id": "b9c4e2fb-514c-46cb-8318-5f73914592b1",
   "metadata": {},
   "outputs": [
    {
     "data": {
      "text/plain": [
       "False"
      ]
     },
     "execution_count": 83,
     "metadata": {},
     "output_type": "execute_result"
    }
   ],
   "source": [
    "text.isalpha()"
   ]
  },
  {
   "cell_type": "code",
   "execution_count": 84,
   "id": "60804252-ff50-4cc5-9ca0-2a5bce038b9a",
   "metadata": {},
   "outputs": [],
   "source": [
    "text = 'ILOVEPYTHON'"
   ]
  },
  {
   "cell_type": "code",
   "execution_count": 86,
   "id": "e9f80230-f0f2-4e98-9740-b83c444e8c0f",
   "metadata": {},
   "outputs": [
    {
     "data": {
      "text/plain": [
       "True"
      ]
     },
     "execution_count": 86,
     "metadata": {},
     "output_type": "execute_result"
    }
   ],
   "source": [
    "#there should not be any white space\n",
    "text.isalpha()"
   ]
  },
  {
   "cell_type": "code",
   "execution_count": 87,
   "id": "eb6bee70-3782-462e-8183-fbe076a8766f",
   "metadata": {},
   "outputs": [],
   "source": [
    "text = \"1234567890\""
   ]
  },
  {
   "cell_type": "code",
   "execution_count": 88,
   "id": "416c405b-8bf8-4dc2-aa10-c5e9da491c71",
   "metadata": {},
   "outputs": [
    {
     "data": {
      "text/plain": [
       "True"
      ]
     },
     "execution_count": 88,
     "metadata": {},
     "output_type": "execute_result"
    }
   ],
   "source": [
    "text.isdigit()"
   ]
  },
  {
   "cell_type": "code",
   "execution_count": 89,
   "id": "4885e2fb-e5b8-4906-bb09-a17c273d1300",
   "metadata": {},
   "outputs": [
    {
     "data": {
      "text/plain": [
       "False"
      ]
     },
     "execution_count": 89,
     "metadata": {},
     "output_type": "execute_result"
    }
   ],
   "source": [
    "test.isalnum()"
   ]
  },
  {
   "cell_type": "code",
   "execution_count": 102,
   "id": "a09ea599-508e-4318-8825-91b89b61560f",
   "metadata": {},
   "outputs": [],
   "source": [
    "mystring='tejas123'\n",
    "mystring1 = 'tejas'\n",
    "mystring2 = '12345'\n",
    "mystring3= '12345tejas 123naidu'\n",
    "mystring4 = 'tejaskakjs$%'"
   ]
  },
  {
   "cell_type": "code",
   "execution_count": 104,
   "id": "9b7092ae-6165-4bde-a568-bf3332768b65",
   "metadata": {},
   "outputs": [
    {
     "name": "stdout",
     "output_type": "stream",
     "text": [
      "True\n",
      "True\n",
      "True\n",
      "False\n",
      "False\n"
     ]
    }
   ],
   "source": [
    "#must have only aphabets and numbers(either is ok)\n",
    "print(mystring.isalnum())\n",
    "print(mystring1.isalnum())\n",
    "print(mystring2.isalnum())\n",
    "print(mystring3.isalnum())\n",
    "print(mystring4.isalnum())"
   ]
  },
  {
   "cell_type": "code",
   "execution_count": 113,
   "id": "81a6465d-d579-42f1-b5db-81c51055aa17",
   "metadata": {},
   "outputs": [],
   "source": [
    "string1 = ' '"
   ]
  },
  {
   "cell_type": "code",
   "execution_count": 114,
   "id": "e34983af-c0c5-4ead-93b2-87ae606a8972",
   "metadata": {},
   "outputs": [
    {
     "data": {
      "text/plain": [
       "True"
      ]
     },
     "execution_count": 114,
     "metadata": {},
     "output_type": "execute_result"
    }
   ],
   "source": [
    "string1.isspace()"
   ]
  },
  {
   "cell_type": "code",
   "execution_count": 115,
   "id": "3f49cf3f-5b42-4c48-8a78-49e8afcfbfac",
   "metadata": {},
   "outputs": [],
   "source": [
    "string = 'T '"
   ]
  },
  {
   "cell_type": "code",
   "execution_count": 116,
   "id": "fdf44536-b9c3-457a-af49-4685068a7524",
   "metadata": {},
   "outputs": [
    {
     "data": {
      "text/plain": [
       "False"
      ]
     },
     "execution_count": 116,
     "metadata": {},
     "output_type": "execute_result"
    }
   ],
   "source": [
    "string.isspace()"
   ]
  },
  {
   "cell_type": "code",
   "execution_count": 117,
   "id": "947e14da-0788-4e6e-9882-c8ba0114b4e3",
   "metadata": {},
   "outputs": [],
   "source": [
    "string2=\"\""
   ]
  },
  {
   "cell_type": "code",
   "execution_count": 118,
   "id": "3e82e4c4-1b86-43e5-8537-f950a009f14c",
   "metadata": {},
   "outputs": [
    {
     "data": {
      "text/plain": [
       "False"
      ]
     },
     "execution_count": 118,
     "metadata": {},
     "output_type": "execute_result"
    }
   ],
   "source": [
    "string2.isspace()"
   ]
  },
  {
   "cell_type": "code",
   "execution_count": 119,
   "id": "3386b8bd-a19a-4fcc-b719-52e68f8082b9",
   "metadata": {},
   "outputs": [],
   "source": [
    "text = 'i love machine learning'"
   ]
  },
  {
   "cell_type": "code",
   "execution_count": 120,
   "id": "f46066b8-b41f-4484-8945-d32caffd1f0d",
   "metadata": {},
   "outputs": [
    {
     "data": {
      "text/plain": [
       "False"
      ]
     },
     "execution_count": 120,
     "metadata": {},
     "output_type": "execute_result"
    }
   ],
   "source": [
    "text.startswith('love')"
   ]
  },
  {
   "cell_type": "code",
   "execution_count": 121,
   "id": "a803b42f-d1ec-4089-80f6-1c38d76aebda",
   "metadata": {},
   "outputs": [
    {
     "data": {
      "text/plain": [
       "True"
      ]
     },
     "execution_count": 121,
     "metadata": {},
     "output_type": "execute_result"
    }
   ],
   "source": [
    "text.startswith('i')"
   ]
  },
  {
   "cell_type": "code",
   "execution_count": 122,
   "id": "77ca9cda-5888-4b74-a9ab-1b020ad0d5e2",
   "metadata": {},
   "outputs": [
    {
     "data": {
      "text/plain": [
       "False"
      ]
     },
     "execution_count": 122,
     "metadata": {},
     "output_type": "execute_result"
    }
   ],
   "source": [
    "text.endswith('machine')"
   ]
  },
  {
   "cell_type": "code",
   "execution_count": 124,
   "id": "e5c1627a-3d6c-4e68-a6b3-5f4c4db50ec1",
   "metadata": {},
   "outputs": [
    {
     "data": {
      "text/plain": [
       "True"
      ]
     },
     "execution_count": 124,
     "metadata": {},
     "output_type": "execute_result"
    }
   ],
   "source": [
    "text.endswith('g')"
   ]
  },
  {
   "cell_type": "code",
   "execution_count": 125,
   "id": "2d7d623b-ff06-40e8-bdf9-887da8ba3197",
   "metadata": {},
   "outputs": [],
   "source": [
    "text = 'sunday is fun day'"
   ]
  },
  {
   "cell_type": "code",
   "execution_count": 126,
   "id": "e88c34e5-5386-4c75-8bee-5689e405887a",
   "metadata": {},
   "outputs": [
    {
     "data": {
      "text/plain": [
       "7"
      ]
     },
     "execution_count": 126,
     "metadata": {},
     "output_type": "execute_result"
    }
   ],
   "source": [
    "text.index('is')"
   ]
  },
  {
   "cell_type": "code",
   "execution_count": 127,
   "id": "0d3013bd-6c57-4c6e-b31a-0105878a2821",
   "metadata": {},
   "outputs": [
    {
     "data": {
      "text/plain": [
       "10"
      ]
     },
     "execution_count": 127,
     "metadata": {},
     "output_type": "execute_result"
    }
   ],
   "source": [
    "text.index('fun')"
   ]
  },
  {
   "cell_type": "code",
   "execution_count": 131,
   "id": "68234ef8-aff5-47a7-aed0-e6a15b641d7d",
   "metadata": {},
   "outputs": [
    {
     "data": {
      "text/plain": [
       "3"
      ]
     },
     "execution_count": 131,
     "metadata": {},
     "output_type": "execute_result"
    }
   ],
   "source": [
    "#first occrance only\n",
    "text.index('day')"
   ]
  },
  {
   "cell_type": "code",
   "execution_count": 136,
   "id": "cd637a72-5f55-419b-891d-d94a29db6b30",
   "metadata": {},
   "outputs": [],
   "source": [
    "text  = \"python is awesome. is'nt it? it is true\""
   ]
  },
  {
   "cell_type": "code",
   "execution_count": 137,
   "id": "1621457f-6ce2-4c83-8558-fd5d8aff1ac3",
   "metadata": {},
   "outputs": [
    {
     "data": {
      "text/plain": [
       "3"
      ]
     },
     "execution_count": 137,
     "metadata": {},
     "output_type": "execute_result"
    }
   ],
   "source": [
    "text.count('is')"
   ]
  },
  {
   "cell_type": "code",
   "execution_count": 139,
   "id": "78472a78-4c75-492f-9170-bb818b1958a9",
   "metadata": {},
   "outputs": [
    {
     "data": {
      "text/plain": [
       "['i', 'love', 'my', 'india']"
      ]
     },
     "execution_count": 139,
     "metadata": {},
     "output_type": "execute_result"
    }
   ],
   "source": [
    "\"i@love@my@india\".split('@')"
   ]
  },
  {
   "cell_type": "code",
   "execution_count": 140,
   "id": "dd1be0b9-67b9-414d-9520-eeebe7b516c0",
   "metadata": {},
   "outputs": [],
   "source": [
    "#join"
   ]
  },
  {
   "cell_type": "code",
   "execution_count": 144,
   "id": "eb83946a-a118-465c-92b4-61b9a3b2cde0",
   "metadata": {},
   "outputs": [
    {
     "data": {
      "text/plain": [
       "'s@u@n@n@y'"
      ]
     },
     "execution_count": 144,
     "metadata": {},
     "output_type": "execute_result"
    }
   ],
   "source": [
    "\"@\".join(['s','u','n','n','y'])"
   ]
  },
  {
   "cell_type": "code",
   "execution_count": 145,
   "id": "7a37f0d8-3008-4eb6-9420-366e474a1f37",
   "metadata": {},
   "outputs": [
    {
     "data": {
      "text/plain": [
       "'t@e@j@a@s'"
      ]
     },
     "execution_count": 145,
     "metadata": {},
     "output_type": "execute_result"
    }
   ],
   "source": [
    "\"@\".join('tejas')"
   ]
  },
  {
   "cell_type": "code",
   "execution_count": 146,
   "id": "272a07b3-9822-4761-be7c-276893f65934",
   "metadata": {},
   "outputs": [
    {
     "data": {
      "text/plain": [
       "'t@e@j@a@s'"
      ]
     },
     "execution_count": 146,
     "metadata": {},
     "output_type": "execute_result"
    }
   ],
   "source": [
    "'@'.join(('tejas'))"
   ]
  },
  {
   "cell_type": "code",
   "execution_count": 147,
   "id": "b660ee09-ab1d-40e3-a7e9-99db71257bc7",
   "metadata": {},
   "outputs": [],
   "source": [
    "name = 'tejas'\n",
    "age = 38"
   ]
  },
  {
   "cell_type": "code",
   "execution_count": 148,
   "id": "3c6e0262-e193-414d-9b78-7132f22db0d3",
   "metadata": {},
   "outputs": [
    {
     "name": "stdout",
     "output_type": "stream",
     "text": [
      "My name is tejas and my age is 38\n"
     ]
    }
   ],
   "source": [
    "print(\"My name is\",name,\"and my age is\",age)"
   ]
  },
  {
   "cell_type": "code",
   "execution_count": 149,
   "id": "5b8e4d07-550b-4fb2-85a3-f26538b6aa7e",
   "metadata": {},
   "outputs": [
    {
     "name": "stdout",
     "output_type": "stream",
     "text": [
      "My name is tejas and my age is 38\n"
     ]
    }
   ],
   "source": [
    "print(\"My name is {} and my age is {}\".format(name,age))"
   ]
  },
  {
   "cell_type": "code",
   "execution_count": 151,
   "id": "504b1f64-9679-4ebd-a8b2-6043a18d377d",
   "metadata": {},
   "outputs": [
    {
     "name": "stdout",
     "output_type": "stream",
     "text": [
      "My name is tejas and my age is 38\n"
     ]
    }
   ],
   "source": [
    "print(\"My name is %s and my age is %d\"%(name,age))"
   ]
  },
  {
   "cell_type": "code",
   "execution_count": 153,
   "id": "34764ae5-f5b5-4776-9827-fc7f95ece408",
   "metadata": {},
   "outputs": [],
   "source": [
    "# fstring\n",
    "#or string intrerpolation"
   ]
  },
  {
   "cell_type": "code",
   "execution_count": 155,
   "id": "df0f1a15-ddee-4f7b-8c2f-9af642551716",
   "metadata": {},
   "outputs": [
    {
     "name": "stdout",
     "output_type": "stream",
     "text": [
      "my name is tejas my age is 38\n"
     ]
    }
   ],
   "source": [
    "#time complexity is very less for this\n",
    "print(f\"my name is {name} my age is {age}\")"
   ]
  },
  {
   "cell_type": "code",
   "execution_count": 158,
   "id": "ee4608f6-6640-48dd-9414-f020ca1214a0",
   "metadata": {},
   "outputs": [
    {
     "name": "stdout",
     "output_type": "stream",
     "text": [
      "the max between 10 and 20 is 20\n"
     ]
    }
   ],
   "source": [
    "a = 10\n",
    "b = 20\n",
    "\n",
    "print(f\"the max between {a} and {b} is {max(a,b)}\")"
   ]
  },
  {
   "cell_type": "markdown",
   "id": "2dc51d6e-346e-44e1-a635-f82bc2e60d64",
   "metadata": {},
   "source": [
    "# dictionary"
   ]
  },
  {
   "cell_type": "code",
   "execution_count": 162,
   "id": "051faae7-3657-458b-938c-8cf21dac2f73",
   "metadata": {},
   "outputs": [],
   "source": [
    "l = []\n",
    "t =()\n",
    "s = {}\n",
    "string = ''\n",
    "d = {}"
   ]
  },
  {
   "cell_type": "code",
   "execution_count": 164,
   "id": "1af7e2ac-d0c7-487b-9d3f-277b76f57b4e",
   "metadata": {},
   "outputs": [],
   "source": [
    "mydict = {}"
   ]
  },
  {
   "cell_type": "code",
   "execution_count": 165,
   "id": "8442a31d-3506-4f6b-9d84-9fb5ba79acd5",
   "metadata": {},
   "outputs": [
    {
     "data": {
      "text/plain": [
       "dict"
      ]
     },
     "execution_count": 165,
     "metadata": {},
     "output_type": "execute_result"
    }
   ],
   "source": [
    "type(mydict)"
   ]
  },
  {
   "cell_type": "code",
   "execution_count": 167,
   "id": "4db9be54-15f4-4dfd-941d-6cdf7d2e32e5",
   "metadata": {},
   "outputs": [],
   "source": [
    "mydict1 ={1:'tejas',2:\"rajat\",3:'satish'}"
   ]
  },
  {
   "cell_type": "code",
   "execution_count": 168,
   "id": "29ec7026-99e1-411e-baee-0a7e18269cb9",
   "metadata": {},
   "outputs": [
    {
     "data": {
      "text/plain": [
       "{1: 'tejas', 2: 'rajat', 3: 'satish'}"
      ]
     },
     "execution_count": 168,
     "metadata": {},
     "output_type": "execute_result"
    }
   ],
   "source": [
    "mydict1"
   ]
  },
  {
   "cell_type": "code",
   "execution_count": 169,
   "id": "c8231c4b-e63c-4257-87e4-b4e6a2d77d00",
   "metadata": {},
   "outputs": [],
   "source": [
    "mydict2 = {1:'sunny',\"a\":'subham'}"
   ]
  },
  {
   "cell_type": "code",
   "execution_count": 172,
   "id": "f5888915-bf27-4d64-a583-3233016facc7",
   "metadata": {},
   "outputs": [],
   "source": [
    "mydict3={'rahul':['c','c++'],'rohit':['java','java scritp'],'sunny':['python','ml']}"
   ]
  },
  {
   "cell_type": "code",
   "execution_count": 173,
   "id": "d3620722-2d38-4dca-8442-3f37c7345625",
   "metadata": {},
   "outputs": [
    {
     "data": {
      "text/plain": [
       "['c', 'c++']"
      ]
     },
     "execution_count": 173,
     "metadata": {},
     "output_type": "execute_result"
    }
   ],
   "source": [
    "mydict3['rahul']"
   ]
  },
  {
   "cell_type": "code",
   "execution_count": 174,
   "id": "71c395db-5670-4797-be8d-373c9c5831be",
   "metadata": {},
   "outputs": [
    {
     "data": {
      "text/plain": [
       "['python', 'ml']"
      ]
     },
     "execution_count": 174,
     "metadata": {},
     "output_type": "execute_result"
    }
   ],
   "source": [
    "mydict3.get('sunny')"
   ]
  },
  {
   "cell_type": "code",
   "execution_count": 175,
   "id": "1c216ea2-ee70-4422-bbdd-552eeda6c7ed",
   "metadata": {},
   "outputs": [],
   "source": [
    "student_data = {1:'amit',2:'brajesh',3:'chethan',4:'deepak',5:'neeraj'}"
   ]
  },
  {
   "cell_type": "code",
   "execution_count": 176,
   "id": "e6bd07c6-5037-4fef-b21e-8add75a4d82e",
   "metadata": {},
   "outputs": [
    {
     "data": {
      "text/plain": [
       "{1: 'amit', 2: 'brajesh', 3: 'chethan', 4: 'deepak', 5: 'neeraj'}"
      ]
     },
     "execution_count": 176,
     "metadata": {},
     "output_type": "execute_result"
    }
   ],
   "source": [
    "student_data"
   ]
  },
  {
   "cell_type": "code",
   "execution_count": 177,
   "id": "2c2de9ae-38a0-4aa0-b9e6-5c9394d30846",
   "metadata": {},
   "outputs": [
    {
     "name": "stdout",
     "output_type": "stream",
     "text": [
      "1\n",
      "2\n",
      "3\n",
      "4\n",
      "5\n"
     ]
    }
   ],
   "source": [
    "for x in student_data:\n",
    "    print(x)"
   ]
  },
  {
   "cell_type": "code",
   "execution_count": 179,
   "id": "c0902927-5d86-4a1c-a48e-6d85b9a943c1",
   "metadata": {},
   "outputs": [
    {
     "name": "stdout",
     "output_type": "stream",
     "text": [
      "amit\n",
      "brajesh\n",
      "chethan\n",
      "deepak\n",
      "neeraj\n"
     ]
    }
   ],
   "source": [
    "for x in student_data.values():\n",
    "    print(x)"
   ]
  },
  {
   "cell_type": "code",
   "execution_count": 180,
   "id": "f7f89d1d-4dd3-4c86-a5f6-7104406e62fd",
   "metadata": {},
   "outputs": [
    {
     "name": "stdout",
     "output_type": "stream",
     "text": [
      "1\n",
      "2\n",
      "3\n",
      "4\n",
      "5\n"
     ]
    }
   ],
   "source": [
    "for x in student_data.keys():\n",
    "    print(x)"
   ]
  },
  {
   "cell_type": "code",
   "execution_count": 181,
   "id": "c2d0d302-e020-4ca4-aa84-a9f44847766b",
   "metadata": {},
   "outputs": [
    {
     "name": "stdout",
     "output_type": "stream",
     "text": [
      "(1, 'amit')\n",
      "(2, 'brajesh')\n",
      "(3, 'chethan')\n",
      "(4, 'deepak')\n",
      "(5, 'neeraj')\n"
     ]
    }
   ],
   "source": [
    "for x in student_data.items():\n",
    "    print(x)"
   ]
  },
  {
   "cell_type": "code",
   "execution_count": 182,
   "id": "d99d14fb-a06b-4b41-96f8-1937bcbe24b3",
   "metadata": {},
   "outputs": [
    {
     "name": "stdout",
     "output_type": "stream",
     "text": [
      "my key is 1 my value is amit\n",
      "my key is 2 my value is brajesh\n",
      "my key is 3 my value is chethan\n",
      "my key is 4 my value is deepak\n",
      "my key is 5 my value is neeraj\n"
     ]
    }
   ],
   "source": [
    "for x,y in student_data.items():\n",
    "    print(f\"my key is {x} my value is {y}\")"
   ]
  },
  {
   "cell_type": "code",
   "execution_count": 183,
   "id": "3cf45004-9f4a-43fa-85e1-2c6840a2dbc9",
   "metadata": {},
   "outputs": [
    {
     "data": {
      "text/plain": [
       "{1: 'amit', 2: 'brajesh', 3: 'chethan', 4: 'deepak', 5: 'neeraj'}"
      ]
     },
     "execution_count": 183,
     "metadata": {},
     "output_type": "execute_result"
    }
   ],
   "source": [
    "student_data"
   ]
  },
  {
   "cell_type": "code",
   "execution_count": 184,
   "id": "20407541-fbcd-426b-b3d2-2dddbe2c4860",
   "metadata": {},
   "outputs": [],
   "source": [
    "student_data[6] = 'tejas'"
   ]
  },
  {
   "cell_type": "code",
   "execution_count": 185,
   "id": "061b6ec1-e863-41da-a42c-736b97e00169",
   "metadata": {},
   "outputs": [
    {
     "data": {
      "text/plain": [
       "{1: 'amit', 2: 'brajesh', 3: 'chethan', 4: 'deepak', 5: 'neeraj', 6: 'tejas'}"
      ]
     },
     "execution_count": 185,
     "metadata": {},
     "output_type": "execute_result"
    }
   ],
   "source": [
    "student_data"
   ]
  },
  {
   "cell_type": "code",
   "execution_count": 186,
   "id": "f9e38093-9e3d-4088-8c80-a40ab3aa089c",
   "metadata": {},
   "outputs": [],
   "source": [
    "student_data.update({7:'zoha'})"
   ]
  },
  {
   "cell_type": "code",
   "execution_count": 187,
   "id": "1d580e4e-e925-4f7b-8788-ef7fa3693f51",
   "metadata": {},
   "outputs": [
    {
     "data": {
      "text/plain": [
       "{1: 'amit',\n",
       " 2: 'brajesh',\n",
       " 3: 'chethan',\n",
       " 4: 'deepak',\n",
       " 5: 'neeraj',\n",
       " 6: 'tejas',\n",
       " 7: 'zoha'}"
      ]
     },
     "execution_count": 187,
     "metadata": {},
     "output_type": "execute_result"
    }
   ],
   "source": [
    "student_data"
   ]
  },
  {
   "cell_type": "code",
   "execution_count": 188,
   "id": "c54a5bfa-54c5-4e60-9387-f8d98f7c5f82",
   "metadata": {},
   "outputs": [],
   "source": [
    "student_data[2] = 'narendra modi'"
   ]
  },
  {
   "cell_type": "code",
   "execution_count": 189,
   "id": "895c0930-a2b0-4739-a227-cda2c6f3e052",
   "metadata": {},
   "outputs": [
    {
     "data": {
      "text/plain": [
       "{1: 'amit',\n",
       " 2: 'narendra modi',\n",
       " 3: 'chethan',\n",
       " 4: 'deepak',\n",
       " 5: 'neeraj',\n",
       " 6: 'tejas',\n",
       " 7: 'zoha'}"
      ]
     },
     "execution_count": 189,
     "metadata": {},
     "output_type": "execute_result"
    }
   ],
   "source": [
    "student_data"
   ]
  },
  {
   "cell_type": "markdown",
   "id": "f75b956e-2166-495b-ad83-91d671e94868",
   "metadata": {},
   "source": [
    "functions for dictionary"
   ]
  },
  {
   "cell_type": "code",
   "execution_count": 190,
   "id": "6c62d0a0-9bbb-4316-9579-0f0b98f36c17",
   "metadata": {},
   "outputs": [
    {
     "data": {
      "text/plain": [
       "7"
      ]
     },
     "execution_count": 190,
     "metadata": {},
     "output_type": "execute_result"
    }
   ],
   "source": [
    "len(student_data)"
   ]
  },
  {
   "cell_type": "code",
   "execution_count": 197,
   "id": "9f2786d0-1053-4395-8f20-4588f0c98ac2",
   "metadata": {},
   "outputs": [
    {
     "data": {
      "text/plain": [
       "7"
      ]
     },
     "execution_count": 197,
     "metadata": {},
     "output_type": "execute_result"
    }
   ],
   "source": [
    "max(student_data)"
   ]
  },
  {
   "cell_type": "code",
   "execution_count": 198,
   "id": "31e954c1-56de-46d9-b645-9a09703aff2c",
   "metadata": {},
   "outputs": [
    {
     "data": {
      "text/plain": [
       "1"
      ]
     },
     "execution_count": 198,
     "metadata": {},
     "output_type": "execute_result"
    }
   ],
   "source": [
    "min(student_data)"
   ]
  },
  {
   "cell_type": "code",
   "execution_count": 199,
   "id": "f3c7a08e-9bcb-4c97-af75-bd4803ed6c84",
   "metadata": {},
   "outputs": [
    {
     "data": {
      "text/plain": [
       "True"
      ]
     },
     "execution_count": 199,
     "metadata": {},
     "output_type": "execute_result"
    }
   ],
   "source": [
    "any(student_data)"
   ]
  },
  {
   "cell_type": "code",
   "execution_count": 200,
   "id": "2d866cc0-1c71-41e5-afe8-f82e1676e981",
   "metadata": {},
   "outputs": [
    {
     "data": {
      "text/plain": [
       "True"
      ]
     },
     "execution_count": 200,
     "metadata": {},
     "output_type": "execute_result"
    }
   ],
   "source": [
    "all(student_data)"
   ]
  },
  {
   "cell_type": "code",
   "execution_count": 202,
   "id": "8ac8a780-f966-400a-9836-a2d66683559a",
   "metadata": {},
   "outputs": [
    {
     "data": {
      "text/plain": [
       "['amit', 'chethan', 'deepak', 'narendra modi', 'neeraj', 'tejas', 'zoha']"
      ]
     },
     "execution_count": 202,
     "metadata": {},
     "output_type": "execute_result"
    }
   ],
   "source": [
    "sorted(student_data.values())"
   ]
  },
  {
   "cell_type": "markdown",
   "id": "14aea548-d0ea-4740-85c8-e07cd6ad7997",
   "metadata": {},
   "source": [
    "# methods in dictionary"
   ]
  },
  {
   "cell_type": "code",
   "execution_count": 204,
   "id": "4a844018-88f8-44f2-be8a-d8020ee8f650",
   "metadata": {},
   "outputs": [
    {
     "data": {
      "text/plain": [
       "{1: 'amit',\n",
       " 2: 'narendra modi',\n",
       " 3: 'chethan',\n",
       " 4: 'deepak',\n",
       " 5: 'neeraj',\n",
       " 6: 'tejas',\n",
       " 7: 'zoha'}"
      ]
     },
     "execution_count": 204,
     "metadata": {},
     "output_type": "execute_result"
    }
   ],
   "source": [
    "student_data"
   ]
  },
  {
   "cell_type": "code",
   "execution_count": 206,
   "id": "965f8ebb-15f6-445e-b12a-bbd37f7833fe",
   "metadata": {},
   "outputs": [
    {
     "data": {
      "text/plain": [
       "'tejas'"
      ]
     },
     "execution_count": 206,
     "metadata": {},
     "output_type": "execute_result"
    }
   ],
   "source": [
    "student_data.pop(6)"
   ]
  },
  {
   "cell_type": "code",
   "execution_count": 207,
   "id": "9e25b1f4-6eaa-4e6f-8ed5-f45ec9dab8a4",
   "metadata": {},
   "outputs": [
    {
     "data": {
      "text/plain": [
       "{1: 'amit',\n",
       " 2: 'narendra modi',\n",
       " 3: 'chethan',\n",
       " 4: 'deepak',\n",
       " 5: 'neeraj',\n",
       " 7: 'zoha'}"
      ]
     },
     "execution_count": 207,
     "metadata": {},
     "output_type": "execute_result"
    }
   ],
   "source": [
    "student_data"
   ]
  },
  {
   "cell_type": "code",
   "execution_count": 210,
   "id": "5e8a23e0-869b-4af0-bfd1-674ca4d75dbc",
   "metadata": {},
   "outputs": [
    {
     "data": {
      "text/plain": [
       "(7, 'zoha')"
      ]
     },
     "execution_count": 210,
     "metadata": {},
     "output_type": "execute_result"
    }
   ],
   "source": [
    "student_data.popitem()"
   ]
  },
  {
   "cell_type": "code",
   "execution_count": 211,
   "id": "1796833a-fc9a-443a-bdcd-b444eb941561",
   "metadata": {},
   "outputs": [
    {
     "data": {
      "text/plain": [
       "'not found'"
      ]
     },
     "execution_count": 211,
     "metadata": {},
     "output_type": "execute_result"
    }
   ],
   "source": [
    "student_data.pop(7,'not found')"
   ]
  },
  {
   "cell_type": "code",
   "execution_count": 212,
   "id": "7b8e337d-b284-4c6b-9d08-7c793390f21a",
   "metadata": {},
   "outputs": [
    {
     "data": {
      "text/plain": [
       "(5, 'neeraj')"
      ]
     },
     "execution_count": 212,
     "metadata": {},
     "output_type": "execute_result"
    }
   ],
   "source": [
    "student_data.popitem()"
   ]
  },
  {
   "cell_type": "code",
   "execution_count": 213,
   "id": "659ca291-1433-4188-bd88-a9e69fae0c7c",
   "metadata": {},
   "outputs": [
    {
     "data": {
      "text/plain": [
       "{1: 'amit', 2: 'narendra modi', 3: 'chethan', 4: 'deepak'}"
      ]
     },
     "execution_count": 213,
     "metadata": {},
     "output_type": "execute_result"
    }
   ],
   "source": [
    "student_data"
   ]
  },
  {
   "cell_type": "code",
   "execution_count": 214,
   "id": "c96eeeb9-d53c-4ea7-a913-c92bfa16ad4e",
   "metadata": {},
   "outputs": [],
   "source": [
    "student_data = {1:'amit',2:'brajesh',3:'chethan',4:'deepak',5:'neeraj'}"
   ]
  },
  {
   "cell_type": "code",
   "execution_count": 215,
   "id": "f91381d8-8ad3-4309-87d5-77f99b6f777c",
   "metadata": {},
   "outputs": [],
   "source": [
    "student_data.clear()"
   ]
  },
  {
   "cell_type": "code",
   "execution_count": 216,
   "id": "3d5c5451-d9bf-47be-b4d2-08da8a0b3221",
   "metadata": {},
   "outputs": [
    {
     "data": {
      "text/plain": [
       "{}"
      ]
     },
     "execution_count": 216,
     "metadata": {},
     "output_type": "execute_result"
    }
   ],
   "source": [
    "student_data"
   ]
  },
  {
   "cell_type": "code",
   "execution_count": 217,
   "id": "2d27654d-372a-4502-9150-257ca4804d96",
   "metadata": {},
   "outputs": [],
   "source": [
    "original = {1:'one',2:'two',3:'three'}"
   ]
  },
  {
   "cell_type": "code",
   "execution_count": 218,
   "id": "0bff2b61-8581-4a36-921e-300670e2cebc",
   "metadata": {},
   "outputs": [],
   "source": [
    "new =original.copy()"
   ]
  },
  {
   "cell_type": "code",
   "execution_count": 219,
   "id": "b601f0ee-05b6-4227-9cdf-cbccf7a4713c",
   "metadata": {},
   "outputs": [
    {
     "data": {
      "text/plain": [
       "{1: 'one', 2: 'two', 3: 'three'}"
      ]
     },
     "execution_count": 219,
     "metadata": {},
     "output_type": "execute_result"
    }
   ],
   "source": [
    "new"
   ]
  },
  {
   "cell_type": "code",
   "execution_count": 220,
   "id": "baf9676d-abde-4f0a-b236-7cc881ef427b",
   "metadata": {},
   "outputs": [],
   "source": [
    "new[1] = 'two'"
   ]
  },
  {
   "cell_type": "code",
   "execution_count": 221,
   "id": "09a03385-7838-4d98-83ae-66adf638786c",
   "metadata": {},
   "outputs": [
    {
     "data": {
      "text/plain": [
       "{1: 'one', 2: 'two', 3: 'three'}"
      ]
     },
     "execution_count": 221,
     "metadata": {},
     "output_type": "execute_result"
    }
   ],
   "source": [
    "original"
   ]
  },
  {
   "cell_type": "code",
   "execution_count": 222,
   "id": "373524ef-3978-4058-8eeb-d8bbbd722098",
   "metadata": {},
   "outputs": [
    {
     "data": {
      "text/plain": [
       "{1: 'two', 2: 'two', 3: 'three'}"
      ]
     },
     "execution_count": 222,
     "metadata": {},
     "output_type": "execute_result"
    }
   ],
   "source": [
    "new"
   ]
  },
  {
   "cell_type": "code",
   "execution_count": 223,
   "id": "d934bb12-a479-442d-8f3a-79a5990a1908",
   "metadata": {},
   "outputs": [],
   "source": [
    "cars = {'Maruti':'Ciaz','Hyundai':'Verna','Honda':'Amaze'}"
   ]
  },
  {
   "cell_type": "code",
   "execution_count": 224,
   "id": "92711846-12c2-49c2-a9a5-fdf4d23a8277",
   "metadata": {},
   "outputs": [],
   "source": [
    "value = cars.setdefault(\"Renault\",\"None\")"
   ]
  },
  {
   "cell_type": "code",
   "execution_count": 226,
   "id": "cc6660a9-56ae-402a-b055-13f0b018eda8",
   "metadata": {},
   "outputs": [
    {
     "data": {
      "text/plain": [
       "'None'"
      ]
     },
     "execution_count": 226,
     "metadata": {},
     "output_type": "execute_result"
    }
   ],
   "source": [
    "value"
   ]
  },
  {
   "cell_type": "code",
   "execution_count": 227,
   "id": "0ac1362e-43ca-4373-a63c-7f82e627edd5",
   "metadata": {},
   "outputs": [
    {
     "data": {
      "text/plain": [
       "{'Maruti': 'Ciaz', 'Hyundai': 'Verna', 'Honda': 'Amaze', 'Renault': 'None'}"
      ]
     },
     "execution_count": 227,
     "metadata": {},
     "output_type": "execute_result"
    }
   ],
   "source": [
    "cars"
   ]
  },
  {
   "cell_type": "code",
   "execution_count": 228,
   "id": "adcf787e-d282-45d0-a2fd-e36e3e265ccb",
   "metadata": {},
   "outputs": [],
   "source": [
    "cars['Renault'] = 'Duster'"
   ]
  },
  {
   "cell_type": "code",
   "execution_count": 229,
   "id": "e3eb8b56-80a4-41f9-b582-5fcffa13826c",
   "metadata": {},
   "outputs": [
    {
     "data": {
      "text/plain": [
       "{'Maruti': 'Ciaz', 'Hyundai': 'Verna', 'Honda': 'Amaze', 'Renault': 'Duster'}"
      ]
     },
     "execution_count": 229,
     "metadata": {},
     "output_type": "execute_result"
    }
   ],
   "source": [
    "cars"
   ]
  },
  {
   "cell_type": "code",
   "execution_count": 230,
   "id": "42dbbc38-ecc4-46c7-aa16-1cb21b9c5d73",
   "metadata": {},
   "outputs": [
    {
     "data": {
      "text/plain": [
       "'Q7'"
      ]
     },
     "execution_count": 230,
     "metadata": {},
     "output_type": "execute_result"
    }
   ],
   "source": [
    "cars.setdefault('Audi','Q7')"
   ]
  },
  {
   "cell_type": "code",
   "execution_count": 231,
   "id": "d70522b5-aaef-4625-975e-3734fcfbb17c",
   "metadata": {},
   "outputs": [
    {
     "data": {
      "text/plain": [
       "{'Maruti': 'Ciaz',\n",
       " 'Hyundai': 'Verna',\n",
       " 'Honda': 'Amaze',\n",
       " 'Renault': 'Duster',\n",
       " 'Audi': 'Q7'}"
      ]
     },
     "execution_count": 231,
     "metadata": {},
     "output_type": "execute_result"
    }
   ],
   "source": [
    "cars"
   ]
  },
  {
   "cell_type": "code",
   "execution_count": 232,
   "id": "b2d0b7bd-ae11-49a5-8683-2e25f67081bb",
   "metadata": {},
   "outputs": [
    {
     "data": {
      "text/plain": [
       "'Verna'"
      ]
     },
     "execution_count": 232,
     "metadata": {},
     "output_type": "execute_result"
    }
   ],
   "source": [
    "cars.setdefault('Hyundai','none')"
   ]
  },
  {
   "cell_type": "code",
   "execution_count": 233,
   "id": "0dbd49c2-52d0-4a93-8bcc-25fe8087ee62",
   "metadata": {},
   "outputs": [
    {
     "data": {
      "text/plain": [
       "{'Maruti': 'Ciaz',\n",
       " 'Hyundai': 'Verna',\n",
       " 'Honda': 'Amaze',\n",
       " 'Renault': 'Duster',\n",
       " 'Audi': 'Q7'}"
      ]
     },
     "execution_count": 233,
     "metadata": {},
     "output_type": "execute_result"
    }
   ],
   "source": [
    "cars"
   ]
  },
  {
   "cell_type": "code",
   "execution_count": 238,
   "id": "870222d3-72c9-426c-9902-077048a8f038",
   "metadata": {},
   "outputs": [],
   "source": [
    "cars.setdefault('Mahindra')"
   ]
  },
  {
   "cell_type": "code",
   "execution_count": 240,
   "id": "39236631-35af-4aae-b912-94d7f510870d",
   "metadata": {},
   "outputs": [
    {
     "data": {
      "text/plain": [
       "{'Maruti': 'Ciaz',\n",
       " 'Hyundai': 'Verna',\n",
       " 'Honda': 'Amaze',\n",
       " 'Renault': 'Duster',\n",
       " 'Audi': 'Q7',\n",
       " 'Mahindra': None}"
      ]
     },
     "execution_count": 240,
     "metadata": {},
     "output_type": "execute_result"
    }
   ],
   "source": [
    "cars"
   ]
  },
  {
   "cell_type": "code",
   "execution_count": 241,
   "id": "097ec1b5-4467-4b5c-ac37-62557bcb9781",
   "metadata": {},
   "outputs": [],
   "source": [
    "cars['Mahindra'] = 'Thar'"
   ]
  },
  {
   "cell_type": "code",
   "execution_count": 242,
   "id": "c6d7c563-e113-4b29-81b1-94c3acbb455b",
   "metadata": {},
   "outputs": [
    {
     "data": {
      "text/plain": [
       "{'Maruti': 'Ciaz',\n",
       " 'Hyundai': 'Verna',\n",
       " 'Honda': 'Amaze',\n",
       " 'Renault': 'Duster',\n",
       " 'Audi': 'Q7',\n",
       " 'Mahindra': 'Thar'}"
      ]
     },
     "execution_count": 242,
     "metadata": {},
     "output_type": "execute_result"
    }
   ],
   "source": [
    "cars"
   ]
  },
  {
   "cell_type": "code",
   "execution_count": null,
   "id": "0b3be44f-ddf3-417a-9770-b981eb257ef0",
   "metadata": {},
   "outputs": [],
   "source": []
  }
 ],
 "metadata": {
  "kernelspec": {
   "display_name": "Python 3 (ipykernel)",
   "language": "python",
   "name": "python3"
  },
  "language_info": {
   "codemirror_mode": {
    "name": "ipython",
    "version": 3
   },
   "file_extension": ".py",
   "mimetype": "text/x-python",
   "name": "python",
   "nbconvert_exporter": "python",
   "pygments_lexer": "ipython3",
   "version": "3.10.6"
  }
 },
 "nbformat": 4,
 "nbformat_minor": 5
}
