{
 "cells": [
  {
   "cell_type": "markdown",
   "id": "a7700c96-339f-4c2d-8d62-5fa9dca1d748",
   "metadata": {},
   "source": [
    "# **`logging and file handling`**"
   ]
  },
  {
   "cell_type": "code",
   "execution_count": 1,
   "id": "115ae778-65b4-4496-8732-5826bfc2caeb",
   "metadata": {},
   "outputs": [],
   "source": [
    "import logging"
   ]
  },
  {
   "cell_type": "code",
   "execution_count": null,
   "id": "58724de7-042f-44ce-a3e0-8e1aac0a67fe",
   "metadata": {},
   "outputs": [],
   "source": [
    "logging.BASIC_FORMAT()"
   ]
  },
  {
   "cell_type": "code",
   "execution_count": 2,
   "id": "c24e3d02-901d-4411-bfbb-e7d58e8d7748",
   "metadata": {},
   "outputs": [],
   "source": [
    "def test(in_num):\n",
    "    print(\"i am in the function\")\n",
    "    result= in_num*10\n",
    "    print(\"multiplication is done\")\n",
    "    return result"
   ]
  },
  {
   "cell_type": "code",
   "execution_count": 6,
   "id": "3c56d04a-e1df-4af9-aa63-af3df0e9246f",
   "metadata": {},
   "outputs": [
    {
     "name": "stdout",
     "output_type": "stream",
     "text": [
      "i am in the function\n",
      "multiplication is done\n",
      "here is the final answer: 3450 \n"
     ]
    }
   ],
   "source": [
    "X = test(345)\n",
    "print(f\"here is the final answer: {X} \")"
   ]
  },
  {
   "cell_type": "markdown",
   "id": "641d3a2d-c6f4-446b-8d30-faa7a0491546",
   "metadata": {},
   "source": [
    "INFORMATION:\n",
    "- NONE 0\n",
    "- DEBUG 10\n",
    "- INFO 20\n",
    "- WARNING 30\n",
    "- ERROR 40\n",
    "- CRITICAL 50"
   ]
  },
  {
   "cell_type": "code",
   "execution_count": null,
   "id": "60b8639c-3efc-43f8-96b2-55819b7188fa",
   "metadata": {},
   "outputs": [],
   "source": []
  }
 ],
 "metadata": {
  "kernelspec": {
   "display_name": "Python 3 (ipykernel)",
   "language": "python",
   "name": "python3"
  },
  "language_info": {
   "codemirror_mode": {
    "name": "ipython",
    "version": 3
   },
   "file_extension": ".py",
   "mimetype": "text/x-python",
   "name": "python",
   "nbconvert_exporter": "python",
   "pygments_lexer": "ipython3",
   "version": "3.9.16"
  }
 },
 "nbformat": 4,
 "nbformat_minor": 5
}
