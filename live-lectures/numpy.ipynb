{
 "cells": [
  {
   "cell_type": "markdown",
   "metadata": {},
   "source": [
    "# **`NUMPY`**"
   ]
  },
  {
   "cell_type": "code",
   "execution_count": 1,
   "metadata": {},
   "outputs": [],
   "source": [
    "import numpy as np"
   ]
  },
  {
   "cell_type": "markdown",
   "metadata": {},
   "source": [
    "python\n",
    "\n",
    "list <- arrays in python are lists\n",
    "tuple\n",
    "set\n",
    "dict\n",
    "string"
   ]
  },
  {
   "cell_type": "code",
   "execution_count": 3,
   "metadata": {},
   "outputs": [],
   "source": [
    "#how to create numpy arrays"
   ]
  },
  {
   "cell_type": "markdown",
   "metadata": {},
   "source": [
    "np.array(<sequence>)"
   ]
  },
  {
   "cell_type": "code",
   "execution_count": 2,
   "metadata": {},
   "outputs": [
    {
     "data": {
      "text/plain": [
       "array([1, 2, 3, 4, 5])"
      ]
     },
     "execution_count": 2,
     "metadata": {},
     "output_type": "execute_result"
    }
   ],
   "source": [
    "np.array([1,2,3,4,5])"
   ]
  },
  {
   "cell_type": "code",
   "execution_count": 4,
   "metadata": {},
   "outputs": [
    {
     "data": {
      "text/plain": [
       "array([1, 2, 3, 4, 5])"
      ]
     },
     "execution_count": 4,
     "metadata": {},
     "output_type": "execute_result"
    }
   ],
   "source": [
    "np.array((1,2,3,4,5))"
   ]
  },
  {
   "cell_type": "code",
   "execution_count": 5,
   "metadata": {},
   "outputs": [
    {
     "data": {
      "text/plain": [
       "array({1, 2, 3, 4, 5}, dtype=object)"
      ]
     },
     "execution_count": 5,
     "metadata": {},
     "output_type": "execute_result"
    }
   ],
   "source": [
    "np.array({1,2,3,4,5})"
   ]
  },
  {
   "cell_type": "code",
   "execution_count": 7,
   "metadata": {},
   "outputs": [
    {
     "data": {
      "text/plain": [
       "array([[1, 2, 3],\n",
       "       [5, 6, 7]])"
      ]
     },
     "execution_count": 7,
     "metadata": {},
     "output_type": "execute_result"
    }
   ],
   "source": [
    "#2 d array = combination of rows and cols\n",
    "np.array([[1,2,3],\n",
    "          [5,6,7]])"
   ]
  },
  {
   "cell_type": "code",
   "execution_count": 9,
   "metadata": {},
   "outputs": [
    {
     "data": {
      "text/plain": [
       "array([[[1, 2],\n",
       "        [3, 4]],\n",
       "\n",
       "       [[5, 6],\n",
       "        [7, 8]]])"
      ]
     },
     "execution_count": 9,
     "metadata": {},
     "output_type": "execute_result"
    }
   ],
   "source": [
    "np.array([[[1,2],[3,4]],[[5,6],[7,8]]])"
   ]
  },
  {
   "cell_type": "code",
   "execution_count": 10,
   "metadata": {},
   "outputs": [],
   "source": [
    "# random number generation with numpy"
   ]
  },
  {
   "cell_type": "code",
   "execution_count": 11,
   "metadata": {},
   "outputs": [
    {
     "data": {
      "text/plain": [
       "array([0.77717512, 0.15222927, 0.05437297, 0.20482713, 0.06590704])"
      ]
     },
     "execution_count": 11,
     "metadata": {},
     "output_type": "execute_result"
    }
   ],
   "source": [
    "np.random.rand(5)"
   ]
  },
  {
   "cell_type": "code",
   "execution_count": 13,
   "metadata": {},
   "outputs": [
    {
     "data": {
      "text/plain": [
       "array([[0.22945553, 0.90595326, 0.30544725, 0.5793178 , 0.75251778,\n",
       "        0.38469044],\n",
       "       [0.11208215, 0.0610065 , 0.13383113, 0.44636184, 0.22025362,\n",
       "        0.69585383],\n",
       "       [0.77716264, 0.69453121, 0.21452903, 0.3947617 , 0.91457413,\n",
       "        0.65904752],\n",
       "       [0.65899246, 0.98462177, 0.22750088, 0.40895127, 0.81965176,\n",
       "        0.10438829]])"
      ]
     },
     "execution_count": 13,
     "metadata": {},
     "output_type": "execute_result"
    }
   ],
   "source": [
    "#get a 2D array with random number\n",
    "np.random.rand(4,6)"
   ]
  },
  {
   "cell_type": "code",
   "execution_count": 14,
   "metadata": {},
   "outputs": [
    {
     "data": {
      "text/plain": [
       "array([ 0.27008934,  0.54694195,  2.07978807,  0.9913088 , -0.87141783])"
      ]
     },
     "execution_count": 14,
     "metadata": {},
     "output_type": "execute_result"
    }
   ],
   "source": [
    "np.random.randn(5)"
   ]
  },
  {
   "cell_type": "code",
   "execution_count": 18,
   "metadata": {},
   "outputs": [
    {
     "data": {
      "text/plain": [
       "<seaborn.axisgrid.FacetGrid at 0x2024d5adeb0>"
      ]
     },
     "execution_count": 18,
     "metadata": {},
     "output_type": "execute_result"
    },
    {
     "data": {
      "image/png": "[encoded data removed]",
      "text/plain": [
       "<Figure size 500x500 with 1 Axes>"
      ]
     },
     "metadata": {},
     "output_type": "display_data"
    }
   ],
   "source": [
    "import seaborn as sns\n",
    "sns.displot(np.random.randn(500),kde=True)"
   ]
  },
  {
   "cell_type": "code",
   "execution_count": 20,
   "metadata": {},
   "outputs": [
    {
     "data": {
      "text/plain": [
       "array([[-0.66102938,  0.7785183 , -0.24904265,  0.23367446],\n",
       "       [ 0.63785394,  1.61985361, -0.09945661, -1.06729301]])"
      ]
     },
     "execution_count": 20,
     "metadata": {},
     "output_type": "execute_result"
    }
   ],
   "source": [
    "np.random.randn(2,4)"
   ]
  },
  {
   "cell_type": "code",
   "execution_count": 21,
   "metadata": {},
   "outputs": [
    {
     "data": {
      "text/plain": [
       "array([[-0.34809267, -0.70026349,  1.49553326, -0.12718246],\n",
       "       [-0.69900055, -0.15107064,  0.10850931,  0.69836397],\n",
       "       [ 0.70581485, -1.27883574,  0.1387939 , -0.31311956]])"
      ]
     },
     "execution_count": 21,
     "metadata": {},
     "output_type": "execute_result"
    }
   ],
   "source": [
    "np.random.randn(3,4)"
   ]
  },
  {
   "cell_type": "code",
   "execution_count": 23,
   "metadata": {},
   "outputs": [
    {
     "data": {
      "text/plain": [
       "array([77, 76, 32, 93, 56, 33,  6, 62, 67, 89])"
      ]
     },
     "execution_count": 23,
     "metadata": {},
     "output_type": "execute_result"
    }
   ],
   "source": [
    "np.random.randint(1,100,size=10)"
   ]
  },
  {
   "cell_type": "code",
   "execution_count": 27,
   "metadata": {},
   "outputs": [
    {
     "data": {
      "text/plain": [
       "array([36, 49, 39, 45, 46, 33, 26, 21, 36, 20, 36, 34, 31, 40, 30, 44, 45,\n",
       "       25, 49, 34, 48, 30, 48, 48, 28, 45, 41, 35, 40, 24, 44, 32, 25, 26,\n",
       "       43, 35, 43, 45, 41, 49, 48, 46, 28, 27, 43, 35, 36, 31, 48, 31, 26,\n",
       "       46, 38, 35, 47, 34, 48, 46, 44, 48, 27, 24, 25, 38, 30, 20, 37, 42,\n",
       "       43, 22, 46, 20, 29, 23, 45, 41, 20, 24, 29, 47, 47, 30, 49, 33, 42,\n",
       "       38, 40, 32, 32, 31, 26, 42, 20, 26, 31, 36, 47, 24, 24, 35, 26, 25,\n",
       "       20, 38, 31, 29, 25, 35, 38, 33, 27, 20, 40, 21, 30, 47, 37, 42, 25,\n",
       "       39, 27, 30, 31, 46, 40, 32, 22, 29, 29, 21, 34, 49, 37, 30, 29, 30,\n",
       "       26, 47, 47, 44, 36, 48, 33, 29, 29, 28, 43, 49, 26, 37, 49, 23, 22,\n",
       "       48, 24, 21, 28, 43, 26, 39, 26, 47, 35, 47, 28, 46, 23, 41, 20, 31,\n",
       "       33, 20, 32, 32, 46, 27, 27, 20, 34, 38, 24, 26, 21, 32, 48, 27, 30,\n",
       "       33, 39, 36, 32, 48, 29, 26, 43, 21, 47, 42, 37, 42, 45, 32, 38, 33,\n",
       "       40, 30, 29, 39, 35, 37, 28, 38, 42, 27, 23, 49, 27, 27, 43, 40, 42,\n",
       "       32, 29, 36, 21, 21, 39, 23, 43, 40, 43, 34, 37, 47, 25, 43, 42, 32,\n",
       "       34, 27, 30, 32, 29, 44, 25, 28, 24, 26, 20, 28, 48, 38, 23, 24, 41,\n",
       "       31, 31, 42, 21, 31, 26, 38, 36, 31, 38, 48, 34, 21, 44, 28, 23, 22,\n",
       "       39, 38, 42, 45, 49, 35, 40, 20, 25, 31, 46, 46, 24, 41, 24, 33, 30,\n",
       "       22, 38, 28, 31, 25, 41, 22, 38, 37, 21, 31, 35, 34, 39, 33, 21, 42,\n",
       "       36, 48, 26, 42, 37, 45, 39, 41, 48, 26, 20, 26, 25, 41, 30, 38, 44,\n",
       "       44, 37, 48, 29, 43, 47, 22, 40, 38, 41, 25, 43, 23, 43, 45, 41, 20,\n",
       "       49, 49, 26, 23, 49, 36, 23, 34, 28, 43, 46, 20, 48, 45, 47, 43, 36,\n",
       "       47, 47, 21, 31, 49, 27, 24, 22, 28, 46, 21, 35, 34, 48, 45, 26, 28,\n",
       "       27, 30, 44, 35, 36, 41, 35, 27, 47, 41, 36, 45, 39, 40, 25, 26, 25,\n",
       "       45, 28, 34, 22, 48, 29, 38, 23, 29, 21, 22, 22, 43, 31, 27, 36, 43,\n",
       "       41, 21, 29, 33, 24, 28, 41, 38, 46, 35, 26, 42, 49, 49, 20, 42, 28,\n",
       "       33, 33, 25, 34, 24, 30, 37, 28, 25, 38, 26, 29, 23, 40, 37, 49, 41,\n",
       "       29, 27, 37, 39, 21, 33, 28, 47, 47, 30, 23, 45, 34, 35, 47, 28, 32,\n",
       "       33, 42, 47, 38, 23, 41, 41, 28, 22, 21, 20, 45, 27, 33, 38, 26, 48,\n",
       "       40, 25, 34, 41, 37, 37, 20, 21, 44, 21, 35, 27, 44, 49, 42, 42, 28,\n",
       "       32, 31, 48, 32, 48, 44, 47])"
      ]
     },
     "execution_count": 27,
     "metadata": {},
     "output_type": "execute_result"
    }
   ],
   "source": [
    "np.random.randint(20,50,size=500)"
   ]
  },
  {
   "cell_type": "code",
   "execution_count": 31,
   "metadata": {},
   "outputs": [
    {
     "data": {
      "text/plain": [
       "array([20.5, 21.5, 22.5, 23.5, 24.5, 25.5, 26.5, 27.5, 28.5, 29.5, 30.5,\n",
       "       31.5, 32.5, 33.5, 34.5, 35.5, 36.5, 37.5, 38.5, 39.5, 40.5, 41.5,\n",
       "       42.5, 43.5, 44.5, 45.5, 46.5, 47.5, 48.5, 49.5, 50.5, 51.5, 52.5,\n",
       "       53.5, 54.5, 55.5, 56.5, 57.5, 58.5, 59.5, 60.5, 61.5, 62.5, 63.5,\n",
       "       64.5, 65.5, 66.5, 67.5, 68.5, 69.5, 70.5, 71.5, 72.5, 73.5, 74.5,\n",
       "       75.5, 76.5, 77.5, 78.5, 79.5, 80.5, 81.5, 82.5, 83.5, 84.5, 85.5,\n",
       "       86.5, 87.5, 88.5, 89.5, 90.5, 91.5, 92.5, 93.5, 94.5, 95.5, 96.5,\n",
       "       97.5, 98.5, 99.5])"
      ]
     },
     "execution_count": 31,
     "metadata": {},
     "output_type": "execute_result"
    }
   ],
   "source": [
    "np.arange(20.5,100.12,dtype=float)"
   ]
  },
  {
   "cell_type": "code",
   "execution_count": 33,
   "metadata": {},
   "outputs": [],
   "source": [
    "data = np.array([0,1,2,3,4])"
   ]
  },
  {
   "cell_type": "code",
   "execution_count": 37,
   "metadata": {},
   "outputs": [],
   "source": [
    "population = np.arange(1,100)"
   ]
  },
  {
   "cell_type": "code",
   "execution_count": 38,
   "metadata": {},
   "outputs": [
    {
     "data": {
      "text/plain": [
       "array([ 1,  2,  3,  4,  5,  6,  7,  8,  9, 10, 11, 12, 13, 14, 15, 16, 17,\n",
       "       18, 19, 20, 21, 22, 23, 24, 25, 26, 27, 28, 29, 30, 31, 32, 33, 34,\n",
       "       35, 36, 37, 38, 39, 40, 41, 42, 43, 44, 45, 46, 47, 48, 49, 50, 51,\n",
       "       52, 53, 54, 55, 56, 57, 58, 59, 60, 61, 62, 63, 64, 65, 66, 67, 68,\n",
       "       69, 70, 71, 72, 73, 74, 75, 76, 77, 78, 79, 80, 81, 82, 83, 84, 85,\n",
       "       86, 87, 88, 89, 90, 91, 92, 93, 94, 95, 96, 97, 98, 99])"
      ]
     },
     "execution_count": 38,
     "metadata": {},
     "output_type": "execute_result"
    }
   ],
   "source": [
    "population"
   ]
  },
  {
   "cell_type": "code",
   "execution_count": 39,
   "metadata": {},
   "outputs": [],
   "source": [
    "sample = np.random.choice(population,size=20)"
   ]
  },
  {
   "cell_type": "code",
   "execution_count": 40,
   "metadata": {},
   "outputs": [
    {
     "data": {
      "text/plain": [
       "array([71, 50, 31, 34,  8,  9, 62, 89, 27, 80, 85, 73, 81, 72, 27, 75, 34,\n",
       "       75, 40, 89])"
      ]
     },
     "execution_count": 40,
     "metadata": {},
     "output_type": "execute_result"
    }
   ],
   "source": [
    "sample"
   ]
  },
  {
   "cell_type": "code",
   "execution_count": 35,
   "metadata": {},
   "outputs": [
    {
     "data": {
      "text/plain": [
       "array([3, 3, 4])"
      ]
     },
     "execution_count": 35,
     "metadata": {},
     "output_type": "execute_result"
    }
   ],
   "source": [
    "np.random.choice(data,size=3)"
   ]
  },
  {
   "cell_type": "code",
   "execution_count": 36,
   "metadata": {},
   "outputs": [
    {
     "data": {
      "text/plain": [
       "array([2, 1])"
      ]
     },
     "execution_count": 36,
     "metadata": {},
     "output_type": "execute_result"
    }
   ],
   "source": [
    "np.random.choice(data,size=2)"
   ]
  },
  {
   "cell_type": "markdown",
   "metadata": {},
   "source": [
    "1. How to create an array\n",
    "2. How to generate an array with random number\n",
    "3. How to create some important arrays"
   ]
  },
  {
   "cell_type": "code",
   "execution_count": 41,
   "metadata": {},
   "outputs": [
    {
     "data": {
      "text/plain": [
       "array([[0.57027778, 0.33722222],\n",
       "       [0.57027778, 4.76692924],\n",
       "       [4.8       , 0.33722222]])"
      ]
     },
     "execution_count": 41,
     "metadata": {},
     "output_type": "execute_result"
    }
   ],
   "source": [
    "np.empty((3,2))"
   ]
  },
  {
   "cell_type": "code",
   "execution_count": 42,
   "metadata": {},
   "outputs": [
    {
     "data": {
      "text/plain": [
       "array([[1197779952,        514],\n",
       "       [1236991344,        514],\n",
       "       [1168403504,        514]])"
      ]
     },
     "execution_count": 42,
     "metadata": {},
     "output_type": "execute_result"
    }
   ],
   "source": [
    "a = np.empty((3,2),dtype=int)"
   ]
  },
  {
   "cell_type": "code",
   "execution_count": 43,
   "metadata": {},
   "outputs": [],
   "source": [
    "a = [[1,2],[3,4]]"
   ]
  },
  {
   "cell_type": "code",
   "execution_count": 44,
   "metadata": {},
   "outputs": [
    {
     "data": {
      "text/plain": [
       "[[1, 2], [3, 4]]"
      ]
     },
     "execution_count": 44,
     "metadata": {},
     "output_type": "execute_result"
    }
   ],
   "source": [
    "a"
   ]
  },
  {
   "cell_type": "code",
   "execution_count": 45,
   "metadata": {},
   "outputs": [],
   "source": [
    "#zeros , ones"
   ]
  },
  {
   "cell_type": "code",
   "execution_count": 47,
   "metadata": {},
   "outputs": [
    {
     "data": {
      "text/plain": [
       "array([[0, 0, 0],\n",
       "       [0, 0, 0]])"
      ]
     },
     "execution_count": 47,
     "metadata": {},
     "output_type": "execute_result"
    }
   ],
   "source": [
    "np.zeros((2,3),dtype=int)"
   ]
  },
  {
   "cell_type": "code",
   "execution_count": 49,
   "metadata": {},
   "outputs": [
    {
     "data": {
      "text/plain": [
       "array([[1., 1., 1., 1.],\n",
       "       [1., 1., 1., 1.],\n",
       "       [1., 1., 1., 1.]])"
      ]
     },
     "execution_count": 49,
     "metadata": {},
     "output_type": "execute_result"
    }
   ],
   "source": [
    "np.ones((3,4))"
   ]
  },
  {
   "cell_type": "code",
   "execution_count": 51,
   "metadata": {},
   "outputs": [
    {
     "data": {
      "text/plain": [
       "array([[0., 0., 0., 0., 0.],\n",
       "       [0., 0., 0., 0., 0.],\n",
       "       [0., 0., 0., 0., 0.],\n",
       "       [0., 0., 0., 0., 0.],\n",
       "       [0., 0., 0., 0., 0.]])"
      ]
     },
     "execution_count": 51,
     "metadata": {},
     "output_type": "execute_result"
    }
   ],
   "source": [
    "np.zeros((5,5))"
   ]
  },
  {
   "cell_type": "code",
   "execution_count": 52,
   "metadata": {},
   "outputs": [
    {
     "data": {
      "text/plain": [
       "array([[0., 0., 0.],\n",
       "       [0., 0., 0.]])"
      ]
     },
     "execution_count": 52,
     "metadata": {},
     "output_type": "execute_result"
    }
   ],
   "source": [
    "np.empty((2,3))"
   ]
  },
  {
   "cell_type": "code",
   "execution_count": 57,
   "metadata": {},
   "outputs": [
    {
     "data": {
      "text/plain": [
       "array([[0.00000000e+000, 0.00000000e+000, 4.94065646e-324,\n",
       "        6.95209619e-310, 4.69362364e-322, 1.09136128e-311,\n",
       "        1.09136129e-311, 1.09136129e-311, 1.09136129e-311,\n",
       "        1.09136129e-311],\n",
       "       [1.09136129e-311, 1.09136129e-311, 1.09136129e-311,\n",
       "        1.09136129e-311, 1.09136129e-311, 1.09136129e-311,\n",
       "        1.09136129e-311, 1.09136129e-311, 1.09136129e-311,\n",
       "        1.09136129e-311],\n",
       "       [1.09136129e-311, 1.09136129e-311, 1.09136129e-311,\n",
       "        1.09136129e-311, 1.09136129e-311, 1.09136129e-311,\n",
       "        1.09136129e-311, 1.09136129e-311, 1.09136129e-311,\n",
       "        1.09136129e-311],\n",
       "       [1.09136129e-311, 1.09136129e-311, 1.09136129e-311,\n",
       "        1.09136129e-311, 1.09136129e-311, 1.09136129e-311,\n",
       "        1.09136129e-311, 1.09136129e-311, 1.09136129e-311,\n",
       "        1.09136129e-311],\n",
       "       [1.09136129e-311, 1.09136129e-311, 1.09136130e-311,\n",
       "        1.09136130e-311, 1.09136130e-311, 1.09136130e-311,\n",
       "        1.09136130e-311, 1.09136130e-311, 1.09136130e-311,\n",
       "        1.09136130e-311],\n",
       "       [1.09136130e-311, 1.09136130e-311, 1.09136130e-311,\n",
       "        1.09136130e-311, 1.09136130e-311, 1.09136130e-311,\n",
       "        1.09136130e-311, 1.09136130e-311, 1.09136130e-311,\n",
       "        1.09136130e-311],\n",
       "       [1.09136130e-311, 1.09136130e-311, 1.09136130e-311,\n",
       "        1.09136130e-311, 1.09136130e-311, 1.09136130e-311,\n",
       "        1.09136130e-311, 1.09136130e-311, 1.09136130e-311,\n",
       "        1.09136130e-311],\n",
       "       [1.09136130e-311, 1.09136130e-311, 1.09136130e-311,\n",
       "        1.09136130e-311, 0.00000000e+000, 0.00000000e+000,\n",
       "        0.00000000e+000, 0.00000000e+000, 0.00000000e+000,\n",
       "        0.00000000e+000],\n",
       "       [0.00000000e+000, 0.00000000e+000, 0.00000000e+000,\n",
       "        0.00000000e+000, 0.00000000e+000, 0.00000000e+000,\n",
       "        0.00000000e+000, 0.00000000e+000, 0.00000000e+000,\n",
       "        0.00000000e+000],\n",
       "       [0.00000000e+000, 0.00000000e+000, 0.00000000e+000,\n",
       "        0.00000000e+000, 0.00000000e+000, 0.00000000e+000,\n",
       "        0.00000000e+000, 0.00000000e+000, 0.00000000e+000,\n",
       "        0.00000000e+000]])"
      ]
     },
     "execution_count": 57,
     "metadata": {},
     "output_type": "execute_result"
    }
   ],
   "source": [
    "np.empty((10,10))"
   ]
  },
  {
   "cell_type": "code",
   "execution_count": 60,
   "metadata": {},
   "outputs": [
    {
     "data": {
      "text/plain": [
       "array([[4, 4, 4, 4, 4],\n",
       "       [4, 4, 4, 4, 4],\n",
       "       [4, 4, 4, 4, 4],\n",
       "       [4, 4, 4, 4, 4],\n",
       "       [4, 4, 4, 4, 4]])"
      ]
     },
     "execution_count": 60,
     "metadata": {},
     "output_type": "execute_result"
    }
   ],
   "source": [
    "np.full((5,5),fill_value=4)"
   ]
  },
  {
   "cell_type": "code",
   "execution_count": 61,
   "metadata": {},
   "outputs": [
    {
     "data": {
      "text/plain": [
       "array([[0., 0., 0., 0., 0.],\n",
       "       [0., 0., 0., 0., 0.],\n",
       "       [0., 0., 0., 0., 0.],\n",
       "       [0., 0., 0., 0., 0.],\n",
       "       [0., 0., 0., 0., 0.]])"
      ]
     },
     "execution_count": 61,
     "metadata": {},
     "output_type": "execute_result"
    }
   ],
   "source": [
    "np.zeros((5,5))"
   ]
  },
  {
   "cell_type": "code",
   "execution_count": 62,
   "metadata": {},
   "outputs": [
    {
     "data": {
      "text/plain": [
       "array([[1., 1., 1., 1., 1.],\n",
       "       [1., 1., 1., 1., 1.],\n",
       "       [1., 1., 1., 1., 1.],\n",
       "       [1., 1., 1., 1., 1.],\n",
       "       [1., 1., 1., 1., 1.]])"
      ]
     },
     "execution_count": 62,
     "metadata": {},
     "output_type": "execute_result"
    }
   ],
   "source": [
    "np.ones((5,5))"
   ]
  },
  {
   "cell_type": "code",
   "execution_count": 63,
   "metadata": {},
   "outputs": [
    {
     "data": {
      "text/plain": [
       "array([[20, 20, 20, 20, 20],\n",
       "       [20, 20, 20, 20, 20],\n",
       "       [20, 20, 20, 20, 20],\n",
       "       [20, 20, 20, 20, 20],\n",
       "       [20, 20, 20, 20, 20]])"
      ]
     },
     "execution_count": 63,
     "metadata": {},
     "output_type": "execute_result"
    }
   ],
   "source": [
    "np.full((5,5),fill_value=20)"
   ]
  },
  {
   "cell_type": "code",
   "execution_count": 67,
   "metadata": {},
   "outputs": [],
   "source": [
    "a =([1,2,3],[5,6,7])"
   ]
  },
  {
   "cell_type": "code",
   "execution_count": 68,
   "metadata": {},
   "outputs": [
    {
     "data": {
      "text/plain": [
       "array([[1634423381, 1903193415, 1867331937],\n",
       "       [1781690994, 1450079588,  859256630]])"
      ]
     },
     "execution_count": 68,
     "metadata": {},
     "output_type": "execute_result"
    }
   ],
   "source": [
    "np.empty_like(a)"
   ]
  },
  {
   "cell_type": "code",
   "execution_count": 69,
   "metadata": {},
   "outputs": [],
   "source": [
    "b = ([1.1,2.2,3.5],[4.2,5.1,6.7])"
   ]
  },
  {
   "cell_type": "code",
   "execution_count": 71,
   "metadata": {},
   "outputs": [
    {
     "data": {
      "text/plain": [
       "array([[       nan, 0.000e+000, 6.126e-322],\n",
       "       [6.176e-322, 1.848e-321, 1.853e-321]])"
      ]
     },
     "execution_count": 71,
     "metadata": {},
     "output_type": "execute_result"
    }
   ],
   "source": [
    "np.empty_like(b)"
   ]
  },
  {
   "cell_type": "code",
   "execution_count": 72,
   "metadata": {},
   "outputs": [
    {
     "data": {
      "text/plain": [
       "array([[1.1, 2.2, 3.5],\n",
       "       [4.2, 5.1, 6.7]])"
      ]
     },
     "execution_count": 72,
     "metadata": {},
     "output_type": "execute_result"
    }
   ],
   "source": [
    "np.empty((2,3))"
   ]
  },
  {
   "cell_type": "code",
   "execution_count": 73,
   "metadata": {},
   "outputs": [
    {
     "data": {
      "text/plain": [
       "array([[4.94065646e-324, 6.95209619e-310, 8.62144552e-321,\n",
       "                    nan, 1.12646967e-321, 0.00000000e+000,\n",
       "        7.37108455e-260, 6.12486778e+257, 3.43526505e+228,\n",
       "        9.13607823e+242, 1.14199444e+243, 9.13608707e+242,\n",
       "        4.76660077e+180, 6.96411093e+252, 1.71963046e+238],\n",
       "       [1.49005471e+195, 6.01334628e-154, 5.04526607e+223,\n",
       "        6.01334434e-154, 2.11776400e+214, 1.00838285e+261,\n",
       "        9.13611906e+242, 9.76519558e+199, 7.88147474e+199,\n",
       "        5.73848251e+180, 1.91085681e+214, 1.28623590e+248,\n",
       "        2.46089101e-154, 3.99190188e+252, 1.90459150e+185],\n",
       "       [2.08061087e-115, 8.92558561e-106, 1.97101397e+156,\n",
       "        2.34728885e+251, 2.11756878e+214, 1.90459150e+185,\n",
       "        2.46088404e-154, 2.11783075e+214, 3.38873279e+175,\n",
       "        3.03891921e+180, 1.87673453e-152, 1.27966029e-152,\n",
       "        2.44047690e-152, 7.34728222e+228, 2.15779010e+185],\n",
       "       [1.39107997e-258, 2.63064217e+267, 9.77363227e-153,\n",
       "        2.63559441e-085, 3.02876359e-086, 1.69375270e+190,\n",
       "        2.02762986e+174, 1.10311265e+155, 8.78411374e+247,\n",
       "        4.06869074e+233, 5.28557908e+180, 1.38496766e+219,\n",
       "        2.96481315e+222, 2.46600380e-154, 6.01347002e-154],\n",
       "       [6.01347002e-154, 4.76660078e+180, 1.68793016e+219,\n",
       "        1.46923330e+195, 2.08063217e-115, 5.29965388e+180,\n",
       "        6.01334434e-154, 4.90922779e+252, 6.01346954e-154,\n",
       "        4.47593816e-091, 7.08468655e+159, 9.13565290e+242,\n",
       "        3.55455412e+180, 6.01347002e-154, 7.22941924e+159],\n",
       "       [7.62870169e+228, 4.76691726e+180, 8.30550676e+252,\n",
       "        5.38206195e+228, 6.01347002e-154, 5.46647930e+241,\n",
       "        1.28059988e-152, 9.17243507e+170, 3.80985847e+180,\n",
       "        2.78145024e+180, 2.55877516e-086, 7.72445842e+228,\n",
       "        2.20892684e+161, 6.01347002e-154, 7.89000808e+165],\n",
       "       [2.34786149e+251, 2.51968627e+180, 4.90922779e+252,\n",
       "        1.27664647e-152, 1.22606273e-259, 3.01468689e+161,\n",
       "        1.94861713e-153, 6.01334653e-154, 3.15626858e+180,\n",
       "        1.87673453e-152, 1.27966029e-152, 5.98744569e+247,\n",
       "        1.13453900e-153, 5.56206154e+180, 2.28565801e-152],\n",
       "       [6.60065300e+265, 2.46088219e-154, 3.04284970e+169,\n",
       "        4.77092197e+180, 1.69338334e-152, 5.09234030e+246,\n",
       "        9.77596300e-153, 1.94208380e+227, 9.13612771e+242,\n",
       "        5.98129759e-154, 1.06758000e+224, 4.46811730e-091,\n",
       "        5.98149672e-154, 9.13565291e+242, 3.55455412e+180],\n",
       "       [6.01347002e-154, 1.06441859e+248, 3.68727164e+180,\n",
       "        4.83245960e+276, 1.14199444e+243, 4.95261616e+223,\n",
       "        9.13596431e+242, 1.69338334e-152, 2.35287152e+251,\n",
       "        6.01347002e-154, 6.20651817e+223, 5.04526607e+223,\n",
       "        4.72193130e+164, 9.77363227e-153, 9.77596300e-153],\n",
       "       [1.17076152e+214, 4.91347443e+252, 3.57885821e+246,\n",
       "        5.98181678e-154, 3.43507708e+228, 3.11081391e+161,\n",
       "        5.98129759e-154, 2.88281490e+213, 2.47379808e-091,\n",
       "        1.18600496e-259, 8.58149451e+170, 6.01334637e-154,\n",
       "        8.80327511e+247, 2.42774683e-154, 7.50052033e+247],\n",
       "       [4.47590761e-091, 1.62122831e-086, 4.82337433e+228,\n",
       "        3.33116045e-028, 2.66133469e-260, 2.19987206e-152,\n",
       "        1.00839879e+261, 2.41799178e+198, 1.53869304e+256,\n",
       "        1.27734658e-152, 7.36439046e+223, 9.75026003e+199,\n",
       "        5.21975361e+180, 1.48889777e+195, 2.30908182e+251],\n",
       "       [3.99461109e+252, 7.35535672e+223, 7.50187034e+247,\n",
       "        5.22373789e+257, 6.57318496e-085, 7.08468655e+159,\n",
       "        4.35610647e-114, 7.42892368e+165, 1.61737947e+155,\n",
       "        1.01159233e-153, 8.92558561e-106, 9.81676357e+252,\n",
       "        1.02280412e-259, 2.04228077e+214, 1.27734658e-152],\n",
       "       [7.28082171e+223, 4.54606232e+198, 6.14097085e-095,\n",
       "        3.48319726e+228, 3.99999835e+252, 2.97327062e+222,\n",
       "        3.81595085e+180, 6.01334633e-154, 9.77363227e-153,\n",
       "        9.77596300e-153, 5.98745240e+247, 7.42941764e+165,\n",
       "        3.17095867e+180, 6.20198208e+223, 5.55603592e+180],\n",
       "       [2.35345211e+251, 6.01346954e-154, 5.04042891e+180,\n",
       "        9.64312950e-153, 2.35054188e+180, 4.77092984e+180,\n",
       "        1.75631032e-152, 5.04042891e+180, 2.59978012e-085,\n",
       "        1.14199226e+243, 5.98149228e-154, 2.60985693e+180,\n",
       "        3.11082687e+161, 7.20535013e+159, 2.97327062e+222],\n",
       "       [1.17779220e-094, 2.31633993e-152, 1.87673448e-152,\n",
       "        7.35310752e+223, 2.46634382e-154, 1.91085681e+214,\n",
       "        2.31463017e-152, 4.71983708e+164, 5.03582581e+175,\n",
       "        5.37984153e+228, 6.77582194e+180, 1.27731744e-152,\n",
       "        2.43722657e-152, 8.78414060e+247, 4.94065646e-323]])"
      ]
     },
     "execution_count": 73,
     "metadata": {},
     "output_type": "execute_result"
    }
   ],
   "source": [
    "np.empty((15,15))"
   ]
  },
  {
   "cell_type": "code",
   "execution_count": 74,
   "metadata": {},
   "outputs": [
    {
     "data": {
      "text/plain": [
       "array([1, 2, 3, 4, 5])"
      ]
     },
     "execution_count": 74,
     "metadata": {},
     "output_type": "execute_result"
    }
   ],
   "source": [
    "np.array([1,2,3,4,5])"
   ]
  },
  {
   "cell_type": "code",
   "execution_count": 75,
   "metadata": {},
   "outputs": [
    {
     "data": {
      "text/plain": [
       "array([1, 2, 3, 4, 5])"
      ]
     },
     "execution_count": 75,
     "metadata": {},
     "output_type": "execute_result"
    }
   ],
   "source": [
    "np.asarray([1,2,3,4,5])"
   ]
  },
  {
   "cell_type": "code",
   "execution_count": 76,
   "metadata": {},
   "outputs": [
    {
     "name": "stderr",
     "output_type": "stream",
     "text": [
      "C:\\Users\\tejas\\AppData\\Local\\Temp\\ipykernel_3204\\2647264731.py:2: VisibleDeprecationWarning: Creating an ndarray from ragged nested sequences (which is a list-or-tuple of lists-or-tuples-or ndarrays with different lengths or shapes) is deprecated. If you meant to do this, you must specify 'dtype=object' when creating the ndarray.\n",
      "  np.asarray(x)\n"
     ]
    },
    {
     "data": {
      "text/plain": [
       "array([(1, 2, 3, 4), (5, 6)], dtype=object)"
      ]
     },
     "execution_count": 76,
     "metadata": {},
     "output_type": "execute_result"
    }
   ],
   "source": [
    "x = [(1,2,3,4),(5,6)]\n",
    "np.asarray(x)"
   ]
  },
  {
   "cell_type": "code",
   "execution_count": 78,
   "metadata": {},
   "outputs": [
    {
     "data": {
      "text/plain": [
       "array([[1., 0., 0., 0., 0.],\n",
       "       [0., 1., 0., 0., 0.],\n",
       "       [0., 0., 1., 0., 0.],\n",
       "       [0., 0., 0., 1., 0.],\n",
       "       [0., 0., 0., 0., 1.]])"
      ]
     },
     "execution_count": 78,
     "metadata": {},
     "output_type": "execute_result"
    }
   ],
   "source": [
    "np.identity(5)"
   ]
  },
  {
   "cell_type": "code",
   "execution_count": 80,
   "metadata": {},
   "outputs": [
    {
     "data": {
      "text/plain": [
       "array([[0.22612348, 0.04778296, 0.4995853 ],\n",
       "       [0.9824763 , 0.80172744, 0.28495951],\n",
       "       [0.88811277, 0.83406747, 0.51145614]])"
      ]
     },
     "execution_count": 80,
     "metadata": {},
     "output_type": "execute_result"
    }
   ],
   "source": [
    "np.random.rand(3,3)"
   ]
  },
  {
   "cell_type": "code",
   "execution_count": 81,
   "metadata": {},
   "outputs": [
    {
     "data": {
      "text/html": [
       "<div>\n",
       "<style scoped>\n",
       "    .dataframe tbody tr th:only-of-type {\n",
       "        vertical-align: middle;\n",
       "    }\n",
       "\n",
       "    .dataframe tbody tr th {\n",
       "        vertical-align: top;\n",
       "    }\n",
       "\n",
       "    .dataframe thead th {\n",
       "        text-align: right;\n",
       "    }\n",
       "</style>\n",
       "<table border=\"1\" class=\"dataframe\">\n",
       "  <thead>\n",
       "    <tr style=\"text-align: right;\">\n",
       "      <th></th>\n",
       "      <th>0</th>\n",
       "      <th>1</th>\n",
       "      <th>2</th>\n",
       "    </tr>\n",
       "  </thead>\n",
       "  <tbody>\n",
       "    <tr>\n",
       "      <th>0</th>\n",
       "      <td>0.320941</td>\n",
       "      <td>0.586350</td>\n",
       "      <td>0.720879</td>\n",
       "    </tr>\n",
       "    <tr>\n",
       "      <th>1</th>\n",
       "      <td>0.209945</td>\n",
       "      <td>0.807240</td>\n",
       "      <td>0.144969</td>\n",
       "    </tr>\n",
       "    <tr>\n",
       "      <th>2</th>\n",
       "      <td>0.491273</td>\n",
       "      <td>0.268599</td>\n",
       "      <td>0.092212</td>\n",
       "    </tr>\n",
       "  </tbody>\n",
       "</table>\n",
       "</div>"
      ],
      "text/plain": [
       "          0         1         2\n",
       "0  0.320941  0.586350  0.720879\n",
       "1  0.209945  0.807240  0.144969\n",
       "2  0.491273  0.268599  0.092212"
      ]
     },
     "execution_count": 81,
     "metadata": {},
     "output_type": "execute_result"
    }
   ],
   "source": [
    "import pandas as pd\n",
    "pd.DataFrame(np.random.rand(3,3))"
   ]
  },
  {
   "cell_type": "markdown",
   "metadata": {},
   "source": [
    "linspace\n",
    "logspace"
   ]
  },
  {
   "cell_type": "code",
   "execution_count": 82,
   "metadata": {},
   "outputs": [
    {
     "data": {
      "text/plain": [
       "array([0.        , 0.11111111, 0.22222222, 0.33333333, 0.44444444,\n",
       "       0.55555556, 0.66666667, 0.77777778, 0.88888889, 1.        ])"
      ]
     },
     "execution_count": 82,
     "metadata": {},
     "output_type": "execute_result"
    }
   ],
   "source": [
    "np.linspace(0,1,10)"
   ]
  },
  {
   "cell_type": "code",
   "execution_count": 85,
   "metadata": {},
   "outputs": [
    {
     "data": {
      "text/plain": [
       "array([0.  , 0.25, 0.5 , 0.75, 1.  ])"
      ]
     },
     "execution_count": 85,
     "metadata": {},
     "output_type": "execute_result"
    }
   ],
   "source": [
    "np.linspace(0,1,5)"
   ]
  },
  {
   "cell_type": "code",
   "execution_count": 86,
   "metadata": {},
   "outputs": [
    {
     "data": {
      "text/plain": [
       "-0.11111111"
      ]
     },
     "execution_count": 86,
     "metadata": {},
     "output_type": "execute_result"
    }
   ],
   "source": [
    "0.- 0.11111111"
   ]
  },
  {
   "cell_type": "code",
   "execution_count": 87,
   "metadata": {},
   "outputs": [
    {
     "data": {
      "text/plain": [
       "-0.11111111000000007"
      ]
     },
     "execution_count": 87,
     "metadata": {},
     "output_type": "execute_result"
    }
   ],
   "source": [
    "0.77777778 - 0.88888889"
   ]
  },
  {
   "cell_type": "code",
   "execution_count": 91,
   "metadata": {},
   "outputs": [
    {
     "data": {
      "text/plain": [
       "array([ 1.        ,  1.00900901,  1.01801802,  1.02702703,  1.03603604,\n",
       "        1.04504505,  1.05405405,  1.06306306,  1.07207207,  1.08108108,\n",
       "        1.09009009,  1.0990991 ,  1.10810811,  1.11711712,  1.12612613,\n",
       "        1.13513514,  1.14414414,  1.15315315,  1.16216216,  1.17117117,\n",
       "        1.18018018,  1.18918919,  1.1981982 ,  1.20720721,  1.21621622,\n",
       "        1.22522523,  1.23423423,  1.24324324,  1.25225225,  1.26126126,\n",
       "        1.27027027,  1.27927928,  1.28828829,  1.2972973 ,  1.30630631,\n",
       "        1.31531532,  1.32432432,  1.33333333,  1.34234234,  1.35135135,\n",
       "        1.36036036,  1.36936937,  1.37837838,  1.38738739,  1.3963964 ,\n",
       "        1.40540541,  1.41441441,  1.42342342,  1.43243243,  1.44144144,\n",
       "        1.45045045,  1.45945946,  1.46846847,  1.47747748,  1.48648649,\n",
       "        1.4954955 ,  1.5045045 ,  1.51351351,  1.52252252,  1.53153153,\n",
       "        1.54054054,  1.54954955,  1.55855856,  1.56756757,  1.57657658,\n",
       "        1.58558559,  1.59459459,  1.6036036 ,  1.61261261,  1.62162162,\n",
       "        1.63063063,  1.63963964,  1.64864865,  1.65765766,  1.66666667,\n",
       "        1.67567568,  1.68468468,  1.69369369,  1.7027027 ,  1.71171171,\n",
       "        1.72072072,  1.72972973,  1.73873874,  1.74774775,  1.75675676,\n",
       "        1.76576577,  1.77477477,  1.78378378,  1.79279279,  1.8018018 ,\n",
       "        1.81081081,  1.81981982,  1.82882883,  1.83783784,  1.84684685,\n",
       "        1.85585586,  1.86486486,  1.87387387,  1.88288288,  1.89189189,\n",
       "        1.9009009 ,  1.90990991,  1.91891892,  1.92792793,  1.93693694,\n",
       "        1.94594595,  1.95495495,  1.96396396,  1.97297297,  1.98198198,\n",
       "        1.99099099,  2.        ,  2.00900901,  2.01801802,  2.02702703,\n",
       "        2.03603604,  2.04504505,  2.05405405,  2.06306306,  2.07207207,\n",
       "        2.08108108,  2.09009009,  2.0990991 ,  2.10810811,  2.11711712,\n",
       "        2.12612613,  2.13513514,  2.14414414,  2.15315315,  2.16216216,\n",
       "        2.17117117,  2.18018018,  2.18918919,  2.1981982 ,  2.20720721,\n",
       "        2.21621622,  2.22522523,  2.23423423,  2.24324324,  2.25225225,\n",
       "        2.26126126,  2.27027027,  2.27927928,  2.28828829,  2.2972973 ,\n",
       "        2.30630631,  2.31531532,  2.32432432,  2.33333333,  2.34234234,\n",
       "        2.35135135,  2.36036036,  2.36936937,  2.37837838,  2.38738739,\n",
       "        2.3963964 ,  2.40540541,  2.41441441,  2.42342342,  2.43243243,\n",
       "        2.44144144,  2.45045045,  2.45945946,  2.46846847,  2.47747748,\n",
       "        2.48648649,  2.4954955 ,  2.5045045 ,  2.51351351,  2.52252252,\n",
       "        2.53153153,  2.54054054,  2.54954955,  2.55855856,  2.56756757,\n",
       "        2.57657658,  2.58558559,  2.59459459,  2.6036036 ,  2.61261261,\n",
       "        2.62162162,  2.63063063,  2.63963964,  2.64864865,  2.65765766,\n",
       "        2.66666667,  2.67567568,  2.68468468,  2.69369369,  2.7027027 ,\n",
       "        2.71171171,  2.72072072,  2.72972973,  2.73873874,  2.74774775,\n",
       "        2.75675676,  2.76576577,  2.77477477,  2.78378378,  2.79279279,\n",
       "        2.8018018 ,  2.81081081,  2.81981982,  2.82882883,  2.83783784,\n",
       "        2.84684685,  2.85585586,  2.86486486,  2.87387387,  2.88288288,\n",
       "        2.89189189,  2.9009009 ,  2.90990991,  2.91891892,  2.92792793,\n",
       "        2.93693694,  2.94594595,  2.95495495,  2.96396396,  2.97297297,\n",
       "        2.98198198,  2.99099099,  3.        ,  3.00900901,  3.01801802,\n",
       "        3.02702703,  3.03603604,  3.04504505,  3.05405405,  3.06306306,\n",
       "        3.07207207,  3.08108108,  3.09009009,  3.0990991 ,  3.10810811,\n",
       "        3.11711712,  3.12612613,  3.13513514,  3.14414414,  3.15315315,\n",
       "        3.16216216,  3.17117117,  3.18018018,  3.18918919,  3.1981982 ,\n",
       "        3.20720721,  3.21621622,  3.22522523,  3.23423423,  3.24324324,\n",
       "        3.25225225,  3.26126126,  3.27027027,  3.27927928,  3.28828829,\n",
       "        3.2972973 ,  3.30630631,  3.31531532,  3.32432432,  3.33333333,\n",
       "        3.34234234,  3.35135135,  3.36036036,  3.36936937,  3.37837838,\n",
       "        3.38738739,  3.3963964 ,  3.40540541,  3.41441441,  3.42342342,\n",
       "        3.43243243,  3.44144144,  3.45045045,  3.45945946,  3.46846847,\n",
       "        3.47747748,  3.48648649,  3.4954955 ,  3.5045045 ,  3.51351351,\n",
       "        3.52252252,  3.53153153,  3.54054054,  3.54954955,  3.55855856,\n",
       "        3.56756757,  3.57657658,  3.58558559,  3.59459459,  3.6036036 ,\n",
       "        3.61261261,  3.62162162,  3.63063063,  3.63963964,  3.64864865,\n",
       "        3.65765766,  3.66666667,  3.67567568,  3.68468468,  3.69369369,\n",
       "        3.7027027 ,  3.71171171,  3.72072072,  3.72972973,  3.73873874,\n",
       "        3.74774775,  3.75675676,  3.76576577,  3.77477477,  3.78378378,\n",
       "        3.79279279,  3.8018018 ,  3.81081081,  3.81981982,  3.82882883,\n",
       "        3.83783784,  3.84684685,  3.85585586,  3.86486486,  3.87387387,\n",
       "        3.88288288,  3.89189189,  3.9009009 ,  3.90990991,  3.91891892,\n",
       "        3.92792793,  3.93693694,  3.94594595,  3.95495495,  3.96396396,\n",
       "        3.97297297,  3.98198198,  3.99099099,  4.        ,  4.00900901,\n",
       "        4.01801802,  4.02702703,  4.03603604,  4.04504505,  4.05405405,\n",
       "        4.06306306,  4.07207207,  4.08108108,  4.09009009,  4.0990991 ,\n",
       "        4.10810811,  4.11711712,  4.12612613,  4.13513514,  4.14414414,\n",
       "        4.15315315,  4.16216216,  4.17117117,  4.18018018,  4.18918919,\n",
       "        4.1981982 ,  4.20720721,  4.21621622,  4.22522523,  4.23423423,\n",
       "        4.24324324,  4.25225225,  4.26126126,  4.27027027,  4.27927928,\n",
       "        4.28828829,  4.2972973 ,  4.30630631,  4.31531532,  4.32432432,\n",
       "        4.33333333,  4.34234234,  4.35135135,  4.36036036,  4.36936937,\n",
       "        4.37837838,  4.38738739,  4.3963964 ,  4.40540541,  4.41441441,\n",
       "        4.42342342,  4.43243243,  4.44144144,  4.45045045,  4.45945946,\n",
       "        4.46846847,  4.47747748,  4.48648649,  4.4954955 ,  4.5045045 ,\n",
       "        4.51351351,  4.52252252,  4.53153153,  4.54054054,  4.54954955,\n",
       "        4.55855856,  4.56756757,  4.57657658,  4.58558559,  4.59459459,\n",
       "        4.6036036 ,  4.61261261,  4.62162162,  4.63063063,  4.63963964,\n",
       "        4.64864865,  4.65765766,  4.66666667,  4.67567568,  4.68468468,\n",
       "        4.69369369,  4.7027027 ,  4.71171171,  4.72072072,  4.72972973,\n",
       "        4.73873874,  4.74774775,  4.75675676,  4.76576577,  4.77477477,\n",
       "        4.78378378,  4.79279279,  4.8018018 ,  4.81081081,  4.81981982,\n",
       "        4.82882883,  4.83783784,  4.84684685,  4.85585586,  4.86486486,\n",
       "        4.87387387,  4.88288288,  4.89189189,  4.9009009 ,  4.90990991,\n",
       "        4.91891892,  4.92792793,  4.93693694,  4.94594595,  4.95495495,\n",
       "        4.96396396,  4.97297297,  4.98198198,  4.99099099,  5.        ,\n",
       "        5.00900901,  5.01801802,  5.02702703,  5.03603604,  5.04504505,\n",
       "        5.05405405,  5.06306306,  5.07207207,  5.08108108,  5.09009009,\n",
       "        5.0990991 ,  5.10810811,  5.11711712,  5.12612613,  5.13513514,\n",
       "        5.14414414,  5.15315315,  5.16216216,  5.17117117,  5.18018018,\n",
       "        5.18918919,  5.1981982 ,  5.20720721,  5.21621622,  5.22522523,\n",
       "        5.23423423,  5.24324324,  5.25225225,  5.26126126,  5.27027027,\n",
       "        5.27927928,  5.28828829,  5.2972973 ,  5.30630631,  5.31531532,\n",
       "        5.32432432,  5.33333333,  5.34234234,  5.35135135,  5.36036036,\n",
       "        5.36936937,  5.37837838,  5.38738739,  5.3963964 ,  5.40540541,\n",
       "        5.41441441,  5.42342342,  5.43243243,  5.44144144,  5.45045045,\n",
       "        5.45945946,  5.46846847,  5.47747748,  5.48648649,  5.4954955 ,\n",
       "        5.5045045 ,  5.51351351,  5.52252252,  5.53153153,  5.54054054,\n",
       "        5.54954955,  5.55855856,  5.56756757,  5.57657658,  5.58558559,\n",
       "        5.59459459,  5.6036036 ,  5.61261261,  5.62162162,  5.63063063,\n",
       "        5.63963964,  5.64864865,  5.65765766,  5.66666667,  5.67567568,\n",
       "        5.68468468,  5.69369369,  5.7027027 ,  5.71171171,  5.72072072,\n",
       "        5.72972973,  5.73873874,  5.74774775,  5.75675676,  5.76576577,\n",
       "        5.77477477,  5.78378378,  5.79279279,  5.8018018 ,  5.81081081,\n",
       "        5.81981982,  5.82882883,  5.83783784,  5.84684685,  5.85585586,\n",
       "        5.86486486,  5.87387387,  5.88288288,  5.89189189,  5.9009009 ,\n",
       "        5.90990991,  5.91891892,  5.92792793,  5.93693694,  5.94594595,\n",
       "        5.95495495,  5.96396396,  5.97297297,  5.98198198,  5.99099099,\n",
       "        6.        ,  6.00900901,  6.01801802,  6.02702703,  6.03603604,\n",
       "        6.04504505,  6.05405405,  6.06306306,  6.07207207,  6.08108108,\n",
       "        6.09009009,  6.0990991 ,  6.10810811,  6.11711712,  6.12612613,\n",
       "        6.13513514,  6.14414414,  6.15315315,  6.16216216,  6.17117117,\n",
       "        6.18018018,  6.18918919,  6.1981982 ,  6.20720721,  6.21621622,\n",
       "        6.22522523,  6.23423423,  6.24324324,  6.25225225,  6.26126126,\n",
       "        6.27027027,  6.27927928,  6.28828829,  6.2972973 ,  6.30630631,\n",
       "        6.31531532,  6.32432432,  6.33333333,  6.34234234,  6.35135135,\n",
       "        6.36036036,  6.36936937,  6.37837838,  6.38738739,  6.3963964 ,\n",
       "        6.40540541,  6.41441441,  6.42342342,  6.43243243,  6.44144144,\n",
       "        6.45045045,  6.45945946,  6.46846847,  6.47747748,  6.48648649,\n",
       "        6.4954955 ,  6.5045045 ,  6.51351351,  6.52252252,  6.53153153,\n",
       "        6.54054054,  6.54954955,  6.55855856,  6.56756757,  6.57657658,\n",
       "        6.58558559,  6.59459459,  6.6036036 ,  6.61261261,  6.62162162,\n",
       "        6.63063063,  6.63963964,  6.64864865,  6.65765766,  6.66666667,\n",
       "        6.67567568,  6.68468468,  6.69369369,  6.7027027 ,  6.71171171,\n",
       "        6.72072072,  6.72972973,  6.73873874,  6.74774775,  6.75675676,\n",
       "        6.76576577,  6.77477477,  6.78378378,  6.79279279,  6.8018018 ,\n",
       "        6.81081081,  6.81981982,  6.82882883,  6.83783784,  6.84684685,\n",
       "        6.85585586,  6.86486486,  6.87387387,  6.88288288,  6.89189189,\n",
       "        6.9009009 ,  6.90990991,  6.91891892,  6.92792793,  6.93693694,\n",
       "        6.94594595,  6.95495495,  6.96396396,  6.97297297,  6.98198198,\n",
       "        6.99099099,  7.        ,  7.00900901,  7.01801802,  7.02702703,\n",
       "        7.03603604,  7.04504505,  7.05405405,  7.06306306,  7.07207207,\n",
       "        7.08108108,  7.09009009,  7.0990991 ,  7.10810811,  7.11711712,\n",
       "        7.12612613,  7.13513514,  7.14414414,  7.15315315,  7.16216216,\n",
       "        7.17117117,  7.18018018,  7.18918919,  7.1981982 ,  7.20720721,\n",
       "        7.21621622,  7.22522523,  7.23423423,  7.24324324,  7.25225225,\n",
       "        7.26126126,  7.27027027,  7.27927928,  7.28828829,  7.2972973 ,\n",
       "        7.30630631,  7.31531532,  7.32432432,  7.33333333,  7.34234234,\n",
       "        7.35135135,  7.36036036,  7.36936937,  7.37837838,  7.38738739,\n",
       "        7.3963964 ,  7.40540541,  7.41441441,  7.42342342,  7.43243243,\n",
       "        7.44144144,  7.45045045,  7.45945946,  7.46846847,  7.47747748,\n",
       "        7.48648649,  7.4954955 ,  7.5045045 ,  7.51351351,  7.52252252,\n",
       "        7.53153153,  7.54054054,  7.54954955,  7.55855856,  7.56756757,\n",
       "        7.57657658,  7.58558559,  7.59459459,  7.6036036 ,  7.61261261,\n",
       "        7.62162162,  7.63063063,  7.63963964,  7.64864865,  7.65765766,\n",
       "        7.66666667,  7.67567568,  7.68468468,  7.69369369,  7.7027027 ,\n",
       "        7.71171171,  7.72072072,  7.72972973,  7.73873874,  7.74774775,\n",
       "        7.75675676,  7.76576577,  7.77477477,  7.78378378,  7.79279279,\n",
       "        7.8018018 ,  7.81081081,  7.81981982,  7.82882883,  7.83783784,\n",
       "        7.84684685,  7.85585586,  7.86486486,  7.87387387,  7.88288288,\n",
       "        7.89189189,  7.9009009 ,  7.90990991,  7.91891892,  7.92792793,\n",
       "        7.93693694,  7.94594595,  7.95495495,  7.96396396,  7.97297297,\n",
       "        7.98198198,  7.99099099,  8.        ,  8.00900901,  8.01801802,\n",
       "        8.02702703,  8.03603604,  8.04504505,  8.05405405,  8.06306306,\n",
       "        8.07207207,  8.08108108,  8.09009009,  8.0990991 ,  8.10810811,\n",
       "        8.11711712,  8.12612613,  8.13513514,  8.14414414,  8.15315315,\n",
       "        8.16216216,  8.17117117,  8.18018018,  8.18918919,  8.1981982 ,\n",
       "        8.20720721,  8.21621622,  8.22522523,  8.23423423,  8.24324324,\n",
       "        8.25225225,  8.26126126,  8.27027027,  8.27927928,  8.28828829,\n",
       "        8.2972973 ,  8.30630631,  8.31531532,  8.32432432,  8.33333333,\n",
       "        8.34234234,  8.35135135,  8.36036036,  8.36936937,  8.37837838,\n",
       "        8.38738739,  8.3963964 ,  8.40540541,  8.41441441,  8.42342342,\n",
       "        8.43243243,  8.44144144,  8.45045045,  8.45945946,  8.46846847,\n",
       "        8.47747748,  8.48648649,  8.4954955 ,  8.5045045 ,  8.51351351,\n",
       "        8.52252252,  8.53153153,  8.54054054,  8.54954955,  8.55855856,\n",
       "        8.56756757,  8.57657658,  8.58558559,  8.59459459,  8.6036036 ,\n",
       "        8.61261261,  8.62162162,  8.63063063,  8.63963964,  8.64864865,\n",
       "        8.65765766,  8.66666667,  8.67567568,  8.68468468,  8.69369369,\n",
       "        8.7027027 ,  8.71171171,  8.72072072,  8.72972973,  8.73873874,\n",
       "        8.74774775,  8.75675676,  8.76576577,  8.77477477,  8.78378378,\n",
       "        8.79279279,  8.8018018 ,  8.81081081,  8.81981982,  8.82882883,\n",
       "        8.83783784,  8.84684685,  8.85585586,  8.86486486,  8.87387387,\n",
       "        8.88288288,  8.89189189,  8.9009009 ,  8.90990991,  8.91891892,\n",
       "        8.92792793,  8.93693694,  8.94594595,  8.95495495,  8.96396396,\n",
       "        8.97297297,  8.98198198,  8.99099099,  9.        ,  9.00900901,\n",
       "        9.01801802,  9.02702703,  9.03603604,  9.04504505,  9.05405405,\n",
       "        9.06306306,  9.07207207,  9.08108108,  9.09009009,  9.0990991 ,\n",
       "        9.10810811,  9.11711712,  9.12612613,  9.13513514,  9.14414414,\n",
       "        9.15315315,  9.16216216,  9.17117117,  9.18018018,  9.18918919,\n",
       "        9.1981982 ,  9.20720721,  9.21621622,  9.22522523,  9.23423423,\n",
       "        9.24324324,  9.25225225,  9.26126126,  9.27027027,  9.27927928,\n",
       "        9.28828829,  9.2972973 ,  9.30630631,  9.31531532,  9.32432432,\n",
       "        9.33333333,  9.34234234,  9.35135135,  9.36036036,  9.36936937,\n",
       "        9.37837838,  9.38738739,  9.3963964 ,  9.40540541,  9.41441441,\n",
       "        9.42342342,  9.43243243,  9.44144144,  9.45045045,  9.45945946,\n",
       "        9.46846847,  9.47747748,  9.48648649,  9.4954955 ,  9.5045045 ,\n",
       "        9.51351351,  9.52252252,  9.53153153,  9.54054054,  9.54954955,\n",
       "        9.55855856,  9.56756757,  9.57657658,  9.58558559,  9.59459459,\n",
       "        9.6036036 ,  9.61261261,  9.62162162,  9.63063063,  9.63963964,\n",
       "        9.64864865,  9.65765766,  9.66666667,  9.67567568,  9.68468468,\n",
       "        9.69369369,  9.7027027 ,  9.71171171,  9.72072072,  9.72972973,\n",
       "        9.73873874,  9.74774775,  9.75675676,  9.76576577,  9.77477477,\n",
       "        9.78378378,  9.79279279,  9.8018018 ,  9.81081081,  9.81981982,\n",
       "        9.82882883,  9.83783784,  9.84684685,  9.85585586,  9.86486486,\n",
       "        9.87387387,  9.88288288,  9.89189189,  9.9009009 ,  9.90990991,\n",
       "        9.91891892,  9.92792793,  9.93693694,  9.94594595,  9.95495495,\n",
       "        9.96396396,  9.97297297,  9.98198198,  9.99099099, 10.        ])"
      ]
     },
     "execution_count": 91,
     "metadata": {},
     "output_type": "execute_result"
    }
   ],
   "source": [
    "np.linspace(1,10,1000)"
   ]
  },
  {
   "cell_type": "code",
   "execution_count": 92,
   "metadata": {},
   "outputs": [
    {
     "data": {
      "text/plain": [
       "array([1.00000000e+01, 1.77827941e+03, 3.16227766e+05, 5.62341325e+07,\n",
       "       1.00000000e+10])"
      ]
     },
     "execution_count": 92,
     "metadata": {},
     "output_type": "execute_result"
    }
   ],
   "source": [
    "np.logspace(1,10,5)"
   ]
  },
  {
   "cell_type": "markdown",
   "metadata": {},
   "source": [
    "1. We can create an array\n",
    "2. Generate arrays with random number with random number (rand , randn , randint , arange ,choice)\n",
    "3. we can generate some specific array like zeros , ones , full with any value  or empty and empty_like\n",
    "4. Evenly spaced valued array linspace and logspace"
   ]
  },
  {
   "cell_type": "markdown",
   "metadata": {},
   "source": [
    "## Now we have to slice\n"
   ]
  },
  {
   "cell_type": "code",
   "execution_count": 94,
   "metadata": {},
   "outputs": [],
   "source": [
    "a = np.array([2,3,4,5,5,6])"
   ]
  },
  {
   "cell_type": "code",
   "execution_count": 95,
   "metadata": {},
   "outputs": [
    {
     "data": {
      "text/plain": [
       "(6,)"
      ]
     },
     "execution_count": 95,
     "metadata": {},
     "output_type": "execute_result"
    }
   ],
   "source": [
    "a.shape"
   ]
  },
  {
   "cell_type": "code",
   "execution_count": 97,
   "metadata": {},
   "outputs": [],
   "source": [
    "b = np.array([[1,2],[3,4]])"
   ]
  },
  {
   "cell_type": "code",
   "execution_count": 98,
   "metadata": {},
   "outputs": [
    {
     "data": {
      "text/plain": [
       "(2, 2)"
      ]
     },
     "execution_count": 98,
     "metadata": {},
     "output_type": "execute_result"
    }
   ],
   "source": [
    "b.shape"
   ]
  },
  {
   "cell_type": "code",
   "execution_count": 104,
   "metadata": {},
   "outputs": [],
   "source": [
    "c = np.array([[[1,2,3],[3,4,5]],[[6,7,8],[8,9,10]]])"
   ]
  },
  {
   "cell_type": "code",
   "execution_count": 105,
   "metadata": {},
   "outputs": [
    {
     "data": {
      "text/plain": [
       "array([[[ 1,  2,  3],\n",
       "        [ 3,  4,  5]],\n",
       "\n",
       "       [[ 6,  7,  8],\n",
       "        [ 8,  9, 10]]])"
      ]
     },
     "execution_count": 105,
     "metadata": {},
     "output_type": "execute_result"
    }
   ],
   "source": [
    "c"
   ]
  },
  {
   "cell_type": "code",
   "execution_count": 106,
   "metadata": {},
   "outputs": [
    {
     "data": {
      "text/plain": [
       "(2, 2, 3)"
      ]
     },
     "execution_count": 106,
     "metadata": {},
     "output_type": "execute_result"
    }
   ],
   "source": [
    "c.shape"
   ]
  },
  {
   "cell_type": "code",
   "execution_count": 107,
   "metadata": {},
   "outputs": [
    {
     "data": {
      "text/plain": [
       "3"
      ]
     },
     "execution_count": 107,
     "metadata": {},
     "output_type": "execute_result"
    }
   ],
   "source": [
    "c.ndim"
   ]
  },
  {
   "cell_type": "code",
   "execution_count": 108,
   "metadata": {},
   "outputs": [
    {
     "data": {
      "text/plain": [
       "2"
      ]
     },
     "execution_count": 108,
     "metadata": {},
     "output_type": "execute_result"
    }
   ],
   "source": [
    "b.ndim"
   ]
  },
  {
   "cell_type": "code",
   "execution_count": 109,
   "metadata": {},
   "outputs": [
    {
     "data": {
      "text/plain": [
       "1"
      ]
     },
     "execution_count": 109,
     "metadata": {},
     "output_type": "execute_result"
    }
   ],
   "source": [
    "a.ndim"
   ]
  },
  {
   "cell_type": "code",
   "execution_count": 110,
   "metadata": {},
   "outputs": [
    {
     "data": {
      "text/plain": [
       "2"
      ]
     },
     "execution_count": 110,
     "metadata": {},
     "output_type": "execute_result"
    }
   ],
   "source": [
    "a[0]"
   ]
  },
  {
   "cell_type": "code",
   "execution_count": 115,
   "metadata": {},
   "outputs": [
    {
     "data": {
      "text/plain": [
       "5"
      ]
     },
     "execution_count": 115,
     "metadata": {},
     "output_type": "execute_result"
    }
   ],
   "source": [
    "a[4]"
   ]
  },
  {
   "cell_type": "code",
   "execution_count": 116,
   "metadata": {},
   "outputs": [
    {
     "data": {
      "text/plain": [
       "array([3, 4, 5])"
      ]
     },
     "execution_count": 116,
     "metadata": {},
     "output_type": "execute_result"
    }
   ],
   "source": [
    "a[1:4]"
   ]
  },
  {
   "cell_type": "code",
   "execution_count": 129,
   "metadata": {},
   "outputs": [
    {
     "data": {
      "text/plain": [
       "9"
      ]
     },
     "execution_count": 129,
     "metadata": {},
     "output_type": "execute_result"
    }
   ],
   "source": [
    "c[1,1,1]"
   ]
  },
  {
   "cell_type": "code",
   "execution_count": null,
   "metadata": {},
   "outputs": [],
   "source": []
  }
 ],
 "metadata": {
  "kernelspec": {
   "display_name": "Python 3 (ipykernel)",
   "language": "python",
   "name": "python3"
  },
  "language_info": {
   "codemirror_mode": {
    "name": "ipython",
    "version": 3
   },
   "file_extension": ".py",
   "mimetype": "text/x-python",
   "name": "python",
   "nbconvert_exporter": "python",
   "pygments_lexer": "ipython3",
   "version": "3.9.16"
  }
 },
 "nbformat": 4,
 "nbformat_minor": 4
}
