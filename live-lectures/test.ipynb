{
 "cells": [
  {
   "cell_type": "code",
   "execution_count": 1,
   "id": "9082744a-4185-4229-bfc9-1eea019a5d2c",
   "metadata": {},
   "outputs": [
    {
     "name": "stdout",
     "output_type": "stream",
     "text": [
      "30\n"
     ]
    }
   ],
   "source": [
    "a = 10\n",
    "b= 20\n",
    "\n",
    "c= a+b\n",
    "\n",
    "print(c)"
   ]
  },
  {
   "cell_type": "code",
   "execution_count": 2,
   "id": "7ad99bf8-8f43-4cf8-96ad-6dee0006752a",
   "metadata": {},
   "outputs": [],
   "source": [
    "def test():\n",
    "    a = 30\n",
    "    b = 40\n",
    "    c =a + b \n",
    "    print(c)"
   ]
  },
  {
   "cell_type": "code",
   "execution_count": 3,
   "id": "c8d50f27-440f-4272-b9c0-2a3c053e1770",
   "metadata": {},
   "outputs": [
    {
     "name": "stdout",
     "output_type": "stream",
     "text": [
      "70\n"
     ]
    }
   ],
   "source": [
    "test()"
   ]
  },
  {
   "cell_type": "markdown",
   "id": "50c56409-3d33-4736-9c7a-7c11845f68a3",
   "metadata": {},
   "source": [
    "https://docs.python.org/3/library/functions.html"
   ]
  },
  {
   "cell_type": "code",
   "execution_count": 5,
   "id": "8ad80d18-6a6e-4ec4-b6ba-48eb0c33bb0e",
   "metadata": {},
   "outputs": [
    {
     "name": "stdout",
     "output_type": "stream",
     "text": [
      "welcome to python indtroduction class\n"
     ]
    }
   ],
   "source": [
    "print(\"welcome to python indtroduction class\")"
   ]
  },
  {
   "cell_type": "code",
   "execution_count": 6,
   "id": "39bd90fd-8cee-43b4-8a23-0109d2a3f56b",
   "metadata": {},
   "outputs": [],
   "source": [
    "a = 10"
   ]
  },
  {
   "cell_type": "code",
   "execution_count": 8,
   "id": "97e703d9-01a3-42c3-a29c-bb7a1b91f290",
   "metadata": {},
   "outputs": [
    {
     "name": "stdout",
     "output_type": "stream",
     "text": [
      "10\n"
     ]
    }
   ],
   "source": [
    "print(a)"
   ]
  },
  {
   "cell_type": "code",
   "execution_count": 9,
   "id": "78c86ea9-7df9-40e1-a63f-69985535985e",
   "metadata": {},
   "outputs": [],
   "source": [
    "b = 20"
   ]
  },
  {
   "cell_type": "code",
   "execution_count": 10,
   "id": "beaecd38-f65c-4062-a717-43282f99c06b",
   "metadata": {},
   "outputs": [
    {
     "name": "stdout",
     "output_type": "stream",
     "text": [
      "20\n"
     ]
    }
   ],
   "source": [
    "print(b)"
   ]
  },
  {
   "cell_type": "code",
   "execution_count": 11,
   "id": "b6cb35b7-8f70-40db-b1bd-d3187090f8c9",
   "metadata": {},
   "outputs": [
    {
     "name": "stdout",
     "output_type": "stream",
     "text": [
      "10\n",
      "20\n"
     ]
    }
   ],
   "source": [
    "print(a)\n",
    "print(b)"
   ]
  },
  {
   "cell_type": "code",
   "execution_count": 12,
   "id": "f90ea62b-db13-4788-8f6c-55de778fe368",
   "metadata": {},
   "outputs": [
    {
     "name": "stdout",
     "output_type": "stream",
     "text": [
      "this is my first number 10\n"
     ]
    }
   ],
   "source": [
    "print(\"this is my first number\", a)"
   ]
  },
  {
   "cell_type": "code",
   "execution_count": 13,
   "id": "3a1b3e19-931a-490a-9195-6c3148bb70bd",
   "metadata": {},
   "outputs": [
    {
     "name": "stdout",
     "output_type": "stream",
     "text": [
      "this is my second number 20\n"
     ]
    }
   ],
   "source": [
    "print(\"this is my second number\", b)"
   ]
  },
  {
   "cell_type": "code",
   "execution_count": 17,
   "id": "ff866a17-312d-4f88-93a2-ddd99312051f",
   "metadata": {},
   "outputs": [],
   "source": [
    "c= 30"
   ]
  },
  {
   "cell_type": "code",
   "execution_count": 19,
   "id": "e250ec3b-80ff-46a3-9279-c983ececb527",
   "metadata": {},
   "outputs": [
    {
     "name": "stdout",
     "output_type": "stream",
     "text": [
      "102030\n"
     ]
    }
   ],
   "source": [
    "print(a,end=\"\")\n",
    "print(b,end='')\n",
    "print(c)"
   ]
  },
  {
   "cell_type": "markdown",
   "id": "dea2133d-4f20-49c8-8759-26aa79fe93b5",
   "metadata": {},
   "source": [
    " - \\t --> tab or 4 white space\n",
    " - \\b ---> represents the baackspace character"
   ]
  },
  {
   "cell_type": "code",
   "execution_count": 23,
   "id": "f75a03c8-eaf9-439b-b98b-73c8148bb109",
   "metadata": {},
   "outputs": [
    {
     "name": "stdout",
     "output_type": "stream",
     "text": [
      "10\t230\n"
     ]
    }
   ],
   "source": [
    "print(a,end=\"\\t\")\n",
    "print(b,end='\\b')\n",
    "print(c)"
   ]
  },
  {
   "cell_type": "code",
   "execution_count": 26,
   "id": "ee268c80-4189-45bb-ac1f-09ce175eb3c8",
   "metadata": {},
   "outputs": [
    {
     "name": "stdout",
     "output_type": "stream",
     "text": [
      "Help on built-in function print in module builtins:\n",
      "\n",
      "print(...)\n",
      "    print(value, ..., sep=' ', end='\\n', file=sys.stdout, flush=False)\n",
      "    \n",
      "    Prints the values to a stream, or to sys.stdout by default.\n",
      "    Optional keyword arguments:\n",
      "    file:  a file-like object (stream); defaults to the current sys.stdout.\n",
      "    sep:   string inserted between values, default a space.\n",
      "    end:   string appended after the last value, default a newline.\n",
      "    flush: whether to forcibly flush the stream.\n",
      "\n"
     ]
    }
   ],
   "source": [
    "help(print)"
   ]
  },
  {
   "cell_type": "markdown",
   "id": "b2513bd2-ad2a-45c1-8c56-acb1eed23324",
   "metadata": {
    "tags": []
   },
   "source": [
    "# sep\n"
   ]
  },
  {
   "cell_type": "code",
   "execution_count": 29,
   "id": "e3fcded2-2f83-4daf-805a-a7e92f650824",
   "metadata": {},
   "outputs": [
    {
     "name": "stdout",
     "output_type": "stream",
     "text": [
      "1020"
     ]
    }
   ],
   "source": [
    "print(a,b,sep=\"\",end = \"\")"
   ]
  },
  {
   "cell_type": "code",
   "execution_count": 31,
   "id": "8d56b1ea-79c4-4bf4-ada0-b0bb739688cc",
   "metadata": {},
   "outputs": [
    {
     "name": "stdout",
     "output_type": "stream",
     "text": [
      "10=20=30\n"
     ]
    }
   ],
   "source": [
    "print(a,b,c,sep=\"=\")"
   ]
  },
  {
   "cell_type": "markdown",
   "id": "a29f70e6-d94c-4e08-b1e9-0e3c4ca8b2fa",
   "metadata": {
    "tags": []
   },
   "source": [
    "# input function\n",
    "\n",
    "# it is responsible for taking input from user\n"
   ]
  },
  {
   "cell_type": "code",
   "execution_count": 32,
   "id": "f99f72b8-6a32-4807-991b-f42a1d9add4f",
   "metadata": {},
   "outputs": [
    {
     "name": "stdin",
     "output_type": "stream",
     "text": [
      " 10\n"
     ]
    },
    {
     "data": {
      "text/plain": [
       "'10'"
      ]
     },
     "execution_count": 32,
     "metadata": {},
     "output_type": "execute_result"
    }
   ],
   "source": [
    "input()"
   ]
  },
  {
   "cell_type": "code",
   "execution_count": 33,
   "id": "0896e55a-ec9f-49f8-b497-0d0bb6b4d2cf",
   "metadata": {},
   "outputs": [
    {
     "name": "stdin",
     "output_type": "stream",
     "text": [
      "first number: 10\n"
     ]
    },
    {
     "data": {
      "text/plain": [
       "'10'"
      ]
     },
     "execution_count": 33,
     "metadata": {},
     "output_type": "execute_result"
    }
   ],
   "source": [
    "input(\"first number:\")"
   ]
  },
  {
   "cell_type": "code",
   "execution_count": 37,
   "id": "149fbdd0-3ade-4c98-b456-bf65a3c44489",
   "metadata": {},
   "outputs": [
    {
     "name": "stdin",
     "output_type": "stream",
     "text": [
      "please write any number: 1000023\n"
     ]
    }
   ],
   "source": [
    "a = input(\"please write any number:\")"
   ]
  },
  {
   "cell_type": "code",
   "execution_count": 38,
   "id": "6e4ebd10-80a2-42d3-81e0-91ac5b1baf0f",
   "metadata": {},
   "outputs": [
    {
     "name": "stdout",
     "output_type": "stream",
     "text": [
      "1000023\n"
     ]
    }
   ],
   "source": [
    "print(a)"
   ]
  },
  {
   "cell_type": "code",
   "execution_count": 39,
   "id": "d4d19cbb-a24a-4baf-b089-e9181c3391c6",
   "metadata": {},
   "outputs": [
    {
     "data": {
      "text/plain": [
       "str"
      ]
     },
     "execution_count": 39,
     "metadata": {},
     "output_type": "execute_result"
    }
   ],
   "source": [
    "type(a)"
   ]
  },
  {
   "cell_type": "code",
   "execution_count": 44,
   "id": "73482ac5-034c-4a35-937d-12ddec31d07f",
   "metadata": {},
   "outputs": [],
   "source": [
    "a = 100"
   ]
  },
  {
   "cell_type": "code",
   "execution_count": 45,
   "id": "9d11a31a-04e4-462e-95b3-904aa1e56767",
   "metadata": {},
   "outputs": [],
   "source": [
    "b = 200"
   ]
  },
  {
   "cell_type": "code",
   "execution_count": 46,
   "id": "e4437886-4849-4f22-bb5a-c54d459bfa9b",
   "metadata": {},
   "outputs": [
    {
     "data": {
      "text/plain": [
       "300"
      ]
     },
     "execution_count": 46,
     "metadata": {},
     "output_type": "execute_result"
    }
   ],
   "source": [
    "a+b"
   ]
  },
  {
   "cell_type": "code",
   "execution_count": 47,
   "id": "3b944210-1ddc-4001-9c85-86765da1729a",
   "metadata": {},
   "outputs": [
    {
     "ename": "SyntaxError",
     "evalue": "invalid syntax (3757477467.py, line 1)",
     "output_type": "error",
     "traceback": [
      "\u001b[0;36m  Cell \u001b[0;32mIn [47], line 1\u001b[0;36m\u001b[0m\n\u001b[0;31m    a+\u001b[0m\n\u001b[0m      ^\u001b[0m\n\u001b[0;31mSyntaxError\u001b[0m\u001b[0;31m:\u001b[0m invalid syntax\n"
     ]
    }
   ],
   "source": [
    "a+"
   ]
  },
  {
   "cell_type": "code",
   "execution_count": 48,
   "id": "6547da77-a561-431b-a598-9fbefdc0416f",
   "metadata": {},
   "outputs": [
    {
     "ename": "SyntaxError",
     "evalue": "incomplete input (4061749129.py, line 1)",
     "output_type": "error",
     "traceback": [
      "\u001b[0;36m  Cell \u001b[0;32mIn [48], line 1\u001b[0;36m\u001b[0m\n\u001b[0;31m    print(a\u001b[0m\n\u001b[0m           ^\u001b[0m\n\u001b[0;31mSyntaxError\u001b[0m\u001b[0;31m:\u001b[0m incomplete input\n"
     ]
    }
   ],
   "source": [
    "print(a"
   ]
  },
  {
   "cell_type": "code",
   "execution_count": 49,
   "id": "93e9bc69-d663-488b-a33c-b030384379ad",
   "metadata": {},
   "outputs": [
    {
     "name": "stdin",
     "output_type": "stream",
     "text": [
      " sunny\n"
     ]
    },
    {
     "data": {
      "text/plain": [
       "'sunny'"
      ]
     },
     "execution_count": 49,
     "metadata": {},
     "output_type": "execute_result"
    }
   ],
   "source": [
    "input()"
   ]
  },
  {
   "cell_type": "code",
   "execution_count": 50,
   "id": "ca7048a3-ed6e-4aef-a59a-9f13f342d8a3",
   "metadata": {},
   "outputs": [
    {
     "ename": "NameError",
     "evalue": "name 'iinput' is not defined",
     "output_type": "error",
     "traceback": [
      "\u001b[0;31m---------------------------------------------------------------------------\u001b[0m",
      "\u001b[0;31mNameError\u001b[0m                                 Traceback (most recent call last)",
      "Cell \u001b[0;32mIn [50], line 1\u001b[0m\n\u001b[0;32m----> 1\u001b[0m \u001b[43miinput\u001b[49m()\n",
      "\u001b[0;31mNameError\u001b[0m: name 'iinput' is not defined"
     ]
    }
   ],
   "source": [
    "iinput()"
   ]
  },
  {
   "cell_type": "code",
   "execution_count": 55,
   "id": "df529ff0-4fa3-406a-951b-e785eda6c5b6",
   "metadata": {},
   "outputs": [
    {
     "ename": "ZeroDivisionError",
     "evalue": "division by zero",
     "output_type": "error",
     "traceback": [
      "\u001b[0;31m---------------------------------------------------------------------------\u001b[0m",
      "\u001b[0;31mZeroDivisionError\u001b[0m                         Traceback (most recent call last)",
      "Cell \u001b[0;32mIn [55], line 3\u001b[0m\n\u001b[1;32m      1\u001b[0m a \u001b[38;5;241m=\u001b[39m \u001b[38;5;241m10\u001b[39m\n\u001b[1;32m      2\u001b[0m b \u001b[38;5;241m=\u001b[39m \u001b[38;5;241m0\u001b[39m\n\u001b[0;32m----> 3\u001b[0m c\u001b[38;5;241m=\u001b[39m\u001b[43ma\u001b[49m\u001b[38;5;241;43m/\u001b[39;49m\u001b[43mb\u001b[49m\n\u001b[1;32m      4\u001b[0m \u001b[38;5;28mprint\u001b[39m(c)\n",
      "\u001b[0;31mZeroDivisionError\u001b[0m: division by zero"
     ]
    }
   ],
   "source": [
    "a = 10\n",
    "b = 0\n",
    "c=a/b\n",
    "print(c)"
   ]
  },
  {
   "cell_type": "code",
   "execution_count": 59,
   "id": "0b984dfc-67b7-4bde-8b85-86e9505273e1",
   "metadata": {},
   "outputs": [
    {
     "data": {
      "text/plain": [
       "10"
      ]
     },
     "execution_count": 59,
     "metadata": {},
     "output_type": "execute_result"
    }
   ],
   "source": [
    "a"
   ]
  },
  {
   "cell_type": "code",
   "execution_count": 60,
   "id": "e953f21d-1823-4b38-8745-4f0d2e119c1e",
   "metadata": {},
   "outputs": [],
   "source": [
    "B=20"
   ]
  },
  {
   "cell_type": "code",
   "execution_count": 61,
   "id": "805d4469-f65d-4356-a3ff-37b115f66c6b",
   "metadata": {},
   "outputs": [],
   "source": [
    "_=30"
   ]
  },
  {
   "cell_type": "code",
   "execution_count": 62,
   "id": "6f26198a-b044-419b-9c78-5e8824f0644e",
   "metadata": {},
   "outputs": [
    {
     "data": {
      "text/plain": [
       "30"
      ]
     },
     "execution_count": 62,
     "metadata": {},
     "output_type": "execute_result"
    }
   ],
   "source": [
    "_"
   ]
  },
  {
   "cell_type": "code",
   "execution_count": 63,
   "id": "c343d883-19ab-452c-a9a7-79ad19001670",
   "metadata": {},
   "outputs": [],
   "source": [
    "#identifier cannot start with numbers"
   ]
  },
  {
   "cell_type": "code",
   "execution_count": 64,
   "id": "31a3ecbf-80ea-4c3b-b756-1e7af621f776",
   "metadata": {},
   "outputs": [],
   "source": [
    "_30 =1000"
   ]
  },
  {
   "cell_type": "code",
   "execution_count": 65,
   "id": "1eed4857-81bf-466c-9561-7cc3d201aa03",
   "metadata": {},
   "outputs": [
    {
     "name": "stdout",
     "output_type": "stream",
     "text": [
      "1000\n"
     ]
    }
   ],
   "source": [
    "print(_30)"
   ]
  },
  {
   "cell_type": "code",
   "execution_count": 66,
   "id": "263065c5-2feb-41e9-81de-a503bb37e1c9",
   "metadata": {},
   "outputs": [
    {
     "ename": "SyntaxError",
     "evalue": "invalid decimal literal (2788736958.py, line 1)",
     "output_type": "error",
     "traceback": [
      "\u001b[0;36m  Cell \u001b[0;32mIn [66], line 1\u001b[0;36m\u001b[0m\n\u001b[0;31m    30_=1000\u001b[0m\n\u001b[0m      ^\u001b[0m\n\u001b[0;31mSyntaxError\u001b[0m\u001b[0;31m:\u001b[0m invalid decimal literal\n"
     ]
    }
   ],
   "source": [
    "30_=1000"
   ]
  },
  {
   "cell_type": "code",
   "execution_count": 67,
   "id": "9af95885-881c-40c9-9018-1d4e569d76cc",
   "metadata": {},
   "outputs": [],
   "source": [
    "a1=1000"
   ]
  },
  {
   "cell_type": "code",
   "execution_count": 68,
   "id": "16c5e1c6-d2ba-42e8-8894-809d158cc30c",
   "metadata": {},
   "outputs": [],
   "source": [
    "a_=121231"
   ]
  },
  {
   "cell_type": "code",
   "execution_count": 69,
   "id": "afffeb34-6bba-485e-af25-a0f7c3a622d4",
   "metadata": {},
   "outputs": [],
   "source": [
    "_a =221231"
   ]
  },
  {
   "cell_type": "code",
   "execution_count": 71,
   "id": "290da0c3-4370-4c4d-a30b-8167f8570668",
   "metadata": {},
   "outputs": [],
   "source": [
    "_123 ='tejas'"
   ]
  },
  {
   "cell_type": "code",
   "execution_count": 73,
   "id": "7abc4ef6-5d54-4414-a17a-773f7265f999",
   "metadata": {},
   "outputs": [],
   "source": [
    "def _123():\n",
    "    print('tejas')"
   ]
  },
  {
   "cell_type": "code",
   "execution_count": 74,
   "id": "873551d9-4fc8-43a1-bc7e-8675ca36f74d",
   "metadata": {},
   "outputs": [
    {
     "name": "stdout",
     "output_type": "stream",
     "text": [
      "tejas\n"
     ]
    }
   ],
   "source": [
    "_123()"
   ]
  },
  {
   "cell_type": "code",
   "execution_count": 77,
   "id": "e303692c-9b0c-4185-b9a2-80d3c5f100ec",
   "metadata": {},
   "outputs": [
    {
     "name": "stdout",
     "output_type": "stream",
     "text": [
      "\n",
      "Welcome to Python 3.10's help utility!\n",
      "\n",
      "If this is your first time using Python, you should definitely check out\n",
      "the tutorial on the internet at https://docs.python.org/3.10/tutorial/.\n",
      "\n",
      "Enter the name of any module, keyword, or topic to get help on writing\n",
      "Python programs and using Python modules.  To quit this help utility and\n",
      "return to the interpreter, just type \"quit\".\n",
      "\n",
      "To get a list of available modules, keywords, symbols, or topics, type\n",
      "\"modules\", \"keywords\", \"symbols\", or \"topics\".  Each module also comes\n",
      "with a one-line summary of what it does; to list the modules whose name\n",
      "or summary contain a given string such as \"spam\", type \"modules spam\".\n",
      "\n"
     ]
    },
    {
     "name": "stdin",
     "output_type": "stream",
     "text": [
      "help>  keywords\n"
     ]
    },
    {
     "name": "stdout",
     "output_type": "stream",
     "text": [
      "\n",
      "Here is a list of the Python keywords.  Enter any keyword to get more help.\n",
      "\n",
      "False               class               from                or\n",
      "None                continue            global              pass\n",
      "True                def                 if                  raise\n",
      "and                 del                 import              return\n",
      "as                  elif                in                  try\n",
      "assert              else                is                  while\n",
      "async               except              lambda              with\n",
      "await               finally             nonlocal            yield\n",
      "break               for                 not                 \n",
      "\n"
     ]
    },
    {
     "name": "stdin",
     "output_type": "stream",
     "text": [
      "help>  modules\n"
     ]
    },
    {
     "name": "stdout",
     "output_type": "stream",
     "text": [
      "\n",
      "Please wait a moment while I gather a list of all available modules...\n",
      "\n"
     ]
    },
    {
     "name": "stderr",
     "output_type": "stream",
     "text": [
      "/opt/conda/lib/python3.10/site-packages/llvmlite/llvmpy/__init__.py:3: UserWarning: The module `llvmlite.llvmpy` is deprecated and will be removed in the future.\n",
      "  warnings.warn(\n",
      "/opt/conda/lib/python3.10/pkgutil.py:92: UserWarning: The numpy.array_api submodule is still experimental. See NEP 47.\n",
      "  __import__(info.name)\n",
      "/opt/conda/lib/python3.10/site-packages/_distutils_hack/__init__.py:33: UserWarning: Setuptools is replacing distutils.\n",
      "  warnings.warn(\"Setuptools is replacing distutils.\")\n",
      "/opt/conda/lib/python3.10/pkgutil.py:92: UserWarning: viewer requires Qt\n",
      "  __import__(info.name)\n",
      "/opt/conda/lib/python3.10/pkgutil.py:107: VisibleDeprecationWarning: zmq.eventloop.minitornado is deprecated in pyzmq 14.0 and will be removed.\n",
      "    Install tornado itself to use zmq with the tornado IOLoop.\n",
      "    \n",
      "  yield from walk_packages(path, info.name+'.', onerror)\n"
     ]
    },
    {
     "name": "stdout",
     "output_type": "stream",
     "text": [
      "Cython              binhex              json                rpy2\n",
      "IPython             bisect              json5               ruamel_yaml\n",
      "OpenSSL             bleach              jsonschema          runpy\n",
      "PIL                 blinker             jupyter             sched\n",
      "__future__          bokeh               jupyter_client      scipy\n",
      "_abc                bottleneck          jupyter_core        seaborn\n",
      "_aix_support        brotli              jupyter_server      secrets\n",
      "_argon2_cffi_bindings bs4                 jupyter_telemetry   select\n",
      "_ast                builtins            jupyterhub          selectors\n",
      "_asyncio            bz2                 jupyterlab          send2trash\n",
      "_bisect             cProfile            jupyterlab_pygments setuptools\n",
      "_blake2             cached_property     jupyterlab_server   shelve\n",
      "_bootsubprocess     calendar            jupyterlab_widgets  shlex\n",
      "_bz2                certifi             jwt                 shutil\n",
      "_cffi_backend       certipy             keyword             signal\n",
      "_codecs             cffi                kiwisolver          simplegeneric\n",
      "_codecs_cn          cgi                 lib2to3             site\n",
      "_codecs_hk          cgitb               libmambapy          six\n",
      "_codecs_iso2022     charset_normalizer  linecache           skimage\n",
      "_codecs_jp          chunk               llvmlite            sklearn\n",
      "_codecs_kr          click               locale              smtpd\n",
      "_codecs_tw          cloudpickle         locket              smtplib\n",
      "_collections        cmath               logging             sndhdr\n",
      "_collections_abc    cmd                 lz4                 sniffio\n",
      "_compat_pickle      code                lzma                socket\n",
      "_compression        codecs              mailbox             socketserver\n",
      "_contextvars        codeop              mailcap             socks\n",
      "_crypt              collections         mako                sockshandler\n",
      "_csv                colorama            mamba               sortedcontainers\n",
      "_ctypes             colorsys            markupsafe          soupsieve\n",
      "_ctypes_test        compileall          marshal             spwd\n",
      "_curses             concurrent          math                sqlalchemy\n",
      "_curses_panel       conda               matplotlib          sqlite3\n",
      "_datetime           conda_env           matplotlib_inline   sre_compile\n",
      "_decimal            conda_package_handling mimetypes           sre_constants\n",
      "_distutils_hack     configparser        mistune             sre_parse\n",
      "_elementtree        contextlib          mmap                ssl\n",
      "_functools          contextvars         modulefinder        stack_data\n",
      "_hashlib            contourpy           mpmath              stat\n",
      "_heapq              copy                msgpack             statistics\n",
      "_imp                copyreg             multiprocessing     statsmodels\n",
      "_io                 crypt               munkres             string\n",
      "_json               cryptography        nbclassic           stringprep\n",
      "_locale             csv                 nbclient            struct\n",
      "_lsprof             ctypes              nbconvert           subprocess\n",
      "_lzma               curl                nbformat            sunau\n",
      "_markupbase         curses              nest_asyncio        sympy\n",
      "_md5                cycler              netrc               symtable\n",
      "_multibytecodec     cython              networkx            sys\n",
      "_multiprocessing    cytoolz             nis                 sysconfig\n",
      "_opcode             dask                nntplib             syslog\n",
      "_operator           dataclasses         notebook            tables\n",
      "_osx_support        datetime            notebook_shim       tabnanny\n",
      "_pickle             dateutil            ntpath              tarfile\n",
      "_posixshmem         dbm                 nturl2path          tblib\n",
      "_posixsubprocess    debugpy             numba               telnetlib\n",
      "_py_abc             decimal             numbers             tempfile\n",
      "_pydecimal          decorator           numexpr             terminado\n",
      "_pyio               defusedxml          numpy               termios\n",
      "_pyrsistent_version difflib             oauthlib            test\n",
      "_queue              dill                opcode              test_pycosat\n",
      "_random             dis                 openpyxl            textwrap\n",
      "_rinterface_cffi_abi distributed         operator            this\n",
      "_rinterface_cffi_api distutils           optparse            threading\n",
      "_ruamel_yaml        doctest             os                  threadpoolctl\n",
      "_sha1               email               ossaudiodev         tifffile\n",
      "_sha256             encodings           packaging           time\n",
      "_sha3               ensurepip           pamela              timeit\n",
      "_sha512             entrypoints         pandas              tinycss2\n",
      "_signal             enum                pandocfilters       tkinter\n",
      "_sitebuiltins       errno               parso               tlz\n",
      "_socket             et_xmlfile          partd               token\n",
      "_sqlite3            executing           pathlib             tokenize\n",
      "_sre                fastjsonschema      patsy               tomli\n",
      "_ssl                faulthandler        pdb                 toolz\n",
      "_stat               fcntl               pexpect             tornado\n",
      "_statistics         filecmp             pickle              tqdm\n",
      "_string             fileinput           pickleshare         trace\n",
      "_strptime           flit_core           pickletools         traceback\n",
      "_struct             fnmatch             pip                 tracemalloc\n",
      "_symtable           fontTools           pipes               traitlets\n",
      "_sysconfigdata__linux_x86_64-linux-gnu fractions           pkg_resources       tty\n",
      "_sysconfigdata_x86_64_conda_cos6_linux_gnu fsspec              pkgutil             turtle\n",
      "_sysconfigdata_x86_64_conda_linux_gnu ftplib              pkgutil_resolve_name turtledemo\n",
      "_testbuffer         functools           platform            types\n",
      "_testcapi           gc                  plistlib            typing\n",
      "_testimportmultiple genericpath         poplib              typing_extensions\n",
      "_testinternalcapi   getopt              posix               tzdata\n",
      "_testmultiphase     getpass             posixpath           tzlocal\n",
      "_thread             gettext             pprint              unicodedata\n",
      "_threading_local    glob                profile             unicodedata2\n",
      "_tkinter            gmpy2               prometheus_client   unittest\n",
      "_tracemalloc        graphlib            prompt_toolkit      urllib\n",
      "_uuid               greenlet            pstats              urllib3\n",
      "_warnings           grp                 psutil              uu\n",
      "_weakref            gzip                pty                 uuid\n",
      "_weakrefset         h5py                ptyprocess          venv\n",
      "_xxsubinterpreters  hashlib             pure_eval           warnings\n",
      "_xxtestfuzz         heapdict            pvectorc            wave\n",
      "_yaml               heapq               pwd                 wcwidth\n",
      "_zoneinfo           hmac                py_compile          weakref\n",
      "abc                 html                pyclbr              webbrowser\n",
      "aifc                http                pycosat             webencodings\n",
      "alembic             idlelib             pycparser           websocket\n",
      "altair              idna                pycurl              wheel\n",
      "antigravity         imagecodecs         pydoc               widgetsnbextension\n",
      "anyio               imageio             pydoc_data          wsgiref\n",
      "argon2              imaplib             pyexpat             xdrlib\n",
      "argparse            imghdr              pygments            xlrd\n",
      "array               imp                 pylab               xml\n",
      "ast                 importlib           pyparsing           xmlrpc\n",
      "asttokens           importlib_metadata  pyrsistent          xxlimited\n",
      "async_generator     importlib_resources pythonjsonlogger    xxlimited_35\n",
      "asynchat            inspect             pytz                xxsubtype\n",
      "asyncio             io                  pytz_deprecation_shim yaml\n",
      "asyncore            ipaddress           pywt                zict\n",
      "atexit              ipykernel           pyximport           zipapp\n",
      "attr                ipykernel_launcher  queue               zipfile\n",
      "attrs               ipympl              quopri              zipimport\n",
      "audioop             ipython_genutils    random              zipp\n",
      "babel               ipywidgets          re                  zlib\n",
      "backcall            isympy              readline            zmq\n",
      "backports           itertools           reprlib             zoneinfo\n",
      "base64              jedi                requests            \n",
      "bdb                 jinja2              resource            \n",
      "binascii            joblib              rlcompleter         \n",
      "\n",
      "Enter any module name to get more help.  Or, type \"modules spam\" to search\n",
      "for modules whose name or summary contain the string \"spam\".\n",
      "\n"
     ]
    },
    {
     "name": "stdin",
     "output_type": "stream",
     "text": [
      "help>  spam\n"
     ]
    },
    {
     "name": "stdout",
     "output_type": "stream",
     "text": [
      "No Python documentation found for 'spam'.\n",
      "Use help() to get the interactive help utility.\n",
      "Use help(str) for help on the str class.\n",
      "\n"
     ]
    },
    {
     "name": "stdin",
     "output_type": "stream",
     "text": [
      "help>  modules spam\n"
     ]
    },
    {
     "name": "stdout",
     "output_type": "stream",
     "text": [
      "\n",
      "Here is a list of modules whose name or summary contains 'spam'.\n",
      "If there are any, enter a module name to get more help.\n",
      "\n",
      "\n"
     ]
    },
    {
     "name": "stdin",
     "output_type": "stream",
     "text": [
      "help>  modules abc\n"
     ]
    },
    {
     "name": "stdout",
     "output_type": "stream",
     "text": [
      "\n",
      "Here is a list of modules whose name or summary contains 'abc'.\n",
      "If there are any, enter a module name to get more help.\n",
      "\n",
      "_abc - Module contains faster C implementation of abc.ABCMeta\n",
      "_collections_abc - Abstract Base Classes (ABCs) for collections, according to PEP 3119.\n",
      "_py_abc \n",
      "abc - Abstract Base Classes (ABCs) according to PEP 3119.\n",
      "collections.abc \n",
      "importlib._abc - Subset of importlib.abc used to reduce importlib.util imports.\n",
      "importlib.abc - Abstract base classes related to import.\n",
      "numbers - Abstract Base Classes (ABCs) for numbers, according to PEP 3141.\n",
      "anyio.abc \n",
      "anyio.abc._resources \n",
      "anyio.abc._sockets \n",
      "anyio.abc._streams \n",
      "anyio.abc._subprocesses \n",
      "anyio.abc._tasks \n",
      "anyio.abc._testing \n",
      "importlib_resources.abc \n",
      "jupyter_client.channelsabc - Abstract base classes for kernel client channels\n",
      "jupyter_client.clientabc - Abstract base class for kernel clients\n",
      "jupyter_client.managerabc - Abstract base class for kernel managers.\n",
      "numpy.core.tests.test_abc \n",
      "openpyxl.compat.abc \n",
      "pip._vendor.resolvelib.compat.collections_abc \n",
      "pip._vendor.rich.abc \n",
      "pkg_resources._vendor.importlib_resources.abc \n",
      "setuptools._vendor.importlib_resources.abc \n",
      "sympy.abc - This module exports all latin and greek letters as Symbols, so you can\n",
      "\n"
     ]
    },
    {
     "name": "stdin",
     "output_type": "stream",
     "text": [
      "help>  quit\n"
     ]
    },
    {
     "name": "stdout",
     "output_type": "stream",
     "text": [
      "\n",
      "You are now leaving help and returning to the Python interpreter.\n",
      "If you want to ask for help on a particular object directly from the\n",
      "interpreter, you can type \"help(object)\".  Executing \"help('string')\"\n",
      "has the same effect as typing a particular string at the help> prompt.\n"
     ]
    }
   ],
   "source": [
    "help()"
   ]
  },
  {
   "cell_type": "code",
   "execution_count": 81,
   "id": "252c836c-dc84-4469-9ab5-f43cdc3ba862",
   "metadata": {},
   "outputs": [
    {
     "name": "stdout",
     "output_type": "stream",
     "text": [
      "100\n"
     ]
    }
   ],
   "source": [
    "a = 100\n",
    "print(a)"
   ]
  },
  {
   "cell_type": "code",
   "execution_count": 82,
   "id": "a28e0ebe-19d0-43ec-a6ef-3a4f19a77447",
   "metadata": {},
   "outputs": [
    {
     "name": "stdout",
     "output_type": "stream",
     "text": [
      "tejas\n"
     ]
    }
   ],
   "source": [
    "if a > 10: #the condition will be true and my code will execute\n",
    "    print('tejas')"
   ]
  },
  {
   "cell_type": "code",
   "execution_count": 85,
   "id": "3b4315f2-0020-4462-967b-d860c2ff8e7c",
   "metadata": {},
   "outputs": [
    {
     "ename": "SyntaxError",
     "evalue": "assignment to yield expression not possible (3318578128.py, line 1)",
     "output_type": "error",
     "traceback": [
      "\u001b[0;36m  Cell \u001b[0;32mIn [85], line 1\u001b[0;36m\u001b[0m\n\u001b[0;31m    yield=12142\u001b[0m\n\u001b[0m    ^\u001b[0m\n\u001b[0;31mSyntaxError\u001b[0m\u001b[0;31m:\u001b[0m assignment to yield expression not possible\n"
     ]
    }
   ],
   "source": [
    "yield=12142"
   ]
  },
  {
   "cell_type": "code",
   "execution_count": 88,
   "id": "c46b58b9-902c-4c56-8d8f-5e86008225ee",
   "metadata": {},
   "outputs": [
    {
     "name": "stdout",
     "output_type": "stream",
     "text": [
      "\n",
      "Welcome to Python 3.10's help utility!\n",
      "\n",
      "If this is your first time using Python, you should definitely check out\n",
      "the tutorial on the internet at https://docs.python.org/3.10/tutorial/.\n",
      "\n",
      "Enter the name of any module, keyword, or topic to get help on writing\n",
      "Python programs and using Python modules.  To quit this help utility and\n",
      "return to the interpreter, just type \"quit\".\n",
      "\n",
      "To get a list of available modules, keywords, symbols, or topics, type\n",
      "\"modules\", \"keywords\", \"symbols\", or \"topics\".  Each module also comes\n",
      "with a one-line summary of what it does; to list the modules whose name\n",
      "or summary contain a given string such as \"spam\", type \"modules spam\".\n",
      "\n"
     ]
    },
    {
     "name": "stdin",
     "output_type": "stream",
     "text": [
      "help>  yield\n"
     ]
    },
    {
     "name": "stdout",
     "output_type": "stream",
     "text": [
      "The \"yield\" statement\n",
      "*********************\n",
      "\n",
      "   yield_stmt ::= yield_expression\n",
      "\n",
      "A \"yield\" statement is semantically equivalent to a yield expression.\n",
      "The yield statement can be used to omit the parentheses that would\n",
      "otherwise be required in the equivalent yield expression statement.\n",
      "For example, the yield statements\n",
      "\n",
      "   yield <expr>\n",
      "   yield from <expr>\n",
      "\n",
      "are equivalent to the yield expression statements\n",
      "\n",
      "   (yield <expr>)\n",
      "   (yield from <expr>)\n",
      "\n",
      "Yield expressions and statements are only used when defining a\n",
      "*generator* function, and are only used in the body of the generator\n",
      "function.  Using yield in a function definition is sufficient to cause\n",
      "that definition to create a generator function instead of a normal\n",
      "function.\n",
      "\n",
      "For full details of \"yield\" semantics, refer to the Yield expressions\n",
      "section.\n",
      "\n"
     ]
    },
    {
     "name": "stdin",
     "output_type": "stream",
     "text": [
      "help>  quit\n"
     ]
    },
    {
     "name": "stdout",
     "output_type": "stream",
     "text": [
      "\n",
      "You are now leaving help and returning to the Python interpreter.\n",
      "If you want to ask for help on a particular object directly from the\n",
      "interpreter, you can type \"help(object)\".  Executing \"help('string')\"\n",
      "has the same effect as typing a particular string at the help> prompt.\n"
     ]
    }
   ],
   "source": [
    "help()"
   ]
  }
 ],
 "metadata": {
  "kernelspec": {
   "display_name": "Python 3 (ipykernel)",
   "language": "python",
   "name": "python3"
  },
  "language_info": {
   "codemirror_mode": {
    "name": "ipython",
    "version": 3
   },
   "file_extension": ".py",
   "mimetype": "text/x-python",
   "name": "python",
   "nbconvert_exporter": "python",
   "pygments_lexer": "ipython3",
   "version": "3.10.6"
  }
 },
 "nbformat": 4,
 "nbformat_minor": 5
}
