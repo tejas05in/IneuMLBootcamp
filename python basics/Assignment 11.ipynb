{
 "cells": [
  {
   "cell_type": "markdown",
   "id": "4fbd7162-361b-4c6a-bdc9-5b79f84b29bb",
   "metadata": {},
   "source": [
    "1. Create an assert statement that throws an AssertionError if the variable spam is a negative integer."
   ]
  },
  {
   "cell_type": "code",
   "execution_count": 27,
   "id": "42e3293e",
   "metadata": {},
   "outputs": [],
   "source": [
    "#Ans1\n",
    "spam = -1"
   ]
  },
  {
   "cell_type": "code",
   "execution_count": 28,
   "id": "88cf40ea-ae50-47ab-b6ae-e057bf9b992a",
   "metadata": {},
   "outputs": [
    {
     "ename": "AssertionError",
     "evalue": "the spam variable is negative",
     "output_type": "error",
     "traceback": [
      "\u001b[1;31m---------------------------------------------------------------------------\u001b[0m",
      "\u001b[1;31mAssertionError\u001b[0m                            Traceback (most recent call last)",
      "\u001b[1;32m~\\AppData\\Local\\Temp\\ipykernel_9548\\3914972145.py\u001b[0m in \u001b[0;36m<module>\u001b[1;34m\u001b[0m\n\u001b[1;32m----> 1\u001b[1;33m \u001b[1;32massert\u001b[0m \u001b[0mspam\u001b[0m \u001b[1;33m>\u001b[0m\u001b[1;36m0\u001b[0m\u001b[1;33m,\u001b[0m \u001b[1;34m'the spam variable is negative'\u001b[0m\u001b[1;33m\u001b[0m\u001b[1;33m\u001b[0m\u001b[0m\n\u001b[0m",
      "\u001b[1;31mAssertionError\u001b[0m: the spam variable is negative"
     ]
    }
   ],
   "source": [
    "assert spam >0, 'the spam variable is negative'"
   ]
  },
  {
   "cell_type": "markdown",
   "id": "9a5f2753",
   "metadata": {},
   "source": [
    "2.Write an assert statement that triggers an AssertionError if the variables eggs and bacon contain strings that are the same as each other, even if their cases are different (that is, 'hello' and 'hello' are considered the same, and 'goodbye' and 'GOODbye' are also considered the same)."
   ]
  },
  {
   "cell_type": "code",
   "execution_count": 29,
   "id": "15a4256f",
   "metadata": {},
   "outputs": [],
   "source": [
    "#Ans2\n",
    "eggs = 'Eggs'\n",
    "bacon = 'EGGS'"
   ]
  },
  {
   "cell_type": "code",
   "execution_count": 30,
   "id": "4bf75b5e",
   "metadata": {},
   "outputs": [
    {
     "ename": "AssertionError",
     "evalue": "The eggs and bacon variables are the same!",
     "output_type": "error",
     "traceback": [
      "\u001b[1;31m---------------------------------------------------------------------------\u001b[0m",
      "\u001b[1;31mAssertionError\u001b[0m                            Traceback (most recent call last)",
      "\u001b[1;32m~\\AppData\\Local\\Temp\\ipykernel_9548\\2703397107.py\u001b[0m in \u001b[0;36m<module>\u001b[1;34m\u001b[0m\n\u001b[1;32m----> 1\u001b[1;33m \u001b[1;32massert\u001b[0m \u001b[0meggs\u001b[0m\u001b[1;33m.\u001b[0m\u001b[0mlower\u001b[0m\u001b[1;33m(\u001b[0m\u001b[1;33m)\u001b[0m \u001b[1;33m!=\u001b[0m \u001b[0mbacon\u001b[0m\u001b[1;33m.\u001b[0m\u001b[0mlower\u001b[0m\u001b[1;33m(\u001b[0m\u001b[1;33m)\u001b[0m\u001b[1;33m,\u001b[0m \u001b[1;34m'The eggs and bacon variables are the same!'\u001b[0m\u001b[1;33m\u001b[0m\u001b[1;33m\u001b[0m\u001b[0m\n\u001b[0m",
      "\u001b[1;31mAssertionError\u001b[0m: The eggs and bacon variables are the same!"
     ]
    }
   ],
   "source": [
    "assert eggs.lower() != bacon.lower(), 'The eggs and bacon variables are the same!'"
   ]
  },
  {
   "cell_type": "markdown",
   "id": "0ceb575c",
   "metadata": {},
   "source": [
    "3. Create an assert statement that throws an AssertionError every time."
   ]
  },
  {
   "cell_type": "code",
   "execution_count": 31,
   "id": "d09f1603",
   "metadata": {},
   "outputs": [
    {
     "ename": "AssertionError",
     "evalue": "throw assertion error everytime",
     "output_type": "error",
     "traceback": [
      "\u001b[1;31m---------------------------------------------------------------------------\u001b[0m",
      "\u001b[1;31mAssertionError\u001b[0m                            Traceback (most recent call last)",
      "\u001b[1;32m~\\AppData\\Local\\Temp\\ipykernel_9548\\998878753.py\u001b[0m in \u001b[0;36m<module>\u001b[1;34m\u001b[0m\n\u001b[0;32m      1\u001b[0m \u001b[1;31m#Ans3\u001b[0m\u001b[1;33m\u001b[0m\u001b[1;33m\u001b[0m\u001b[0m\n\u001b[1;32m----> 2\u001b[1;33m \u001b[1;32massert\u001b[0m \u001b[1;32mFalse\u001b[0m\u001b[1;33m,\u001b[0m\u001b[1;34m\"throw assertion error everytime\"\u001b[0m\u001b[1;33m\u001b[0m\u001b[1;33m\u001b[0m\u001b[0m\n\u001b[0m",
      "\u001b[1;31mAssertionError\u001b[0m: throw assertion error everytime"
     ]
    }
   ],
   "source": [
    "#Ans3\n",
    "assert False,\"throw assertion error everytime\""
   ]
  },
  {
   "cell_type": "markdown",
   "id": "855daf2f",
   "metadata": {},
   "source": [
    "4 . What are the two lines that must be present in your software in order to call logging.debug()?"
   ]
  },
  {
   "cell_type": "markdown",
   "id": "553a3b05",
   "metadata": {},
   "source": [
    "Ans4: To be able to call logging.debug(), you must have these two lines at the start of your program: "
   ]
  },
  {
   "cell_type": "code",
   "execution_count": 32,
   "id": "16f11111",
   "metadata": {},
   "outputs": [],
   "source": [
    "import logging \n",
    "logging.basicConfig(level=logging.DEBUG, \n",
    "format=' %(asctime)s - %(levelname)s - %(message)s')"
   ]
  },
  {
   "cell_type": "markdown",
   "id": "fca751bf",
   "metadata": {},
   "source": [
    "5. What are the two lines that your program must have in order to have logging.debug() send a logging message to a file named programLog.txt?"
   ]
  },
  {
   "cell_type": "markdown",
   "id": "27e2dcb1",
   "metadata": {},
   "source": [
    "Ans5: To be able to send logging messages to a file named programLog.txt with logging.debug(), you must have these two lines at the start of your program:"
   ]
  },
  {
   "cell_type": "code",
   "execution_count": 33,
   "id": "4da176cc",
   "metadata": {},
   "outputs": [],
   "source": [
    "import logging\n",
    "\n",
    "logging.basicConfig(filename='programLog.txt', level=logging.DEBUG,\n",
    "\n",
    "format=' %(asctime)s - %(levelname)s - %(message)s')"
   ]
  },
  {
   "cell_type": "markdown",
   "id": "1e617597",
   "metadata": {},
   "source": [
    "6. What are the five levels of logging?"
   ]
  },
  {
   "cell_type": "markdown",
   "id": "f0c5a648",
   "metadata": {},
   "source": [
    "Ans 6: DEBUG, INFO, WARNING, ERROR, and CRITICAL"
   ]
  },
  {
   "cell_type": "markdown",
   "id": "d0849e03",
   "metadata": {},
   "source": [
    "7. What line of code would you add to your software to disable all logging messages?"
   ]
  },
  {
   "cell_type": "markdown",
   "id": "8be0de63",
   "metadata": {},
   "source": [
    "Ans 7: logging.disable(logging.CRITICAL)"
   ]
  },
  {
   "cell_type": "markdown",
   "id": "63a8d70e",
   "metadata": {},
   "source": [
    "8.Why is using logging messages better than using print() to display the same message?"
   ]
  },
  {
   "cell_type": "markdown",
   "id": "c5b704e7",
   "metadata": {},
   "source": [
    "Ans 8 : You can disable logging messages without removing the logging function calls. You can selectively disable lower-level logging messages. You can create logging messages. Logging messages provides a timestamp."
   ]
  },
  {
   "cell_type": "markdown",
   "id": "011d3c1c",
   "metadata": {},
   "source": [
    "9. What are the differences between the Step Over, Step In, and Step Out buttons in the debugger?9. "
   ]
  },
  {
   "cell_type": "markdown",
   "id": "2b635a14",
   "metadata": {},
   "source": [
    "Ans 9.The Step button will move the debugger into a function call. The Over button will quickly execute the function call without stepping into it. The Out button will quickly execute the rest of the code until it steps out of the function it currently is in."
   ]
  },
  {
   "cell_type": "markdown",
   "id": "ed657feb",
   "metadata": {},
   "source": [
    "10.After you click Continue, when will the debugger stop ?"
   ]
  },
  {
   "cell_type": "markdown",
   "id": "4fbcea32",
   "metadata": {},
   "source": [
    "Ans 10: click Go, the debugger will stop when it has reached the end of the program or a line with a breakpoint."
   ]
  },
  {
   "cell_type": "markdown",
   "id": "365ae95f",
   "metadata": {},
   "source": [
    "11. What is the concept of a breakpoint?"
   ]
  },
  {
   "cell_type": "markdown",
   "id": "61ebf346",
   "metadata": {},
   "source": [
    "Ans 11: breakpoint is a setting on a line of code that causes the debugger to pause when the program execution reaches the line"
   ]
  }
 ],
 "metadata": {
  "kernelspec": {
   "display_name": "Python 3 (ipykernel)",
   "language": "python",
   "name": "python3"
  },
  "language_info": {
   "codemirror_mode": {
    "name": "ipython",
    "version": 3
   },
   "file_extension": ".py",
   "mimetype": "text/x-python",
   "name": "python",
   "nbconvert_exporter": "python",
   "pygments_lexer": "ipython3",
   "version": "3.9.16"
  }
 },
 "nbformat": 4,
 "nbformat_minor": 5
}
