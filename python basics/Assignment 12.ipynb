{
 "cells": [
  {
   "cell_type": "markdown",
   "id": "47a463ed",
   "metadata": {},
   "source": [
    "1. In what modes should the PdfFileReader() and PdfFileWriter() File objects will be opened?\n"
   ]
  },
  {
   "cell_type": "markdown",
   "id": "970aab60",
   "metadata": {},
   "source": [
    "Ans 1: PdfFileReader() needs to be opened in read-binary mode by passing 'rb' as the second argument to open(). Likewise, the File object passed to PyPDF2. PdfFileWriter() needs to be opened in write-binary mode with 'wb'"
   ]
  },
  {
   "cell_type": "markdown",
   "id": "ec5e6f1f",
   "metadata": {},
   "source": [
    "2. From a PdfFileReader object, how do you get a Page object for page 5?\n",
    "\n"
   ]
  },
  {
   "cell_type": "markdown",
   "id": "9f903ab6",
   "metadata": {},
   "source": [
    "Ans 2: PdfFileReader class provides a method called getPage(page_no) to get a page object. Calling getPage(4) will return a Page object for page 5 since page 0 is the first page"
   ]
  },
  {
   "cell_type": "markdown",
   "id": "0cb6a302",
   "metadata": {},
   "source": [
    "3. What PdfFileReader variable stores the number of pages in the PDF document?\n"
   ]
  },
  {
   "cell_type": "markdown",
   "id": "e473bb21",
   "metadata": {},
   "source": [
    "Ans 3: getNumPages() method of PdfFileReader class stores the no pages in a PDF document"
   ]
  },
  {
   "cell_type": "markdown",
   "id": "4660a854",
   "metadata": {},
   "source": [
    "4. If a PdfFileReader object’s PDF is encrypted with the password swordfish, what must you do before you can obtain Page objects from it?"
   ]
  },
  {
   "cell_type": "markdown",
   "id": "6e3cb4c0",
   "metadata": {},
   "source": [
    "Ans 4 : If a PdfFileReader object’s PDF is encrypted with the password swordfish and you're not aware of it. first read the Pdf using the PdfFileReader Class. PdfFileReader class provides a attribute called isEncrypted to check whether a pdf is encrypted or not. the method returns true if a pdf is encrypted and vice versa.\n",
    "if pdf is encrypted use the decrypt() method provided by PdfFileReader class first then try to read the contents/pages of the pdf, else PyPDF2 will raise the following error PyPDF2.utils.PdfReadError: file has not been decrypted"
   ]
  },
  {
   "cell_type": "markdown",
   "id": "aaa6ccf4",
   "metadata": {},
   "source": [
    "5. What methods do you use to rotate a page?"
   ]
  },
  {
   "cell_type": "markdown",
   "id": "de88fe1c",
   "metadata": {},
   "source": [
    "Ans 5 : PyPDF2 Package provides 2 methods to rotate a page:\n",
    "\n",
    "rotateClockWise() -> For Clockwise rotation\n",
    "rotateCounterClockWise() -> For Counter Clockwise rotation\n",
    "The PyPDF2 package only allows you to rotate a page in increments of 90 degrees. You will receive an AssertionError otherwise."
   ]
  },
  {
   "cell_type": "markdown",
   "id": "a1246b44",
   "metadata": {},
   "source": [
    "6. What is the difference between a Run object and a Paragraph object?"
   ]
  },
  {
   "cell_type": "markdown",
   "id": "4a686499",
   "metadata": {},
   "source": [
    "Ans 6 : The structure of a document is represented by three different data types in python-Docx. At the highest level, a Document object represents the entire document. The Document object contains a list of Paragraph objects for the paragraphs in the document. (A new paragraph begins whenever the user presses ENTER or RETURN while typing in a Word document.) Each of these Paragraph objects contains a list of one or more Run objects.\n",
    "\n",
    "The text in a Word document is more than just a string. It has font, size, color, and other styling information associated with it. A style in Word is a collection of these attributes. A Run object is a contiguous run of text with the same style. A new Run object is needed whenever the text style changes."
   ]
  },
  {
   "cell_type": "markdown",
   "id": "dd3509bd",
   "metadata": {},
   "source": [
    "7. How do you obtain a list of Paragraph objects for a Document object that’s stored in a variable named doc?"
   ]
  },
  {
   "cell_type": "code",
   "execution_count": null,
   "id": "d94a2cb9",
   "metadata": {},
   "outputs": [],
   "source": [
    "# Ans 7 : Example Program\n",
    "from docx import Document\n",
    "doc = Document(\"sample_file.docx\") # Path of the Docx file\n",
    "print(doc.paragraphs) # Prints the list of Paragraph objects for a Document\n",
    "for paragraph in doc.paragraphs:\n",
    "    print(paragraph.text) # Prints the text in the paragraph"
   ]
  },
  {
   "cell_type": "markdown",
   "id": "b8704783",
   "metadata": {},
   "source": [
    "8. What type of object has bold, underline, italic, strike, and outline variables?"
   ]
  },
  {
   "cell_type": "markdown",
   "id": "e68f8644",
   "metadata": {},
   "source": [
    "Ans 8 : Run object has bold, underline, italic, strike, and outline variables. The text in a Word document is more than just a string. It has font, size, color, and other styling information associated with it.\n",
    "\n",
    "A style in Word is a collection of these attributes. A Run object is a contiguous run of text with the same style. A new Run object is needed whenever the text style changes."
   ]
  },
  {
   "cell_type": "markdown",
   "id": "d7a76742",
   "metadata": {},
   "source": [
    "9. What is the difference between False, True, and None for the bold variable?"
   ]
  },
  {
   "cell_type": "markdown",
   "id": "530c1317",
   "metadata": {},
   "source": [
    "- bold = True  # Style Set to Bold\n",
    "- bold = False # Style Not Set to Bold\n",
    "- bold = None # Style is Not Applicable"
   ]
  },
  {
   "cell_type": "markdown",
   "id": "162c350c",
   "metadata": {},
   "source": [
    "10. How do you create a Document object for a new Word document?"
   ]
  },
  {
   "cell_type": "code",
   "execution_count": null,
   "id": "c091c0aa",
   "metadata": {},
   "outputs": [],
   "source": [
    "#Ans 10 : # Example Program\n",
    "from docx import Document\n",
    "document = Document()\n",
    "document.add_paragraph(\"Learn python programming\")\n",
    "document.save('mydocument.docx')"
   ]
  },
  {
   "cell_type": "markdown",
   "id": "6acd5685",
   "metadata": {},
   "source": [
    "11. How do you add a paragraph with the text 'Hello, there!' to a Document object stored in a variable named doc?"
   ]
  },
  {
   "cell_type": "code",
   "execution_count": null,
   "id": "1c95b1e3",
   "metadata": {},
   "outputs": [],
   "source": [
    "#Ans 11 :  Example Program\n",
    "from docx import Document\n",
    "doc = Document()\n",
    "doc.add_paragraph('Hello, there!')\n",
    "doc.save('hello.docx'"
   ]
  },
  {
   "cell_type": "markdown",
   "id": "8bc4062c",
   "metadata": {},
   "source": [
    "12. What integers represent the levels of headings available in Word documents?"
   ]
  },
  {
   "cell_type": "markdown",
   "id": "a8719a68",
   "metadata": {},
   "source": [
    "Ans 12 : The levels for a heading in a word document can be specified by using the level attribute inside the add_heading method. There are a total of 5 levels statring for 0 t0 4. where level 0 makes a headline with the horizontal line below the text, whereas the heading level 1 is the main heading. Similarly, the other headings are sub-heading with their's font-sizes in decreasing order."
   ]
  }
 ],
 "metadata": {
  "kernelspec": {
   "display_name": "Python 3 (ipykernel)",
   "language": "python",
   "name": "python3"
  },
  "language_info": {
   "codemirror_mode": {
    "name": "ipython",
    "version": 3
   },
   "file_extension": ".py",
   "mimetype": "text/x-python",
   "name": "python",
   "nbconvert_exporter": "python",
   "pygments_lexer": "ipython3",
   "version": "3.9.16"
  }
 },
 "nbformat": 4,
 "nbformat_minor": 5
}
