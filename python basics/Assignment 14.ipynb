{
 "cells": [
  {
   "cell_type": "markdown",
   "id": "6c20ca44",
   "metadata": {},
   "source": [
    "1. What does RGBA stand for?\n"
   ]
  },
  {
   "cell_type": "markdown",
   "id": "a269149e",
   "metadata": {},
   "source": [
    "Ans 1 : RGBA(Red-Green-Blue-Alpha)\n",
    "The RGB color model is extended in this specification to include “alpha” to allow specification of the opacity of a color."
   ]
  },
  {
   "cell_type": "markdown",
   "id": "e2edcc15",
   "metadata": {},
   "source": [
    "2. From the Pillow module, how do you get the RGBA value of any images?\n"
   ]
  },
  {
   "cell_type": "markdown",
   "id": "1f68f463",
   "metadata": {},
   "source": [
    "Ans 2 : \n",
    "1. import the Image module from the Pillow library. from PIL import Image.\n",
    "2. Open any image and get the RAGBAG values. img = Image.open('image.png') rgba = img.convert(“RGBA”) ...\n",
    "3. Change the color. Data will be an Imaging Core object containing thousands of tuples of RGBA values. ...\n",
    "4. Store the changed image."
   ]
  },
  {
   "cell_type": "markdown",
   "id": "27836b69",
   "metadata": {},
   "source": [
    "3. What is a box tuple, and how does it work?"
   ]
  },
  {
   "cell_type": "markdown",
   "id": "03225b0b",
   "metadata": {},
   "source": [
    "Ans 3 : The box. tuple submodule provides read-only access for the tuple userdata type. It allows, for a single tuple: selective retrieval of the field contents, retrieval of information about size, iteration over all the fields, and conversion to a Lua table."
   ]
  },
  {
   "cell_type": "markdown",
   "id": "9383d56b",
   "metadata": {},
   "source": [
    "4. Use your image and load in notebook then, How can you find out the width and height of an Image object?"
   ]
  },
  {
   "cell_type": "markdown",
   "id": "2c814cae",
   "metadata": {},
   "source": [
    "#### import required module\n",
    "from PIL import Image\n",
    "  \n",
    "#### get image\n",
    "filepath = \"image.png\"\n",
    "img = Image.open(filepath)\n",
    "  \n",
    "#### get width and height\n",
    "width = img.width\n",
    "height = img.height\n",
    "  \n",
    "#### display width and height\n",
    "print(\"The height of the image is: \", height)\n",
    "print(\"The width of the image is: \", width)"
   ]
  },
  {
   "cell_type": "markdown",
   "id": "505abf42",
   "metadata": {},
   "source": [
    "5. What method would you call to get Image object for a 100×100 image, excluding the lower-left quarter of it?\n"
   ]
  },
  {
   "cell_type": "markdown",
   "id": "2707f92c",
   "metadata": {},
   "source": [
    "Set the cropping area with box=(left, upper, right, lower)\n",
    "im.crop((50, 0, 0, 50))"
   ]
  },
  {
   "cell_type": "markdown",
   "id": "9c0ae522",
   "metadata": {},
   "source": [
    "6. After making changes to an Image object, how could you save it as an image file?\n"
   ]
  },
  {
   "cell_type": "markdown",
   "id": "8bd037f6",
   "metadata": {},
   "source": [
    "Ans 6 : To save images, we can use the PIL. save() function. This function is used to export an image to an external file. But to use this function, first, we should have an object which contains an image."
   ]
  },
  {
   "cell_type": "markdown",
   "id": "ec9172ae",
   "metadata": {},
   "source": [
    "7. What module contains Pillow’s shape-drawing code?\n"
   ]
  },
  {
   "cell_type": "markdown",
   "id": "32603c8a",
   "metadata": {},
   "source": [
    "Ans 7 : The 'ImageDraw' module provides simple 2D graphics support for Image Object. Generally, we use this module to create new images, annotate or retouch existing images and to generate graphics on the fly for web use. The graphics commands support the drawing of shapes and annotation of text."
   ]
  },
  {
   "cell_type": "markdown",
   "id": "cd0d0390",
   "metadata": {},
   "source": [
    "8. Image objects do not have drawing methods. What kind of object does? How do you get this kind of object?"
   ]
  },
  {
   "cell_type": "markdown",
   "id": "ef9ddaca",
   "metadata": {},
   "source": [
    " Ans 8 : ImageDraw provides a variety of methods to, as its name suggests, draw on images. With the help of this module, we can draw lines, circles, rectangles and, even write and format text on an image. Objects made by calling the Image.Draw.Draw() have drawing methods inside them. Example described below"
   ]
  },
  {
   "cell_type": "code",
   "execution_count": null,
   "id": "a159b65d",
   "metadata": {},
   "outputs": [],
   "source": [
    "# Importing Image and ImageDraw from PIL\n",
    "from PIL import Image, ImageDraw\n",
    "  \n",
    "# Opening the image to be used\n",
    "img = Image.open('img_path.png')\n",
    "  \n",
    "# Creating a Draw object\n",
    "draw = ImageDraw.Draw(img)\n",
    "  \n",
    "# Drawing a green rectangle\n",
    "# in the middle of the image\n",
    "draw.rectangle(xy = (50, 50, 150, 150),\n",
    "               fill = (0, 127, 0),\n",
    "               outline = (255, 255, 255),\n",
    "               width = 5)\n",
    "  \n",
    "# Method to display the modified image\n",
    "img.show()"
   ]
  }
 ],
 "metadata": {
  "kernelspec": {
   "display_name": "base",
   "language": "python",
   "name": "python3"
  },
  "language_info": {
   "codemirror_mode": {
    "name": "ipython",
    "version": 3
   },
   "file_extension": ".py",
   "mimetype": "text/x-python",
   "name": "python",
   "nbconvert_exporter": "python",
   "pygments_lexer": "ipython3",
   "version": "3.9.16"
  },
  "vscode": {
   "interpreter": {
    "hash": "c370489388e782aa9b6373b0856d4a71cb56f2a887cc53048a8e75b66b592545"
   }
  }
 },
 "nbformat": 4,
 "nbformat_minor": 5
}
