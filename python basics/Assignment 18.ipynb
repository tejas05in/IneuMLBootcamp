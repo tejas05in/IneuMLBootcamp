{
 "cells": [
  {
   "attachments": {},
   "cell_type": "markdown",
   "metadata": {},
   "source": [
    "1\\. Create a zoo.py file first. Define the hours() function, which\n",
    "prints the string 'Open 9-5 daily'. Then, use the interactive\n",
    "interpreter to import the zoo module and call its hours() function."
   ]
  },
  {
   "cell_type": "code",
   "execution_count": 1,
   "id": "5723aaef",
   "metadata": {},
   "outputs": [],
   "source": [
    "with open('zoo.py','w') as f:\n",
    "    f.write(\n",
    "        \"\"\"def hours():\n",
    "            print('Open 9-5 daily')\"\"\"\n",
    "    )"
   ]
  },
  {
   "cell_type": "code",
   "execution_count": 2,
   "id": "6afc99f2",
   "metadata": {},
   "outputs": [
    {
     "name": "stdout",
     "output_type": "stream",
     "text": [
      "Open 9-5 daily\n"
     ]
    }
   ],
   "source": [
    "import zoo as z\n",
    "z.hours()"
   ]
  },
  {
   "attachments": {},
   "cell_type": "markdown",
   "id": "870e0eb7",
   "metadata": {},
   "source": [
    "\n",
    "2\\. In the interactive interpreter, import the zoo module as menagerie\n",
    "and call its hours() function."
   ]
  },
  {
   "cell_type": "code",
   "execution_count": 3,
   "id": "abeee8d9",
   "metadata": {},
   "outputs": [
    {
     "name": "stdout",
     "output_type": "stream",
     "text": [
      "Open 9-5 daily\n"
     ]
    }
   ],
   "source": [
    "import zoo as menagerie\n",
    "menagerie.hours()"
   ]
  },
  {
   "attachments": {},
   "cell_type": "markdown",
   "id": "ec0d03a2",
   "metadata": {},
   "source": [
    "\n",
    "3\\. Using the interpreter, explicitly import and call the hours()\n",
    "function from zoo."
   ]
  },
  {
   "cell_type": "code",
   "execution_count": 4,
   "id": "7ea22e99",
   "metadata": {},
   "outputs": [
    {
     "name": "stdout",
     "output_type": "stream",
     "text": [
      "Open 9-5 daily\n"
     ]
    }
   ],
   "source": [
    "from zoo import hours\n",
    "hours()"
   ]
  },
  {
   "attachments": {},
   "cell_type": "markdown",
   "id": "9004203b",
   "metadata": {},
   "source": [
    "\n",
    "4\\. Import the hours() function as info and call it."
   ]
  },
  {
   "cell_type": "code",
   "execution_count": 5,
   "id": "ffadc427",
   "metadata": {},
   "outputs": [
    {
     "name": "stdout",
     "output_type": "stream",
     "text": [
      "Open 9-5 daily\n"
     ]
    }
   ],
   "source": [
    "from zoo import hours as info\n",
    "info()"
   ]
  },
  {
   "attachments": {},
   "cell_type": "markdown",
   "id": "7cb8ce32",
   "metadata": {},
   "source": [
    "5\\. Create a plain dictionary with the key-value pairs 'a': 1, 'b': 2,\n",
    "and 'c': 3, and print it out.\n",
    "\n"
   ]
  },
  {
   "cell_type": "code",
   "execution_count": 6,
   "id": "2414ae01",
   "metadata": {},
   "outputs": [
    {
     "name": "stdout",
     "output_type": "stream",
     "text": [
      "{'a': 1, 'b': 2, 'c': 3}\n"
     ]
    }
   ],
   "source": [
    "d = {'a':1,'b':2,'c':3}\n",
    "print(d)"
   ]
  },
  {
   "attachments": {},
   "cell_type": "markdown",
   "id": "6b2478d1",
   "metadata": {},
   "source": [
    "6\\.Make an OrderedDict called fancy from the same pairs listed in 5 and\n",
    "print it. Did it print in the same order as plain?"
   ]
  },
  {
   "cell_type": "code",
   "execution_count": 8,
   "id": "457188e6",
   "metadata": {},
   "outputs": [
    {
     "name": "stdout",
     "output_type": "stream",
     "text": [
      "OrderedDict([('a', 1), ('b', 2), ('c', 3)])\n"
     ]
    }
   ],
   "source": [
    "#ans: Yes\n",
    "from collections import OrderedDict\n",
    "o = OrderedDict(d)\n",
    "print(o)"
   ]
  },
  {
   "attachments": {},
   "cell_type": "markdown",
   "id": "085469b3",
   "metadata": {},
   "source": [
    "7\\. Make a default dictionary called dict_of_lists and pass it the\n",
    "argument list. Make the list dict_of_lists\\['a'\\] and append the value\n",
    "'something for a' to it in one assignment. Print dict_of_lists\\['a'\\]."
   ]
  },
  {
   "cell_type": "code",
   "execution_count": 12,
   "id": "90f2c96c",
   "metadata": {},
   "outputs": [
    {
     "data": {
      "text/plain": [
       "['something for a']"
      ]
     },
     "execution_count": 12,
     "metadata": {},
     "output_type": "execute_result"
    }
   ],
   "source": [
    "from collections import defaultdict\n",
    "dict_of_lists = defaultdict(list)\n",
    "dict_of_lists['a'].append('something for a')\n",
    "dict_of_lists['a']"
   ]
  }
 ],
 "metadata": {
  "kernelspec": {
   "display_name": "base",
   "language": "python",
   "name": "python3"
  },
  "language_info": {
   "codemirror_mode": {
    "name": "ipython",
    "version": 3
   },
   "file_extension": ".py",
   "mimetype": "text/x-python",
   "name": "python",
   "nbconvert_exporter": "python",
   "pygments_lexer": "ipython3",
   "version": "3.9.16"
  },
  "vscode": {
   "interpreter": {
    "hash": "c370489388e782aa9b6373b0856d4a71cb56f2a887cc53048a8e75b66b592545"
   }
  }
 },
 "nbformat": 4,
 "nbformat_minor": 5
}
