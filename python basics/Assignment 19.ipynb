{
 "cells": [
  {
   "cell_type": "markdown",
   "id": "554a93e7-fefb-401e-a525-02c270f063da",
   "metadata": {},
   "source": [
    "1. Make a class called Thing with no contents and print it. Then, create an object called example from this class and also print it. Are the printed values the same or different?\n"
   ]
  },
  {
   "cell_type": "code",
   "execution_count": 5,
   "id": "959e5b10-f124-4585-9284-1bd158ff17e6",
   "metadata": {},
   "outputs": [
    {
     "name": "stdout",
     "output_type": "stream",
     "text": [
      "<class '__main__.Thing'>\n"
     ]
    }
   ],
   "source": [
    "#Both are different\n",
    "class Thing:\n",
    "    pass\n",
    "print(Thing)"
   ]
  },
  {
   "cell_type": "code",
   "execution_count": 6,
   "id": "49bebe73-dff0-43b6-a289-4dffbc8c7d5e",
   "metadata": {},
   "outputs": [
    {
     "data": {
      "text/plain": [
       "1888031357136"
      ]
     },
     "execution_count": 6,
     "metadata": {},
     "output_type": "execute_result"
    }
   ],
   "source": [
    "id(Thing)"
   ]
  },
  {
   "cell_type": "code",
   "execution_count": 7,
   "id": "84e0af8e-2cfc-4f4d-81b4-9d80d1b35142",
   "metadata": {},
   "outputs": [
    {
     "name": "stdout",
     "output_type": "stream",
     "text": [
      "<__main__.Thing object at 0x000001B79ABE57F0>\n"
     ]
    }
   ],
   "source": [
    "example = Thing()\n",
    "print(example)"
   ]
  },
  {
   "cell_type": "code",
   "execution_count": 8,
   "id": "42164830-5ee8-4dea-9edd-9f79e54efb7d",
   "metadata": {},
   "outputs": [
    {
     "data": {
      "text/plain": [
       "1888086808560"
      ]
     },
     "execution_count": 8,
     "metadata": {},
     "output_type": "execute_result"
    }
   ],
   "source": [
    "id(example)"
   ]
  },
  {
   "cell_type": "markdown",
   "id": "34945051-e021-4fff-90e6-aaeab03f8796",
   "metadata": {},
   "source": [
    "2. Create a new class called Thing2 and add the value 'abc' to the letters class attribute. Letters should be printed.\n"
   ]
  },
  {
   "cell_type": "code",
   "execution_count": 9,
   "id": "445b89f9-6f65-4e2a-ba77-55c91c34aea8",
   "metadata": {},
   "outputs": [
    {
     "name": "stdout",
     "output_type": "stream",
     "text": [
      "abc\n"
     ]
    }
   ],
   "source": [
    "class Thing2:\n",
    "    letters = 'abc'\n",
    "print(Thing2.letters)"
   ]
  },
  {
   "cell_type": "markdown",
   "id": "8861e0f5-cbdf-4f7d-a84d-b26fd55d40d7",
   "metadata": {},
   "source": [
    "3. Make yet another class called, of course, Thing3. This time, assign the value 'xyz' to an instance (object) attribute called letters. Print letters. Do you need to make an object from the class to do this?\n",
    "\n"
   ]
  },
  {
   "cell_type": "code",
   "execution_count": 14,
   "id": "07a2a746-4b94-4542-912d-f4ed00a5d029",
   "metadata": {},
   "outputs": [],
   "source": [
    "#yes we need to create an object from the class to assign attributes to it\n",
    "class Thing3:\n",
    "    pass\n",
    "obj = Thing3()"
   ]
  },
  {
   "cell_type": "code",
   "execution_count": 15,
   "id": "466d03d3-9544-4204-8da7-b289a3f68252",
   "metadata": {},
   "outputs": [],
   "source": [
    "obj.letters = 'abc'"
   ]
  },
  {
   "cell_type": "code",
   "execution_count": 16,
   "id": "686bc77d-b936-46cf-b543-3cfd6e84aa54",
   "metadata": {},
   "outputs": [
    {
     "name": "stdout",
     "output_type": "stream",
     "text": [
      "abc\n"
     ]
    }
   ],
   "source": [
    "print(obj.letters)"
   ]
  },
  {
   "cell_type": "markdown",
   "id": "35300c00-9984-4c2d-b93b-c16489026997",
   "metadata": {},
   "source": [
    "4. Create an Element class with the instance attributes name, symbol, and number. Create a class object with the values 'Hydrogen,' 'H,' and 1.\n"
   ]
  },
  {
   "cell_type": "code",
   "execution_count": 25,
   "id": "01d7a52e-78d0-45d9-835c-af1c664e5b39",
   "metadata": {},
   "outputs": [
    {
     "name": "stdout",
     "output_type": "stream",
     "text": [
      "Hydrogen\n"
     ]
    }
   ],
   "source": [
    "class Element:\n",
    "    def __init__(self,name,symbol,number):\n",
    "        self.name = name\n",
    "        self.symbol = symbol\n",
    "        self.number = number\n",
    "hydrogen = Element('Hydrogen','H',1)\n",
    "print(hydrogen.name)"
   ]
  },
  {
   "cell_type": "markdown",
   "id": "3d3aee52-1a4b-49f0-a51c-5a7a9d8f2273",
   "metadata": {},
   "source": [
    "5. Make a dictionary with these keys and values: 'name': 'Hydrogen', 'symbol': 'H', 'number': 1. Then, create an object called hydrogen from class Element using this dictionary.\n"
   ]
  },
  {
   "cell_type": "code",
   "execution_count": 26,
   "id": "570aeaa6-a01f-4888-9266-ce844ff77415",
   "metadata": {},
   "outputs": [
    {
     "data": {
      "text/plain": [
       "'Hydrogen'"
      ]
     },
     "execution_count": 26,
     "metadata": {},
     "output_type": "execute_result"
    }
   ],
   "source": [
    "d = {'name':'Hydrogen','symbol':'H','number':1}\n",
    "hydrogen = Element(**d)\n",
    "hydrogen.name"
   ]
  },
  {
   "cell_type": "markdown",
   "id": "6daef54a-e1dc-4354-869e-b13427c60274",
   "metadata": {},
   "source": [
    "6. For the Element class, define a method called dump() that prints the values of the object’s attributes (name, symbol, and number). Create the hydrogen object from this new definition and use dump() to print its attributes.\n",
    "\n"
   ]
  },
  {
   "cell_type": "code",
   "execution_count": 27,
   "id": "1aeccd7e-5233-486a-8747-b34297d985f2",
   "metadata": {},
   "outputs": [
    {
     "name": "stdout",
     "output_type": "stream",
     "text": [
      "Hydrogen H 1\n"
     ]
    }
   ],
   "source": [
    "class Element:\n",
    "    def __init__(self,name,symbol,number):\n",
    "        self.name = name\n",
    "        self.symbol = symbol\n",
    "        self.number = number\n",
    "    def dump(self):\n",
    "        print(self.name,self.symbol,self.number)\n",
    "hydrogen = Element('Hydrogen','H',1)\n",
    "hydrogen.dump()"
   ]
  },
  {
   "cell_type": "markdown",
   "id": "22e638b3-bf0f-44f9-8233-8c4d41dbf75f",
   "metadata": {},
   "source": [
    "7. Call print(hydrogen). In the definition of Element, change the name of method dump to __str__, create a new hydrogen object, and call print(hydrogen) again.\n"
   ]
  },
  {
   "cell_type": "code",
   "execution_count": 28,
   "id": "4c320391-ce31-48b4-941d-dade2ccbd812",
   "metadata": {},
   "outputs": [
    {
     "name": "stdout",
     "output_type": "stream",
     "text": [
      "<__main__.Element object at 0x000001B79ADE8580>\n"
     ]
    }
   ],
   "source": [
    "print(hydrogen)"
   ]
  },
  {
   "cell_type": "code",
   "execution_count": 37,
   "id": "5f6253de-319c-441d-9f9d-762d0a27567c",
   "metadata": {},
   "outputs": [],
   "source": [
    "class Element:\n",
    "    def __init__(self,name,symbol,number):\n",
    "        self.name = name\n",
    "        self.symbol = symbol\n",
    "        self.number = number\n",
    "    def __str__(self):\n",
    "        return f'name = {self.name}, symbol = {self.symbol}, number = {self.number}'\n",
    "hydrogen = Element('Hydrogen','H',1)"
   ]
  },
  {
   "cell_type": "code",
   "execution_count": 38,
   "id": "7662ab82-a972-4ebd-a4fb-fdfcf21b8833",
   "metadata": {},
   "outputs": [
    {
     "name": "stdout",
     "output_type": "stream",
     "text": [
      "name = Hydrogen, symbol = H, number = 1\n"
     ]
    }
   ],
   "source": [
    "print(hydrogen)"
   ]
  },
  {
   "cell_type": "markdown",
   "id": "1c4cd04f-2275-4584-a528-2529c3f071e5",
   "metadata": {},
   "source": [
    "8. Modify Element to make the attributes name, symbol, and number private. Define a getter property for each to return its value.\n"
   ]
  },
  {
   "cell_type": "code",
   "execution_count": 51,
   "id": "4947765b-f764-48c9-9012-d72606e4c965",
   "metadata": {},
   "outputs": [],
   "source": [
    "class Element:\n",
    "    def __init__(self,name,symbol,number):\n",
    "        self.__name = name\n",
    "        self.__symbol = symbol\n",
    "        self.__number = number\n",
    "    @property\n",
    "    def name(self):\n",
    "        return self.__name\n",
    "    @property\n",
    "    def symbol(self):\n",
    "        return self.__symbol\n",
    "    @property\n",
    "    def number(self):\n",
    "        return self.__number\n",
    "hydrogen = Element('Hydrogen','H',1)"
   ]
  },
  {
   "cell_type": "code",
   "execution_count": 53,
   "id": "d80641e0-092c-4663-9641-83c5c95ebce4",
   "metadata": {},
   "outputs": [
    {
     "data": {
      "text/plain": [
       "'Hydrogen'"
      ]
     },
     "execution_count": 53,
     "metadata": {},
     "output_type": "execute_result"
    }
   ],
   "source": [
    "hydrogen.name"
   ]
  },
  {
   "cell_type": "code",
   "execution_count": 54,
   "id": "0b81d110-91be-4d9d-8d4f-f561f218d0ea",
   "metadata": {},
   "outputs": [
    {
     "data": {
      "text/plain": [
       "'H'"
      ]
     },
     "execution_count": 54,
     "metadata": {},
     "output_type": "execute_result"
    }
   ],
   "source": [
    "hydrogen.symbol"
   ]
  },
  {
   "cell_type": "code",
   "execution_count": 55,
   "id": "9ea6fb40-e56e-430d-82e1-ffb6efb23f35",
   "metadata": {},
   "outputs": [
    {
     "data": {
      "text/plain": [
       "1"
      ]
     },
     "execution_count": 55,
     "metadata": {},
     "output_type": "execute_result"
    }
   ],
   "source": [
    "hydrogen.number"
   ]
  },
  {
   "cell_type": "markdown",
   "id": "f23ef1a4-9bb9-458e-baa9-ae3a826df192",
   "metadata": {},
   "source": [
    "9. Define three classes: Bear, Rabbit, and Octothorpe. For each, define only one method: eats(). This should return 'berries' (Bear), 'clover' (Rabbit), or 'campers' (Octothorpe). Create one object from each and print what it eats.\n"
   ]
  },
  {
   "cell_type": "code",
   "execution_count": 70,
   "id": "743f884d-b6ef-409f-95c7-5714b5339afe",
   "metadata": {},
   "outputs": [
    {
     "name": "stdout",
     "output_type": "stream",
     "text": [
      "berries\n",
      "clover\n",
      "campers\n"
     ]
    }
   ],
   "source": [
    "class Bear:\n",
    "    def eats(self):\n",
    "        return'berries'\n",
    "class Rabbit:\n",
    "    def eats(self):\n",
    "        return 'clover'\n",
    "class Octothorpe:\n",
    "    def eats(self):\n",
    "        return 'campers'\n",
    "bear = Bear()\n",
    "rabbit = Rabbit()\n",
    "octothorpe = Octothorpe()\n",
    "\n",
    "print(bear.eats())\n",
    "print(rabbit.eats())\n",
    "print(octothorpe.eats())"
   ]
  },
  {
   "cell_type": "markdown",
   "id": "25676b87-163b-41be-9f48-9c11167afd92",
   "metadata": {},
   "source": [
    "10. Define these classes: Laser, Claw, and SmartPhone. Each has only one method: does(). This returns 'disintegrate' (Laser), 'crush' (Claw), or 'ring' (SmartPhone). Then, define the class Robot that has one instance (object) of each of these. Define a does() method for the Robot that prints what its component objects do."
   ]
  },
  {
   "cell_type": "code",
   "execution_count": 90,
   "id": "90865427-8cdc-4fd5-b91a-3f0ab04200c9",
   "metadata": {},
   "outputs": [],
   "source": [
    "class Laser:\n",
    "    def does(self):\n",
    "        return 'disintegrate'\n",
    "class Claw:\n",
    "    def does(self):\n",
    "        return 'crush'\n",
    "class SmartPhone:\n",
    "    def does(self):\n",
    "        return 'ring'\n"
   ]
  },
  {
   "cell_type": "code",
   "execution_count": 114,
   "id": "a1fcab03-e6c6-41be-a220-8932b70debdc",
   "metadata": {},
   "outputs": [],
   "source": [
    "\n",
    "class Robot:\n",
    "    def __init__(self):\n",
    "        self.laser = Laser()\n",
    "        self.claw = Claw()\n",
    "        self.smartphone = SmartPhone()\n",
    "    def does(self):\n",
    "        return f\"\"\" I am a robot with many parts \n",
    "        My laser to {self.laser.does()},\n",
    "        My claw to {self.claw.does()},\n",
    "        My Smartphone to {self.smartphone.does()}\n",
    "        \"\"\""
   ]
  },
  {
   "cell_type": "code",
   "execution_count": 115,
   "id": "061722e7-ce3d-462a-82ba-df41567f53fc",
   "metadata": {},
   "outputs": [],
   "source": [
    "obj = Robot()"
   ]
  },
  {
   "cell_type": "code",
   "execution_count": 116,
   "id": "f37feb95-b0a8-437a-938b-9b0612c4499a",
   "metadata": {},
   "outputs": [
    {
     "name": "stdout",
     "output_type": "stream",
     "text": [
      " I am a robot with many parts \n",
      "        My laser to disintegrate,\n",
      "        My claw to crush,\n",
      "        My Smartphone to ring\n",
      "        \n"
     ]
    }
   ],
   "source": [
    "print(obj.does())"
   ]
  }
 ],
 "metadata": {
  "kernelspec": {
   "display_name": "Python 3 (ipykernel)",
   "language": "python",
   "name": "python3"
  },
  "language_info": {
   "codemirror_mode": {
    "name": "ipython",
    "version": 3
   },
   "file_extension": ".py",
   "mimetype": "text/x-python",
   "name": "python",
   "nbconvert_exporter": "python",
   "pygments_lexer": "ipython3",
   "version": "3.9.16"
  }
 },
 "nbformat": 4,
 "nbformat_minor": 5
}
