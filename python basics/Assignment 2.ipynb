{
 "cells": [
  {
   "cell_type": "markdown",
   "metadata": {},
   "source": [
    "1. What are the two values of the Boolean data type? How do you write them?\n",
    "\n",
    "Ans 1: The two boolean values are True and False. It can be written as True or False without quotes\n"
   ]
  },
  {
   "cell_type": "markdown",
   "metadata": {},
   "source": [
    "2. What are the three different types of Boolean operators?\n",
    "\n",
    "Ans 2: There are 3 logical operators in Boolean . AND , OR and NOT"
   ]
  },
  {
   "cell_type": "markdown",
   "metadata": {},
   "source": [
    "3. Make a list of each Boolean operator's truth tables (i.e. every possible combination of Boolean values for the operator and what it evaluate )\n",
    "\n",
    "Ans 3:\n",
    "\n",
    "       -------------------------------------------------------------------------------------\n",
    "       |operator                   | what it means                                         |\n",
    "       -------------------------------------------------------------------------------------\n",
    "       |== Equal to                | (True if both values are equal)                       |\n",
    "       |!=Not equal to             | (True if both values are not equal)                   |\n",
    "       |< Less than                | (True if LHS values are less)                         |\n",
    "       |> Greater than             | (True if RHS values are less)                         |\n",
    "       |<= Less than or equal to   | (True if LHS values are lesser or equal to RHS)       |\n",
    "       |>= Greater than or equal to| (True if RHS values are lesser or equal to LHS)       |\n",
    "       |        AND                | true if both are true                                 |\n",
    "       |        OR                 | true if at least one is true                          |\n",
    "       |        NOT                | true only if false                                    |\n",
    "       -------------------------------------------------------------------------------------"
   ]
  },
  {
   "cell_type": "markdown",
   "metadata": {},
   "source": [
    "4. What are the values of the following expressions?\n",
    "       (5 > 4) and (3 == 5)\n",
    "       not (5 > 4)\n",
    "       (5 > 4) or (3 == 5)\n",
    "       not ((5 > 4) or (3 == 5))\n",
    "       (True and True) and (True == False)\n",
    "       (not False) or (not True)\n",
    "\n",
    "Ans 4:\n",
    "\n",
    "       -----------------------------------------------------\n",
    "       |Question                              | Answer      |\n",
    "       -----------------------------------------------------\n",
    "       |(5 > 4) and (3 == 5)                  | False       |\n",
    "       |not (5 > 4)                           | False       |\n",
    "       |(5 > 4) or (3 == 5)                   | True        |\n",
    "       |not ((5 > 4) or (3 == 5))             | False       |\n",
    "       |(True and True) and (True == False)   | False       |\n",
    "       |(not False) or (not True)| True       | True        |\n",
    "       -----------------------------------------------------"
   ]
  },
  {
   "cell_type": "markdown",
   "metadata": {},
   "source": [
    "5. What are the six comparison operators?\n",
    "\n",
    "Ans same as answer for q3"
   ]
  },
  {
   "cell_type": "markdown",
   "metadata": {},
   "source": [
    "6. How do you tell the difference between the equal to and assignment operators?Describe a condition and when you would use one\n",
    "\n",
    "Ans 6: An assigment operation has only one equal symbol Eg: x = a , whereas if value of x is equal to value of a then we use 2 equal sign Eg. x == a . Assignment operator assigns the value on the RHS to the variable on the LHS whereas == equates the values on both sides and then it returns a boolean value.\n",
    "\n",
    "In a condition where i want to store the value if 6 in x i will use assigment operation:\n",
    "x = 6\n",
    "\n",
    "In a condition where i want to test if value of x is 6 then i will use == operation:\n",
    "x == 6"
   ]
  },
  {
   "cell_type": "code",
   "execution_count": 26,
   "metadata": {},
   "outputs": [
    {
     "name": "stdout",
     "output_type": "stream",
     "text": [
      "ham\n",
      "spam\n",
      "spam\n"
     ]
    }
   ],
   "source": [
    "#Q7. Identify the three blocks in this code:\n",
    "\n",
    "\n",
    "#Ans 7: \n",
    "\n",
    "spam = 0\n",
    "if spam == 10:\n",
    "    print('eggs')\n",
    "if spam > 5:\n",
    "    print('bacon')\n",
    "else:\n",
    "    print('ham')\n",
    "    print('spam')\n",
    "    print('spam')\n"
   ]
  },
  {
   "cell_type": "code",
   "execution_count": 27,
   "metadata": {},
   "outputs": [
    {
     "name": "stdout",
     "output_type": "stream",
     "text": [
      "Greeting!\n"
     ]
    }
   ],
   "source": [
    "#8. Write code that prints Hello if 1 is stored in spam, prints Howdy if 2 is stored in spam, and prints Greetings! if anything else is stored in spam.\n",
    "#Ans8:\n",
    "spam = 0\n",
    "if spam == 1:\n",
    "    print('Hello')\n",
    "elif spam == 2:\n",
    "    print('Howdy')\n",
    "else:\n",
    "    print('Greeting!')"
   ]
  },
  {
   "cell_type": "markdown",
   "metadata": {},
   "source": [
    "9.If your programme is stuck in an endless loop, what keys you’ll press?\n",
    "\n",
    "Ans 9:  Ctrl + C"
   ]
  },
  {
   "cell_type": "markdown",
   "metadata": {},
   "source": [
    "10. How can you tell the difference between break and continue?\n",
    "\n",
    "Ans 10:\n",
    "\n",
    "Break will break or end and exit the loop whereas continue will start the loop for next iterable value. In both cases the block of code below them within the loop will not be excuted, the only difference being the loop stops with break and the loop continues with continue"
   ]
  },
  {
   "cell_type": "markdown",
   "metadata": {},
   "source": [
    "11. In a for loop, what is the difference between range(10), range(0, 10), and range(0, 10, 1)?\n",
    "\n",
    "Ans 11. range(10) refers to values upto 10 the default starting point being 0. range(0,10) specfies the starting point for the range as 0 and the end point for the range as 10. range(0, 10, 1) here the starting point for the range is 0 , the end point is 10 and the step / incremental value is 1 which means the range increases by 1 unit for every new loop. All 3 cases return the same set of results as they all have default values\n"
   ]
  },
  {
   "cell_type": "code",
   "execution_count": 32,
   "metadata": {},
   "outputs": [
    {
     "name": "stdout",
     "output_type": "stream",
     "text": [
      "1\n",
      "2\n",
      "3\n",
      "4\n",
      "5\n",
      "6\n",
      "7\n",
      "8\n",
      "9\n",
      "10\n"
     ]
    }
   ],
   "source": [
    "#12. Write a short program that prints the numbers 1 to 10 using a for loop. Then write an equivalent program that prints the numbers 1 to 10 using a while loop.\n",
    "\n",
    "#Ans12: for loop\n",
    "for i in range(1,11):\n",
    "    print(i)"
   ]
  },
  {
   "cell_type": "code",
   "execution_count": 33,
   "metadata": {},
   "outputs": [
    {
     "name": "stdout",
     "output_type": "stream",
     "text": [
      "1\n",
      "2\n",
      "3\n",
      "4\n",
      "5\n",
      "6\n",
      "7\n",
      "8\n",
      "9\n",
      "10\n"
     ]
    }
   ],
   "source": [
    "#Ans12: while loop\n",
    "x = 1\n",
    "while x < 11 :\n",
    "    print (x)\n",
    "    x += 1"
   ]
  },
  {
   "cell_type": "markdown",
   "metadata": {},
   "source": [
    "13. If you had a function named bacon() inside a module named spam, how would you call it after importing spam?"
   ]
  },
  {
   "cell_type": "markdown",
   "metadata": {},
   "source": [
    "ans 13:\n",
    "\n",
    "import spam\n",
    "\n",
    "from spam import bacon()\n",
    "\n",
    "bacon()"
   ]
  },
  {
   "cell_type": "markdown",
   "metadata": {},
   "source": []
  }
 ],
 "metadata": {
  "kernelspec": {
   "display_name": "Python 3.9.13 ('base')",
   "language": "python",
   "name": "python3"
  },
  "language_info": {
   "codemirror_mode": {
    "name": "ipython",
    "version": 3
   },
   "file_extension": ".py",
   "mimetype": "text/x-python",
   "name": "python",
   "nbconvert_exporter": "python",
   "pygments_lexer": "ipython3",
   "version": "3.9.13"
  },
  "orig_nbformat": 4,
  "vscode": {
   "interpreter": {
    "hash": "a993f5f796d0195f371cbefcd77badc46baf45145840c5b0e93ea38fbe8bee64"
   }
  }
 },
 "nbformat": 4,
 "nbformat_minor": 2
}
