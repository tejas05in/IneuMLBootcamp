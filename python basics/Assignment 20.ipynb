{
 "cells": [
  {
   "cell_type": "markdown",
   "metadata": {},
   "source": [
    "# **`ASSIGNMENT 20`**"
   ]
  },
  {
   "cell_type": "markdown",
   "metadata": {},
   "source": [
    "`1. Set the variable test1 to the string 'This is a test of the emergency text system' and save test1 to a\n",
    "file named test.txt.`"
   ]
  },
  {
   "cell_type": "code",
   "execution_count": 2,
   "metadata": {},
   "outputs": [],
   "source": [
    "#Ans 1.\n",
    "test1 = 'This is a test of the emergency text system'\n",
    "with open(\"test.txt\",\"w\") as f:\n",
    "    f.write(test1)"
   ]
  },
  {
   "cell_type": "markdown",
   "metadata": {},
   "source": [
    "`2. Read the contents of the file test.txt into the variable test2. Is there a difference between test 1\n",
    "and test 2?`"
   ]
  },
  {
   "cell_type": "markdown",
   "metadata": {},
   "source": [
    "Ans 2: \n",
    "\n",
    "No, There is no difference"
   ]
  },
  {
   "cell_type": "code",
   "execution_count": 3,
   "metadata": {},
   "outputs": [
    {
     "name": "stdout",
     "output_type": "stream",
     "text": [
      "This is a test of the emergency text system\n"
     ]
    }
   ],
   "source": [
    "with open(\"test.txt\",\"r\") as f:\n",
    "    test2 = f.read()\n",
    "    print(test2)"
   ]
  },
  {
   "cell_type": "markdown",
   "metadata": {},
   "source": [
    "`3. Create a CSV file called books.csv by using these lines:`<br>\n",
    "title,author,year<br>\n",
    "The Weirdstone of Brisingamen,Alan Garner,1960<br>\n",
    "Perdido Street Station,China Miéville,2000<br>\n",
    "Thud!,Terry Pratchett,2005<br>\n",
    "The Spellman Files,Lisa Lutz,2007<br>\n",
    "Small Gods,Terry Pratchett,1992<br>"
   ]
  },
  {
   "cell_type": "code",
   "execution_count": 4,
   "metadata": {},
   "outputs": [],
   "source": [
    "#ans 3.\n",
    "import csv\n",
    "\n",
    "with open(\"books.csv\",\"w\",newline=\"\") as f:\n",
    "    writer = csv.writer(f)\n",
    "\n",
    "    writer.writerow(['title','author','year'])\n",
    "    writer.writerow(['The Weirdstone of Brisingamen','Alan Garner',1960])\n",
    "    writer.writerow(['Perdido Street Station','China Miéville',2000])\n",
    "    writer.writerow(['Thud!','Terry Pratchett',2005])\n",
    "    writer.writerow(['The Spellman Files','Lisa Lutz',2007])\n",
    "    writer.writerow(['Small Gods','Terry Pratchett',1992])"
   ]
  },
  {
   "cell_type": "markdown",
   "metadata": {},
   "source": [
    "`4. Use the sqlite3 module to create a SQLite database called books.db, and a table called books with\n",
    "these fields: title (text), author (text), and year (integer).`"
   ]
  },
  {
   "cell_type": "code",
   "execution_count": 61,
   "metadata": {},
   "outputs": [
    {
     "name": "stdout",
     "output_type": "stream",
     "text": [
      "opened db successfully\n",
      "Table created successfully\n"
     ]
    }
   ],
   "source": [
    "#ans 4\n",
    "import sqlite3\n",
    "\n",
    "conn = sqlite3.connect(\"book.db\")\n",
    "\n",
    "print(\"opened db successfully\")\n",
    "\n",
    "conn.execute('''CREATE TABLE books\n",
    "(Id INT AUTO_INCREMENT PRIMARY KEY NOT NULL,\n",
    "title TEXT NOT NULL,\n",
    "author TEXT NOT NULL,\n",
    "year INT NOT NULL)''')\n",
    "conn.close()\n",
    "print (\"Table created successfully\")"
   ]
  },
  {
   "cell_type": "markdown",
   "metadata": {},
   "source": [
    "`5. Read books.csv and insert its data into the book table.`"
   ]
  },
  {
   "cell_type": "code",
   "execution_count": 80,
   "metadata": {},
   "outputs": [
    {
     "name": "stdout",
     "output_type": "stream",
     "text": [
      "[('title', 'author', 'year'), ('The Weirdstone of Brisingamen', 'Alan Garner', '1960'), ('Perdido Street Station', 'China Miéville', '2000'), ('Thud!', 'Terry Pratchett', '2005'), ('The Spellman Files', 'Lisa Lutz', '2007'), ('Small Gods', 'Terry Pratchett', '1992')]\n",
      "INSERT INTO books VALUES (1,'The Weirdstone of Brisingamen','Alan Garner',1960)\n",
      "INSERT INTO books VALUES (2,'Perdido Street Station','China Miéville',2000)\n",
      "INSERT INTO books VALUES (3,'Thud!','Terry Pratchett',2005)\n",
      "INSERT INTO books VALUES (4,'The Spellman Files','Lisa Lutz',2007)\n",
      "INSERT INTO books VALUES (5,'Small Gods','Terry Pratchett',1992)\n"
     ]
    }
   ],
   "source": [
    "#ans 5\n",
    "import sqlite3\n",
    "\n",
    "conn = sqlite3.connect(\"book.db\")\n",
    "\n",
    "\n",
    "with open(\"books.csv\",\"r\") as f:\n",
    "    reader = csv.reader(f)\n",
    "    data = []\n",
    "    for row in reader:\n",
    "        data.append(tuple(row))\n",
    "    print(data)\n",
    "\n",
    "for i in data[1:]:\n",
    "    print(f'''INSERT INTO books VALUES ({data.index(i)},'{i[0]}','{i[1]}',{int(i[2])})''')\n",
    "    conn.execute(f'''INSERT INTO books VALUES ({data.index(i)},'{i[0]}','{i[1]}',{int(i[2])})''')\n",
    "conn.commit()\n",
    "conn.close()"
   ]
  },
  {
   "cell_type": "markdown",
   "metadata": {},
   "source": [
    "`6. Select and print the title column from the book table in alphabetical order.`"
   ]
  },
  {
   "cell_type": "code",
   "execution_count": 91,
   "metadata": {},
   "outputs": [
    {
     "name": "stdout",
     "output_type": "stream",
     "text": [
      "('Perdido Street Station',)\n",
      "('Small Gods',)\n",
      "('The Spellman Files',)\n",
      "('The Weirdstone of Brisingamen',)\n",
      "('Thud!',)\n"
     ]
    }
   ],
   "source": [
    "#ans 6\n",
    "conn = sqlite3.connect(\"book.db\")\n",
    "\n",
    "\n",
    "cursor = conn.execute('''SELECT title FROM books ORDER BY title ASC''')\n",
    "for i in cursor:\n",
    "    print(i)\n",
    "conn.close()\n",
    "\n"
   ]
  },
  {
   "cell_type": "markdown",
   "metadata": {},
   "source": [
    "`7. From the book table, select and print all columns in the order of publication.`"
   ]
  },
  {
   "cell_type": "code",
   "execution_count": 92,
   "metadata": {},
   "outputs": [
    {
     "name": "stdout",
     "output_type": "stream",
     "text": [
      "(1, 'The Weirdstone of Brisingamen', 'Alan Garner', 1960)\n",
      "(5, 'Small Gods', 'Terry Pratchett', 1992)\n",
      "(2, 'Perdido Street Station', 'China Miéville', 2000)\n",
      "(3, 'Thud!', 'Terry Pratchett', 2005)\n",
      "(4, 'The Spellman Files', 'Lisa Lutz', 2007)\n"
     ]
    }
   ],
   "source": [
    "#ans 7\n",
    "conn = sqlite3.connect(\"book.db\")\n",
    "\n",
    "\n",
    "cursor = conn.execute('''SELECT * FROM books ORDER BY year ASC''')\n",
    "for i in cursor:\n",
    "    print(i)\n",
    "conn.close()"
   ]
  },
  {
   "cell_type": "markdown",
   "metadata": {},
   "source": [
    "`8. Use the sqlalchemy module to connect to the sqlite3 database books.db that you just made in\n",
    "exercise 6.`"
   ]
  },
  {
   "cell_type": "code",
   "execution_count": 123,
   "metadata": {},
   "outputs": [
    {
     "name": "stderr",
     "output_type": "stream",
     "text": [
      "C:\\Users\\tejas\\AppData\\Local\\Temp\\ipykernel_10452\\2587557184.py:4: SADeprecationWarning: The Engine.table_names() method is deprecated and will be removed in a future release.  Please refer to Inspector.get_table_names(). (deprecated since: 1.4)\n",
      "  engine.table_names()\n"
     ]
    },
    {
     "data": {
      "text/plain": [
       "['books']"
      ]
     },
     "execution_count": 123,
     "metadata": {},
     "output_type": "execute_result"
    }
   ],
   "source": [
    "import sqlalchemy as sal\n",
    "engine = sal.create_engine(\"sqlite:///book.db\")\n",
    "engine.connect()\n",
    "engine.table_names()"
   ]
  },
  {
   "cell_type": "markdown",
   "metadata": {},
   "source": [
    "`9. Install the Redis server and the Python redis library (pip install redis) on your computer. Create a\n",
    "Redis hash called test with the fields count (1) and name ('Fester Bestertester'). Print all the fields for\n",
    "test.`"
   ]
  },
  {
   "cell_type": "code",
   "execution_count": null,
   "metadata": {},
   "outputs": [],
   "source": [
    "import redis\n",
    "\n",
    "# create the redis connection\n",
    "r_conn = redis.Redis(host='localhost', port=6379)\n",
    "\n",
    "r_conn.hset('test',{\n",
    "    'count':1,\n",
    "    'name':'Fester Bestertester'\n",
    "})\n",
    "\n",
    "r_conn.hgetall('test')"
   ]
  },
  {
   "cell_type": "markdown",
   "metadata": {},
   "source": [
    "`10. Increment the count field of test and print it.`"
   ]
  },
  {
   "cell_type": "code",
   "execution_count": null,
   "metadata": {},
   "outputs": [],
   "source": [
    "r_conn.hincrby('test', 'count', 1)\n",
    "r_conn.hget('test', 'count')"
   ]
  }
 ],
 "metadata": {
  "kernelspec": {
   "display_name": "Python 3 (ipykernel)",
   "language": "python",
   "name": "python3"
  },
  "language_info": {
   "codemirror_mode": {
    "name": "ipython",
    "version": 3
   },
   "file_extension": ".py",
   "mimetype": "text/x-python",
   "name": "python",
   "nbconvert_exporter": "python",
   "pygments_lexer": "ipython3",
   "version": "3.9.16"
  }
 },
 "nbformat": 4,
 "nbformat_minor": 4
}
