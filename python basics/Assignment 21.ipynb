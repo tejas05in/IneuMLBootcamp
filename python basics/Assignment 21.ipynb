{
 "cells": [
  {
   "attachments": {},
   "cell_type": "markdown",
   "metadata": {},
   "source": [
    "**`ASSIGNMENT 21`**"
   ]
  },
  {
   "attachments": {},
   "cell_type": "markdown",
   "metadata": {},
   "source": [
    "`1. Add the current date to the text file today.txt as a string.`\n"
   ]
  },
  {
   "cell_type": "code",
   "execution_count": 4,
   "metadata": {},
   "outputs": [
    {
     "name": "stdout",
     "output_type": "stream",
     "text": [
      "12-02-2023\n"
     ]
    }
   ],
   "source": [
    "import datetime\n",
    "now = datetime.datetime.now().strftime(\"%d-%m-%Y\")\n",
    "with open('today.txt','w') as f:\n",
    "    f.write(now)\n",
    "with open('today.txt','r') as f:\n",
    "    print(f.read())"
   ]
  },
  {
   "attachments": {},
   "cell_type": "markdown",
   "metadata": {},
   "source": [
    "`2. Read the text file today.txt into the string today_string`\n"
   ]
  },
  {
   "cell_type": "code",
   "execution_count": 5,
   "metadata": {},
   "outputs": [
    {
     "name": "stdout",
     "output_type": "stream",
     "text": [
      "12-02-2023\n"
     ]
    }
   ],
   "source": [
    "with open('today.txt','r') as f:\n",
    "    today_string = f.read()\n",
    "print(today_string)"
   ]
  },
  {
   "attachments": {},
   "cell_type": "markdown",
   "metadata": {},
   "source": [
    "`3. Parse the date from today_string.`\n"
   ]
  },
  {
   "cell_type": "code",
   "execution_count": 8,
   "metadata": {},
   "outputs": [
    {
     "name": "stdout",
     "output_type": "stream",
     "text": [
      "2023-02-12 00:00:00\n"
     ]
    }
   ],
   "source": [
    "from datetime import datetime\n",
    "parsed_dt = datetime.strptime(today_string,\"%d-%m-%Y\")\n",
    "print(parsed_dt)"
   ]
  },
  {
   "attachments": {},
   "cell_type": "markdown",
   "metadata": {},
   "source": [
    "`4. List the files in your current directory`\n"
   ]
  },
  {
   "cell_type": "code",
   "execution_count": 13,
   "metadata": {},
   "outputs": [
    {
     "name": "stdout",
     "output_type": "stream",
     "text": [
      "Assignemnt 10.ipynb\n",
      "Assignment 1.ipynb\n",
      "Assignment 11.ipynb\n",
      "Assignment 12.ipynb\n",
      "Assignment 13.ipynb\n",
      "Assignment 14.ipynb\n",
      "Assignment 15.ipynb\n",
      "Assignment 16.ipynb\n",
      "Assignment 17.ipynb\n",
      "Assignment 18.ipynb\n",
      "Assignment 19.ipynb\n",
      "Assignment 2.ipynb\n",
      "Assignment 20.ipynb\n",
      "Assignment 21.ipynb\n",
      "Assignment 3.ipynb\n",
      "Assignment 4.ipynb\n",
      "Assignment 5.ipynb\n",
      "Assignment 6.ipynb\n",
      "Assignment 7.ipynb\n",
      "Assignment 8.ipynb\n",
      "Assignment 9.ipynb\n",
      "Assignment_1.docx\n",
      "Assignment_10.docx\n",
      "Assignment_11.docx\n",
      "Assignment_12.docx\n",
      "Assignment_13.docx\n",
      "Assignment_14.docx\n",
      "Assignment_15.docx\n",
      "Assignment_16.docx\n",
      "Assignment_17.docx\n",
      "Assignment_18.docx\n",
      "Assignment_19.docx\n",
      "Assignment_2.docx\n",
      "Assignment_20.docx\n",
      "Assignment_21.docx\n",
      "Assignment_22.docx\n",
      "Assignment_23.docx\n",
      "Assignment_24.docx\n",
      "Assignment_25.docx\n",
      "Assignment_3.docx\n",
      "Assignment_4.docx\n",
      "Assignment_5.docx\n",
      "Assignment_6.docx\n",
      "Assignment_7.docx\n",
      "Assignment_8.docx\n",
      "Assignment_9.docx\n",
      "books.csv\n",
      "books.db\n",
      "README.md\n",
      "test.txt\n",
      "today.txt\n",
      "zoo.py\n",
      "COMMIT_EDITMSG\n",
      "config\n",
      "description\n",
      "FETCH_HEAD\n",
      "HEAD\n",
      "index\n",
      "ORIG_HEAD\n",
      "applypatch-msg.sample\n",
      "commit-msg.sample\n",
      "fsmonitor-watchman.sample\n",
      "post-update.sample\n",
      "pre-applypatch.sample\n",
      "pre-commit.sample\n",
      "pre-merge-commit.sample\n",
      "pre-push.sample\n",
      "pre-rebase.sample\n",
      "pre-receive.sample\n",
      "prepare-commit-msg.sample\n",
      "push-to-checkout.sample\n",
      "update.sample\n",
      "exclude\n",
      "HEAD\n",
      "main\n",
      "main\n",
      "1d7647a7d86993855497b5386e09e905431af6\n",
      "e9077abc1c4ead5a91f8e839a63a4a906a1712\n",
      "c28104e10bb446d73ea8fe88f380a179b31531\n",
      "c3aa9a497efecdd0b094874cf2a26208c6ba07\n",
      "0a09a543720ec42b469319e77e5578adaa041d\n",
      "c5b3e8c2d875976f977a959ac7b72c025e43ed\n",
      "223f02e21f157ca56f149d678e56ae6eaff951\n",
      "21b86cfa4f9c0d41d256057457e0a21c2a5cf5\n",
      "392acdc8a118eaec5b9569385886ec19fdfa99\n",
      "6e1c9af002ae6c35814f48eb4dbcd5505d04cf\n",
      "1491763ac3f6fafcc471fe8701da8d2c45dfe4\n",
      "b33ae8eb28424797a5aacb72e3f9cb13c91200\n",
      "fb467219d81bdeefa5fe0bed1fa57f7c714686\n",
      "46273b1a428049cbc497a5b74e1dacd5288f1e\n",
      "72b8ca053fe92c896147566810a970d1c532f3\n",
      "62e7535e1153c76018862219478ddada68024b\n",
      "8d142140fbbf947496d571c1541d148645ea1b\n",
      "0ca78ca5ef97d5e3cd9a500edd31c627436e03\n",
      "d3d285a0e9ee3641ecc338cbba83a7a8d41df9\n",
      "8265c9873b56cef1b2c9bcf0037d6cc4c9f998\n",
      "32850bb16cd1b00d04a7aa2b858aec695d2aac\n",
      "affa7fe67e7a08416b8d7aa008ad40df9e614f\n",
      "84276feff15df24d15a69d0ffbc558267f116e\n",
      "e0c1b3376bd67a0d7552eecb83035ed00d9fbb\n",
      "1a365d63c133806a1685c8db1ff65f2b65b5ce\n",
      "801c207ef0ad934ec400e740b02caaed72549d\n",
      "efb7aa7c79024f1576a4ff9f019ea273c5126d\n",
      "c09dfeac9d544cde10a5d6e3f7562cb29f16cd\n",
      "16da2ee85bd6255bc5e9680b789d17bb8b6ff8\n",
      "6e4fde4eb79c883436329e5c02dd8d6bb6b0c4\n",
      "a4f50070893d217c4f9c12b40ec7020d4d12ac\n",
      "b725ba96c2f37fe94544583e1c648093aa6523\n",
      "34de5744da204da6a650d6956d0fe2256a5dc0\n",
      "e03601a5aff6fba84df1eab50c3bd57b307ce7\n",
      "1459d53ef57abfe5c5ecc05b62b90a43e060fc\n",
      "4c666f9651e121233eacf2cda2fe5de755fb3e\n",
      "9138738759715cd8d8ed3dd9d97a711ab59789\n",
      "a8a0e1f1f007b59c437721a747bd4b14d24d2a\n",
      "c1cb456b99443d892a359a46c0c2ba29ee7044\n",
      "f063af7e978d93506c4d0a8cdbd23946536265\n",
      "4ef7b17d08d4bfd1c995a3cd745447a37f85ba\n",
      "e088f55461c93869fbfd9c43d4d70b9aa52348\n",
      "5df0d684f3e2571e26607d481c1e4cc31bfd2d\n",
      "68d057ca11794cd71386f76daa5f5642c5843a\n",
      "b183e7c1c84717fba8b1632c97cf85f02fcb44\n",
      "03a17cdbd0c8999329d4188078d2395081b491\n",
      "f2ad84eb286bd5a4777c658ff48b965022d304\n",
      "c4569f2104776fd995a6c3dfcc38e090749afd\n",
      "da3c330819a4ad992c621fd156999277ce7ab0\n",
      "ec32e173347468b94590a659bfdd92f8835dd5\n",
      "1681424b9cf8a377f0e84f576d05309e71329f\n",
      "211963a7a5e3447ad0b769c1dec8f477def4f0\n",
      "9144a4713f2730edd91f4e31f1cc84734d2423\n",
      "9b8f552dc837b2e68c74b580e2370a87c02b10\n",
      "c611919e441ac9d1a7a75f26ce9fce1c6ee384\n",
      "6e6e49e8bfb04c7b1be46d339e8035f4301328\n",
      "d4ee2f1eb5cb5e2128c055909750fa989e1c07\n",
      "feb88cc53c676ffc6c7c3e601a18ac38d365f9\n",
      "534f2a3b2f7be7ddcd0ad138848a548eaed09e\n",
      "58f34aea5edc53c07ff8c3923db80d6b301746\n",
      "f8e74340833d16c66906474ed9e087678e6bd9\n",
      "a12d19999df6a8d0eb0dbb62cf930ed70d3735\n",
      "e4b9328af784e00c960e9605dad24f2037aae0\n",
      "2f823a67a69a2a85f5db12b70ccd9c565e70be\n",
      "1cfd22de863809ef015dbb4b290108603c6352\n",
      "473933b68797306b6eb124fbf050e9ccd2f5e9\n",
      "4700dfd818d20391718efd11ebd45e3294584a\n",
      "137891791fe96927ad78e64b0aad7bded08bdc\n",
      "731355ddf8e6990b1a8e949cc1a3ee9ef47f53\n",
      "e1e8e8094e7b2f2709648db722fd9558c7b88d\n",
      "d1f32529b31c6aa741bd3f6f8d09c5340e435d\n",
      "9a9a52bd0c07f009e89c9af034fff71f622854\n",
      "4deeb9c4eb3ef7c699d2cfa41c3ddbba222df7\n",
      "7c13c557509691b3bd8a5906bd6d8ba582550f\n",
      "5158c8151dbb8829a1760df4e1ebe6b27e6ce9\n",
      "b458e936ffedb97866059aee1610609bfa86fc\n",
      "2446253e5d84f853f8449ec3e53da1afbac07a\n",
      "b6868441bd8be1c9b39dd33748410a204c0988\n",
      "df61bf6b1ddb743a83dcb5dc8b03966e752747\n",
      "a5ca3f011ecdc28b7b05833c90827391e7975c\n",
      "c3f8cb88b710e27bdc78999779b47ba81b5342\n",
      "7e09077e6423de4dd04650a2e6261db10b916a\n",
      "5b57c01c9d7c5ac0dea243cd25cd839c37e162\n",
      "bf52caad3f6c926daf322e51354eca303f21eb\n",
      "459792e3fb87fbeefa59890c67839b442ac259\n",
      "4349e3ce1c8312b47d9db84dc0265b684ff351\n",
      "7d6b8ad3f7374ba0d5bc9f0834a653abe7a19b\n",
      "c29d1ed64423a47bb1296e0965421389b029e7\n",
      "c2f446f740c77aae0a3202ab4d9c4547c88a6d\n",
      "7eb52c51f5af0845e29ad74f39cf83b9ad1c31\n",
      "d47f4bc619c79aa871d691e06b120c1608d9ec\n",
      "0797bda97a580b06b39e325528cd6a3a10d930\n",
      "31c2dd4323b1c34a652c3f52a9d00269104c15\n",
      "c940c87190754c61f2c20adcbe37a6f29c88d5\n",
      "b683790d9e2aceb665bb8c2103d78243ebc56b\n",
      "d073ff22c756be9fb9952f0fae1f2454528c44\n",
      "d199b0b024ec62f05e36041082ffeff2e975e0\n",
      "b8978859129f00ebe487431e5e5ce0bf6a30a0\n",
      "1bb59bbb766f7f130cf70f24415600e0c82461\n",
      "46f45d4006d03536a4a64982d95a6c12987e2e\n",
      "b476bb57f06fa067b3dbe36b4b63fee6b243a0\n",
      "204008d2d609df623ee4b29719ca7bb6d37ff0\n",
      "4b9a35f07885c54509e953bbf740427c7a4ca6\n",
      "c23791d36c581c455c9192852a87ed25185c93\n",
      "a7c283bb2efb1625f1166158fee878255f3bc7\n",
      "c4de5a2b4b80b71cc4ec3ca608bca9d99cedac\n",
      "f06041144f8f8f73c04c76b941bfa3b18bd0a9\n",
      "272e8423fdeade4a69a450ab1d4451de6d0230\n",
      "9d02d1e318e969a1ef2c2644c32a782957cc21\n",
      "0483fa26525783869d4c2760c915944d422d9a\n",
      "3120d4ec9a3279bda8273e5e973980308eff1b\n",
      "d5d3ad78eb2d08c5532d51f215541fcbf99336\n",
      "e250d30b3d25c8b8dad9d6c4b72d839ed1fe16\n",
      "fb506819f714372e39af4d4b7dfdb3b8763fe5\n",
      "a170ccb2284666616afce20a3bb8c87fb9064f\n",
      "1cf5673321a2a888fdc5f14875ab13e265a836\n",
      "84d4d12e7d46dcadfa0abd099c6673f2ea8c4e\n",
      "aa8bc33052e1da91f3ae8ad152f81abf15ee9e\n",
      "4883646a9a70d221a861b4b64af42542d364da\n",
      "fd6ed3f99514ae66e83aba5af734f7dbcdb570\n",
      "872d1717bfdf55b2187930123fd186b557e373\n",
      "9de29bb2d1d6434b8b29ae775ad8c2e48c5391\n",
      "ee49b5da03ecd84e38243aee9b84c702cecd1e\n",
      "72c1f09de729de24d8caf60f14be3718c43523\n",
      "84463f809b96afb49554ec0df710be21cf6f14\n",
      "5a58cd8d6fe5f25a7b7dd596415fad6fd325b1\n",
      "189ffe81e418dfab2ba66bac1182753214900f\n",
      "601cd9696bffc850d910cc9375dad1f0bc051d\n",
      "dbf3afc4911fb6d53f67170b22462e0c4c8516\n",
      "50f47546408f5da98fbf4eccdbcc4ce1af25f5\n",
      "7980e2cf575c30a78ae2273c621dc27b96163d\n",
      "193ce04015a73267a24edeef6330ccc936ad98\n",
      "c32034e087ea383f191ccaa8e4beb03794f336\n",
      "7bd550b28a8b7dcf3d901f21b4f5b93b090fb6\n",
      "main\n",
      "main\n",
      "Assignemnt 10-checkpoint.ipynb\n",
      "Assignment 11-checkpoint.ipynb\n",
      "Assignment 12-checkpoint.ipynb\n",
      "Assignment 13-checkpoint.ipynb\n",
      "Assignment 14-checkpoint.ipynb\n",
      "Assignment 17-checkpoint.ipynb\n",
      "Assignment 19-checkpoint.ipynb\n",
      "Assignment 20-checkpoint.ipynb\n",
      "Assignment 7-checkpoint.ipynb\n",
      "3rd Jan 23.ipynb\n",
      "5th Jan 23ipynb\n",
      "OOP-part-1.ipynb\n",
      "OOP-part-2.ipynb\n",
      "python-basics.pdf\n",
      "python-ml-bootcamp-lecture-2.pptx\n",
      "String and dict.ipynb\n",
      "zoo.cpython-39.pyc\n"
     ]
    }
   ],
   "source": [
    "import os\n",
    "for folder , subfolder , files in os.walk(os.getcwd()):\n",
    "    for file in files:\n",
    "        print(file)"
   ]
  },
  {
   "attachments": {},
   "cell_type": "markdown",
   "metadata": {},
   "source": [
    "`5. Create a list of all of the files in your parent directory (minimum five files should be available)`"
   ]
  },
  {
   "cell_type": "code",
   "execution_count": 16,
   "metadata": {},
   "outputs": [
    {
     "data": {
      "text/plain": [
       "['.git',\n",
       " '.ipynb_checkpoints',\n",
       " 'Assignemnt 10.ipynb',\n",
       " 'Assignment 1.ipynb',\n",
       " 'Assignment 11.ipynb',\n",
       " 'Assignment 12.ipynb',\n",
       " 'Assignment 13.ipynb',\n",
       " 'Assignment 14.ipynb',\n",
       " 'Assignment 15.ipynb',\n",
       " 'Assignment 16.ipynb',\n",
       " 'Assignment 17.ipynb',\n",
       " 'Assignment 18.ipynb',\n",
       " 'Assignment 19.ipynb',\n",
       " 'Assignment 2.ipynb',\n",
       " 'Assignment 20.ipynb',\n",
       " 'Assignment 21.ipynb',\n",
       " 'Assignment 3.ipynb',\n",
       " 'Assignment 4.ipynb',\n",
       " 'Assignment 5.ipynb',\n",
       " 'Assignment 6.ipynb',\n",
       " 'Assignment 7.ipynb',\n",
       " 'Assignment 8.ipynb',\n",
       " 'Assignment 9.ipynb',\n",
       " 'Assignment_1.docx',\n",
       " 'Assignment_10.docx',\n",
       " 'Assignment_11.docx',\n",
       " 'Assignment_12.docx',\n",
       " 'Assignment_13.docx',\n",
       " 'Assignment_14.docx',\n",
       " 'Assignment_15.docx',\n",
       " 'Assignment_16.docx',\n",
       " 'Assignment_17.docx',\n",
       " 'Assignment_18.docx',\n",
       " 'Assignment_19.docx',\n",
       " 'Assignment_2.docx',\n",
       " 'Assignment_20.docx',\n",
       " 'Assignment_21.docx',\n",
       " 'Assignment_22.docx',\n",
       " 'Assignment_23.docx',\n",
       " 'Assignment_24.docx',\n",
       " 'Assignment_25.docx',\n",
       " 'Assignment_3.docx',\n",
       " 'Assignment_4.docx',\n",
       " 'Assignment_5.docx',\n",
       " 'Assignment_6.docx',\n",
       " 'Assignment_7.docx',\n",
       " 'Assignment_8.docx',\n",
       " 'Assignment_9.docx',\n",
       " 'books.csv',\n",
       " 'books.db',\n",
       " 'live-lectures',\n",
       " 'README.md',\n",
       " 'test.txt',\n",
       " 'today.txt',\n",
       " 'zoo.py',\n",
       " '__pycache__']"
      ]
     },
     "execution_count": 16,
     "metadata": {},
     "output_type": "execute_result"
    }
   ],
   "source": [
    "import os\n",
    "os.listdir()"
   ]
  },
  {
   "attachments": {},
   "cell_type": "markdown",
   "metadata": {},
   "source": [
    "`6. Use multiprocessing to create three separate processes. Make each one wait a random number of seconds between one and five, print the current time, and then exit.`\n"
   ]
  },
  {
   "cell_type": "code",
   "execution_count": 32,
   "metadata": {},
   "outputs": [],
   "source": [
    "#this code is designed to run in a script. Therefore it was executed in myscript.py in terminal and the results have been pasted down\n",
    "import multiprocessing\n",
    "import time\n",
    "import random\n",
    "from datetime import datetime\n",
    "\n",
    "def process_1():\n",
    "    print(\"Process 1 start time {}\".format(datetime.now()))\n",
    "    time.sleep(random.randint(1,5))\n",
    "    print(\"Process 1 end time {}\".format(datetime.now()))\n",
    "\n",
    "def process_2():\n",
    "    print(\"Process 2 start time {}\".format(datetime.now()))\n",
    "    time.sleep(random.randint(1,5))\n",
    "    print(\"Process 2 end time {}\".format(datetime.now()))\n",
    "\n",
    "def process_3():\n",
    "    print(\"Process 3 start time {}\".format(datetime.now()))\n",
    "    time.sleep(random.randint(1,5))\n",
    "    print(\"Process 3 end time {}\".format(datetime.now()))\n",
    "\n",
    "if __name__ == \"__main__\":\n",
    "    p1 = multiprocessing.Process(target=process_1)\n",
    "    p2 = multiprocessing.Process(target=process_2)\n",
    "    p3 = multiprocessing.Process(target=process_3)\n",
    "\n",
    "    p1.start()\n",
    "    p2.start()\n",
    "    p3.start()\n",
    "\n",
    "    p1.join()\n",
    "    p2.join()\n",
    "    p3.join()\n",
    "\n"
   ]
  },
  {
   "attachments": {},
   "cell_type": "markdown",
   "metadata": {},
   "source": [
    "- Process 1 start time 2023-02-12 01:52:10.906684\n",
    "- Process 2 start time 2023-02-12 01:52:10.912687\n",
    "- Process 3 start time 2023-02-12 01:52:10.916684\n",
    "- Process 2 end time 2023-02-12 01:52:12.927882\n",
    "- Process 1 end time 2023-02-12 01:52:14.916311\n",
    "- Process 3 end time 2023-02-12 01:52:15.924059"
   ]
  },
  {
   "attachments": {},
   "cell_type": "markdown",
   "metadata": {},
   "source": [
    "`7. Create a date object of your day of birth.`\n"
   ]
  },
  {
   "cell_type": "code",
   "execution_count": 35,
   "metadata": {},
   "outputs": [
    {
     "name": "stdout",
     "output_type": "stream",
     "text": [
      "1984-10-05 00:00:00\n",
      "<class 'datetime.datetime'>\n"
     ]
    }
   ],
   "source": [
    "from datetime import datetime\n",
    "dob = datetime.strptime('05-10-1984',\"%d-%m-%Y\")\n",
    "print(dob)\n",
    "print(type(dob))"
   ]
  },
  {
   "attachments": {},
   "cell_type": "markdown",
   "metadata": {},
   "source": [
    "`8. What day of the week was your day of birth?`\n"
   ]
  },
  {
   "cell_type": "code",
   "execution_count": 36,
   "metadata": {},
   "outputs": [
    {
     "data": {
      "text/plain": [
       "'Friday'"
      ]
     },
     "execution_count": 36,
     "metadata": {},
     "output_type": "execute_result"
    }
   ],
   "source": [
    "dob.strftime('%A')"
   ]
  },
  {
   "attachments": {},
   "cell_type": "markdown",
   "metadata": {},
   "source": [
    "`9. When will you be (or when were you) 10,000 days old?`"
   ]
  },
  {
   "cell_type": "code",
   "execution_count": 41,
   "metadata": {},
   "outputs": [
    {
     "data": {
      "text/plain": [
       "datetime.date(2012, 2, 21)"
      ]
     },
     "execution_count": 41,
     "metadata": {},
     "output_type": "execute_result"
    }
   ],
   "source": [
    "from datetime import datetime , timedelta\n",
    "my_dob = datetime.strptime(\"05-10-1984\",\"%d-%m-%Y\")\n",
    "old_10k = my_dob + timedelta(10000)\n",
    "old_10k.date()"
   ]
  }
 ],
 "metadata": {
  "kernelspec": {
   "display_name": "base",
   "language": "python",
   "name": "python3"
  },
  "language_info": {
   "codemirror_mode": {
    "name": "ipython",
    "version": 3
   },
   "file_extension": ".py",
   "mimetype": "text/x-python",
   "name": "python",
   "nbconvert_exporter": "python",
   "pygments_lexer": "ipython3",
   "version": "3.9.16"
  },
  "orig_nbformat": 4,
  "vscode": {
   "interpreter": {
    "hash": "c370489388e782aa9b6373b0856d4a71cb56f2a887cc53048a8e75b66b592545"
   }
  }
 },
 "nbformat": 4,
 "nbformat_minor": 2
}
