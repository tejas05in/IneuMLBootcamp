{
 "cells": [
  {
   "cell_type": "markdown",
   "id": "e906c1a1-07a7-4c9e-8381-85b3250b2130",
   "metadata": {},
   "source": [
    "1. What is the result of the code, and explain?\n",
    "\n",
    "&gt;&gt;&gt; X = &#39;iNeuron&#39;\n",
    "&gt;&gt;&gt; def func():\n",
    "print(X)&gt;&gt;&gt; func()"
   ]
  },
  {
   "cell_type": "markdown",
   "id": "f43fe08c-356e-47f5-bbf9-57621ea338f6",
   "metadata": {},
   "source": [
    "Ans1. The string \"iNeuron\" is stored in a variable X (global scope). A function by name func is defined which prints the value of variable X. The func is called which then prints the value of X which return \"iNeuron\" that is dispayed in the console"
   ]
  },
  {
   "cell_type": "code",
   "execution_count": 1,
   "id": "656df618-2ac3-446e-a2f1-0f28dc7ce82f",
   "metadata": {},
   "outputs": [
    {
     "name": "stdout",
     "output_type": "stream",
     "text": [
      "iNeuron\n"
     ]
    }
   ],
   "source": [
    "#Ans\n",
    "X = 'iNeuron' \n",
    "def func(): \n",
    "    print(X)\n",
    "func() "
   ]
  },
  {
   "cell_type": "markdown",
   "id": "50463b55-8b5f-40d0-bee3-0ccd7872c408",
   "metadata": {},
   "source": [
    "2. What is the result of the code, and explain?\n",
    "\n",
    "&gt;&gt;&gt; X = &#39;iNeuron&#39;\n",
    "&gt;&gt;&gt; def func():\n",
    "X = &#39;NI!&#39;\n",
    "\n",
    "&gt;&gt;&gt; func()\n",
    "&gt;&gt;&gt; print(X)"
   ]
  },
  {
   "cell_type": "markdown",
   "id": "4bc80125-45e0-4306-8bf9-fbae939e17b8",
   "metadata": {},
   "source": [
    "Ans2. A global variable X is created with the value \"iNeurion\" assigned to it. A function by name func is defined which defines an instance variable X which is assigned the value \"NI!\". Func is called but it has nothing to return. The global variable X (present outside the function) is called with prints its value \"iNeuron\" in the console."
   ]
  },
  {
   "cell_type": "code",
   "execution_count": 2,
   "id": "d1d6f87e-1b80-4d74-975a-a6142553f7e4",
   "metadata": {},
   "outputs": [
    {
     "name": "stdout",
     "output_type": "stream",
     "text": [
      "iNeuron\n"
     ]
    }
   ],
   "source": [
    "X = 'iNeuron' \n",
    "def func(): \n",
    "    X = 'NI!'\n",
    "func() \n",
    "print(X) "
   ]
  },
  {
   "cell_type": "markdown",
   "id": "8cb82ea3-d268-4d91-ae9c-11c4c43c7af7",
   "metadata": {},
   "source": [
    "3. What does this code print, and why?\n",
    "\n",
    "&gt;&gt;&gt; X = &#39;iNeuron&#39;\n",
    "&gt;&gt;&gt; def func():\n",
    "X = &#39;NI&#39;\n",
    "print(X)\n",
    "\n",
    "&gt;&gt;&gt; func()\n",
    "&gt;&gt;&gt; print(X)"
   ]
  },
  {
   "cell_type": "markdown",
   "id": "76c32f3d-9871-411b-949e-70f213b6d3b4",
   "metadata": {},
   "source": [
    "Ans3. A global variable X is created with the value \"iNeurion\" assigned to it. A function by name func is defined which defines an instance variable X which is assigned the value \"NI!\" and the function then prints the value of instance variable X when called. Func is called and the value of instance variable X which is \"NI\" is printed in the console. Then the global variable X (present outside the function) is called with prints its value \"iNeuron\" in the console"
   ]
  },
  {
   "cell_type": "code",
   "execution_count": 3,
   "id": "9b8f555d-f6bd-4ad5-b3f5-4d7f2d9db7c1",
   "metadata": {
    "tags": []
   },
   "outputs": [
    {
     "name": "stdout",
     "output_type": "stream",
     "text": [
      "NI\n",
      "iNeuron\n"
     ]
    }
   ],
   "source": [
    "X = 'iNeuron' \n",
    "def func(): \n",
    "    X = 'NI'\n",
    "    print(X) \n",
    "func() \n",
    "print(X) "
   ]
  },
  {
   "cell_type": "markdown",
   "id": "852f6653-de04-4583-bb9d-27d7ced1f1bc",
   "metadata": {},
   "source": [
    "4. What output does this code produce? Why?\n",
    "\n",
    "&gt;&gt;&gt; X = &#39;iNeuron&#39;\n",
    "&gt;&gt;&gt; def func():\n",
    "global X\n",
    "X = &#39;NI&#39;\n",
    "\n",
    "&gt;&gt;&gt; func()\n",
    "&gt;&gt;&gt; print(X)"
   ]
  },
  {
   "cell_type": "markdown",
   "id": "65a728c9-3ffd-424c-a49b-0073948f979e",
   "metadata": {},
   "source": [
    "Ans4. A global variable X is created with the value \"iNeurion\" assigned to it. A function by name func is defined which further creates a global variable X which is assigned the value \"NI\" when called. Func is called and the value of global variable X which was previously \"iNeuron\" is now overriden to \"NI\". The global variable X which is now \"NI\" is printed in the console"
   ]
  },
  {
   "cell_type": "code",
   "execution_count": 4,
   "id": "5ae3fa13-9618-4ba8-a873-0330f6ff471c",
   "metadata": {},
   "outputs": [
    {
     "name": "stdout",
     "output_type": "stream",
     "text": [
      "NI\n"
     ]
    }
   ],
   "source": [
    "X = 'iNeuron'\n",
    "def func():\n",
    "    global X \n",
    "    X = 'NI'\n",
    "func()\n",
    "print(X)"
   ]
  },
  {
   "cell_type": "markdown",
   "id": "cb20cf49-9a2d-4f11-b074-68ad175b414d",
   "metadata": {},
   "source": [
    "5. What about this code—what’s the output, and why?\n",
    "\n",
    "&gt;&gt;&gt; X = &#39;iNeuron&#39;\n",
    "&gt;&gt;&gt; def func():\n",
    "X = &#39;NI&#39;\n",
    "def nested():\n",
    "print(X)\n",
    "nested()\n",
    "\n",
    "&gt;&gt;&gt; func()\n",
    "&gt;&gt;&gt; X"
   ]
  },
  {
   "cell_type": "markdown",
   "id": "c2cc6ec5-a09e-4e80-bc70-8c275061d7b6",
   "metadata": {},
   "source": [
    "Ans5. A global variable X is created with the value \"iNeurion\" assigned to it. A function by name func is defined which further creates an instance variable X which is assigned the value \"NI\" when called. A nested function within the main func() is defined which when called prints the value of X. The main func() end by calling the nested() which looks for value of X first within its local scope (nested()) and then within its global scope (func()) and prints \"NI\" which is value of X within func(). The func() is called which prints NI and then X (global scope outside the func()) is called which returns \"iNeuron\""
   ]
  },
  {
   "cell_type": "code",
   "execution_count": 5,
   "id": "dda0962e-fcc2-478f-8090-fc1048a32682",
   "metadata": {},
   "outputs": [
    {
     "name": "stdout",
     "output_type": "stream",
     "text": [
      "NI\n"
     ]
    },
    {
     "data": {
      "text/plain": [
       "'iNeuron'"
      ]
     },
     "execution_count": 5,
     "metadata": {},
     "output_type": "execute_result"
    }
   ],
   "source": [
    "X = 'iNeuron' \n",
    "def func(): \n",
    "    X = 'NI'\n",
    "    def nested():\n",
    "        print(X)\n",
    "    nested()\n",
    "func()\n",
    "X"
   ]
  },
  {
   "cell_type": "markdown",
   "id": "d8f2c0d9-7da6-4fdb-bb7f-69321fba17a8",
   "metadata": {},
   "source": [
    "6. How about this code: what is its output in Python 3, and explain?\n",
    "\n",
    "&gt;&gt;&gt; def func():\n",
    "X = &#39;NI&#39;\n",
    "def nested():\n",
    "nonlocal X\n",
    "X = &#39;Spam&#39;\n",
    "nested()\n",
    "print(X)"
   ]
  },
  {
   "cell_type": "markdown",
   "id": "a992fdd7-3a3b-4587-a695-c196389ae3ae",
   "metadata": {},
   "source": [
    "Ans6. The keyword `nonlocal` is used in python to declare a variable as non - local within a function and because of that the variable is defined on a global scope outside the function. In the code within the function nested() the variable X is declared as nonlocal and it is assigned the value \"Spam\", since X is nonlocal it gets declared on the next global scale i.e under func() where the previous value of X which is \"NI\" is overriden with \"Spam\". So when X is finally printed on calling func() the value returned is \"Spam\"."
   ]
  },
  {
   "cell_type": "code",
   "execution_count": 6,
   "id": "542ba662-0a8e-463d-b38a-4bdc8824db93",
   "metadata": {},
   "outputs": [
    {
     "name": "stdout",
     "output_type": "stream",
     "text": [
      "Spam\n"
     ]
    }
   ],
   "source": [
    "def func():\n",
    "    X = 'NI'\n",
    "    def nested():\n",
    "        nonlocal X\n",
    "        X = 'Spam'\n",
    "    nested()\n",
    "    print(X)\n",
    "func()"
   ]
  }
 ],
 "metadata": {
  "kernelspec": {
   "display_name": "Python 3 (ipykernel)",
   "language": "python",
   "name": "python3"
  },
  "language_info": {
   "codemirror_mode": {
    "name": "ipython",
    "version": 3
   },
   "file_extension": ".py",
   "mimetype": "text/x-python",
   "name": "python",
   "nbconvert_exporter": "python",
   "pygments_lexer": "ipython3",
   "version": "3.9.16"
  }
 },
 "nbformat": 4,
 "nbformat_minor": 5
}
