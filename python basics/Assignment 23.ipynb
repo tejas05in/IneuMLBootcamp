{
 "cells": [
  {
   "cell_type": "markdown",
   "id": "6b5dd64d",
   "metadata": {},
   "source": [
    "# **`ASSIGNMENT 23`**"
   ]
  },
  {
   "cell_type": "markdown",
   "id": "69ccf280",
   "metadata": {},
   "source": [
    "1. What is the result of the code, and why?\n",
    "&gt;&gt;&gt; def func(a, b=6, c=8):\n",
    "print(a, b, c)\n",
    "&gt;&gt;&gt; func(1, 2)"
   ]
  },
  {
   "cell_type": "markdown",
   "id": "5c3f0965",
   "metadata": {},
   "source": [
    "Ans1: The result is 1 2 8 because 'a' keyword is assigned 1 and 'b' keyword is assigned 2 while calling func() whereas c is not assigned anything and therefore it returns the default value which is 8"
   ]
  },
  {
   "cell_type": "code",
   "execution_count": 1,
   "id": "262715da",
   "metadata": {},
   "outputs": [
    {
     "name": "stdout",
     "output_type": "stream",
     "text": [
      "1 2 8\n"
     ]
    }
   ],
   "source": [
    " def func(a, b=6, c=8): \n",
    "        print(a, b, c)\n",
    " func(1, 2)"
   ]
  },
  {
   "cell_type": "markdown",
   "id": "515e0336",
   "metadata": {},
   "source": [
    "2. What is the result of this code, and why?\n",
    "&gt;&gt;&gt; def func(a, b, c=5):\n",
    "print(a, b, c)\n",
    "&gt;&gt;&gt; func(1, c=3, b=2)"
   ]
  },
  {
   "cell_type": "markdown",
   "id": "a0157d4d",
   "metadata": {},
   "source": [
    "Ans2: The result is 1 2 3 because 'a' keyword is assigned 1 and 'b' keyword is assigned 2 (althought not in sequence but explicitly declared by keyword)  and 'c' keyword is assigned 3 while calling func() and therefore it returns 1 2 3"
   ]
  },
  {
   "cell_type": "code",
   "execution_count": 2,
   "id": "20590aba",
   "metadata": {},
   "outputs": [
    {
     "name": "stdout",
     "output_type": "stream",
     "text": [
      "1 2 3\n"
     ]
    }
   ],
   "source": [
    "def func(a, b, c=5): \n",
    "        print(a, b, c)\n",
    "func(1, c=3, b=2)"
   ]
  },
  {
   "cell_type": "markdown",
   "id": "555463fc",
   "metadata": {},
   "source": [
    "3. How about this code: what is its result, and why?\n",
    "&gt;&gt;&gt; def func(a, *pargs):\n",
    "print(a, pargs)\n",
    "&gt;&gt;&gt; func(1, 2, 3)"
   ]
  },
  {
   "cell_type": "markdown",
   "id": "1f11d4f0",
   "metadata": {},
   "source": [
    "Ans3: The special syntax *args in function definitions in python is used to pass a variable number of arguments to a function. It is used to pass a non-key worded, variable-length argument list. \n",
    "\n",
    "The syntax is to use the symbol * to take in a variable number of arguments; by convention, it is often used with the word args.\n",
    "What *args allows you to do is take in more arguments than the number of formal arguments that you previously defined. With *args, any number of extra arguments can be tacked on to your current formal parameters (including zero extra arguments).\n",
    "For example, we want to make a multiply function that takes any number of arguments and is able to multiply them all together. It can be done using *args.\n",
    "Using the *, the variable that we associate with the * becomes an iterable meaning you can do things like iterate over it, run some higher-order functions such as map and filter, etc. \n",
    "\n",
    "Therefore the above code returns 1 (2, 3)"
   ]
  },
  {
   "cell_type": "code",
   "execution_count": 3,
   "id": "118a3f0d",
   "metadata": {},
   "outputs": [
    {
     "name": "stdout",
     "output_type": "stream",
     "text": [
      "1 (2, 3)\n"
     ]
    }
   ],
   "source": [
    "def func(a, *pargs):\n",
    "    print(a, pargs)\n",
    "func(1, 2, 3)"
   ]
  },
  {
   "cell_type": "markdown",
   "id": "1eb2986a",
   "metadata": {},
   "source": [
    "4. What does this code print, and why?\n",
    "&gt;&gt;&gt; def func(a, **kargs):\n",
    "print(a, kargs)\n",
    "&gt;&gt;&gt; func(a=1, c=3, b=2)"
   ]
  },
  {
   "cell_type": "markdown",
   "id": "a1e8486a",
   "metadata": {},
   "source": [
    "Ans4: The special syntax **kwargs in function definitions in python is used to pass a keyworded, variable-length argument list. We use the name kwargs with the double star. The reason is that the double star allows us to pass through keyword arguments (and any number of them).\n",
    "\n",
    "A keyword argument is where you provide a name to the variable as you pass it into the function.\n",
    "One can think of the kwargs as being a dictionary that maps each keyword to the value that we pass alongside it. That is why when we iterate over the kwargs there doesn’t seem to be any order in which they were printed out.\n",
    "\n",
    "Therefore the above code returns 1 {'c': 3, 'b': 2}"
   ]
  },
  {
   "cell_type": "code",
   "execution_count": 4,
   "id": "2a292af9",
   "metadata": {},
   "outputs": [
    {
     "name": "stdout",
     "output_type": "stream",
     "text": [
      "1 {'c': 3, 'b': 2}\n"
     ]
    }
   ],
   "source": [
    "def func(a, **kargs):\n",
    "    print(a, kargs)\n",
    "func(a=1, c=3, b=2)"
   ]
  },
  {
   "cell_type": "markdown",
   "id": "d365a2be",
   "metadata": {},
   "source": [
    "5. What gets printed by this, and explain?\n",
    "&gt;&gt;&gt; def func(a, b, c=8, d=5): print(a, b, c, d)\n",
    "&gt;&gt;&gt; func(1, *(5, 6))"
   ]
  },
  {
   "cell_type": "markdown",
   "id": "7c18fe7c",
   "metadata": {},
   "source": [
    "Ans5: In the above code c and d have a default value of 8 and 5 as parameters while defining the func(). While calling func(), 1 is passed to 'a' but the tuple (5,6) is passed using a variable length syntax * which automatically get assigned to 'b' and 'c' in order respectively and 'd' remains unchanged. Therefore the function returns 1 5 6 5"
   ]
  },
  {
   "cell_type": "code",
   "execution_count": 5,
   "id": "c729c8d0",
   "metadata": {},
   "outputs": [
    {
     "name": "stdout",
     "output_type": "stream",
     "text": [
      "1 5 6 5\n"
     ]
    }
   ],
   "source": [
    "def func(a, b, c=8, d=5):\n",
    "     print(a, b, c, d)\n",
    "func(1, *(5, 6))"
   ]
  },
  {
   "cell_type": "markdown",
   "id": "78f825b5",
   "metadata": {},
   "source": [
    "6. what is the result of this, and explain?\n",
    "&gt;&gt;&gt; def func(a, b, c): a = 2; b[0] = &#39;x&#39;; c[&#39;a&#39;] = &#39;y&#39;\n",
    "&gt;&gt;&gt; l=1; m=[1]; n={&#39;a&#39;:0}\n",
    "&gt;&gt;&gt; func(l, m, n)\n",
    "&gt;&gt;&gt; l, m, n"
   ]
  },
  {
   "cell_type": "markdown",
   "id": "3ebba6b2",
   "metadata": {},
   "source": [
    "Ans6: In the above code func(a,b,c) when called assigns 2 to 'a', \"x\" to first element of list b and assigns {\"a\":\"y} for dictonary c. Therefore l=1; m=[1]; n={'a':0} when called inside func as func(l,m,n) \n",
    "\n",
    "the value of 'a' which the function func(a,b,c) receives is 1 and instance variable 'a' now returns 2 while the original value of \"l\" on global scope is unchanged. \n",
    "\n",
    "Whereas for \"b\" it received 'm' which is a list [1] and since b[0] is assigned to \"x\" the return value for b is list \"x\".  Therefore the value of m[0] gets assigned to \"x\" \n",
    "\n",
    "And \"c\" receives a dict \"n\" with {\"a\":0} as values but inside the function c[\"a\"] = \"y\" therefore the return value for c is {\"a\":\"y\"} and Therefore the value of n gets assigned as {\"a\":\"y\"}\n",
    "\n",
    "'a' because of its local scope does not change the value of 'l', whereas 'b' and 'c' call 'm' and 'n' from the global scope respectively and therefore the values of 'm' and 'n' gets changed\n",
    "\n",
    "So finally the function returns (1, ['x'], {'a': 'y'})"
   ]
  },
  {
   "cell_type": "code",
   "execution_count": 6,
   "id": "a5c3d152",
   "metadata": {
    "scrolled": true
   },
   "outputs": [
    {
     "data": {
      "text/plain": [
       "(1, ['x'], {'a': 'y'})"
      ]
     },
     "execution_count": 6,
     "metadata": {},
     "output_type": "execute_result"
    }
   ],
   "source": [
    "def func(a, b, c):\n",
    "    a = 2; b[0] = 'x'; c['a'] = 'y'\n",
    "l=1; m=[1]; n={'a':0}\n",
    "func(l, m, n)\n",
    "l, m, n"
   ]
  }
 ],
 "metadata": {
  "kernelspec": {
   "display_name": "Python 3 (ipykernel)",
   "language": "python",
   "name": "python3"
  },
  "language_info": {
   "codemirror_mode": {
    "name": "ipython",
    "version": 3
   },
   "file_extension": ".py",
   "mimetype": "text/x-python",
   "name": "python",
   "nbconvert_exporter": "python",
   "pygments_lexer": "ipython3",
   "version": "3.9.16"
  }
 },
 "nbformat": 4,
 "nbformat_minor": 5
}
