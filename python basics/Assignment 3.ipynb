{
 "cells": [
  {
   "attachments": {},
   "cell_type": "markdown",
   "metadata": {},
   "source": [
    "# **`ASSIGNMENT 3`**"
   ]
  },
  {
   "attachments": {},
   "cell_type": "markdown",
   "metadata": {},
   "source": [
    "`1. Why are functions advantageous to have in your programs?`"
   ]
  },
  {
   "attachments": {},
   "cell_type": "markdown",
   "metadata": {},
   "source": [
    "Ans1: \n",
    "The main advantage is code reuseablity. With the help of functions in python we can prevent rewriting of code again and agin in python. We can create a function and call it as many times as required in our project"
   ]
  },
  {
   "attachments": {},
   "cell_type": "markdown",
   "metadata": {},
   "source": [
    "`2. When does the code in a function run: when it's specified or when it's called?`"
   ]
  },
  {
   "attachments": {},
   "cell_type": "markdown",
   "metadata": {},
   "source": [
    "Ans 2: The code in the function runs when its called. For creating a function we need to specify it"
   ]
  },
  {
   "attachments": {},
   "cell_type": "markdown",
   "metadata": {},
   "source": [
    "`3. What statement creates a function?`"
   ]
  },
  {
   "attachments": {},
   "cell_type": "markdown",
   "metadata": {},
   "source": [
    "Ans 3: The statement 'def fun_name(parameter):' followed by the function code creates a function"
   ]
  },
  {
   "attachments": {},
   "cell_type": "markdown",
   "metadata": {},
   "source": [
    "`4. What is the difference between a function and a function call?`"
   ]
  },
  {
   "attachments": {},
   "cell_type": "markdown",
   "metadata": {},
   "source": [
    "Ans 4: Function is a block of code which does a particular operation and returns a result. Funtction can have parameters but it is not mandatory as in the case of a general function. A user function has to be created using the required keywords to be used further in the program. A function call refers to calling the function which is already created to be used in the specific instance. Function call sends a call to the function code to run at the present line/block of code"
   ]
  },
  {
   "attachments": {},
   "cell_type": "markdown",
   "metadata": {},
   "source": [
    "`5. How many global scopes are there in a Python program? How many local scopes?`"
   ]
  },
  {
   "attachments": {},
   "cell_type": "markdown",
   "metadata": {},
   "source": [
    "And 5: Scopes in python are of 4 varites which can be remebered using the acronym LEGB(local, encapsulation, Global and built-in). Local and encapsulation are examples of local scope which cannot be used outside a function(can be nested). Global and Built-in functions are examples of global scope which can be used anywhere in the program"
   ]
  },
  {
   "attachments": {},
   "cell_type": "markdown",
   "metadata": {},
   "source": [
    "`6. What happens to variables in a local scope when the function call returns?`"
   ]
  },
  {
   "attachments": {},
   "cell_type": "markdown",
   "metadata": {},
   "source": [
    "Ans 6: The variable get destroyed and cease to exist"
   ]
  },
  {
   "attachments": {},
   "cell_type": "markdown",
   "metadata": {},
   "source": [
    "`7. What is the concept of a return value? Is it possible to have a return value in an expression?`"
   ]
  },
  {
   "attachments": {},
   "cell_type": "markdown",
   "metadata": {},
   "source": [
    "Ans 7: The concept of the return value is that data type of the object being returned is retained and it can be now now passed into another function or displayed as is. It is accessed using return key word. The return value can be inserted into an expression using the format function"
   ]
  },
  {
   "attachments": {},
   "cell_type": "markdown",
   "metadata": {},
   "source": [
    "`8. If a function does not have a return statement, what is the return value of a call to that function?`"
   ]
  },
  {
   "attachments": {},
   "cell_type": "markdown",
   "metadata": {},
   "source": [
    "Ans 8: None type"
   ]
  },
  {
   "attachments": {},
   "cell_type": "markdown",
   "metadata": {},
   "source": [
    "`9. How do you make a function variable refer to the global variable?`"
   ]
  },
  {
   "cell_type": "code",
   "execution_count": 4,
   "metadata": {},
   "outputs": [
    {
     "name": "stdout",
     "output_type": "stream",
     "text": [
      "Python is fantastic\n"
     ]
    }
   ],
   "source": [
    "#ans 9:\n",
    "a = 'awesome'\n",
    "def myfunc():\n",
    "  global a\n",
    "  a = \"fantastic\"\n",
    "\n",
    "myfunc()\n",
    "\n",
    "print(\"Python is \" + a)"
   ]
  },
  {
   "attachments": {},
   "cell_type": "markdown",
   "metadata": {},
   "source": [
    "`10. What is the data type of None?`"
   ]
  },
  {
   "attachments": {},
   "cell_type": "markdown",
   "metadata": {},
   "source": [
    "Ans 10: None is a data type of its own (None type) and it has only one value None."
   ]
  },
  {
   "attachments": {},
   "cell_type": "markdown",
   "metadata": {},
   "source": [
    "`11. What does the sentence import areallyourpetsnamederic do?`"
   ]
  },
  {
   "attachments": {},
   "cell_type": "markdown",
   "metadata": {},
   "source": [
    "Ans 11: import areallyourpetsnamederic tries to load the module by name areallyourpetsnamederic into the current program or notebook environment "
   ]
  },
  {
   "attachments": {},
   "cell_type": "markdown",
   "metadata": {},
   "source": [
    "`12. If you had a bacon() feature in a spam module, what would you call it after importing spam?`"
   ]
  },
  {
   "attachments": {},
   "cell_type": "markdown",
   "metadata": {},
   "source": [
    "Ans 12:<br> \n",
    "import spam<br>\n",
    "from spam import bacon <br>\n",
    "\n",
    "or \n",
    "\n",
    "import spam.bacon as bc"
   ]
  },
  {
   "attachments": {},
   "cell_type": "markdown",
   "metadata": {},
   "source": [
    "`13. What can you do to save a programme from crashing if it encounters an error?`"
   ]
  },
  {
   "attachments": {},
   "cell_type": "markdown",
   "metadata": {},
   "source": [
    "Ans 13: We can prevent a program from crashing unexpectedly by using error handling. This is done by using the try and except keywords. This can notify the user if any error occurs and it can exit the process without crashing or throwing an error"
   ]
  },
  {
   "attachments": {},
   "cell_type": "markdown",
   "metadata": {},
   "source": [
    "`14. What is the purpose of the try clause? What is the purpose of the except clause?`"
   ]
  },
  {
   "attachments": {},
   "cell_type": "markdown",
   "metadata": {},
   "source": [
    "Ans 14: try and except clause are part of exception handling in python. try clause runs the block of code below it and return the results if there are no errors or calls the except clause in case of errors. Except clause gets activated in case the code in try clause causes an error and the except clause gets executed which then returns a result without throwing an error. This is similar to try and catch in Java"
   ]
  }
 ],
 "metadata": {
  "kernelspec": {
   "display_name": "base",
   "language": "python",
   "name": "python3"
  },
  "language_info": {
   "codemirror_mode": {
    "name": "ipython",
    "version": 3
   },
   "file_extension": ".py",
   "mimetype": "text/x-python",
   "name": "python",
   "nbconvert_exporter": "python",
   "pygments_lexer": "ipython3",
   "version": "3.9.15"
  },
  "orig_nbformat": 4,
  "vscode": {
   "interpreter": {
    "hash": "a993f5f796d0195f371cbefcd77badc46baf45145840c5b0e93ea38fbe8bee64"
   }
  }
 },
 "nbformat": 4,
 "nbformat_minor": 2
}
