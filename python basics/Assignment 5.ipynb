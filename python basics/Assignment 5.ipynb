{
 "cells": [
  {
   "attachments": {},
   "cell_type": "markdown",
   "metadata": {},
   "source": [
    "`Questions`\n",
    "1. What does an empty dictionary's code look like?\n",
    "2. What is the value of a dictionary value with the key 'foo' and the value 42?\n",
    "3. What is the most significant distinction between a dictionary and a list?\n",
    "4. What happens if you try to access spam['foo'] if spam is {'bar': 100}?\n",
    "5. If a dictionary is stored in spam, what is the difference between the expressions 'cat' in spam and 'cat' in spam.keys()?\n",
    "6. If a dictionary is stored in spam, what is the difference between the expressions 'cat' in spam and 'cat' in spam.values()?\n",
    "7. What is a shortcut for the following code?\n",
    "if 'color' not in spam:\n",
    "spam['color'] = 'black'\n",
    "\n",
    "8. How do you \"pretty print\" dictionary values using which module and function?\n",
    "\n"
   ]
  },
  {
   "attachments": {},
   "cell_type": "markdown",
   "metadata": {},
   "source": [
    "ans1: empty dictonary can be created with dict() or {}"
   ]
  },
  {
   "attachments": {},
   "cell_type": "markdown",
   "metadata": {},
   "source": [
    "ans2: 42"
   ]
  },
  {
   "attachments": {},
   "cell_type": "markdown",
   "metadata": {},
   "source": [
    "ans3: list contains only values whereas dictionary contains key , value pairs"
   ]
  },
  {
   "attachments": {},
   "cell_type": "markdown",
   "metadata": {},
   "source": [
    "ans4: error because 'foo' key is not present in spam dictionary"
   ]
  },
  {
   "attachments": {},
   "cell_type": "markdown",
   "metadata": {},
   "source": [
    "ans5:spam['cat'] returns the value for the key 'cat' in spam dictionary whereas spam.keys() gets a tuple containing all the keys in spam dictionary.spam.keys('cat') returns an error"
   ]
  },
  {
   "attachments": {},
   "cell_type": "markdown",
   "metadata": {},
   "source": [
    "ans6:spam['cat'] returns the value for the key 'cat' in spam dictionary whereas spam.values() gets a tuple containing all the values for all the keys in spam dictionary.spam.values('cat') returns an error"
   ]
  },
  {
   "attachments": {},
   "cell_type": "markdown",
   "metadata": {},
   "source": [
    "ans7:spam['color'] = spam.get('color','black')"
   ]
  },
  {
   "attachments": {},
   "cell_type": "markdown",
   "metadata": {},
   "source": [
    "ans8: the pprint module can be used to pretty print a dictionary such as a json file.\n",
    "The pprint library allows us to specify a number of different parameters, including the following:\n",
    "\n",
    "- indent: the number of spaces to indent each line, where the default value is 1\n",
    "- width: the maximum caharacters that are allowed on a single line, where the default is None (meaning, the maximum)\n",
    "- depth: the number of levels to show while using nested data types, where the default is None (meaning that all levels of depth are shown)\n",
    "- stream: used to specify an output stream and can be used to save to a file\n",
    "- compact: If set to True, the values will be printed on single lines, to a certain width\n",
    "- sort_dicts: if True, it prints the key-value pairs according to an alphabetical order of the keys. Defaults to True"
   ]
  },
  {
   "cell_type": "code",
   "execution_count": 13,
   "metadata": {},
   "outputs": [
    {
     "name": "stdout",
     "output_type": "stream",
     "text": [
      "{'age': 31,\n",
      " 'books': ['Harry Potter', 'Lord of the Rings'],\n",
      " 'gender': 'male',\n",
      " 'name': 'Nik'}\n"
     ]
    }
   ],
   "source": [
    "import pprint\n",
    "sample_dict = {'name': 'Nik', 'age': 31, 'gender': 'male', 'books': ['Harry Potter', 'Lord of the Rings']}\n",
    "pprint.pprint(sample_dict)"
   ]
  }
 ],
 "metadata": {
  "kernelspec": {
   "display_name": "base",
   "language": "python",
   "name": "python3"
  },
  "language_info": {
   "codemirror_mode": {
    "name": "ipython",
    "version": 3
   },
   "file_extension": ".py",
   "mimetype": "text/x-python",
   "name": "python",
   "nbconvert_exporter": "python",
   "pygments_lexer": "ipython3",
   "version": "3.9.15"
  },
  "orig_nbformat": 4,
  "vscode": {
   "interpreter": {
    "hash": "a993f5f796d0195f371cbefcd77badc46baf45145840c5b0e93ea38fbe8bee64"
   }
  }
 },
 "nbformat": 4,
 "nbformat_minor": 2
}
