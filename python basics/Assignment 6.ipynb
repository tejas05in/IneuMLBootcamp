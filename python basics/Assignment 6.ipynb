{
 "cells": [
  {
   "attachments": {},
   "cell_type": "markdown",
   "metadata": {},
   "source": [
    "1. What are escape characters, and how do you use them?\n",
    "2. What do the escape characters n and t stand for?\n",
    "3. What is the way to include backslash characters in a string?\n",
    "4. The string &quot;Howl&#39;s Moving Castle&quot; is a correct value. Why isn&#39;t the single quote character in the\n",
    "word Howl&#39;s not escaped a problem?\n",
    "5. How do you write a string of newlines if you don&#39;t want to use the n character?\n",
    "6. What are the values of the given expressions?\n",
    "&#39;Hello, world!&#39;[1]\n",
    "&#39;Hello, world!&#39;[0:5]\n",
    "&#39;Hello, world!&#39;[:5]\n",
    "&#39;Hello, world!&#39;[3:]\n",
    "\n",
    "7. What are the values of the following expressions?\n",
    "&#39;Hello&#39;.upper()\n",
    "&#39;Hello&#39;.upper().isupper()\n",
    "&#39;Hello&#39;.upper().lower()\n",
    "8. What are the values of the following expressions?\n",
    "&#39;Remember, remember, the fifth of July.&#39;.split()\n",
    "&#39;-&#39;.join(&#39;There can only one.&#39;.split())\n",
    "9. What are the methods for right-justifying, left-justifying, and centering a string?\n",
    "10. What is the best way to remove whitespace characters from the start or end?"
   ]
  },
  {
   "attachments": {},
   "cell_type": "markdown",
   "metadata": {},
   "source": [
    "ans1: escape character in python is  \\ and we can insert the character following the backslash which will be escaped"
   ]
  },
  {
   "cell_type": "code",
   "execution_count": 4,
   "metadata": {},
   "outputs": [
    {
     "data": {
      "text/plain": [
       "'hello welcome to \"python\" everyone'"
      ]
     },
     "execution_count": 4,
     "metadata": {},
     "output_type": "execute_result"
    }
   ],
   "source": [
    "# \"hello welcome to \"python\" everyone\" #this gives an error\n",
    "\"hello welcome to \\\"python\\\" everyone\" # this is the use of escape character\n"
   ]
  },
  {
   "attachments": {},
   "cell_type": "markdown",
   "metadata": {},
   "source": [
    "ans2: \\n represents next line i.e whatever follows \\n will be shifted to a new line when printed . \\t inserts a tab or 4 white spaces in the text when printed"
   ]
  },
  {
   "cell_type": "code",
   "execution_count": 13,
   "metadata": {},
   "outputs": [
    {
     "data": {
      "text/plain": [
       "'hi this is a \"test\" string'"
      ]
     },
     "execution_count": 13,
     "metadata": {},
     "output_type": "execute_result"
    }
   ],
   "source": [
    "#ans3:\n",
    "\"hi this is a \\\"test\\\" string\" # this is how the backslash is used"
   ]
  },
  {
   "cell_type": "code",
   "execution_count": 14,
   "metadata": {},
   "outputs": [
    {
     "data": {
      "text/plain": [
       "\"Howl's moving castle\""
      ]
     },
     "execution_count": 14,
     "metadata": {},
     "output_type": "execute_result"
    }
   ],
   "source": [
    "#ans4: \n",
    "\"Howl's moving castle\" #here there is a single quote separating Howl and s but the entire string is enclosed in double quotes so no error occurs"
   ]
  },
  {
   "cell_type": "code",
   "execution_count": 18,
   "metadata": {},
   "outputs": [
    {
     "name": "stdout",
     "output_type": "stream",
     "text": [
      "Hello \n",
      "world\n",
      "Hello\n",
      "world\n"
     ]
    }
   ],
   "source": [
    "#ans5: by using print() function\n",
    "print(\"Hello \\nworld\") #with \\n character\n",
    "print('Hello') # without \\n character\n",
    "print('world')"
   ]
  },
  {
   "attachments": {},
   "cell_type": "markdown",
   "metadata": {},
   "source": [
    "ans6:\n",
    " - 'Hello, world!'[1] = 'e'\n",
    " - 'Hello, world!'[0:5] = 'Hello'\n",
    " - 'Hello, world!'[:5] = 'Hello'\n",
    " - 'Hello, world!'[3:] = 'lo, world!'"
   ]
  },
  {
   "attachments": {},
   "cell_type": "markdown",
   "metadata": {},
   "source": [
    "ans7:\n",
    "- 'Hello, world!'.upper() = 'HELLO, WORLD!'\n",
    "- 'Hello, world!'.upper().isupper() = True\n",
    "- 'Hello, world!'.upper().lower() = 'hello, world!'\n"
   ]
  },
  {
   "attachments": {},
   "cell_type": "markdown",
   "metadata": {},
   "source": [
    "ans8: \n",
    "* 'Remember, remember, the fifth of July.'.split() = ['Remember,', 'remember,', 'the', 'fifth', 'of', 'July.']\n",
    "* '-'.join('There can only one.'.split()) = 'There-can-only-one.'\n"
   ]
  },
  {
   "cell_type": "code",
   "execution_count": 44,
   "metadata": {},
   "outputs": [
    {
     "name": "stdout",
     "output_type": "stream",
     "text": [
      "********************hello\n",
      "hello**************************************\n",
      "hello\n"
     ]
    }
   ],
   "source": [
    "#ns9:\n",
    "a = \"********************hello**************************************\" # imagine * is whitespace\n",
    "print(a.rstrip(\"*\")) #right justify\n",
    "print(a.lstrip(\"*\")) #left justify\n",
    "print(a.strip(\"*\")) #centre justification"
   ]
  },
  {
   "cell_type": "code",
   "execution_count": 48,
   "metadata": {},
   "outputs": [
    {
     "name": "stdout",
     "output_type": "stream",
     "text": [
      "                   'hello world'                  \n",
      "'hello world'\n"
     ]
    }
   ],
   "source": [
    "#ans10:\n",
    "a = \"                   'hello world'                  \"\n",
    "print(a)\n",
    "print(a.strip()) # removes whitespaces"
   ]
  }
 ],
 "metadata": {
  "kernelspec": {
   "display_name": "base",
   "language": "python",
   "name": "python3"
  },
  "language_info": {
   "codemirror_mode": {
    "name": "ipython",
    "version": 3
   },
   "file_extension": ".py",
   "mimetype": "text/x-python",
   "name": "python",
   "nbconvert_exporter": "python",
   "pygments_lexer": "ipython3",
   "version": "3.9.15"
  },
  "orig_nbformat": 4,
  "vscode": {
   "interpreter": {
    "hash": "a993f5f796d0195f371cbefcd77badc46baf45145840c5b0e93ea38fbe8bee64"
   }
  }
 },
 "nbformat": 4,
 "nbformat_minor": 2
}
