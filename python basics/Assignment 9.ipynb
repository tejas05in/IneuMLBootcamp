{
 "cells": [
  {
   "attachments": {},
   "cell_type": "markdown",
   "metadata": {},
   "source": [
    "Ans1: A relative path describes the location of a file relative to the current (working) directory"
   ]
  },
  {
   "attachments": {},
   "cell_type": "markdown",
   "metadata": {},
   "source": [
    "Ans2: An absolute path is defined as the specifying the location of a file or directory from the root directory(/). In other words we can say absolute path is a complete path from start of actual filesystem from / directory"
   ]
  },
  {
   "attachments": {},
   "cell_type": "markdown",
   "metadata": {},
   "source": [
    "Ans3: os.getcwd() : CWD stands for Current Working Directory. This function allows you to see what your current working directory is. os.chdir(\"path-to-dir\") : Short for CHange DIRectory, this function allows you to set the current working directory to a path of your choice."
   ]
  },
  {
   "attachments": {},
   "cell_type": "markdown",
   "metadata": {},
   "source": [
    "Ans4: '. ' represents the current directory. While '..' represents the parent directory."
   ]
  },
  {
   "attachments": {},
   "cell_type": "markdown",
   "metadata": {},
   "source": [
    "Ans5: C:\\bacon\\eggs is the dir name, while spam.txt is the base name."
   ]
  },
  {
   "attachments": {},
   "cell_type": "markdown",
   "metadata": {},
   "source": [
    "Ans6: \n",
    "- 'r' open for reading (default)\n",
    "\n",
    "- 'w' open for writing, truncating the file first\n",
    "\n",
    "- 'x' open for exclusive creation, failing if the file already exists\n",
    "\n",
    "- 'a' open for writing, appending to the end of file if it exists\n",
    "\n",
    "- 'b' binary mode\n",
    "\n",
    "- 't' text mode (default)\n",
    "\n",
    "- '+' open for updating (reading and writing)"
   ]
  },
  {
   "attachments": {},
   "cell_type": "markdown",
   "metadata": {},
   "source": [
    "Ans7:\n",
    "When mode “w” is specified, it creates an empty file for output (write) operations. What if the file already exists? If a file with the same name already exists, its contents are discarded and the file is treated as a new empty file"
   ]
  },
  {
   "attachments": {},
   "cell_type": "markdown",
   "metadata": {},
   "source": [
    "Ans8: read() will read the whole file at once and then print out the first characters that take up as many bytes as we specify in the parenthesis versus the readline() that will read and print out only the first characters that take up as many bytes as we specify in the parenthesis. We may want to use readline() when we are reading files that are too big for your RAM."
   ]
  },
  {
   "attachments": {},
   "cell_type": "markdown",
   "metadata": {},
   "source": [
    "Ans9: A dictionary value"
   ]
  },
  {
   "cell_type": "markdown",
   "metadata": {},
   "source": []
  }
 ],
 "metadata": {
  "kernelspec": {
   "display_name": "base",
   "language": "python",
   "name": "python3"
  },
  "language_info": {
   "name": "python",
   "version": "3.9.16"
  },
  "orig_nbformat": 4,
  "vscode": {
   "interpreter": {
    "hash": "c370489388e782aa9b6373b0856d4a71cb56f2a887cc53048a8e75b66b592545"
   }
  }
 },
 "nbformat": 4,
 "nbformat_minor": 2
}
